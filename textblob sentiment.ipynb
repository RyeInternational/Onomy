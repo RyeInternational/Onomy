{
 "cells": [
  {
   "cell_type": "code",
<<<<<<< HEAD
   "execution_count": 2,
=======
   "execution_count": 1,
>>>>>>> b48abbe903542e4ef1dba8bcd174b3d4dac7ffc6
   "metadata": {},
   "outputs": [
    {
     "data": {
      "text/html": [
       "<div>\n",
       "<style scoped>\n",
       "    .dataframe tbody tr th:only-of-type {\n",
       "        vertical-align: middle;\n",
       "    }\n",
       "\n",
       "    .dataframe tbody tr th {\n",
       "        vertical-align: top;\n",
       "    }\n",
       "\n",
       "    .dataframe thead th {\n",
       "        text-align: right;\n",
       "    }\n",
       "</style>\n",
       "<table border=\"1\" class=\"dataframe\">\n",
       "  <thead>\n",
       "    <tr style=\"text-align: right;\">\n",
       "      <th></th>\n",
       "      <th>Unnamed: 0</th>\n",
       "      <th>author</th>\n",
       "      <th>created_utc</th>\n",
       "      <th>domain</th>\n",
       "      <th>full_link</th>\n",
       "      <th>num_comments</th>\n",
       "      <th>over_18</th>\n",
       "      <th>score</th>\n",
       "      <th>selftext</th>\n",
       "      <th>subreddit</th>\n",
       "      <th>title</th>\n",
       "      <th>num_crossposts</th>\n",
       "    </tr>\n",
       "  </thead>\n",
       "  <tbody>\n",
       "    <tr>\n",
       "      <th>0</th>\n",
       "      <td>0</td>\n",
<<<<<<< HEAD
       "      <td>paradisenoir</td>\n",
       "      <td>1469810090</td>\n",
       "      <td>self.Adulting</td>\n",
       "      <td>https://www.reddit.com/r/Adulting/comments/4v7...</td>\n",
       "      <td>1</td>\n",
       "      <td>False</td>\n",
       "      <td>1</td>\n",
       "      <td>I seriously didn't know where to put this ques...</td>\n",
       "      <td>Adulting</td>\n",
       "      <td>Need help with Updating driver's License</td>\n",
=======
       "      <td>wise08</td>\n",
       "      <td>1500489233</td>\n",
       "      <td>self.youngadults</td>\n",
       "      <td>https://www.reddit.com/r/youngadults/comments/...</td>\n",
       "      <td>0</td>\n",
       "      <td>False</td>\n",
       "      <td>1</td>\n",
       "      <td>We are hoping to improve services for young ad...</td>\n",
       "      <td>youngadults</td>\n",
       "      <td>Have you experienced abuse in a relationship?</td>\n",
>>>>>>> b48abbe903542e4ef1dba8bcd174b3d4dac7ffc6
       "      <td>NaN</td>\n",
       "    </tr>\n",
       "    <tr>\n",
       "      <th>1</th>\n",
       "      <td>1</td>\n",
<<<<<<< HEAD
       "      <td>emptysometimes</td>\n",
       "      <td>1469550546</td>\n",
       "      <td>youtu.be</td>\n",
       "      <td>https://www.reddit.com/r/Adulting/comments/4up...</td>\n",
       "      <td>0</td>\n",
       "      <td>False</td>\n",
       "      <td>1</td>\n",
       "      <td>NaN</td>\n",
       "      <td>Adulting</td>\n",
       "      <td>Adulting 101</td>\n",
=======
       "      <td>[deleted]</td>\n",
       "      <td>1500461003</td>\n",
       "      <td>culturewhisper.com</td>\n",
       "      <td>https://www.reddit.com/r/youngadults/comments/...</td>\n",
       "      <td>0</td>\n",
       "      <td>False</td>\n",
       "      <td>1</td>\n",
       "      <td>[deleted]</td>\n",
       "      <td>youngadults</td>\n",
       "      <td>Best Young Adult books of the year?</td>\n",
>>>>>>> b48abbe903542e4ef1dba8bcd174b3d4dac7ffc6
       "      <td>NaN</td>\n",
       "    </tr>\n",
       "    <tr>\n",
       "      <th>2</th>\n",
       "      <td>2</td>\n",
<<<<<<< HEAD
       "      <td>PortlandPerson94</td>\n",
       "      <td>1468814980</td>\n",
       "      <td>self.Adulting</td>\n",
       "      <td>https://www.reddit.com/r/Adulting/comments/4td...</td>\n",
       "      <td>1</td>\n",
       "      <td>False</td>\n",
       "      <td>4</td>\n",
       "      <td>How to do laundry, organize your filing cabine...</td>\n",
       "      <td>Adulting</td>\n",
       "      <td>in the spirit of the discription of this sub, ...</td>\n",
=======
       "      <td>dotandtittle</td>\n",
       "      <td>1499487580</td>\n",
       "      <td>i.redd.it</td>\n",
       "      <td>https://www.reddit.com/r/youngadults/comments/...</td>\n",
       "      <td>0</td>\n",
       "      <td>False</td>\n",
       "      <td>1</td>\n",
       "      <td>NaN</td>\n",
       "      <td>youngadults</td>\n",
       "      <td>I would love some feedback on my story The Gir...</td>\n",
>>>>>>> b48abbe903542e4ef1dba8bcd174b3d4dac7ffc6
       "      <td>NaN</td>\n",
       "    </tr>\n",
       "    <tr>\n",
       "      <th>3</th>\n",
       "      <td>3</td>\n",
<<<<<<< HEAD
       "      <td>thisisthetyty</td>\n",
       "      <td>1467816249</td>\n",
       "      <td>youtube.com</td>\n",
       "      <td>https://www.reddit.com/r/Adulting/comments/4ri...</td>\n",
       "      <td>0</td>\n",
       "      <td>False</td>\n",
       "      <td>1</td>\n",
       "      <td>NaN</td>\n",
       "      <td>Adulting</td>\n",
       "      <td>New youtube video about symptoms of adulting. ...</td>\n",
=======
       "      <td>[deleted]</td>\n",
       "      <td>1499486812</td>\n",
       "      <td>self.youngadults</td>\n",
       "      <td>https://www.reddit.com/r/youngadults/comments/...</td>\n",
       "      <td>0</td>\n",
       "      <td>False</td>\n",
       "      <td>1</td>\n",
       "      <td>[deleted]</td>\n",
       "      <td>youngadults</td>\n",
       "      <td>I would love some feedback on my story The Gir...</td>\n",
>>>>>>> b48abbe903542e4ef1dba8bcd174b3d4dac7ffc6
       "      <td>NaN</td>\n",
       "    </tr>\n",
       "    <tr>\n",
       "      <th>4</th>\n",
       "      <td>4</td>\n",
<<<<<<< HEAD
       "      <td>writer318</td>\n",
       "      <td>1467729176</td>\n",
       "      <td>theodysseyonline.com</td>\n",
       "      <td>https://www.reddit.com/r/Adulting/comments/4rc...</td>\n",
       "      <td>0</td>\n",
       "      <td>False</td>\n",
       "      <td>1</td>\n",
       "      <td>NaN</td>\n",
       "      <td>Adulting</td>\n",
       "      <td>Why Must We Have To \"Adult\"?</td>\n",
=======
       "      <td>[deleted]</td>\n",
       "      <td>1499331661</td>\n",
       "      <td>self.youngadults</td>\n",
       "      <td>https://www.reddit.com/r/youngadults/comments/...</td>\n",
       "      <td>3</td>\n",
       "      <td>False</td>\n",
       "      <td>3</td>\n",
       "      <td>[deleted]</td>\n",
       "      <td>youngadults</td>\n",
       "      <td>why tf yall up</td>\n",
>>>>>>> b48abbe903542e4ef1dba8bcd174b3d4dac7ffc6
       "      <td>NaN</td>\n",
       "    </tr>\n",
       "    <tr>\n",
       "      <th>...</th>\n",
       "      <td>...</td>\n",
       "      <td>...</td>\n",
       "      <td>...</td>\n",
       "      <td>...</td>\n",
       "      <td>...</td>\n",
       "      <td>...</td>\n",
       "      <td>...</td>\n",
       "      <td>...</td>\n",
       "      <td>...</td>\n",
       "      <td>...</td>\n",
       "      <td>...</td>\n",
       "      <td>...</td>\n",
       "    </tr>\n",
       "    <tr>\n",
<<<<<<< HEAD
       "      <th>9397</th>\n",
       "      <td>9397</td>\n",
       "      <td>PortlandPerson94</td>\n",
       "      <td>1468814980</td>\n",
       "      <td>self.Adulting</td>\n",
       "      <td>https://www.reddit.com/r/Adulting/comments/4td...</td>\n",
       "      <td>1</td>\n",
       "      <td>False</td>\n",
       "      <td>4</td>\n",
       "      <td>How to do laundry, organize your filing cabine...</td>\n",
       "      <td>Adulting</td>\n",
       "      <td>in the spirit of the discription of this sub, ...</td>\n",
       "      <td>NaN</td>\n",
       "    </tr>\n",
       "    <tr>\n",
       "      <th>9398</th>\n",
       "      <td>9398</td>\n",
       "      <td>thisisthetyty</td>\n",
       "      <td>1467816249</td>\n",
       "      <td>youtube.com</td>\n",
       "      <td>https://www.reddit.com/r/Adulting/comments/4ri...</td>\n",
=======
       "      <th>6025</th>\n",
       "      <td>6025</td>\n",
       "      <td>pygmypuffonacid</td>\n",
       "      <td>1603368403</td>\n",
       "      <td>self.youngadults</td>\n",
       "      <td>https://www.reddit.com/r/youngadults/comments/...</td>\n",
       "      <td>0</td>\n",
       "      <td>False</td>\n",
       "      <td>1</td>\n",
       "      <td>Do not ask me what we had to do to acquire the...</td>\n",
       "      <td>youngadults</td>\n",
       "      <td>And Now we have a 20 foot tall inflatable gori...</td>\n",
       "      <td>0.0</td>\n",
       "    </tr>\n",
       "    <tr>\n",
       "      <th>6026</th>\n",
       "      <td>6026</td>\n",
       "      <td>[deleted]</td>\n",
       "      <td>1603366468</td>\n",
       "      <td>self.youngadults</td>\n",
       "      <td>https://www.reddit.com/r/youngadults/comments/...</td>\n",
>>>>>>> b48abbe903542e4ef1dba8bcd174b3d4dac7ffc6
       "      <td>0</td>\n",
       "      <td>False</td>\n",
       "      <td>1</td>\n",
       "      <td>NaN</td>\n",
<<<<<<< HEAD
       "      <td>Adulting</td>\n",
       "      <td>New youtube video about symptoms of adulting. ...</td>\n",
       "      <td>NaN</td>\n",
       "    </tr>\n",
       "    <tr>\n",
       "      <th>9399</th>\n",
       "      <td>9399</td>\n",
       "      <td>writer318</td>\n",
       "      <td>1467729176</td>\n",
       "      <td>theodysseyonline.com</td>\n",
       "      <td>https://www.reddit.com/r/Adulting/comments/4rc...</td>\n",
       "      <td>0</td>\n",
       "      <td>False</td>\n",
       "      <td>1</td>\n",
       "      <td>NaN</td>\n",
       "      <td>Adulting</td>\n",
       "      <td>Why Must We Have To \"Adult\"?</td>\n",
       "      <td>NaN</td>\n",
       "    </tr>\n",
       "    <tr>\n",
       "      <th>9400</th>\n",
       "      <td>9400</td>\n",
       "      <td>apolloxijedi</td>\n",
       "      <td>1467437994</td>\n",
       "      <td>self.Adulting</td>\n",
       "      <td>https://www.reddit.com/r/Adulting/comments/4qw...</td>\n",
       "      <td>3</td>\n",
       "      <td>False</td>\n",
       "      <td>4</td>\n",
       "      <td>So the short version of the story my fiance an...</td>\n",
       "      <td>Adulting</td>\n",
       "      <td>can't believe I'm 30</td>\n",
       "      <td>NaN</td>\n",
       "    </tr>\n",
       "    <tr>\n",
       "      <th>9401</th>\n",
       "      <td>9401</td>\n",
       "      <td>apolloxijedi</td>\n",
       "      <td>1467388840</td>\n",
       "      <td>self.Adulting</td>\n",
       "      <td>https://www.reddit.com/r/Adulting/comments/4qs...</td>\n",
       "      <td>1</td>\n",
       "      <td>False</td>\n",
       "      <td>5</td>\n",
       "      <td>I am tired of myself and other adults not be o...</td>\n",
       "      <td>Adulting</td>\n",
       "      <td>Can't we just be open and honest</td>\n",
       "      <td>NaN</td>\n",
       "    </tr>\n",
       "  </tbody>\n",
       "</table>\n",
       "<p>9402 rows × 12 columns</p>\n",
       "</div>"
      ],
      "text/plain": [
       "      Unnamed: 0            author  created_utc                domain  \\\n",
       "0              0      paradisenoir   1469810090         self.Adulting   \n",
       "1              1    emptysometimes   1469550546              youtu.be   \n",
       "2              2  PortlandPerson94   1468814980         self.Adulting   \n",
       "3              3     thisisthetyty   1467816249           youtube.com   \n",
       "4              4         writer318   1467729176  theodysseyonline.com   \n",
       "...          ...               ...          ...                   ...   \n",
       "9397        9397  PortlandPerson94   1468814980         self.Adulting   \n",
       "9398        9398     thisisthetyty   1467816249           youtube.com   \n",
       "9399        9399         writer318   1467729176  theodysseyonline.com   \n",
       "9400        9400      apolloxijedi   1467437994         self.Adulting   \n",
       "9401        9401      apolloxijedi   1467388840         self.Adulting   \n",
       "\n",
       "                                              full_link  num_comments  \\\n",
       "0     https://www.reddit.com/r/Adulting/comments/4v7...             1   \n",
       "1     https://www.reddit.com/r/Adulting/comments/4up...             0   \n",
       "2     https://www.reddit.com/r/Adulting/comments/4td...             1   \n",
       "3     https://www.reddit.com/r/Adulting/comments/4ri...             0   \n",
       "4     https://www.reddit.com/r/Adulting/comments/4rc...             0   \n",
       "...                                                 ...           ...   \n",
       "9397  https://www.reddit.com/r/Adulting/comments/4td...             1   \n",
       "9398  https://www.reddit.com/r/Adulting/comments/4ri...             0   \n",
       "9399  https://www.reddit.com/r/Adulting/comments/4rc...             0   \n",
       "9400  https://www.reddit.com/r/Adulting/comments/4qw...             3   \n",
       "9401  https://www.reddit.com/r/Adulting/comments/4qs...             1   \n",
       "\n",
       "      over_18  score                                           selftext  \\\n",
       "0       False      1  I seriously didn't know where to put this ques...   \n",
       "1       False      1                                                NaN   \n",
       "2       False      4  How to do laundry, organize your filing cabine...   \n",
       "3       False      1                                                NaN   \n",
       "4       False      1                                                NaN   \n",
       "...       ...    ...                                                ...   \n",
       "9397    False      4  How to do laundry, organize your filing cabine...   \n",
       "9398    False      1                                                NaN   \n",
       "9399    False      1                                                NaN   \n",
       "9400    False      4  So the short version of the story my fiance an...   \n",
       "9401    False      5  I am tired of myself and other adults not be o...   \n",
       "\n",
       "     subreddit                                              title  \\\n",
       "0     Adulting           Need help with Updating driver's License   \n",
       "1     Adulting                                       Adulting 101   \n",
       "2     Adulting  in the spirit of the discription of this sub, ...   \n",
       "3     Adulting  New youtube video about symptoms of adulting. ...   \n",
       "4     Adulting                       Why Must We Have To \"Adult\"?   \n",
       "...        ...                                                ...   \n",
       "9397  Adulting  in the spirit of the discription of this sub, ...   \n",
       "9398  Adulting  New youtube video about symptoms of adulting. ...   \n",
       "9399  Adulting                       Why Must We Have To \"Adult\"?   \n",
       "9400  Adulting                               can't believe I'm 30   \n",
       "9401  Adulting                   Can't we just be open and honest   \n",
=======
       "      <td>youngadults</td>\n",
       "      <td>What is your favorite realistic film like Offi...</td>\n",
       "      <td>0.0</td>\n",
       "    </tr>\n",
       "    <tr>\n",
       "      <th>6027</th>\n",
       "      <td>6027</td>\n",
       "      <td>MooseAdorable</td>\n",
       "      <td>1603349492</td>\n",
       "      <td>self.youngadults</td>\n",
       "      <td>https://www.reddit.com/r/youngadults/comments/...</td>\n",
       "      <td>1</td>\n",
       "      <td>False</td>\n",
       "      <td>1</td>\n",
       "      <td>Hi there! \\n\\nMy name is Rose. I’m 22 years ol...</td>\n",
       "      <td>youngadults</td>\n",
       "      <td>Advice about a Job/Life</td>\n",
       "      <td>0.0</td>\n",
       "    </tr>\n",
       "    <tr>\n",
       "      <th>6028</th>\n",
       "      <td>6028</td>\n",
       "      <td>muzza1319</td>\n",
       "      <td>1603345177</td>\n",
       "      <td>self.youngadults</td>\n",
       "      <td>https://www.reddit.com/r/youngadults/comments/...</td>\n",
       "      <td>1</td>\n",
       "      <td>False</td>\n",
       "      <td>1</td>\n",
       "      <td>22 M from Australia we are in a strict lockdow...</td>\n",
       "      <td>youngadults</td>\n",
       "      <td>Anyone up for a conversation?</td>\n",
       "      <td>0.0</td>\n",
       "    </tr>\n",
       "    <tr>\n",
       "      <th>6029</th>\n",
       "      <td>6029</td>\n",
       "      <td>Strawberry-Sunshine</td>\n",
       "      <td>1603341891</td>\n",
       "      <td>self.youngadults</td>\n",
       "      <td>https://www.reddit.com/r/youngadults/comments/...</td>\n",
       "      <td>8</td>\n",
       "      <td>False</td>\n",
       "      <td>1</td>\n",
       "      <td>I haven't made posts like these in a long time...</td>\n",
       "      <td>youngadults</td>\n",
       "      <td>Hello my sweethearts, how are y'all doing?</td>\n",
       "      <td>0.0</td>\n",
       "    </tr>\n",
       "  </tbody>\n",
       "</table>\n",
       "<p>6030 rows × 12 columns</p>\n",
       "</div>"
      ],
      "text/plain": [
       "      Unnamed: 0               author  created_utc              domain  \\\n",
       "0              0               wise08   1500489233    self.youngadults   \n",
       "1              1            [deleted]   1500461003  culturewhisper.com   \n",
       "2              2         dotandtittle   1499487580           i.redd.it   \n",
       "3              3            [deleted]   1499486812    self.youngadults   \n",
       "4              4            [deleted]   1499331661    self.youngadults   \n",
       "...          ...                  ...          ...                 ...   \n",
       "6025        6025      pygmypuffonacid   1603368403    self.youngadults   \n",
       "6026        6026            [deleted]   1603366468    self.youngadults   \n",
       "6027        6027        MooseAdorable   1603349492    self.youngadults   \n",
       "6028        6028            muzza1319   1603345177    self.youngadults   \n",
       "6029        6029  Strawberry-Sunshine   1603341891    self.youngadults   \n",
       "\n",
       "                                              full_link  num_comments  \\\n",
       "0     https://www.reddit.com/r/youngadults/comments/...             0   \n",
       "1     https://www.reddit.com/r/youngadults/comments/...             0   \n",
       "2     https://www.reddit.com/r/youngadults/comments/...             0   \n",
       "3     https://www.reddit.com/r/youngadults/comments/...             0   \n",
       "4     https://www.reddit.com/r/youngadults/comments/...             3   \n",
       "...                                                 ...           ...   \n",
       "6025  https://www.reddit.com/r/youngadults/comments/...             0   \n",
       "6026  https://www.reddit.com/r/youngadults/comments/...             0   \n",
       "6027  https://www.reddit.com/r/youngadults/comments/...             1   \n",
       "6028  https://www.reddit.com/r/youngadults/comments/...             1   \n",
       "6029  https://www.reddit.com/r/youngadults/comments/...             8   \n",
       "\n",
       "      over_18  score                                           selftext  \\\n",
       "0       False      1  We are hoping to improve services for young ad...   \n",
       "1       False      1                                          [deleted]   \n",
       "2       False      1                                                NaN   \n",
       "3       False      1                                          [deleted]   \n",
       "4       False      3                                          [deleted]   \n",
       "...       ...    ...                                                ...   \n",
       "6025    False      1  Do not ask me what we had to do to acquire the...   \n",
       "6026    False      1                                                NaN   \n",
       "6027    False      1  Hi there! \\n\\nMy name is Rose. I’m 22 years ol...   \n",
       "6028    False      1  22 M from Australia we are in a strict lockdow...   \n",
       "6029    False      1  I haven't made posts like these in a long time...   \n",
       "\n",
       "        subreddit                                              title  \\\n",
       "0     youngadults      Have you experienced abuse in a relationship?   \n",
       "1     youngadults                Best Young Adult books of the year?   \n",
       "2     youngadults  I would love some feedback on my story The Gir...   \n",
       "3     youngadults  I would love some feedback on my story The Gir...   \n",
       "4     youngadults                                     why tf yall up   \n",
       "...           ...                                                ...   \n",
       "6025  youngadults  And Now we have a 20 foot tall inflatable gori...   \n",
       "6026  youngadults  What is your favorite realistic film like Offi...   \n",
       "6027  youngadults                            Advice about a Job/Life   \n",
       "6028  youngadults                      Anyone up for a conversation?   \n",
       "6029  youngadults         Hello my sweethearts, how are y'all doing?   \n",
>>>>>>> b48abbe903542e4ef1dba8bcd174b3d4dac7ffc6
       "\n",
       "      num_crossposts  \n",
       "0                NaN  \n",
       "1                NaN  \n",
       "2                NaN  \n",
       "3                NaN  \n",
       "4                NaN  \n",
       "...              ...  \n",
<<<<<<< HEAD
       "9397             NaN  \n",
       "9398             NaN  \n",
       "9399             NaN  \n",
       "9400             NaN  \n",
       "9401             NaN  \n",
       "\n",
       "[9402 rows x 12 columns]"
      ]
     },
     "execution_count": 2,
=======
       "6025             0.0  \n",
       "6026             0.0  \n",
       "6027             0.0  \n",
       "6028             0.0  \n",
       "6029             0.0  \n",
       "\n",
       "[6030 rows x 12 columns]"
      ]
     },
     "execution_count": 1,
>>>>>>> b48abbe903542e4ef1dba8bcd174b3d4dac7ffc6
     "metadata": {},
     "output_type": "execute_result"
    }
   ],
   "source": [
    "import pandas as pd\n",
    "import matplotlib.pyplot as plt\n",
    "%matplotlib inline  \n",
    "import nltk\n",
    "import re\n",
    "import numpy as np \n",
    "from nltk import word_tokenize, sent_tokenize\n",
    "from nltk.corpus import stopwords\n",
    "from nltk.stem import LancasterStemmer, WordNetLemmatizer, PorterStemmer\n",
    "from wordcloud import WordCloud, STOPWORDS\n",
    "\n",
<<<<<<< HEAD
    "df = pd.read_csv(r\"C:\\Users\\ymf\\Desktop\\pic16bGit\\rye_data_project_spring2021\\Reddit_dataset\\Adulting2016-2021.csv\")\n",
=======
    "df = pd.read_csv(r\"C:\\Users\\jim13\\Documents\\project1\\youngadults2016-2021.csv\")\n",
>>>>>>> b48abbe903542e4ef1dba8bcd174b3d4dac7ffc6
    "df"
   ]
  },
  {
   "cell_type": "code",
<<<<<<< HEAD
   "execution_count": 3,
=======
   "execution_count": 2,
>>>>>>> b48abbe903542e4ef1dba8bcd174b3d4dac7ffc6
   "metadata": {},
   "outputs": [
    {
     "name": "stdout",
     "output_type": "stream",
     "text": [
      "There are 0 duplicated values.\n"
     ]
    },
    {
     "data": {
      "text/plain": [
<<<<<<< HEAD
       "6518"
      ]
     },
     "execution_count": 3,
=======
       "4213"
      ]
     },
     "execution_count": 2,
>>>>>>> b48abbe903542e4ef1dba8bcd174b3d4dac7ffc6
     "metadata": {},
     "output_type": "execute_result"
    }
   ],
   "source": [
    "#Take interesting columns\n",
    "df1=df[['selftext','num_comments','score','title']]\n",
    "#drop those with text=NA\n",
    "df1=df1.dropna(subset=['selftext'])\n",
    "#drop meaningless text\n",
    "df1=df1[(df1.selftext!='[removed]') & (df1.selftext!='[deleted]')].reset_index()\n",
    "#drop duplicate\n",
    "duplicate = df1.duplicated()\n",
    "print('There are', duplicate.sum(), 'duplicated values.')\n",
    "df1=df1.drop_duplicates()\n",
    "len(df1)"
   ]
  },
  {
   "cell_type": "code",
<<<<<<< HEAD
   "execution_count": 4,
=======
   "execution_count": 3,
>>>>>>> b48abbe903542e4ef1dba8bcd174b3d4dac7ffc6
   "metadata": {},
   "outputs": [
    {
     "data": {
      "text/plain": [
<<<<<<< HEAD
       "0       i seriously didn't know where to put this ques...\n",
       "1       how to do laundry, organize your filing cabine...\n",
       "2       so the short version of the story my fiance an...\n",
       "3       i am tired of myself and other adults not be o...\n",
       "4       finally mastering public transportation. i fee...\n",
       "                              ...                        \n",
       "6513    like which info do i give them? my policy numb...\n",
       "6514    i seriously didn't know where to put this ques...\n",
       "6515    how to do laundry, organize your filing cabine...\n",
       "6516    so the short version of the story my fiance an...\n",
       "6517    i am tired of myself and other adults not be o...\n",
       "Name: selftext, Length: 6518, dtype: object"
      ]
     },
     "execution_count": 4,
=======
       "0       we are hoping to improve services for young ad...\n",
       "1                                      whats goooood hoes\n",
       "2                         and if there is gimme an invite\n",
       "3       hello! i'm an msc student at the ucl institute...\n",
       "4       i wasn't sure which subreddit to post this too...\n",
       "                              ...                        \n",
       "4208    if you feel up to answering, what are your pla...\n",
       "4209    do not ask me what we had to do to acquire the...\n",
       "4210    hi there! \\n\\nmy name is rose. i’m 22 years ol...\n",
       "4211    22 m from australia we are in a strict lockdow...\n",
       "4212    i haven't made posts like these in a long time...\n",
       "Name: selftext, Length: 4213, dtype: object"
      ]
     },
     "execution_count": 3,
>>>>>>> b48abbe903542e4ef1dba8bcd174b3d4dac7ffc6
     "metadata": {},
     "output_type": "execute_result"
    }
   ],
   "source": [
    "#convert to lower case\n",
    "df1['selftext']=df1['selftext'].str.lower()\n",
    "df1['selftext']"
   ]
  },
  {
   "cell_type": "code",
<<<<<<< HEAD
   "execution_count": 5,
=======
   "execution_count": 4,
>>>>>>> b48abbe903542e4ef1dba8bcd174b3d4dac7ffc6
   "metadata": {},
   "outputs": [],
   "source": [
    "#remove emoji\n",
    "def remove_emoji(text):\n",
    "    text = text.encode('ascii', 'ignore').decode()\n",
    "    return text"
   ]
  },
  {
   "cell_type": "code",
<<<<<<< HEAD
   "execution_count": 6,
=======
   "execution_count": 5,
>>>>>>> b48abbe903542e4ef1dba8bcd174b3d4dac7ffc6
   "metadata": {},
   "outputs": [
    {
     "data": {
      "text/plain": [
<<<<<<< HEAD
       "\"i seriously didn't know where to put this question, i hope this is an okay place. \\n\\na little background: so i'm 22 with a valid driver's license from my home state that still has my parents address on it. i actually moved to the state/town i live in several years ago, but have been a bit of a wanderer and rarely had a permanent address so i just didn't want to deal with the hassle of updating my driver's license.\\n\\n now it's time to do it and i think i may have trouble proving that i'm a resident of this state, even though i've been here for a few years. currently am living with a friend in the most permanent situation i've been in and probably will be for a while longer. he is the one on the lease and has bills in his name, and we only have like a verbal agreement to pay rent/bills, no contract. i don't have any bills of my own or official mail. my w-2 this year had an old address on it that i'm not associated at all with anymore. i have a pay stub, and could get my friend to write up something that says i pay rent at his place, but before i go to the dmv and waste my time i guess i wanna know if that's enough for them to consider me a resident? has anyone had any experience with this? the website gives a list of acceptable documents to prove residency but i don't have any of them/they don't apply to me. thanks!\""
      ]
     },
     "execution_count": 6,
=======
       "'we are hoping to improve services for young adults that have been exposed to relationship abuse. if you are 18-25 years old and have experienced abuse in a relationship then please take some time to complete a short online survey at www.therepairproject.wordpress.com. a donation will be made to a relevant charity for each person who takes part in this research. thank you!'"
      ]
     },
     "execution_count": 5,
>>>>>>> b48abbe903542e4ef1dba8bcd174b3d4dac7ffc6
     "metadata": {},
     "output_type": "execute_result"
    }
   ],
   "source": [
    "df1['selftext']=df1['selftext'].apply(lambda x: remove_emoji(x))\n",
    "df1['selftext'][0]"
   ]
  },
  {
   "cell_type": "code",
<<<<<<< HEAD
   "execution_count": 7,
=======
   "execution_count": 6,
>>>>>>> b48abbe903542e4ef1dba8bcd174b3d4dac7ffc6
   "metadata": {},
   "outputs": [],
   "source": [
    "#now we remove url, punctuations, special characters\n",
    "import re\n",
    "def remove_other(x):\n",
    "    x = re.sub(\"\\$\",\" \", x) #remove $\n",
    "    x = re.sub(\"https*\\S+\", \" \", x) #remove url\n",
    "    x = re.sub(\"\\'\\w+\", '', x) #remove i'm,we're,let's after the '\n",
    "    x = re.sub(\"[0-9]+\", '', x) #remove numbers\n",
    "    return x"
   ]
  },
  {
   "cell_type": "code",
<<<<<<< HEAD
   "execution_count": 8,
=======
   "execution_count": 7,
>>>>>>> b48abbe903542e4ef1dba8bcd174b3d4dac7ffc6
   "metadata": {},
   "outputs": [
    {
     "data": {
      "text/html": [
       "<div>\n",
       "<style scoped>\n",
       "    .dataframe tbody tr th:only-of-type {\n",
       "        vertical-align: middle;\n",
       "    }\n",
       "\n",
       "    .dataframe tbody tr th {\n",
       "        vertical-align: top;\n",
       "    }\n",
       "\n",
       "    .dataframe thead th {\n",
       "        text-align: right;\n",
       "    }\n",
       "</style>\n",
       "<table border=\"1\" class=\"dataframe\">\n",
       "  <thead>\n",
       "    <tr style=\"text-align: right;\">\n",
       "      <th></th>\n",
       "      <th>index</th>\n",
       "      <th>selftext</th>\n",
       "      <th>num_comments</th>\n",
       "      <th>score</th>\n",
       "      <th>title</th>\n",
       "    </tr>\n",
       "  </thead>\n",
       "  <tbody>\n",
       "    <tr>\n",
       "      <th>0</th>\n",
       "      <td>0</td>\n",
<<<<<<< HEAD
       "      <td>i seriously didn know where to put this questi...</td>\n",
       "      <td>1</td>\n",
       "      <td>1</td>\n",
       "      <td>Need help with Updating driver's License</td>\n",
       "    </tr>\n",
       "    <tr>\n",
       "      <th>1</th>\n",
       "      <td>2</td>\n",
       "      <td>how to do laundry, organize your filing cabine...</td>\n",
       "      <td>1</td>\n",
       "      <td>4</td>\n",
       "      <td>in the spirit of the discription of this sub, ...</td>\n",
       "    </tr>\n",
       "    <tr>\n",
       "      <th>2</th>\n",
       "      <td>5</td>\n",
       "      <td>so the short version of the story my fiance an...</td>\n",
       "      <td>3</td>\n",
       "      <td>4</td>\n",
       "      <td>can't believe I'm 30</td>\n",
       "    </tr>\n",
       "    <tr>\n",
       "      <th>3</th>\n",
       "      <td>6</td>\n",
       "      <td>i am tired of myself and other adults not be o...</td>\n",
       "      <td>1</td>\n",
       "      <td>5</td>\n",
       "      <td>Can't we just be open and honest</td>\n",
       "    </tr>\n",
       "    <tr>\n",
       "      <th>4</th>\n",
       "      <td>8</td>\n",
       "      <td>finally mastering public transportation. i fee...</td>\n",
       "      <td>0</td>\n",
       "      <td>2</td>\n",
       "      <td>Public transportation</td>\n",
=======
       "      <td>we are hoping to improve services for young ad...</td>\n",
       "      <td>0</td>\n",
       "      <td>1</td>\n",
       "      <td>Have you experienced abuse in a relationship?</td>\n",
       "    </tr>\n",
       "    <tr>\n",
       "      <th>1</th>\n",
       "      <td>5</td>\n",
       "      <td>whats goooood hoes</td>\n",
       "      <td>3</td>\n",
       "      <td>6</td>\n",
       "      <td>SUP DISCORD BITCHES</td>\n",
       "    </tr>\n",
       "    <tr>\n",
       "      <th>2</th>\n",
       "      <td>7</td>\n",
       "      <td>and if there is gimme an invite</td>\n",
       "      <td>1</td>\n",
       "      <td>1</td>\n",
       "      <td>Should be a discord for this subreddit</td>\n",
       "    </tr>\n",
       "    <tr>\n",
       "      <th>3</th>\n",
       "      <td>8</td>\n",
       "      <td>hello! i an msc student at the ucl institute o...</td>\n",
       "      <td>0</td>\n",
       "      <td>1</td>\n",
       "      <td>Looking for participants for a study on bullying!</td>\n",
       "    </tr>\n",
       "    <tr>\n",
       "      <th>4</th>\n",
       "      <td>9</td>\n",
       "      <td>i wasn sure which subreddit to post this too, ...</td>\n",
       "      <td>0</td>\n",
       "      <td>2</td>\n",
       "      <td>Is My Dad Doing This Out of Spite?</td>\n",
>>>>>>> b48abbe903542e4ef1dba8bcd174b3d4dac7ffc6
       "    </tr>\n",
       "    <tr>\n",
       "      <th>...</th>\n",
       "      <td>...</td>\n",
       "      <td>...</td>\n",
       "      <td>...</td>\n",
       "      <td>...</td>\n",
       "      <td>...</td>\n",
       "    </tr>\n",
       "    <tr>\n",
<<<<<<< HEAD
       "      <th>6513</th>\n",
       "      <td>9394</td>\n",
       "      <td>like which info do i give them? my policy numb...</td>\n",
       "      <td>5</td>\n",
       "      <td>1</td>\n",
       "      <td>When you get into a car crash, what exactly do...</td>\n",
       "    </tr>\n",
       "    <tr>\n",
       "      <th>6514</th>\n",
       "      <td>9395</td>\n",
       "      <td>i seriously didn know where to put this questi...</td>\n",
       "      <td>1</td>\n",
       "      <td>1</td>\n",
       "      <td>Need help with Updating driver's License</td>\n",
       "    </tr>\n",
       "    <tr>\n",
       "      <th>6515</th>\n",
       "      <td>9397</td>\n",
       "      <td>how to do laundry, organize your filing cabine...</td>\n",
       "      <td>1</td>\n",
       "      <td>4</td>\n",
       "      <td>in the spirit of the discription of this sub, ...</td>\n",
       "    </tr>\n",
       "    <tr>\n",
       "      <th>6516</th>\n",
       "      <td>9400</td>\n",
       "      <td>so the short version of the story my fiance an...</td>\n",
       "      <td>3</td>\n",
       "      <td>4</td>\n",
       "      <td>can't believe I'm 30</td>\n",
       "    </tr>\n",
       "    <tr>\n",
       "      <th>6517</th>\n",
       "      <td>9401</td>\n",
       "      <td>i am tired of myself and other adults not be o...</td>\n",
       "      <td>1</td>\n",
       "      <td>5</td>\n",
       "      <td>Can't we just be open and honest</td>\n",
       "    </tr>\n",
       "  </tbody>\n",
       "</table>\n",
       "<p>6518 rows × 5 columns</p>\n",
=======
       "      <th>4208</th>\n",
       "      <td>6023</td>\n",
       "      <td>if you feel up to answering, what are your pla...</td>\n",
       "      <td>14</td>\n",
       "      <td>1</td>\n",
       "      <td>Hello humanoes! I hope y'all have a good day t...</td>\n",
       "    </tr>\n",
       "    <tr>\n",
       "      <th>4209</th>\n",
       "      <td>6025</td>\n",
       "      <td>do not ask me what we had to do to acquire the...</td>\n",
       "      <td>0</td>\n",
       "      <td>1</td>\n",
       "      <td>And Now we have a 20 foot tall inflatable gori...</td>\n",
       "    </tr>\n",
       "    <tr>\n",
       "      <th>4210</th>\n",
       "      <td>6027</td>\n",
       "      <td>hi there! \\n\\nmy name is rose. im  years old, ...</td>\n",
       "      <td>1</td>\n",
       "      <td>1</td>\n",
       "      <td>Advice about a Job/Life</td>\n",
       "    </tr>\n",
       "    <tr>\n",
       "      <th>4211</th>\n",
       "      <td>6028</td>\n",
       "      <td>m from australia we are in a strict lockdown ...</td>\n",
       "      <td>1</td>\n",
       "      <td>1</td>\n",
       "      <td>Anyone up for a conversation?</td>\n",
       "    </tr>\n",
       "    <tr>\n",
       "      <th>4212</th>\n",
       "      <td>6029</td>\n",
       "      <td>i haven made posts like these in a long time b...</td>\n",
       "      <td>8</td>\n",
       "      <td>1</td>\n",
       "      <td>Hello my sweethearts, how are y'all doing?</td>\n",
       "    </tr>\n",
       "  </tbody>\n",
       "</table>\n",
       "<p>4213 rows × 5 columns</p>\n",
>>>>>>> b48abbe903542e4ef1dba8bcd174b3d4dac7ffc6
       "</div>"
      ],
      "text/plain": [
       "      index                                           selftext  num_comments  \\\n",
<<<<<<< HEAD
       "0         0  i seriously didn know where to put this questi...             1   \n",
       "1         2  how to do laundry, organize your filing cabine...             1   \n",
       "2         5  so the short version of the story my fiance an...             3   \n",
       "3         6  i am tired of myself and other adults not be o...             1   \n",
       "4         8  finally mastering public transportation. i fee...             0   \n",
       "...     ...                                                ...           ...   \n",
       "6513   9394  like which info do i give them? my policy numb...             5   \n",
       "6514   9395  i seriously didn know where to put this questi...             1   \n",
       "6515   9397  how to do laundry, organize your filing cabine...             1   \n",
       "6516   9400  so the short version of the story my fiance an...             3   \n",
       "6517   9401  i am tired of myself and other adults not be o...             1   \n",
       "\n",
       "      score                                              title  \n",
       "0         1           Need help with Updating driver's License  \n",
       "1         4  in the spirit of the discription of this sub, ...  \n",
       "2         4                               can't believe I'm 30  \n",
       "3         5                   Can't we just be open and honest  \n",
       "4         2                              Public transportation  \n",
       "...     ...                                                ...  \n",
       "6513      1  When you get into a car crash, what exactly do...  \n",
       "6514      1           Need help with Updating driver's License  \n",
       "6515      4  in the spirit of the discription of this sub, ...  \n",
       "6516      4                               can't believe I'm 30  \n",
       "6517      5                   Can't we just be open and honest  \n",
       "\n",
       "[6518 rows x 5 columns]"
      ]
     },
     "execution_count": 8,
=======
       "0         0  we are hoping to improve services for young ad...             0   \n",
       "1         5                                 whats goooood hoes             3   \n",
       "2         7                    and if there is gimme an invite             1   \n",
       "3         8  hello! i an msc student at the ucl institute o...             0   \n",
       "4         9  i wasn sure which subreddit to post this too, ...             0   \n",
       "...     ...                                                ...           ...   \n",
       "4208   6023  if you feel up to answering, what are your pla...            14   \n",
       "4209   6025  do not ask me what we had to do to acquire the...             0   \n",
       "4210   6027  hi there! \\n\\nmy name is rose. im  years old, ...             1   \n",
       "4211   6028   m from australia we are in a strict lockdown ...             1   \n",
       "4212   6029  i haven made posts like these in a long time b...             8   \n",
       "\n",
       "      score                                              title  \n",
       "0         1      Have you experienced abuse in a relationship?  \n",
       "1         6                                SUP DISCORD BITCHES  \n",
       "2         1             Should be a discord for this subreddit  \n",
       "3         1  Looking for participants for a study on bullying!  \n",
       "4         2                 Is My Dad Doing This Out of Spite?  \n",
       "...     ...                                                ...  \n",
       "4208      1  Hello humanoes! I hope y'all have a good day t...  \n",
       "4209      1  And Now we have a 20 foot tall inflatable gori...  \n",
       "4210      1                            Advice about a Job/Life  \n",
       "4211      1                      Anyone up for a conversation?  \n",
       "4212      1         Hello my sweethearts, how are y'all doing?  \n",
       "\n",
       "[4213 rows x 5 columns]"
      ]
     },
     "execution_count": 7,
>>>>>>> b48abbe903542e4ef1dba8bcd174b3d4dac7ffc6
     "metadata": {},
     "output_type": "execute_result"
    }
   ],
   "source": [
    "df1['selftext']=df1['selftext'].apply(lambda x: remove_other(x))\n",
    "df1"
   ]
  },
  {
   "cell_type": "markdown",
   "metadata": {},
   "source": [
    "Now we use TextBlob for sentiment analysis "
   ]
  },
  {
   "cell_type": "code",
<<<<<<< HEAD
   "execution_count": 9,
=======
   "execution_count": 8,
>>>>>>> b48abbe903542e4ef1dba8bcd174b3d4dac7ffc6
   "metadata": {},
   "outputs": [],
   "source": [
    "from textblob import TextBlob"
   ]
  },
  {
   "cell_type": "code",
<<<<<<< HEAD
   "execution_count": 11,
=======
   "execution_count": 9,
>>>>>>> b48abbe903542e4ef1dba8bcd174b3d4dac7ffc6
   "metadata": {},
   "outputs": [
    {
     "data": {
      "text/html": [
       "<div>\n",
       "<style scoped>\n",
       "    .dataframe tbody tr th:only-of-type {\n",
       "        vertical-align: middle;\n",
       "    }\n",
       "\n",
       "    .dataframe tbody tr th {\n",
       "        vertical-align: top;\n",
       "    }\n",
       "\n",
       "    .dataframe thead th {\n",
       "        text-align: right;\n",
       "    }\n",
       "</style>\n",
       "<table border=\"1\" class=\"dataframe\">\n",
       "  <thead>\n",
       "    <tr style=\"text-align: right;\">\n",
       "      <th></th>\n",
       "      <th>Title</th>\n",
       "      <th>Text</th>\n",
       "      <th>polarity</th>\n",
       "      <th>subjectivity</th>\n",
       "    </tr>\n",
       "  </thead>\n",
       "  <tbody>\n",
       "    <tr>\n",
       "      <th>0</th>\n",
<<<<<<< HEAD
       "      <td>Need help with Updating driver's License</td>\n",
       "      <td>i seriously didn know where to put this questi...</td>\n",
       "      <td>0.074443</td>\n",
       "      <td>0.427451</td>\n",
       "    </tr>\n",
       "    <tr>\n",
       "      <th>1</th>\n",
       "      <td>in the spirit of the discription of this sub, ...</td>\n",
       "      <td>how to do laundry, organize your filing cabine...</td>\n",
       "      <td>0.600000</td>\n",
       "      <td>1.000000</td>\n",
       "    </tr>\n",
       "    <tr>\n",
       "      <th>2</th>\n",
       "      <td>can't believe I'm 30</td>\n",
       "      <td>so the short version of the story my fiance an...</td>\n",
       "      <td>-0.040000</td>\n",
       "      <td>0.540000</td>\n",
       "    </tr>\n",
       "    <tr>\n",
       "      <th>3</th>\n",
       "      <td>Can't we just be open and honest</td>\n",
       "      <td>i am tired of myself and other adults not be o...</td>\n",
       "      <td>0.025000</td>\n",
       "      <td>0.508333</td>\n",
       "    </tr>\n",
       "    <tr>\n",
       "      <th>4</th>\n",
       "      <td>Public transportation</td>\n",
       "      <td>finally mastering public transportation. i fee...</td>\n",
       "      <td>0.000000</td>\n",
       "      <td>0.533333</td>\n",
=======
       "      <td>Have you experienced abuse in a relationship?</td>\n",
       "      <td>we are hoping to improve services for young ad...</td>\n",
       "      <td>0.266667</td>\n",
       "      <td>0.516667</td>\n",
       "    </tr>\n",
       "    <tr>\n",
       "      <th>1</th>\n",
       "      <td>SUP DISCORD BITCHES</td>\n",
       "      <td>whats goooood hoes</td>\n",
       "      <td>0.000000</td>\n",
       "      <td>0.000000</td>\n",
       "    </tr>\n",
       "    <tr>\n",
       "      <th>2</th>\n",
       "      <td>Should be a discord for this subreddit</td>\n",
       "      <td>and if there is gimme an invite</td>\n",
       "      <td>0.000000</td>\n",
       "      <td>0.000000</td>\n",
       "    </tr>\n",
       "    <tr>\n",
       "      <th>3</th>\n",
       "      <td>Looking for participants for a study on bullying!</td>\n",
       "      <td>hello! i an msc student at the ucl institute o...</td>\n",
       "      <td>0.221212</td>\n",
       "      <td>0.281061</td>\n",
       "    </tr>\n",
       "    <tr>\n",
       "      <th>4</th>\n",
       "      <td>Is My Dad Doing This Out of Spite?</td>\n",
       "      <td>i wasn sure which subreddit to post this too, ...</td>\n",
       "      <td>0.055517</td>\n",
       "      <td>0.386140</td>\n",
>>>>>>> b48abbe903542e4ef1dba8bcd174b3d4dac7ffc6
       "    </tr>\n",
       "    <tr>\n",
       "      <th>...</th>\n",
       "      <td>...</td>\n",
       "      <td>...</td>\n",
       "      <td>...</td>\n",
       "      <td>...</td>\n",
       "    </tr>\n",
       "    <tr>\n",
<<<<<<< HEAD
       "      <th>6513</th>\n",
       "      <td>When you get into a car crash, what exactly do...</td>\n",
       "      <td>like which info do i give them? my policy numb...</td>\n",
=======
       "      <th>4208</th>\n",
       "      <td>Hello humanoes! I hope y'all have a good day t...</td>\n",
       "      <td>if you feel up to answering, what are your pla...</td>\n",
>>>>>>> b48abbe903542e4ef1dba8bcd174b3d4dac7ffc6
       "      <td>0.000000</td>\n",
       "      <td>0.000000</td>\n",
       "    </tr>\n",
       "    <tr>\n",
<<<<<<< HEAD
       "      <th>6514</th>\n",
       "      <td>Need help with Updating driver's License</td>\n",
       "      <td>i seriously didn know where to put this questi...</td>\n",
       "      <td>0.074443</td>\n",
       "      <td>0.427451</td>\n",
       "    </tr>\n",
       "    <tr>\n",
       "      <th>6515</th>\n",
       "      <td>in the spirit of the discription of this sub, ...</td>\n",
       "      <td>how to do laundry, organize your filing cabine...</td>\n",
       "      <td>0.600000</td>\n",
       "      <td>1.000000</td>\n",
       "    </tr>\n",
       "    <tr>\n",
       "      <th>6516</th>\n",
       "      <td>can't believe I'm 30</td>\n",
       "      <td>so the short version of the story my fiance an...</td>\n",
       "      <td>-0.040000</td>\n",
       "      <td>0.540000</td>\n",
       "    </tr>\n",
       "    <tr>\n",
       "      <th>6517</th>\n",
       "      <td>Can't we just be open and honest</td>\n",
       "      <td>i am tired of myself and other adults not be o...</td>\n",
       "      <td>0.025000</td>\n",
       "      <td>0.508333</td>\n",
       "    </tr>\n",
       "  </tbody>\n",
       "</table>\n",
       "<p>6518 rows × 4 columns</p>\n",
=======
       "      <th>4209</th>\n",
       "      <td>And Now we have a 20 foot tall inflatable gori...</td>\n",
       "      <td>do not ask me what we had to do to acquire the...</td>\n",
       "      <td>0.250000</td>\n",
       "      <td>0.333333</td>\n",
       "    </tr>\n",
       "    <tr>\n",
       "      <th>4210</th>\n",
       "      <td>Advice about a Job/Life</td>\n",
       "      <td>hi there! \\n\\nmy name is rose. im  years old, ...</td>\n",
       "      <td>0.261453</td>\n",
       "      <td>0.708333</td>\n",
       "    </tr>\n",
       "    <tr>\n",
       "      <th>4211</th>\n",
       "      <td>Anyone up for a conversation?</td>\n",
       "      <td>m from australia we are in a strict lockdown ...</td>\n",
       "      <td>0.200000</td>\n",
       "      <td>0.300000</td>\n",
       "    </tr>\n",
       "    <tr>\n",
       "      <th>4212</th>\n",
       "      <td>Hello my sweethearts, how are y'all doing?</td>\n",
       "      <td>i haven made posts like these in a long time b...</td>\n",
       "      <td>0.225000</td>\n",
       "      <td>0.450000</td>\n",
       "    </tr>\n",
       "  </tbody>\n",
       "</table>\n",
       "<p>4213 rows × 4 columns</p>\n",
>>>>>>> b48abbe903542e4ef1dba8bcd174b3d4dac7ffc6
       "</div>"
      ],
      "text/plain": [
       "                                                  Title  \\\n",
<<<<<<< HEAD
       "0              Need help with Updating driver's License   \n",
       "1     in the spirit of the discription of this sub, ...   \n",
       "2                                  can't believe I'm 30   \n",
       "3                      Can't we just be open and honest   \n",
       "4                                 Public transportation   \n",
       "...                                                 ...   \n",
       "6513  When you get into a car crash, what exactly do...   \n",
       "6514           Need help with Updating driver's License   \n",
       "6515  in the spirit of the discription of this sub, ...   \n",
       "6516                               can't believe I'm 30   \n",
       "6517                   Can't we just be open and honest   \n",
       "\n",
       "                                                   Text  polarity  \\\n",
       "0     i seriously didn know where to put this questi...  0.074443   \n",
       "1     how to do laundry, organize your filing cabine...  0.600000   \n",
       "2     so the short version of the story my fiance an... -0.040000   \n",
       "3     i am tired of myself and other adults not be o...  0.025000   \n",
       "4     finally mastering public transportation. i fee...  0.000000   \n",
       "...                                                 ...       ...   \n",
       "6513  like which info do i give them? my policy numb...  0.000000   \n",
       "6514  i seriously didn know where to put this questi...  0.074443   \n",
       "6515  how to do laundry, organize your filing cabine...  0.600000   \n",
       "6516  so the short version of the story my fiance an... -0.040000   \n",
       "6517  i am tired of myself and other adults not be o...  0.025000   \n",
       "\n",
       "      subjectivity  \n",
       "0         0.427451  \n",
       "1         1.000000  \n",
       "2         0.540000  \n",
       "3         0.508333  \n",
       "4         0.533333  \n",
       "...            ...  \n",
       "6513      0.000000  \n",
       "6514      0.427451  \n",
       "6515      1.000000  \n",
       "6516      0.540000  \n",
       "6517      0.508333  \n",
       "\n",
       "[6518 rows x 4 columns]"
      ]
     },
     "execution_count": 11,
=======
       "0         Have you experienced abuse in a relationship?   \n",
       "1                                   SUP DISCORD BITCHES   \n",
       "2                Should be a discord for this subreddit   \n",
       "3     Looking for participants for a study on bullying!   \n",
       "4                    Is My Dad Doing This Out of Spite?   \n",
       "...                                                 ...   \n",
       "4208  Hello humanoes! I hope y'all have a good day t...   \n",
       "4209  And Now we have a 20 foot tall inflatable gori...   \n",
       "4210                            Advice about a Job/Life   \n",
       "4211                      Anyone up for a conversation?   \n",
       "4212         Hello my sweethearts, how are y'all doing?   \n",
       "\n",
       "                                                   Text  polarity  \\\n",
       "0     we are hoping to improve services for young ad...  0.266667   \n",
       "1                                    whats goooood hoes  0.000000   \n",
       "2                       and if there is gimme an invite  0.000000   \n",
       "3     hello! i an msc student at the ucl institute o...  0.221212   \n",
       "4     i wasn sure which subreddit to post this too, ...  0.055517   \n",
       "...                                                 ...       ...   \n",
       "4208  if you feel up to answering, what are your pla...  0.000000   \n",
       "4209  do not ask me what we had to do to acquire the...  0.250000   \n",
       "4210  hi there! \\n\\nmy name is rose. im  years old, ...  0.261453   \n",
       "4211   m from australia we are in a strict lockdown ...  0.200000   \n",
       "4212  i haven made posts like these in a long time b...  0.225000   \n",
       "\n",
       "      subjectivity  \n",
       "0         0.516667  \n",
       "1         0.000000  \n",
       "2         0.000000  \n",
       "3         0.281061  \n",
       "4         0.386140  \n",
       "...            ...  \n",
       "4208      0.000000  \n",
       "4209      0.333333  \n",
       "4210      0.708333  \n",
       "4211      0.300000  \n",
       "4212      0.450000  \n",
       "\n",
       "[4213 rows x 4 columns]"
      ]
     },
     "execution_count": 9,
>>>>>>> b48abbe903542e4ef1dba8bcd174b3d4dac7ffc6
     "metadata": {},
     "output_type": "execute_result"
    }
   ],
   "source": [
    "pol = []\n",
    "sub = []\n",
    "\n",
    "for text in df1['selftext']:\n",
    "    selftext = TextBlob(text)\n",
    "    pol.append(selftext.sentiment.polarity)\n",
    "    sub.append(selftext.sentiment.subjectivity)\n",
    "    \n",
    "    \n",
    "# assign data of lists.  \n",
    "data = {'Title':df1['title'],'Text': df1['selftext'], 'polarity': pol, 'subjectivity':sub}  \n",
    "  \n",
    "# Create DataFrame  \n",
    "df2 = pd.DataFrame(data)  \n",
    "df2"
   ]
  },
  {
   "cell_type": "code",
<<<<<<< HEAD
   "execution_count": 12,
=======
   "execution_count": 10,
>>>>>>> b48abbe903542e4ef1dba8bcd174b3d4dac7ffc6
   "metadata": {},
   "outputs": [
    {
     "name": "stderr",
     "output_type": "stream",
     "text": [
<<<<<<< HEAD
      "C:\\Users\\ymf\\anaconda3\\lib\\site-packages\\pandas\\core\\indexing.py:670: SettingWithCopyWarning: \n",
=======
      "C:\\Users\\jim13\\anaconda3\\lib\\site-packages\\pandas\\core\\indexing.py:670: SettingWithCopyWarning: \n",
>>>>>>> b48abbe903542e4ef1dba8bcd174b3d4dac7ffc6
      "A value is trying to be set on a copy of a slice from a DataFrame\n",
      "\n",
      "See the caveats in the documentation: https://pandas.pydata.org/pandas-docs/stable/user_guide/indexing.html#returning-a-view-versus-a-copy\n",
      "  iloc._setitem_with_indexer(indexer, value)\n",
<<<<<<< HEAD
      "C:\\Users\\ymf\\anaconda3\\lib\\site-packages\\pandas\\core\\indexing.py:670: SettingWithCopyWarning: \n",
=======
      "C:\\Users\\jim13\\anaconda3\\lib\\site-packages\\pandas\\core\\indexing.py:670: SettingWithCopyWarning: \n",
>>>>>>> b48abbe903542e4ef1dba8bcd174b3d4dac7ffc6
      "A value is trying to be set on a copy of a slice from a DataFrame\n",
      "\n",
      "See the caveats in the documentation: https://pandas.pydata.org/pandas-docs/stable/user_guide/indexing.html#returning-a-view-versus-a-copy\n",
      "  iloc._setitem_with_indexer(indexer, value)\n",
<<<<<<< HEAD
      "C:\\Users\\ymf\\anaconda3\\lib\\site-packages\\pandas\\core\\indexing.py:670: SettingWithCopyWarning: \n",
=======
      "C:\\Users\\jim13\\anaconda3\\lib\\site-packages\\pandas\\core\\indexing.py:670: SettingWithCopyWarning: \n",
>>>>>>> b48abbe903542e4ef1dba8bcd174b3d4dac7ffc6
      "A value is trying to be set on a copy of a slice from a DataFrame\n",
      "\n",
      "See the caveats in the documentation: https://pandas.pydata.org/pandas-docs/stable/user_guide/indexing.html#returning-a-view-versus-a-copy\n",
      "  iloc._setitem_with_indexer(indexer, value)\n",
<<<<<<< HEAD
      "C:\\Users\\ymf\\anaconda3\\lib\\site-packages\\pandas\\core\\indexing.py:670: SettingWithCopyWarning: \n",
=======
      "C:\\Users\\jim13\\anaconda3\\lib\\site-packages\\pandas\\core\\indexing.py:670: SettingWithCopyWarning: \n",
>>>>>>> b48abbe903542e4ef1dba8bcd174b3d4dac7ffc6
      "A value is trying to be set on a copy of a slice from a DataFrame\n",
      "\n",
      "See the caveats in the documentation: https://pandas.pydata.org/pandas-docs/stable/user_guide/indexing.html#returning-a-view-versus-a-copy\n",
      "  iloc._setitem_with_indexer(indexer, value)\n"
     ]
    },
    {
     "data": {
      "text/html": [
       "<div>\n",
       "<style scoped>\n",
       "    .dataframe tbody tr th:only-of-type {\n",
       "        vertical-align: middle;\n",
       "    }\n",
       "\n",
       "    .dataframe tbody tr th {\n",
       "        vertical-align: top;\n",
       "    }\n",
       "\n",
       "    .dataframe thead th {\n",
       "        text-align: right;\n",
       "    }\n",
       "</style>\n",
       "<table border=\"1\" class=\"dataframe\">\n",
       "  <thead>\n",
       "    <tr style=\"text-align: right;\">\n",
       "      <th></th>\n",
       "      <th>Title</th>\n",
       "      <th>Text</th>\n",
       "      <th>polarity</th>\n",
       "      <th>subjectivity</th>\n",
       "      <th>pol_estimate</th>\n",
       "      <th>sub_estimate</th>\n",
       "    </tr>\n",
       "  </thead>\n",
       "  <tbody>\n",
       "    <tr>\n",
       "      <th>0</th>\n",
<<<<<<< HEAD
       "      <td>Need help with Updating driver's License</td>\n",
       "      <td>i seriously didn know where to put this questi...</td>\n",
       "      <td>0.074443</td>\n",
       "      <td>0.427451</td>\n",
       "      <td>0</td>\n",
=======
       "      <td>Have you experienced abuse in a relationship?</td>\n",
       "      <td>we are hoping to improve services for young ad...</td>\n",
       "      <td>0.266667</td>\n",
       "      <td>0.516667</td>\n",
       "      <td>1</td>\n",
>>>>>>> b48abbe903542e4ef1dba8bcd174b3d4dac7ffc6
       "      <td>0</td>\n",
       "    </tr>\n",
       "    <tr>\n",
       "      <th>1</th>\n",
<<<<<<< HEAD
       "      <td>in the spirit of the discription of this sub, ...</td>\n",
       "      <td>how to do laundry, organize your filing cabine...</td>\n",
       "      <td>0.600000</td>\n",
       "      <td>1.000000</td>\n",
       "      <td>1</td>\n",
       "      <td>1</td>\n",
       "    </tr>\n",
       "    <tr>\n",
       "      <th>2</th>\n",
       "      <td>can't believe I'm 30</td>\n",
       "      <td>so the short version of the story my fiance an...</td>\n",
       "      <td>-0.040000</td>\n",
       "      <td>0.540000</td>\n",
       "      <td>0</td>\n",
       "      <td>0</td>\n",
       "    </tr>\n",
       "    <tr>\n",
       "      <th>3</th>\n",
       "      <td>Can't we just be open and honest</td>\n",
       "      <td>i am tired of myself and other adults not be o...</td>\n",
       "      <td>0.025000</td>\n",
       "      <td>0.508333</td>\n",
       "      <td>0</td>\n",
       "      <td>0</td>\n",
       "    </tr>\n",
       "    <tr>\n",
       "      <th>4</th>\n",
       "      <td>Public transportation</td>\n",
       "      <td>finally mastering public transportation. i fee...</td>\n",
       "      <td>0.000000</td>\n",
       "      <td>0.533333</td>\n",
       "      <td>0</td>\n",
       "      <td>0</td>\n",
=======
       "      <td>SUP DISCORD BITCHES</td>\n",
       "      <td>whats goooood hoes</td>\n",
       "      <td>0.000000</td>\n",
       "      <td>0.000000</td>\n",
       "      <td>0</td>\n",
       "      <td>-1</td>\n",
       "    </tr>\n",
       "    <tr>\n",
       "      <th>2</th>\n",
       "      <td>Should be a discord for this subreddit</td>\n",
       "      <td>and if there is gimme an invite</td>\n",
       "      <td>0.000000</td>\n",
       "      <td>0.000000</td>\n",
       "      <td>0</td>\n",
       "      <td>-1</td>\n",
       "    </tr>\n",
       "    <tr>\n",
       "      <th>3</th>\n",
       "      <td>Looking for participants for a study on bullying!</td>\n",
       "      <td>hello! i an msc student at the ucl institute o...</td>\n",
       "      <td>0.221212</td>\n",
       "      <td>0.281061</td>\n",
       "      <td>1</td>\n",
       "      <td>-1</td>\n",
       "    </tr>\n",
       "    <tr>\n",
       "      <th>4</th>\n",
       "      <td>Is My Dad Doing This Out of Spite?</td>\n",
       "      <td>i wasn sure which subreddit to post this too, ...</td>\n",
       "      <td>0.055517</td>\n",
       "      <td>0.386140</td>\n",
       "      <td>0</td>\n",
       "      <td>-1</td>\n",
>>>>>>> b48abbe903542e4ef1dba8bcd174b3d4dac7ffc6
       "    </tr>\n",
       "    <tr>\n",
       "      <th>...</th>\n",
       "      <td>...</td>\n",
       "      <td>...</td>\n",
       "      <td>...</td>\n",
       "      <td>...</td>\n",
       "      <td>...</td>\n",
       "      <td>...</td>\n",
       "    </tr>\n",
       "    <tr>\n",
<<<<<<< HEAD
       "      <th>6513</th>\n",
       "      <td>When you get into a car crash, what exactly do...</td>\n",
       "      <td>like which info do i give them? my policy numb...</td>\n",
=======
       "      <th>4208</th>\n",
       "      <td>Hello humanoes! I hope y'all have a good day t...</td>\n",
       "      <td>if you feel up to answering, what are your pla...</td>\n",
>>>>>>> b48abbe903542e4ef1dba8bcd174b3d4dac7ffc6
       "      <td>0.000000</td>\n",
       "      <td>0.000000</td>\n",
       "      <td>0</td>\n",
       "      <td>-1</td>\n",
       "    </tr>\n",
       "    <tr>\n",
<<<<<<< HEAD
       "      <th>6514</th>\n",
       "      <td>Need help with Updating driver's License</td>\n",
       "      <td>i seriously didn know where to put this questi...</td>\n",
       "      <td>0.074443</td>\n",
       "      <td>0.427451</td>\n",
       "      <td>0</td>\n",
       "      <td>0</td>\n",
       "    </tr>\n",
       "    <tr>\n",
       "      <th>6515</th>\n",
       "      <td>in the spirit of the discription of this sub, ...</td>\n",
       "      <td>how to do laundry, organize your filing cabine...</td>\n",
       "      <td>0.600000</td>\n",
       "      <td>1.000000</td>\n",
=======
       "      <th>4209</th>\n",
       "      <td>And Now we have a 20 foot tall inflatable gori...</td>\n",
       "      <td>do not ask me what we had to do to acquire the...</td>\n",
       "      <td>0.250000</td>\n",
       "      <td>0.333333</td>\n",
       "      <td>1</td>\n",
       "      <td>-1</td>\n",
       "    </tr>\n",
       "    <tr>\n",
       "      <th>4210</th>\n",
       "      <td>Advice about a Job/Life</td>\n",
       "      <td>hi there! \\n\\nmy name is rose. im  years old, ...</td>\n",
       "      <td>0.261453</td>\n",
       "      <td>0.708333</td>\n",
>>>>>>> b48abbe903542e4ef1dba8bcd174b3d4dac7ffc6
       "      <td>1</td>\n",
       "      <td>1</td>\n",
       "    </tr>\n",
       "    <tr>\n",
<<<<<<< HEAD
       "      <th>6516</th>\n",
       "      <td>can't believe I'm 30</td>\n",
       "      <td>so the short version of the story my fiance an...</td>\n",
       "      <td>-0.040000</td>\n",
       "      <td>0.540000</td>\n",
       "      <td>0</td>\n",
       "      <td>0</td>\n",
       "    </tr>\n",
       "    <tr>\n",
       "      <th>6517</th>\n",
       "      <td>Can't we just be open and honest</td>\n",
       "      <td>i am tired of myself and other adults not be o...</td>\n",
       "      <td>0.025000</td>\n",
       "      <td>0.508333</td>\n",
       "      <td>0</td>\n",
=======
       "      <th>4211</th>\n",
       "      <td>Anyone up for a conversation?</td>\n",
       "      <td>m from australia we are in a strict lockdown ...</td>\n",
       "      <td>0.200000</td>\n",
       "      <td>0.300000</td>\n",
       "      <td>0</td>\n",
       "      <td>-1</td>\n",
       "    </tr>\n",
       "    <tr>\n",
       "      <th>4212</th>\n",
       "      <td>Hello my sweethearts, how are y'all doing?</td>\n",
       "      <td>i haven made posts like these in a long time b...</td>\n",
       "      <td>0.225000</td>\n",
       "      <td>0.450000</td>\n",
       "      <td>1</td>\n",
>>>>>>> b48abbe903542e4ef1dba8bcd174b3d4dac7ffc6
       "      <td>0</td>\n",
       "    </tr>\n",
       "  </tbody>\n",
       "</table>\n",
<<<<<<< HEAD
       "<p>6518 rows × 6 columns</p>\n",
=======
       "<p>4213 rows × 6 columns</p>\n",
>>>>>>> b48abbe903542e4ef1dba8bcd174b3d4dac7ffc6
       "</div>"
      ],
      "text/plain": [
       "                                                  Title  \\\n",
<<<<<<< HEAD
       "0              Need help with Updating driver's License   \n",
       "1     in the spirit of the discription of this sub, ...   \n",
       "2                                  can't believe I'm 30   \n",
       "3                      Can't we just be open and honest   \n",
       "4                                 Public transportation   \n",
       "...                                                 ...   \n",
       "6513  When you get into a car crash, what exactly do...   \n",
       "6514           Need help with Updating driver's License   \n",
       "6515  in the spirit of the discription of this sub, ...   \n",
       "6516                               can't believe I'm 30   \n",
       "6517                   Can't we just be open and honest   \n",
       "\n",
       "                                                   Text  polarity  \\\n",
       "0     i seriously didn know where to put this questi...  0.074443   \n",
       "1     how to do laundry, organize your filing cabine...  0.600000   \n",
       "2     so the short version of the story my fiance an... -0.040000   \n",
       "3     i am tired of myself and other adults not be o...  0.025000   \n",
       "4     finally mastering public transportation. i fee...  0.000000   \n",
       "...                                                 ...       ...   \n",
       "6513  like which info do i give them? my policy numb...  0.000000   \n",
       "6514  i seriously didn know where to put this questi...  0.074443   \n",
       "6515  how to do laundry, organize your filing cabine...  0.600000   \n",
       "6516  so the short version of the story my fiance an... -0.040000   \n",
       "6517  i am tired of myself and other adults not be o...  0.025000   \n",
       "\n",
       "      subjectivity  pol_estimate  sub_estimate  \n",
       "0         0.427451             0             0  \n",
       "1         1.000000             1             1  \n",
       "2         0.540000             0             0  \n",
       "3         0.508333             0             0  \n",
       "4         0.533333             0             0  \n",
       "...            ...           ...           ...  \n",
       "6513      0.000000             0            -1  \n",
       "6514      0.427451             0             0  \n",
       "6515      1.000000             1             1  \n",
       "6516      0.540000             0             0  \n",
       "6517      0.508333             0             0  \n",
       "\n",
       "[6518 rows x 6 columns]"
      ]
     },
     "execution_count": 12,
=======
       "0         Have you experienced abuse in a relationship?   \n",
       "1                                   SUP DISCORD BITCHES   \n",
       "2                Should be a discord for this subreddit   \n",
       "3     Looking for participants for a study on bullying!   \n",
       "4                    Is My Dad Doing This Out of Spite?   \n",
       "...                                                 ...   \n",
       "4208  Hello humanoes! I hope y'all have a good day t...   \n",
       "4209  And Now we have a 20 foot tall inflatable gori...   \n",
       "4210                            Advice about a Job/Life   \n",
       "4211                      Anyone up for a conversation?   \n",
       "4212         Hello my sweethearts, how are y'all doing?   \n",
       "\n",
       "                                                   Text  polarity  \\\n",
       "0     we are hoping to improve services for young ad...  0.266667   \n",
       "1                                    whats goooood hoes  0.000000   \n",
       "2                       and if there is gimme an invite  0.000000   \n",
       "3     hello! i an msc student at the ucl institute o...  0.221212   \n",
       "4     i wasn sure which subreddit to post this too, ...  0.055517   \n",
       "...                                                 ...       ...   \n",
       "4208  if you feel up to answering, what are your pla...  0.000000   \n",
       "4209  do not ask me what we had to do to acquire the...  0.250000   \n",
       "4210  hi there! \\n\\nmy name is rose. im  years old, ...  0.261453   \n",
       "4211   m from australia we are in a strict lockdown ...  0.200000   \n",
       "4212  i haven made posts like these in a long time b...  0.225000   \n",
       "\n",
       "      subjectivity  pol_estimate  sub_estimate  \n",
       "0         0.516667             1             0  \n",
       "1         0.000000             0            -1  \n",
       "2         0.000000             0            -1  \n",
       "3         0.281061             1            -1  \n",
       "4         0.386140             0            -1  \n",
       "...            ...           ...           ...  \n",
       "4208      0.000000             0            -1  \n",
       "4209      0.333333             1            -1  \n",
       "4210      0.708333             1             1  \n",
       "4211      0.300000             0            -1  \n",
       "4212      0.450000             1             0  \n",
       "\n",
       "[4213 rows x 6 columns]"
      ]
     },
     "execution_count": 10,
>>>>>>> b48abbe903542e4ef1dba8bcd174b3d4dac7ffc6
     "metadata": {},
     "output_type": "execute_result"
    }
   ],
   "source": [
    "df2['pol_estimate']=0\n",
    "df2['pol_estimate'].loc[df2['polarity']>0.2]=1\n",
    "df2['pol_estimate'].loc[df2['polarity']< -0.2]=-1\n",
    "df2['sub_estimate']=0\n",
    "df2['sub_estimate'].loc[df2['subjectivity']>0.6]=1\n",
    "df2['sub_estimate'].loc[df2['subjectivity']<0.4]=-1\n",
    "df2"
   ]
  },
  {
   "cell_type": "code",
<<<<<<< HEAD
   "execution_count": 13,
=======
   "execution_count": 11,
>>>>>>> b48abbe903542e4ef1dba8bcd174b3d4dac7ffc6
   "metadata": {},
   "outputs": [
    {
     "data": {
      "text/plain": [
<<<<<<< HEAD
       "0.0887435311604034"
      ]
     },
     "execution_count": 13,
=======
       "0.07336714541441464"
      ]
     },
     "execution_count": 11,
>>>>>>> b48abbe903542e4ef1dba8bcd174b3d4dac7ffc6
     "metadata": {},
     "output_type": "execute_result"
    }
   ],
   "source": [
    "pol_mean = df2['polarity'].mean()\n",
    "pol_mean"
   ]
  },
  {
   "cell_type": "code",
<<<<<<< HEAD
   "execution_count": 14,
=======
   "execution_count": 12,
>>>>>>> b48abbe903542e4ef1dba8bcd174b3d4dac7ffc6
   "metadata": {},
   "outputs": [
    {
     "data": {
      "text/plain": [
<<<<<<< HEAD
       "0.46625098458473985"
      ]
     },
     "execution_count": 14,
=======
       "0.44276407540119217"
      ]
     },
     "execution_count": 12,
>>>>>>> b48abbe903542e4ef1dba8bcd174b3d4dac7ffc6
     "metadata": {},
     "output_type": "execute_result"
    }
   ],
   "source": [
    "sub_mean = df2['subjectivity'].mean()\n",
    "sub_mean"
   ]
  },
  {
   "cell_type": "code",
<<<<<<< HEAD
   "execution_count": 15,
=======
   "execution_count": 13,
>>>>>>> b48abbe903542e4ef1dba8bcd174b3d4dac7ffc6
   "metadata": {},
   "outputs": [
    {
     "data": {
      "text/plain": [
<<<<<<< HEAD
       "0.15403498005523167"
      ]
     },
     "execution_count": 15,
=======
       "0.14953714692618086"
      ]
     },
     "execution_count": 13,
>>>>>>> b48abbe903542e4ef1dba8bcd174b3d4dac7ffc6
     "metadata": {},
     "output_type": "execute_result"
    }
   ],
   "source": [
    "overall_pol = pol_mean = df2['pol_estimate'].mean()\n",
    "overall_pol"
   ]
  },
  {
   "cell_type": "code",
<<<<<<< HEAD
   "execution_count": 16,
=======
   "execution_count": 14,
>>>>>>> b48abbe903542e4ef1dba8bcd174b3d4dac7ffc6
   "metadata": {},
   "outputs": [
    {
     "data": {
      "text/plain": [
<<<<<<< HEAD
       "-0.10601411475912857"
      ]
     },
     "execution_count": 16,
=======
       "-0.10704960835509138"
      ]
     },
     "execution_count": 14,
>>>>>>> b48abbe903542e4ef1dba8bcd174b3d4dac7ffc6
     "metadata": {},
     "output_type": "execute_result"
    }
   ],
   "source": [
    "overall_sub = pol_mean = df2['sub_estimate'].mean()\n",
    "overall_sub"
   ]
  },
  {
   "cell_type": "code",
<<<<<<< HEAD
   "execution_count": 17,
=======
   "execution_count": 20,
>>>>>>> b48abbe903542e4ef1dba8bcd174b3d4dac7ffc6
   "metadata": {},
   "outputs": [
    {
     "data": {
      "text/plain": [
<<<<<<< HEAD
       "0.1375310117580357"
      ]
     },
     "execution_count": 17,
=======
       "0.18613003816167006"
      ]
     },
     "execution_count": 20,
>>>>>>> b48abbe903542e4ef1dba8bcd174b3d4dac7ffc6
     "metadata": {},
     "output_type": "execute_result"
    }
   ],
   "source": [
    "index=df2[df2['Text'].str.contains(\"great\")].index\n",
    "#example of calculating average sentiment score of a given word in any posts\n",
    "df2.iloc[index]['polarity'].mean()"
   ]
  },
  {
   "cell_type": "code",
<<<<<<< HEAD
   "execution_count": 18,
=======
   "execution_count": 21,
>>>>>>> b48abbe903542e4ef1dba8bcd174b3d4dac7ffc6
   "metadata": {},
   "outputs": [
    {
     "name": "stderr",
     "output_type": "stream",
     "text": [
<<<<<<< HEAD
      "<ipython-input-18-e7ca6f9e5f30>:3: UserWarning: Boolean Series key will be reindexed to match DataFrame index.\n",
=======
      "<ipython-input-21-e7ca6f9e5f30>:3: UserWarning: Boolean Series key will be reindexed to match DataFrame index.\n",
>>>>>>> b48abbe903542e4ef1dba8bcd174b3d4dac7ffc6
      "  df2.iloc[index][df2['pol_estimate']==1]['polarity'].mean()\n"
     ]
    },
    {
     "data": {
      "text/plain": [
<<<<<<< HEAD
       "0.2728283116550691"
      ]
     },
     "execution_count": 18,
=======
       "0.36293051805142873"
      ]
     },
     "execution_count": 21,
>>>>>>> b48abbe903542e4ef1dba8bcd174b3d4dac7ffc6
     "metadata": {},
     "output_type": "execute_result"
    }
   ],
   "source": [
    "index=df2[df2['Text'].str.contains(\"great\")].index\n",
    "#example of calculating average sentiment score of a given word in positive posts\n",
    "df2.iloc[index][df2['pol_estimate']==1]['polarity'].mean()"
   ]
  },
  {
   "cell_type": "code",
<<<<<<< HEAD
   "execution_count": 19,
=======
   "execution_count": 22,
>>>>>>> b48abbe903542e4ef1dba8bcd174b3d4dac7ffc6
   "metadata": {},
   "outputs": [
    {
     "name": "stderr",
     "output_type": "stream",
     "text": [
<<<<<<< HEAD
      "<ipython-input-19-6f3d9e536141>:3: UserWarning: Boolean Series key will be reindexed to match DataFrame index.\n",
=======
      "<ipython-input-22-6f3d9e536141>:3: UserWarning: Boolean Series key will be reindexed to match DataFrame index.\n",
>>>>>>> b48abbe903542e4ef1dba8bcd174b3d4dac7ffc6
      "  df2.iloc[index][df2['pol_estimate']==-1]['polarity'].mean()\n"
     ]
    },
    {
     "data": {
      "text/plain": [
<<<<<<< HEAD
       "-0.37340054304550097"
      ]
     },
     "execution_count": 19,
=======
       "-0.30955211565984964"
      ]
     },
     "execution_count": 22,
>>>>>>> b48abbe903542e4ef1dba8bcd174b3d4dac7ffc6
     "metadata": {},
     "output_type": "execute_result"
    }
   ],
   "source": [
    "index=df2[df2['Text'].str.contains(\"bad\")].index\n",
    "#example of calculating average sentiment score of a given word in negative posts\n",
    "df2.iloc[index][df2['pol_estimate']==-1]['polarity'].mean()"
   ]
  },
  {
   "cell_type": "code",
   "execution_count": null,
   "metadata": {},
   "outputs": [],
   "source": []
  }
 ],
 "metadata": {
  "kernelspec": {
   "display_name": "Python 3",
   "language": "python",
   "name": "python3"
  },
  "language_info": {
   "codemirror_mode": {
    "name": "ipython",
    "version": 3
   },
   "file_extension": ".py",
   "mimetype": "text/x-python",
   "name": "python",
   "nbconvert_exporter": "python",
   "pygments_lexer": "ipython3",
   "version": "3.8.5"
  }
 },
 "nbformat": 4,
 "nbformat_minor": 4
}
