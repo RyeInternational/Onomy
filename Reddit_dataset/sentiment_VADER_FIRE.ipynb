{
 "cells": [
  {
   "cell_type": "code",
   "execution_count": 1,
   "id": "47bcda1f",
   "metadata": {},
   "outputs": [],
   "source": [
    "import nltk\n",
    "#nltk.download('vader_lexicon')"
   ]
  },
  {
   "cell_type": "code",
   "execution_count": 2,
   "id": "b0e2dca6",
   "metadata": {},
   "outputs": [],
   "source": [
    "import pandas as pd\n",
    "import numpy as np\n",
    "import matplotlib.pyplot as plt"
   ]
  },
  {
   "cell_type": "markdown",
   "id": "geological-cycling",
   "metadata": {},
   "source": [
    "## Cleaning: Remove NA and duplicated text"
   ]
  },
  {
   "cell_type": "code",
   "execution_count": 190,
   "id": "balanced-simpson",
   "metadata": {},
   "outputs": [],
   "source": [
    "df = pd.read_csv(\"financialindependence2020.2-2021.csv\")\n",
    "df1=df[['selftext','num_comments','score','title']]"
   ]
  },
  {
   "cell_type": "code",
   "execution_count": 191,
   "id": "345eb48f",
   "metadata": {},
   "outputs": [
    {
     "data": {
      "text/html": [
       "<div>\n",
       "<style scoped>\n",
       "    .dataframe tbody tr th:only-of-type {\n",
       "        vertical-align: middle;\n",
       "    }\n",
       "\n",
       "    .dataframe tbody tr th {\n",
       "        vertical-align: top;\n",
       "    }\n",
       "\n",
       "    .dataframe thead th {\n",
       "        text-align: right;\n",
       "    }\n",
       "</style>\n",
       "<table border=\"1\" class=\"dataframe\">\n",
       "  <thead>\n",
       "    <tr style=\"text-align: right;\">\n",
       "      <th></th>\n",
       "      <th>index</th>\n",
       "      <th>selftext</th>\n",
       "      <th>num_comments</th>\n",
       "      <th>score</th>\n",
       "      <th>title</th>\n",
       "    </tr>\n",
       "  </thead>\n",
       "  <tbody>\n",
       "    <tr>\n",
       "      <th>0</th>\n",
       "      <td>0</td>\n",
       "      <td>Posted this on Personal Finance also, sorry if...</td>\n",
       "      <td>2</td>\n",
       "      <td>1</td>\n",
       "      <td>Velocity Banking</td>\n",
       "    </tr>\n",
       "    <tr>\n",
       "      <th>1</th>\n",
       "      <td>1</td>\n",
       "      <td>Guys, what do you think about the following pr...</td>\n",
       "      <td>1</td>\n",
       "      <td>1</td>\n",
       "      <td>Improving your financial position through Guap...</td>\n",
       "    </tr>\n",
       "    <tr>\n",
       "      <th>2</th>\n",
       "      <td>2</td>\n",
       "      <td>There is so much information, but I am not sur...</td>\n",
       "      <td>5</td>\n",
       "      <td>1</td>\n",
       "      <td>I am a 19 year old student, what should I focu...</td>\n",
       "    </tr>\n",
       "    <tr>\n",
       "      <th>3</th>\n",
       "      <td>4</td>\n",
       "      <td>Self-promotion (ie posting about projects/busi...</td>\n",
       "      <td>45</td>\n",
       "      <td>1</td>\n",
       "      <td>Weekly Self-Promotion Thread - May 20, 2020</td>\n",
       "    </tr>\n",
       "    <tr>\n",
       "      <th>4</th>\n",
       "      <td>5</td>\n",
       "      <td>Please use this thread to have discussions whi...</td>\n",
       "      <td>490</td>\n",
       "      <td>1</td>\n",
       "      <td>Daily FI discussion thread - May 20, 2020</td>\n",
       "    </tr>\n",
       "    <tr>\n",
       "      <th>...</th>\n",
       "      <td>...</td>\n",
       "      <td>...</td>\n",
       "      <td>...</td>\n",
       "      <td>...</td>\n",
       "      <td>...</td>\n",
       "    </tr>\n",
       "    <tr>\n",
       "      <th>485</th>\n",
       "      <td>990</td>\n",
       "      <td>My current company offers a very easy mega-bac...</td>\n",
       "      <td>4</td>\n",
       "      <td>1</td>\n",
       "      <td>How helpful is a mega-backdoor roth for financ...</td>\n",
       "    </tr>\n",
       "    <tr>\n",
       "      <th>486</th>\n",
       "      <td>992</td>\n",
       "      <td>I have never done anything financial in my lif...</td>\n",
       "      <td>7</td>\n",
       "      <td>1</td>\n",
       "      <td>Extreme Newbie Seeking Guidance/Referrals</td>\n",
       "    </tr>\n",
       "    <tr>\n",
       "      <th>487</th>\n",
       "      <td>994</td>\n",
       "      <td>\\n\\nPlease  use this thread to discuss how am...</td>\n",
       "      <td>404</td>\n",
       "      <td>1</td>\n",
       "      <td>Weekly FI Frugal Friday thread - January 29, 2021</td>\n",
       "    </tr>\n",
       "    <tr>\n",
       "      <th>488</th>\n",
       "      <td>997</td>\n",
       "      <td>I’d love your opinions and feedback on this. I...</td>\n",
       "      <td>0</td>\n",
       "      <td>1</td>\n",
       "      <td>Pay off student loans or wait...?</td>\n",
       "    </tr>\n",
       "    <tr>\n",
       "      <th>489</th>\n",
       "      <td>998</td>\n",
       "      <td>Wondering how the experience has ben for peopl...</td>\n",
       "      <td>2</td>\n",
       "      <td>1</td>\n",
       "      <td>Does anyone have experience buying Bitcoin wit...</td>\n",
       "    </tr>\n",
       "  </tbody>\n",
       "</table>\n",
       "<p>490 rows × 5 columns</p>\n",
       "</div>"
      ],
      "text/plain": [
       "     index                                           selftext  num_comments  \\\n",
       "0        0  Posted this on Personal Finance also, sorry if...             2   \n",
       "1        1  Guys, what do you think about the following pr...             1   \n",
       "2        2  There is so much information, but I am not sur...             5   \n",
       "3        4  Self-promotion (ie posting about projects/busi...            45   \n",
       "4        5  Please use this thread to have discussions whi...           490   \n",
       "..     ...                                                ...           ...   \n",
       "485    990  My current company offers a very easy mega-bac...             4   \n",
       "486    992  I have never done anything financial in my lif...             7   \n",
       "487    994   \\n\\nPlease  use this thread to discuss how am...           404   \n",
       "488    997  I’d love your opinions and feedback on this. I...             0   \n",
       "489    998  Wondering how the experience has ben for peopl...             2   \n",
       "\n",
       "     score                                              title  \n",
       "0        1                                   Velocity Banking  \n",
       "1        1  Improving your financial position through Guap...  \n",
       "2        1  I am a 19 year old student, what should I focu...  \n",
       "3        1        Weekly Self-Promotion Thread - May 20, 2020  \n",
       "4        1          Daily FI discussion thread - May 20, 2020  \n",
       "..     ...                                                ...  \n",
       "485      1  How helpful is a mega-backdoor roth for financ...  \n",
       "486      1          Extreme Newbie Seeking Guidance/Referrals  \n",
       "487      1  Weekly FI Frugal Friday thread - January 29, 2021  \n",
       "488      1                  Pay off student loans or wait...?  \n",
       "489      1  Does anyone have experience buying Bitcoin wit...  \n",
       "\n",
       "[490 rows x 5 columns]"
      ]
     },
     "execution_count": 191,
     "metadata": {},
     "output_type": "execute_result"
    }
   ],
   "source": [
    "df1=df1.dropna(subset=['selftext'])\n",
    "\n",
    "#drop meaningless text\n",
    "df1=df1[(df1.selftext!='[removed]') & (df1.selftext!='[deleted]')]\n",
    "#df1=df1[(df1.selftext!=' [ ') & (df1.selftext!=' ')]\n",
    "\n",
    "#drop duplicate\n",
    "df1=df1.drop_duplicates(subset=['selftext']).reset_index()\n",
    "df1"
   ]
  },
  {
   "cell_type": "code",
   "execution_count": 192,
   "id": "6830b3a3",
   "metadata": {},
   "outputs": [],
   "source": [
    "import re\n",
    "def remove_other(x):\n",
    "    x = re.sub(\"\\$\",\" \", x) #remove $\n",
    "    x = re.sub(\"https*\\S+\", \" \", x) #remove url\n",
    "    x = re.sub(\"\\n\",'', x)#remove newlines\n",
    "    x = re.sub(\"\\*\",'',x)\n",
    "    return x"
   ]
  },
  {
   "cell_type": "code",
   "execution_count": 193,
   "id": "fa910e8a",
   "metadata": {},
   "outputs": [],
   "source": [
    "df1['selftext']=df1['selftext'].apply(lambda x: remove_other(x))"
   ]
  },
  {
   "cell_type": "code",
   "execution_count": 194,
   "id": "aggregate-basin",
   "metadata": {},
   "outputs": [],
   "source": [
    "#Remove meaningless rows after cleaning\n",
    "for i in range(len(df1.selftext)):\n",
    "    if len(df1.selftext[i])<20:\n",
    "        df1=df1.drop(i,axis=0)"
   ]
  },
  {
   "cell_type": "markdown",
   "id": "tutorial-organ",
   "metadata": {},
   "source": [
    "## VADER"
   ]
  },
  {
   "cell_type": "code",
   "execution_count": 196,
   "id": "damaged-contents",
   "metadata": {},
   "outputs": [],
   "source": [
    "#Overwrite the module function\n",
    "code='''\n",
    "from nltk.sentiment.vader import *\n",
    "\n",
    "def polarity_scores(self,text):\n",
    "            \"\"\"\n",
    "            Return a float for sentiment strength based on the input text.\n",
    "            Positive values are positive valence, negative value are negative\n",
    "            valence.\n",
    "            \"\"\"\n",
    "            # text, words_and_emoticons, is_cap_diff = self.preprocess(text)\n",
    "            sentitext = SentiText(text, self.constants.PUNC_LIST,self.constants.REGEX_REMOVE_PUNCTUATION)\n",
    "            sentiments = []\n",
    "            words_and_emoticons = sentitext.words_and_emoticons\n",
    "            for item in words_and_emoticons:\n",
    "                valence = 0\n",
    "                i = words_and_emoticons.index(item)\n",
    "                if (\n",
    "                    i < len(words_and_emoticons) - 1\n",
    "                    and item.lower() == \"kind\"\n",
    "                    and words_and_emoticons[i + 1].lower() == \"of\"\n",
    "                ) or item.lower() in self.constants.BOOSTER_DICT:\n",
    "                    sentiments.append(valence)\n",
    "                    continue\n",
    "\n",
    "                sentiments = self.sentiment_valence(valence, sentitext, item, i, sentiments)\n",
    "\n",
    "            sentiments = self._but_check(words_and_emoticons, sentiments)\n",
    "            zip_iterator = zip(words_and_emoticons, sentiments)\n",
    "            D= dict(zip_iterator)\n",
    "\n",
    "            return D,self.score_valence(sentiments,text)\n",
    "'''\n",
    "file=open('my_module.py','w')\n",
    "file.write(code)\n",
    "file.close()"
   ]
  },
  {
   "cell_type": "code",
   "execution_count": 226,
   "id": "82f9d816",
   "metadata": {},
   "outputs": [
    {
     "data": {
      "text/plain": [
       "[{'neg': 0.061,\n",
       "  'neu': 0.822,\n",
       "  'pos': 0.117,\n",
       "  'compound': 0.9143,\n",
       "  'selftext': \"Posted this on Personal Finance also, sorry if it's a double read for some of you!Alright....I'm sure that this won't be well received but I want to know what people think of 'Velocity Banking' (best video I've seen is titled The Method on YouTube), whether it works or not, scam/not a scam, and then finally how it compares to just taking your monthly surplus and simply putting it into the market.Quick background, 35 yo, own a house (but will be selling within 6 months to move to Japan), wife and 1 child. Only debt we have is the mortgage and our monthly spending (no CC, no car payments). Quick Financials:Checking/Savings-16,000Vanguard IRA/Brokerage-26,000TSP(Combined)-120,000Currently have about  500/mo extra (I'm deployed currently, TSP set at 60%), when I get back I'll scale it back and will have more like  1500-2000/mo free.Feel like we're doing well but would just love to see some conversation for or against Velocity Banking vs Investing vs anything else. Let's open it up.\"},\n",
       " {'neg': 0.021,\n",
       "  'neu': 0.761,\n",
       "  'pos': 0.218,\n",
       "  'compound': 0.9901,\n",
       "  'selftext': 'Guys, what do you think about the following project?The Guap strategy is to “fund, support, and circulate amongst its own merchant network that rewards consumers for supporting community businesses, grassroots organizations, and HBCUs.”  The idea behind the Guap network (which has yet to be revealed) is that participating black-owned businesses will accept Guap coins, allowing for real-world usage.  The coins can then be saved and spent at other merchant locations within the network.It is is a peer-to-peer cryptocurrency created to promote economic growth and wealth. GUAP is about community economics and building a strong foundation or basis for long-term economic wealth particularly for the underserved communities like those of the Black &amp; Brown Community. They are not limiting their services to those communities, nor do they seek to exclude any other community. However, from their standpoint – they have to begin with these communities because that is where they can have the greatest positive impact on the entire world. They are solving for the economic obstacles that prevent them from taking full advantage of technical, blockchain, and FinTech innovations.Share your point of view on that[ '},\n",
       " {'neg': 0.12,\n",
       "  'neu': 0.88,\n",
       "  'pos': 0.0,\n",
       "  'compound': -0.3491,\n",
       "  'selftext': 'There is so much information, but I am not sure which information applies to me since I do not have a career'}]"
      ]
     },
     "execution_count": 226,
     "metadata": {},
     "output_type": "execute_result"
    }
   ],
   "source": [
    "from nltk.sentiment.vader import SentimentIntensityAnalyzer as SIA\n",
    "import my_module\n",
    "import importlib\n",
    "importlib.reload(my_module)\n",
    "\n",
    "#create a list of dictionaries\n",
    "sia = SIA()\n",
    "results = []\n",
    "words=[]\n",
    "\n",
    "for line in df1['selftext']:\n",
    "    #pol_score = sia.polarity_scores(line)\n",
    "    D,pol_score=my_module.polarity_scores(sia,text=line) #use customized module\n",
    "    pol_score['selftext'] = line\n",
    "    results.append(pol_score)\n",
    "    words.append(D)\n",
    "results[:3]"
   ]
  },
  {
   "cell_type": "code",
   "execution_count": 345,
   "id": "painted-merchant",
   "metadata": {},
   "outputs": [
    {
     "name": "stdout",
     "output_type": "stream",
     "text": [
      "{'sure': 0.65, 'want': 0.44999999999999996, 'scam': 2.997, 'like': 2.6895, 'love': 4.800000000000001}\n",
      "{'sorry': -0.15, 'well': -1.221, 'debt': -2.25, 'no': -1.7999999999999998}\n",
      "['sure', 'want', 'scam', 'like', 'love']\n",
      "['sorry', 'well', 'debt', 'no']\n"
     ]
    }
   ],
   "source": [
    "#Extract sentiment words\n",
    "D_p=[] # positive word and its sentiment score\n",
    "D_n=[] # negative word and its sentiment score\n",
    "D1=[] # only positive word\n",
    "D2=[] # only negative word\n",
    "for i in range(len(words)):\n",
    "    newDict = {key: value for (key, value) in words[i].items() if value != 0.0 }\n",
    "    newDict1 = {key: value for (key, value) in words[i].items() if value > 0.0 }\n",
    "    newDict2 = {key: value for (key, value) in words[i].items() if value < 0.0 }\n",
    "    D_p.append(newDict1)\n",
    "    D_n.append(newDict2)\n",
    "    D1.append(list(newDict1.keys()))\n",
    "    D2.append(list(newDict2.keys()))\n",
    "print(D_p[0])\n",
    "print(D_n[0])\n",
    "print(D1[0])\n",
    "print(D2[0])"
   ]
  },
  {
   "cell_type": "code",
   "execution_count": 346,
   "id": "8069138d",
   "metadata": {},
   "outputs": [
    {
     "data": {
      "text/html": [
       "<div>\n",
       "<style scoped>\n",
       "    .dataframe tbody tr th:only-of-type {\n",
       "        vertical-align: middle;\n",
       "    }\n",
       "\n",
       "    .dataframe tbody tr th {\n",
       "        vertical-align: top;\n",
       "    }\n",
       "\n",
       "    .dataframe thead th {\n",
       "        text-align: right;\n",
       "    }\n",
       "</style>\n",
       "<table border=\"1\" class=\"dataframe\">\n",
       "  <thead>\n",
       "    <tr style=\"text-align: right;\">\n",
       "      <th></th>\n",
       "      <th>neg</th>\n",
       "      <th>neu</th>\n",
       "      <th>pos</th>\n",
       "      <th>compound</th>\n",
       "      <th>selftext</th>\n",
       "      <th>p_word_dict</th>\n",
       "      <th>n_word_dict</th>\n",
       "      <th>p_word</th>\n",
       "      <th>n_word</th>\n",
       "    </tr>\n",
       "  </thead>\n",
       "  <tbody>\n",
       "    <tr>\n",
       "      <th>0</th>\n",
       "      <td>0.061</td>\n",
       "      <td>0.822</td>\n",
       "      <td>0.117</td>\n",
       "      <td>0.9143</td>\n",
       "      <td>Posted this on Personal Finance also, sorry if...</td>\n",
       "      <td>{'sure': 0.65, 'want': 0.44999999999999996, 's...</td>\n",
       "      <td>{'sorry': -0.15, 'well': -1.221, 'debt': -2.25...</td>\n",
       "      <td>sure want scam like love</td>\n",
       "      <td>sorry well debt no</td>\n",
       "    </tr>\n",
       "    <tr>\n",
       "      <th>1</th>\n",
       "      <td>0.021</td>\n",
       "      <td>0.761</td>\n",
       "      <td>0.218</td>\n",
       "      <td>0.9901</td>\n",
       "      <td>Guys, what do you think about the following pr...</td>\n",
       "      <td>{'support': 1.7, 'rewards': 2.1, 'supporting':...</td>\n",
       "      <td>{'exclude': -0.9, 'obstacles': -1.6}</td>\n",
       "      <td>support rewards supporting accept saved create...</td>\n",
       "      <td>exclude obstacles</td>\n",
       "    </tr>\n",
       "    <tr>\n",
       "      <th>2</th>\n",
       "      <td>0.120</td>\n",
       "      <td>0.880</td>\n",
       "      <td>0.000</td>\n",
       "      <td>-0.3491</td>\n",
       "      <td>There is so much information, but I am not sur...</td>\n",
       "      <td>{}</td>\n",
       "      <td>{'sure': -1.443}</td>\n",
       "      <td></td>\n",
       "      <td>sure</td>\n",
       "    </tr>\n",
       "    <tr>\n",
       "      <th>3</th>\n",
       "      <td>0.090</td>\n",
       "      <td>0.839</td>\n",
       "      <td>0.071</td>\n",
       "      <td>-0.2644</td>\n",
       "      <td>Self-promotion (ie posting about projects/busi...</td>\n",
       "      <td>{'profit': 1.9, 'Please': 1.3, 'wisely': 1.8}</td>\n",
       "      <td>{'discouraged': -1.7, 'please': -0.962, 'leak'...</td>\n",
       "      <td>profit Please wisely</td>\n",
       "      <td>discouraged please leak banned</td>\n",
       "    </tr>\n",
       "    <tr>\n",
       "      <th>4</th>\n",
       "      <td>0.000</td>\n",
       "      <td>0.933</td>\n",
       "      <td>0.067</td>\n",
       "      <td>0.6996</td>\n",
       "      <td>Please use this thread to have discussions whi...</td>\n",
       "      <td>{'Please': 1.3, 'relaxed': 2.2}</td>\n",
       "      <td>{}</td>\n",
       "      <td>Please relaxed</td>\n",
       "      <td></td>\n",
       "    </tr>\n",
       "    <tr>\n",
       "      <th>...</th>\n",
       "      <td>...</td>\n",
       "      <td>...</td>\n",
       "      <td>...</td>\n",
       "      <td>...</td>\n",
       "      <td>...</td>\n",
       "      <td>...</td>\n",
       "      <td>...</td>\n",
       "      <td>...</td>\n",
       "      <td>...</td>\n",
       "    </tr>\n",
       "    <tr>\n",
       "      <th>477</th>\n",
       "      <td>0.032</td>\n",
       "      <td>0.741</td>\n",
       "      <td>0.227</td>\n",
       "      <td>0.9663</td>\n",
       "      <td>My current company offers a very easy mega-bac...</td>\n",
       "      <td>{'easy': 1.0965, 'want': 0.15, 'sure': 1.95000...</td>\n",
       "      <td>{'reject': -2.55}</td>\n",
       "      <td>easy want sure helpful better value appreciate...</td>\n",
       "      <td>reject</td>\n",
       "    </tr>\n",
       "    <tr>\n",
       "      <th>478</th>\n",
       "      <td>0.077</td>\n",
       "      <td>0.816</td>\n",
       "      <td>0.107</td>\n",
       "      <td>0.6369</td>\n",
       "      <td>I have never done anything financial in my lif...</td>\n",
       "      <td>{'credit': 1.6, 'interest': 2.0, 'help': 1.7, ...</td>\n",
       "      <td>{'no': -1.2, 'idk': -0.4, 'Sorry': -0.3, 'wron...</td>\n",
       "      <td>credit interest help better</td>\n",
       "      <td>no idk Sorry wrong</td>\n",
       "    </tr>\n",
       "    <tr>\n",
       "      <th>479</th>\n",
       "      <td>0.039</td>\n",
       "      <td>0.874</td>\n",
       "      <td>0.087</td>\n",
       "      <td>0.7292</td>\n",
       "      <td>Please  use this thread to discuss how amazin...</td>\n",
       "      <td>{'Please': 1.3, 'pain': 1.702, 'relaxed': 2.49...</td>\n",
       "      <td>{'low': -1.1, 'cut': -1.1}</td>\n",
       "      <td>Please pain relaxed</td>\n",
       "      <td>low cut</td>\n",
       "    </tr>\n",
       "    <tr>\n",
       "      <th>480</th>\n",
       "      <td>0.032</td>\n",
       "      <td>0.782</td>\n",
       "      <td>0.186</td>\n",
       "      <td>0.9393</td>\n",
       "      <td>I’d love your opinions and feedback on this. I...</td>\n",
       "      <td>{'love': 1.6, 'saved': 0.9, 'interest': 3.0, '...</td>\n",
       "      <td>{'pay': -0.6000000000000001}</td>\n",
       "      <td>love saved interest Thank</td>\n",
       "      <td>pay</td>\n",
       "    </tr>\n",
       "    <tr>\n",
       "      <th>481</th>\n",
       "      <td>0.000</td>\n",
       "      <td>1.000</td>\n",
       "      <td>0.000</td>\n",
       "      <td>0.0000</td>\n",
       "      <td>Wondering how the experience has ben for peopl...</td>\n",
       "      <td>{}</td>\n",
       "      <td>{}</td>\n",
       "      <td></td>\n",
       "      <td></td>\n",
       "    </tr>\n",
       "  </tbody>\n",
       "</table>\n",
       "<p>482 rows × 9 columns</p>\n",
       "</div>"
      ],
      "text/plain": [
       "       neg    neu    pos  compound  \\\n",
       "0    0.061  0.822  0.117    0.9143   \n",
       "1    0.021  0.761  0.218    0.9901   \n",
       "2    0.120  0.880  0.000   -0.3491   \n",
       "3    0.090  0.839  0.071   -0.2644   \n",
       "4    0.000  0.933  0.067    0.6996   \n",
       "..     ...    ...    ...       ...   \n",
       "477  0.032  0.741  0.227    0.9663   \n",
       "478  0.077  0.816  0.107    0.6369   \n",
       "479  0.039  0.874  0.087    0.7292   \n",
       "480  0.032  0.782  0.186    0.9393   \n",
       "481  0.000  1.000  0.000    0.0000   \n",
       "\n",
       "                                              selftext  \\\n",
       "0    Posted this on Personal Finance also, sorry if...   \n",
       "1    Guys, what do you think about the following pr...   \n",
       "2    There is so much information, but I am not sur...   \n",
       "3    Self-promotion (ie posting about projects/busi...   \n",
       "4    Please use this thread to have discussions whi...   \n",
       "..                                                 ...   \n",
       "477  My current company offers a very easy mega-bac...   \n",
       "478  I have never done anything financial in my lif...   \n",
       "479   Please  use this thread to discuss how amazin...   \n",
       "480  I’d love your opinions and feedback on this. I...   \n",
       "481  Wondering how the experience has ben for peopl...   \n",
       "\n",
       "                                           p_word_dict  \\\n",
       "0    {'sure': 0.65, 'want': 0.44999999999999996, 's...   \n",
       "1    {'support': 1.7, 'rewards': 2.1, 'supporting':...   \n",
       "2                                                   {}   \n",
       "3        {'profit': 1.9, 'Please': 1.3, 'wisely': 1.8}   \n",
       "4                      {'Please': 1.3, 'relaxed': 2.2}   \n",
       "..                                                 ...   \n",
       "477  {'easy': 1.0965, 'want': 0.15, 'sure': 1.95000...   \n",
       "478  {'credit': 1.6, 'interest': 2.0, 'help': 1.7, ...   \n",
       "479  {'Please': 1.3, 'pain': 1.702, 'relaxed': 2.49...   \n",
       "480  {'love': 1.6, 'saved': 0.9, 'interest': 3.0, '...   \n",
       "481                                                 {}   \n",
       "\n",
       "                                           n_word_dict  \\\n",
       "0    {'sorry': -0.15, 'well': -1.221, 'debt': -2.25...   \n",
       "1                 {'exclude': -0.9, 'obstacles': -1.6}   \n",
       "2                                     {'sure': -1.443}   \n",
       "3    {'discouraged': -1.7, 'please': -0.962, 'leak'...   \n",
       "4                                                   {}   \n",
       "..                                                 ...   \n",
       "477                                  {'reject': -2.55}   \n",
       "478  {'no': -1.2, 'idk': -0.4, 'Sorry': -0.3, 'wron...   \n",
       "479                         {'low': -1.1, 'cut': -1.1}   \n",
       "480                       {'pay': -0.6000000000000001}   \n",
       "481                                                 {}   \n",
       "\n",
       "                                                p_word  \\\n",
       "0                             sure want scam like love   \n",
       "1    support rewards supporting accept saved create...   \n",
       "2                                                        \n",
       "3                                 profit Please wisely   \n",
       "4                                       Please relaxed   \n",
       "..                                                 ...   \n",
       "477  easy want sure helpful better value appreciate...   \n",
       "478                        credit interest help better   \n",
       "479                                Please pain relaxed   \n",
       "480                          love saved interest Thank   \n",
       "481                                                      \n",
       "\n",
       "                             n_word  \n",
       "0                sorry well debt no  \n",
       "1                 exclude obstacles  \n",
       "2                              sure  \n",
       "3    discouraged please leak banned  \n",
       "4                                    \n",
       "..                              ...  \n",
       "477                          reject  \n",
       "478              no idk Sorry wrong  \n",
       "479                         low cut  \n",
       "480                             pay  \n",
       "481                                  \n",
       "\n",
       "[482 rows x 9 columns]"
      ]
     },
     "execution_count": 346,
     "metadata": {},
     "output_type": "execute_result"
    }
   ],
   "source": [
    "#create a df to write in the results of sentiment analysis\n",
    "sent = pd.DataFrame(results)\n",
    "sent['p_word_dict']=D_p\n",
    "sent['n_word_dict']=D_n\n",
    "p=[]\n",
    "n=[]\n",
    "for i in D1:\n",
    "    p.append(' '.join(i))\n",
    "for i in D2:\n",
    "    n.append(' '.join(i))\n",
    "    \n",
    "sent['p_word']=p\n",
    "sent['n_word']=n\n",
    "sent"
   ]
  },
  {
   "cell_type": "code",
   "execution_count": 348,
   "id": "colonial-election",
   "metadata": {},
   "outputs": [],
   "source": [
    "sent['total']=(sent.pos-sent.neg)/sent.neu"
   ]
  },
  {
   "cell_type": "code",
   "execution_count": 349,
   "id": "6b37ef82",
   "metadata": {},
   "outputs": [
    {
     "name": "stderr",
     "output_type": "stream",
     "text": [
      "/opt/anaconda3/lib/python3.8/site-packages/pandas/core/indexing.py:671: SettingWithCopyWarning: \n",
      "A value is trying to be set on a copy of a slice from a DataFrame\n",
      "\n",
      "See the caveats in the documentation: https://pandas.pydata.org/pandas-docs/stable/user_guide/indexing.html#returning-a-view-versus-a-copy\n",
      "  self._setitem_with_indexer(indexer, value)\n"
     ]
    },
    {
     "data": {
      "text/html": [
       "<div>\n",
       "<style scoped>\n",
       "    .dataframe tbody tr th:only-of-type {\n",
       "        vertical-align: middle;\n",
       "    }\n",
       "\n",
       "    .dataframe tbody tr th {\n",
       "        vertical-align: top;\n",
       "    }\n",
       "\n",
       "    .dataframe thead th {\n",
       "        text-align: right;\n",
       "    }\n",
       "</style>\n",
       "<table border=\"1\" class=\"dataframe\">\n",
       "  <thead>\n",
       "    <tr style=\"text-align: right;\">\n",
       "      <th></th>\n",
       "      <th>neg</th>\n",
       "      <th>neu</th>\n",
       "      <th>pos</th>\n",
       "      <th>compound</th>\n",
       "      <th>selftext</th>\n",
       "      <th>p_word_dict</th>\n",
       "      <th>n_word_dict</th>\n",
       "      <th>p_word</th>\n",
       "      <th>n_word</th>\n",
       "      <th>label</th>\n",
       "      <th>total</th>\n",
       "    </tr>\n",
       "  </thead>\n",
       "  <tbody>\n",
       "    <tr>\n",
       "      <th>0</th>\n",
       "      <td>0.061</td>\n",
       "      <td>0.822</td>\n",
       "      <td>0.117</td>\n",
       "      <td>0.9143</td>\n",
       "      <td>Posted this on Personal Finance also, sorry if...</td>\n",
       "      <td>{'sure': 0.65, 'want': 0.44999999999999996, 's...</td>\n",
       "      <td>{'sorry': -0.15, 'well': -1.221, 'debt': -2.25...</td>\n",
       "      <td>sure want scam like love</td>\n",
       "      <td>sorry well debt no</td>\n",
       "      <td>1</td>\n",
       "      <td>0.068127</td>\n",
       "    </tr>\n",
       "    <tr>\n",
       "      <th>1</th>\n",
       "      <td>0.021</td>\n",
       "      <td>0.761</td>\n",
       "      <td>0.218</td>\n",
       "      <td>0.9901</td>\n",
       "      <td>Guys, what do you think about the following pr...</td>\n",
       "      <td>{'support': 1.7, 'rewards': 2.1, 'supporting':...</td>\n",
       "      <td>{'exclude': -0.9, 'obstacles': -1.6}</td>\n",
       "      <td>support rewards supporting accept saved create...</td>\n",
       "      <td>exclude obstacles</td>\n",
       "      <td>1</td>\n",
       "      <td>0.258870</td>\n",
       "    </tr>\n",
       "    <tr>\n",
       "      <th>2</th>\n",
       "      <td>0.120</td>\n",
       "      <td>0.880</td>\n",
       "      <td>0.000</td>\n",
       "      <td>-0.3491</td>\n",
       "      <td>There is so much information, but I am not sur...</td>\n",
       "      <td>{}</td>\n",
       "      <td>{'sure': -1.443}</td>\n",
       "      <td></td>\n",
       "      <td>sure</td>\n",
       "      <td>-1</td>\n",
       "      <td>-0.136364</td>\n",
       "    </tr>\n",
       "    <tr>\n",
       "      <th>3</th>\n",
       "      <td>0.090</td>\n",
       "      <td>0.839</td>\n",
       "      <td>0.071</td>\n",
       "      <td>-0.2644</td>\n",
       "      <td>Self-promotion (ie posting about projects/busi...</td>\n",
       "      <td>{'profit': 1.9, 'Please': 1.3, 'wisely': 1.8}</td>\n",
       "      <td>{'discouraged': -1.7, 'please': -0.962, 'leak'...</td>\n",
       "      <td>profit Please wisely</td>\n",
       "      <td>discouraged please leak banned</td>\n",
       "      <td>-1</td>\n",
       "      <td>-0.022646</td>\n",
       "    </tr>\n",
       "    <tr>\n",
       "      <th>4</th>\n",
       "      <td>0.000</td>\n",
       "      <td>0.933</td>\n",
       "      <td>0.067</td>\n",
       "      <td>0.6996</td>\n",
       "      <td>Please use this thread to have discussions whi...</td>\n",
       "      <td>{'Please': 1.3, 'relaxed': 2.2}</td>\n",
       "      <td>{}</td>\n",
       "      <td>Please relaxed</td>\n",
       "      <td></td>\n",
       "      <td>1</td>\n",
       "      <td>0.071811</td>\n",
       "    </tr>\n",
       "    <tr>\n",
       "      <th>...</th>\n",
       "      <td>...</td>\n",
       "      <td>...</td>\n",
       "      <td>...</td>\n",
       "      <td>...</td>\n",
       "      <td>...</td>\n",
       "      <td>...</td>\n",
       "      <td>...</td>\n",
       "      <td>...</td>\n",
       "      <td>...</td>\n",
       "      <td>...</td>\n",
       "      <td>...</td>\n",
       "    </tr>\n",
       "    <tr>\n",
       "      <th>477</th>\n",
       "      <td>0.032</td>\n",
       "      <td>0.741</td>\n",
       "      <td>0.227</td>\n",
       "      <td>0.9663</td>\n",
       "      <td>My current company offers a very easy mega-bac...</td>\n",
       "      <td>{'easy': 1.0965, 'want': 0.15, 'sure': 1.95000...</td>\n",
       "      <td>{'reject': -2.55}</td>\n",
       "      <td>easy want sure helpful better value appreciate...</td>\n",
       "      <td>reject</td>\n",
       "      <td>1</td>\n",
       "      <td>0.263158</td>\n",
       "    </tr>\n",
       "    <tr>\n",
       "      <th>478</th>\n",
       "      <td>0.077</td>\n",
       "      <td>0.816</td>\n",
       "      <td>0.107</td>\n",
       "      <td>0.6369</td>\n",
       "      <td>I have never done anything financial in my lif...</td>\n",
       "      <td>{'credit': 1.6, 'interest': 2.0, 'help': 1.7, ...</td>\n",
       "      <td>{'no': -1.2, 'idk': -0.4, 'Sorry': -0.3, 'wron...</td>\n",
       "      <td>credit interest help better</td>\n",
       "      <td>no idk Sorry wrong</td>\n",
       "      <td>1</td>\n",
       "      <td>0.036765</td>\n",
       "    </tr>\n",
       "    <tr>\n",
       "      <th>479</th>\n",
       "      <td>0.039</td>\n",
       "      <td>0.874</td>\n",
       "      <td>0.087</td>\n",
       "      <td>0.7292</td>\n",
       "      <td>Please  use this thread to discuss how amazin...</td>\n",
       "      <td>{'Please': 1.3, 'pain': 1.702, 'relaxed': 2.49...</td>\n",
       "      <td>{'low': -1.1, 'cut': -1.1}</td>\n",
       "      <td>Please pain relaxed</td>\n",
       "      <td>low cut</td>\n",
       "      <td>1</td>\n",
       "      <td>0.054920</td>\n",
       "    </tr>\n",
       "    <tr>\n",
       "      <th>480</th>\n",
       "      <td>0.032</td>\n",
       "      <td>0.782</td>\n",
       "      <td>0.186</td>\n",
       "      <td>0.9393</td>\n",
       "      <td>I’d love your opinions and feedback on this. I...</td>\n",
       "      <td>{'love': 1.6, 'saved': 0.9, 'interest': 3.0, '...</td>\n",
       "      <td>{'pay': -0.6000000000000001}</td>\n",
       "      <td>love saved interest Thank</td>\n",
       "      <td>pay</td>\n",
       "      <td>1</td>\n",
       "      <td>0.196931</td>\n",
       "    </tr>\n",
       "    <tr>\n",
       "      <th>481</th>\n",
       "      <td>0.000</td>\n",
       "      <td>1.000</td>\n",
       "      <td>0.000</td>\n",
       "      <td>0.0000</td>\n",
       "      <td>Wondering how the experience has ben for peopl...</td>\n",
       "      <td>{}</td>\n",
       "      <td>{}</td>\n",
       "      <td></td>\n",
       "      <td></td>\n",
       "      <td>0</td>\n",
       "      <td>0.000000</td>\n",
       "    </tr>\n",
       "  </tbody>\n",
       "</table>\n",
       "<p>482 rows × 11 columns</p>\n",
       "</div>"
      ],
      "text/plain": [
       "       neg    neu    pos  compound  \\\n",
       "0    0.061  0.822  0.117    0.9143   \n",
       "1    0.021  0.761  0.218    0.9901   \n",
       "2    0.120  0.880  0.000   -0.3491   \n",
       "3    0.090  0.839  0.071   -0.2644   \n",
       "4    0.000  0.933  0.067    0.6996   \n",
       "..     ...    ...    ...       ...   \n",
       "477  0.032  0.741  0.227    0.9663   \n",
       "478  0.077  0.816  0.107    0.6369   \n",
       "479  0.039  0.874  0.087    0.7292   \n",
       "480  0.032  0.782  0.186    0.9393   \n",
       "481  0.000  1.000  0.000    0.0000   \n",
       "\n",
       "                                              selftext  \\\n",
       "0    Posted this on Personal Finance also, sorry if...   \n",
       "1    Guys, what do you think about the following pr...   \n",
       "2    There is so much information, but I am not sur...   \n",
       "3    Self-promotion (ie posting about projects/busi...   \n",
       "4    Please use this thread to have discussions whi...   \n",
       "..                                                 ...   \n",
       "477  My current company offers a very easy mega-bac...   \n",
       "478  I have never done anything financial in my lif...   \n",
       "479   Please  use this thread to discuss how amazin...   \n",
       "480  I’d love your opinions and feedback on this. I...   \n",
       "481  Wondering how the experience has ben for peopl...   \n",
       "\n",
       "                                           p_word_dict  \\\n",
       "0    {'sure': 0.65, 'want': 0.44999999999999996, 's...   \n",
       "1    {'support': 1.7, 'rewards': 2.1, 'supporting':...   \n",
       "2                                                   {}   \n",
       "3        {'profit': 1.9, 'Please': 1.3, 'wisely': 1.8}   \n",
       "4                      {'Please': 1.3, 'relaxed': 2.2}   \n",
       "..                                                 ...   \n",
       "477  {'easy': 1.0965, 'want': 0.15, 'sure': 1.95000...   \n",
       "478  {'credit': 1.6, 'interest': 2.0, 'help': 1.7, ...   \n",
       "479  {'Please': 1.3, 'pain': 1.702, 'relaxed': 2.49...   \n",
       "480  {'love': 1.6, 'saved': 0.9, 'interest': 3.0, '...   \n",
       "481                                                 {}   \n",
       "\n",
       "                                           n_word_dict  \\\n",
       "0    {'sorry': -0.15, 'well': -1.221, 'debt': -2.25...   \n",
       "1                 {'exclude': -0.9, 'obstacles': -1.6}   \n",
       "2                                     {'sure': -1.443}   \n",
       "3    {'discouraged': -1.7, 'please': -0.962, 'leak'...   \n",
       "4                                                   {}   \n",
       "..                                                 ...   \n",
       "477                                  {'reject': -2.55}   \n",
       "478  {'no': -1.2, 'idk': -0.4, 'Sorry': -0.3, 'wron...   \n",
       "479                         {'low': -1.1, 'cut': -1.1}   \n",
       "480                       {'pay': -0.6000000000000001}   \n",
       "481                                                 {}   \n",
       "\n",
       "                                                p_word  \\\n",
       "0                             sure want scam like love   \n",
       "1    support rewards supporting accept saved create...   \n",
       "2                                                        \n",
       "3                                 profit Please wisely   \n",
       "4                                       Please relaxed   \n",
       "..                                                 ...   \n",
       "477  easy want sure helpful better value appreciate...   \n",
       "478                        credit interest help better   \n",
       "479                                Please pain relaxed   \n",
       "480                          love saved interest Thank   \n",
       "481                                                      \n",
       "\n",
       "                             n_word  label     total  \n",
       "0                sorry well debt no      1  0.068127  \n",
       "1                 exclude obstacles      1  0.258870  \n",
       "2                              sure     -1 -0.136364  \n",
       "3    discouraged please leak banned     -1 -0.022646  \n",
       "4                                        1  0.071811  \n",
       "..                              ...    ...       ...  \n",
       "477                          reject      1  0.263158  \n",
       "478              no idk Sorry wrong      1  0.036765  \n",
       "479                         low cut      1  0.054920  \n",
       "480                             pay      1  0.196931  \n",
       "481                                      0  0.000000  \n",
       "\n",
       "[482 rows x 11 columns]"
      ]
     },
     "execution_count": 349,
     "metadata": {},
     "output_type": "execute_result"
    }
   ],
   "source": [
    "#labeling the sentiment of selftext\n",
    "sent['label']=0\n",
    "sent['label'].loc[sent['total']> 0]=1\n",
    "sent['label'].loc[sent['total']< 0]=-1\n",
    "sent"
   ]
  },
  {
   "cell_type": "code",
   "execution_count": 314,
   "id": "f631f4c8",
   "metadata": {},
   "outputs": [],
   "source": [
    "#sent.to_csv('sent_FIRE.csv', mode='a', encoding='utf-8', index=False)"
   ]
  },
  {
   "cell_type": "markdown",
   "id": "another-promotion",
   "metadata": {},
   "source": [
    "## Generate Summary"
   ]
  },
  {
   "cell_type": "code",
   "execution_count": 316,
   "id": "narrow-company",
   "metadata": {},
   "outputs": [
    {
     "data": {
      "text/html": [
       "<div>\n",
       "<style scoped>\n",
       "    .dataframe tbody tr th:only-of-type {\n",
       "        vertical-align: middle;\n",
       "    }\n",
       "\n",
       "    .dataframe tbody tr th {\n",
       "        vertical-align: top;\n",
       "    }\n",
       "\n",
       "    .dataframe thead th {\n",
       "        text-align: right;\n",
       "    }\n",
       "</style>\n",
       "<table border=\"1\" class=\"dataframe\">\n",
       "  <thead>\n",
       "    <tr style=\"text-align: right;\">\n",
       "      <th></th>\n",
       "      <th>neg</th>\n",
       "      <th>neu</th>\n",
       "      <th>pos</th>\n",
       "      <th>compound</th>\n",
       "      <th>label</th>\n",
       "      <th>total</th>\n",
       "    </tr>\n",
       "  </thead>\n",
       "  <tbody>\n",
       "    <tr>\n",
       "      <th>count</th>\n",
       "      <td>482.000000</td>\n",
       "      <td>482.000000</td>\n",
       "      <td>482.000000</td>\n",
       "      <td>482.000000</td>\n",
       "      <td>482.000000</td>\n",
       "      <td>482.000000</td>\n",
       "    </tr>\n",
       "    <tr>\n",
       "      <th>mean</th>\n",
       "      <td>0.053651</td>\n",
       "      <td>0.832114</td>\n",
       "      <td>0.114222</td>\n",
       "      <td>0.465431</td>\n",
       "      <td>0.570539</td>\n",
       "      <td>0.079615</td>\n",
       "    </tr>\n",
       "    <tr>\n",
       "      <th>std</th>\n",
       "      <td>0.047085</td>\n",
       "      <td>0.085286</td>\n",
       "      <td>0.075340</td>\n",
       "      <td>0.585348</td>\n",
       "      <td>0.792509</td>\n",
       "      <td>0.135607</td>\n",
       "    </tr>\n",
       "    <tr>\n",
       "      <th>min</th>\n",
       "      <td>0.000000</td>\n",
       "      <td>0.472000</td>\n",
       "      <td>0.000000</td>\n",
       "      <td>-0.996900</td>\n",
       "      <td>-1.000000</td>\n",
       "      <td>-0.533742</td>\n",
       "    </tr>\n",
       "    <tr>\n",
       "      <th>25%</th>\n",
       "      <td>0.018250</td>\n",
       "      <td>0.784000</td>\n",
       "      <td>0.067000</td>\n",
       "      <td>0.089850</td>\n",
       "      <td>1.000000</td>\n",
       "      <td>0.004682</td>\n",
       "    </tr>\n",
       "    <tr>\n",
       "      <th>50%</th>\n",
       "      <td>0.047000</td>\n",
       "      <td>0.838000</td>\n",
       "      <td>0.105000</td>\n",
       "      <td>0.732650</td>\n",
       "      <td>1.000000</td>\n",
       "      <td>0.063924</td>\n",
       "    </tr>\n",
       "    <tr>\n",
       "      <th>75%</th>\n",
       "      <td>0.078750</td>\n",
       "      <td>0.887750</td>\n",
       "      <td>0.147750</td>\n",
       "      <td>0.936600</td>\n",
       "      <td>1.000000</td>\n",
       "      <td>0.127647</td>\n",
       "    </tr>\n",
       "    <tr>\n",
       "      <th>max</th>\n",
       "      <td>0.348000</td>\n",
       "      <td>1.000000</td>\n",
       "      <td>0.528000</td>\n",
       "      <td>0.999800</td>\n",
       "      <td>1.000000</td>\n",
       "      <td>1.118644</td>\n",
       "    </tr>\n",
       "  </tbody>\n",
       "</table>\n",
       "</div>"
      ],
      "text/plain": [
       "              neg         neu         pos    compound       label       total\n",
       "count  482.000000  482.000000  482.000000  482.000000  482.000000  482.000000\n",
       "mean     0.053651    0.832114    0.114222    0.465431    0.570539    0.079615\n",
       "std      0.047085    0.085286    0.075340    0.585348    0.792509    0.135607\n",
       "min      0.000000    0.472000    0.000000   -0.996900   -1.000000   -0.533742\n",
       "25%      0.018250    0.784000    0.067000    0.089850    1.000000    0.004682\n",
       "50%      0.047000    0.838000    0.105000    0.732650    1.000000    0.063924\n",
       "75%      0.078750    0.887750    0.147750    0.936600    1.000000    0.127647\n",
       "max      0.348000    1.000000    0.528000    0.999800    1.000000    1.118644"
      ]
     },
     "execution_count": 316,
     "metadata": {},
     "output_type": "execute_result"
    }
   ],
   "source": [
    "sent.describe()"
   ]
  },
  {
   "cell_type": "code",
   "execution_count": 419,
   "id": "familiar-luther",
   "metadata": {},
   "outputs": [
    {
     "data": {
      "text/html": [
       "<div>\n",
       "<style scoped>\n",
       "    .dataframe tbody tr th:only-of-type {\n",
       "        vertical-align: middle;\n",
       "    }\n",
       "\n",
       "    .dataframe tbody tr th {\n",
       "        vertical-align: top;\n",
       "    }\n",
       "\n",
       "    .dataframe thead th {\n",
       "        text-align: right;\n",
       "    }\n",
       "</style>\n",
       "<table border=\"1\" class=\"dataframe\">\n",
       "  <thead>\n",
       "    <tr style=\"text-align: right;\">\n",
       "      <th></th>\n",
       "      <th>neg</th>\n",
       "      <th>neu</th>\n",
       "      <th>pos</th>\n",
       "      <th>compound</th>\n",
       "      <th>selftext</th>\n",
       "      <th>p_word_dict</th>\n",
       "      <th>n_word_dict</th>\n",
       "      <th>p_word</th>\n",
       "      <th>n_word</th>\n",
       "      <th>label</th>\n",
       "      <th>total</th>\n",
       "    </tr>\n",
       "  </thead>\n",
       "  <tbody>\n",
       "    <tr>\n",
       "      <th>28</th>\n",
       "      <td>0.0</td>\n",
       "      <td>1.0</td>\n",
       "      <td>0.0</td>\n",
       "      <td>0.0</td>\n",
       "      <td>mixture cash investment graduated year half ag...</td>\n",
       "      <td>{}</td>\n",
       "      <td>{}</td>\n",
       "      <td></td>\n",
       "      <td></td>\n",
       "      <td>0</td>\n",
       "      <td>0.0</td>\n",
       "    </tr>\n",
       "    <tr>\n",
       "      <th>48</th>\n",
       "      <td>0.0</td>\n",
       "      <td>1.0</td>\n",
       "      <td>0.0</td>\n",
       "      <td>0.0</td>\n",
       "      <td>federal reserve activity providing backstop am...</td>\n",
       "      <td>{}</td>\n",
       "      <td>{}</td>\n",
       "      <td></td>\n",
       "      <td></td>\n",
       "      <td>0</td>\n",
       "      <td>0.0</td>\n",
       "    </tr>\n",
       "    <tr>\n",
       "      <th>75</th>\n",
       "      <td>0.0</td>\n",
       "      <td>1.0</td>\n",
       "      <td>0.0</td>\n",
       "      <td>0.0</td>\n",
       "      <td>stimulus payment allegedly sent starting today...</td>\n",
       "      <td>{}</td>\n",
       "      <td>{}</td>\n",
       "      <td></td>\n",
       "      <td></td>\n",
       "      <td>0</td>\n",
       "      <td>0.0</td>\n",
       "    </tr>\n",
       "    <tr>\n",
       "      <th>80</th>\n",
       "      <td>0.0</td>\n",
       "      <td>1.0</td>\n",
       "      <td>0.0</td>\n",
       "      <td>0.0</td>\n",
       "      <td>assuming majority people arent going change in...</td>\n",
       "      <td>{}</td>\n",
       "      <td>{}</td>\n",
       "      <td></td>\n",
       "      <td></td>\n",
       "      <td>0</td>\n",
       "      <td>0.0</td>\n",
       "    </tr>\n",
       "    <tr>\n",
       "      <th>123</th>\n",
       "      <td>0.0</td>\n",
       "      <td>1.0</td>\n",
       "      <td>0.0</td>\n",
       "      <td>0.0</td>\n",
       "      <td>talking getting first property comment complet...</td>\n",
       "      <td>{}</td>\n",
       "      <td>{}</td>\n",
       "      <td></td>\n",
       "      <td></td>\n",
       "      <td>0</td>\n",
       "      <td>0.0</td>\n",
       "    </tr>\n",
       "  </tbody>\n",
       "</table>\n",
       "</div>"
      ],
      "text/plain": [
       "     neg  neu  pos  compound  \\\n",
       "28   0.0  1.0  0.0       0.0   \n",
       "48   0.0  1.0  0.0       0.0   \n",
       "75   0.0  1.0  0.0       0.0   \n",
       "80   0.0  1.0  0.0       0.0   \n",
       "123  0.0  1.0  0.0       0.0   \n",
       "\n",
       "                                              selftext p_word_dict  \\\n",
       "28   mixture cash investment graduated year half ag...          {}   \n",
       "48   federal reserve activity providing backstop am...          {}   \n",
       "75   stimulus payment allegedly sent starting today...          {}   \n",
       "80   assuming majority people arent going change in...          {}   \n",
       "123  talking getting first property comment complet...          {}   \n",
       "\n",
       "    n_word_dict p_word n_word  label  total  \n",
       "28           {}                    0    0.0  \n",
       "48           {}                    0    0.0  \n",
       "75           {}                    0    0.0  \n",
       "80           {}                    0    0.0  \n",
       "123          {}                    0    0.0  "
      ]
     },
     "execution_count": 419,
     "metadata": {},
     "output_type": "execute_result"
    }
   ],
   "source": [
    "sent[sent.label==0].head(5)"
   ]
  },
  {
   "cell_type": "code",
   "execution_count": 408,
   "id": "deluxe-processing",
   "metadata": {},
   "outputs": [
    {
     "data": {
      "text/plain": [
       "(array([ 92.,   0.,   0.,   0.,   0.,  23.,   0.,   0.,   0., 367.]),\n",
       " array([-1. , -0.8, -0.6, -0.4, -0.2,  0. ,  0.2,  0.4,  0.6,  0.8,  1. ]),\n",
       " <a list of 10 Patch objects>)"
      ]
     },
     "execution_count": 408,
     "metadata": {},
     "output_type": "execute_result"
    },
    {
     "data": {
      "image/png": "[encoded data removed]",
      "text/plain": [
       "<Figure size 432x288 with 1 Axes>"
      ]
     },
     "metadata": {
      "needs_background": "light"
     },
     "output_type": "display_data"
    }
   ],
   "source": [
    "plt.hist(sent.label)"
   ]
  },
  {
   "cell_type": "code",
   "execution_count": 407,
   "id": "second-potential",
   "metadata": {},
   "outputs": [
    {
     "data": {
      "text/plain": [
       "(array([  1.,   4.,  52., 303.,  99.,  13.,   7.,   2.,   0.,   1.]),\n",
       " array([-0.53374233, -0.36850369, -0.20326505, -0.03802641,  0.12721223,\n",
       "         0.29245087,  0.45768951,  0.62292815,  0.78816679,  0.95340543,\n",
       "         1.11864407]),\n",
       " <a list of 10 Patch objects>)"
      ]
     },
     "execution_count": 407,
     "metadata": {},
     "output_type": "execute_result"
    },
    {
     "data": {
      "image/png": "[encoded data removed]",
      "text/plain": [
       "<Figure size 432x288 with 1 Axes>"
      ]
     },
     "metadata": {
      "needs_background": "light"
     },
     "output_type": "display_data"
    }
   ],
   "source": [
    "plt.hist(sent.total) #approximatly normal"
   ]
  },
  {
   "cell_type": "code",
   "execution_count": 318,
   "id": "awful-analysis",
   "metadata": {},
   "outputs": [
    {
     "data": {
      "text/html": [
       "<div>\n",
       "<style scoped>\n",
       "    .dataframe tbody tr th:only-of-type {\n",
       "        vertical-align: middle;\n",
       "    }\n",
       "\n",
       "    .dataframe tbody tr th {\n",
       "        vertical-align: top;\n",
       "    }\n",
       "\n",
       "    .dataframe thead th {\n",
       "        text-align: right;\n",
       "    }\n",
       "</style>\n",
       "<table border=\"1\" class=\"dataframe\">\n",
       "  <thead>\n",
       "    <tr style=\"text-align: right;\">\n",
       "      <th></th>\n",
       "      <th>neg</th>\n",
       "      <th>neu</th>\n",
       "      <th>pos</th>\n",
       "      <th>compound</th>\n",
       "      <th>selftext</th>\n",
       "      <th>word_list</th>\n",
       "      <th>word</th>\n",
       "      <th>label</th>\n",
       "      <th>total</th>\n",
       "    </tr>\n",
       "  </thead>\n",
       "  <tbody>\n",
       "    <tr>\n",
       "      <th>338</th>\n",
       "      <td>0.000</td>\n",
       "      <td>0.472</td>\n",
       "      <td>0.528</td>\n",
       "      <td>0.8834</td>\n",
       "      <td>I'm feeling like a pretty good older sister an...</td>\n",
       "      <td>{'feeling': 0.5, 'like': 1.5, 'pretty': 2.2, '...</td>\n",
       "      <td>feeling like pretty good share</td>\n",
       "      <td>1</td>\n",
       "      <td>1.118644</td>\n",
       "    </tr>\n",
       "    <tr>\n",
       "      <th>38</th>\n",
       "      <td>0.000</td>\n",
       "      <td>0.563</td>\n",
       "      <td>0.437</td>\n",
       "      <td>0.7178</td>\n",
       "      <td>For me I will be retiring to a more stable cou...</td>\n",
       "      <td>{'stable': 1.4929999999999999, 'protects': 1.3...</td>\n",
       "      <td>stable protects freedoms</td>\n",
       "      <td>1</td>\n",
       "      <td>0.776199</td>\n",
       "    </tr>\n",
       "    <tr>\n",
       "      <th>436</th>\n",
       "      <td>0.000</td>\n",
       "      <td>0.584</td>\n",
       "      <td>0.416</td>\n",
       "      <td>0.9832</td>\n",
       "      <td>Today I love to share a FREE training that mak...</td>\n",
       "      <td>{'love': 3.2, 'share': 1.2, 'FREE': 3.033, 'ea...</td>\n",
       "      <td>love share FREE easy profitable credit :)</td>\n",
       "      <td>1</td>\n",
       "      <td>0.712329</td>\n",
       "    </tr>\n",
       "    <tr>\n",
       "      <th>168</th>\n",
       "      <td>0.000</td>\n",
       "      <td>0.617</td>\n",
       "      <td>0.383</td>\n",
       "      <td>0.6369</td>\n",
       "      <td>Interesting image I want to share with you all...</td>\n",
       "      <td>{'Interesting': 1.7, 'want': 0.3, 'share': 1.2}</td>\n",
       "      <td>Interesting want share</td>\n",
       "      <td>1</td>\n",
       "      <td>0.620746</td>\n",
       "    </tr>\n",
       "    <tr>\n",
       "      <th>197</th>\n",
       "      <td>0.000</td>\n",
       "      <td>0.626</td>\n",
       "      <td>0.374</td>\n",
       "      <td>0.9538</td>\n",
       "      <td>It's very rudimentary - the calculations are b...</td>\n",
       "      <td>{'welcome': 3.0, 'improve': 2.8499999999999996...</td>\n",
       "      <td>welcome improve like curious</td>\n",
       "      <td>1</td>\n",
       "      <td>0.597444</td>\n",
       "    </tr>\n",
       "    <tr>\n",
       "      <th>...</th>\n",
       "      <td>...</td>\n",
       "      <td>...</td>\n",
       "      <td>...</td>\n",
       "      <td>...</td>\n",
       "      <td>...</td>\n",
       "      <td>...</td>\n",
       "      <td>...</td>\n",
       "      <td>...</td>\n",
       "      <td>...</td>\n",
       "    </tr>\n",
       "    <tr>\n",
       "      <th>127</th>\n",
       "      <td>0.178</td>\n",
       "      <td>0.822</td>\n",
       "      <td>0.000</td>\n",
       "      <td>-0.3818</td>\n",
       "      <td>My attempt. A  documentation of a \\~1.5y old f...</td>\n",
       "      <td>{'fight': -1.6}</td>\n",
       "      <td>fight</td>\n",
       "      <td>-1</td>\n",
       "      <td>-0.216545</td>\n",
       "    </tr>\n",
       "    <tr>\n",
       "      <th>264</th>\n",
       "      <td>0.178</td>\n",
       "      <td>0.822</td>\n",
       "      <td>0.000</td>\n",
       "      <td>-0.9562</td>\n",
       "      <td>I realize I'm probably misguided, but this is ...</td>\n",
       "      <td>{'wise': -2.331, 'risk': -1.6500000000000001, ...</td>\n",
       "      <td>wise risk like wrong</td>\n",
       "      <td>-1</td>\n",
       "      <td>-0.216545</td>\n",
       "    </tr>\n",
       "    <tr>\n",
       "      <th>40</th>\n",
       "      <td>0.182</td>\n",
       "      <td>0.818</td>\n",
       "      <td>0.000</td>\n",
       "      <td>-0.4404</td>\n",
       "      <td>When you have enough money to do almost anythi...</td>\n",
       "      <td>{'worry': -1.9}</td>\n",
       "      <td>worry</td>\n",
       "      <td>-1</td>\n",
       "      <td>-0.222494</td>\n",
       "    </tr>\n",
       "    <tr>\n",
       "      <th>456</th>\n",
       "      <td>0.207</td>\n",
       "      <td>0.793</td>\n",
       "      <td>0.000</td>\n",
       "      <td>-0.4824</td>\n",
       "      <td>What is you view on investing in the stock ma...</td>\n",
       "      <td>{'FIRE': -2.133}</td>\n",
       "      <td>FIRE</td>\n",
       "      <td>-1</td>\n",
       "      <td>-0.261034</td>\n",
       "    </tr>\n",
       "    <tr>\n",
       "      <th>357</th>\n",
       "      <td>0.348</td>\n",
       "      <td>0.652</td>\n",
       "      <td>0.000</td>\n",
       "      <td>-0.9524</td>\n",
       "      <td>None of us had a “zero” balance start. Hell, m...</td>\n",
       "      <td>{'Hell': -3.6, 'fuck': -2.5, 'bad': -2.5, 'con...</td>\n",
       "      <td>Hell fuck bad contradictory fucks</td>\n",
       "      <td>-1</td>\n",
       "      <td>-0.533742</td>\n",
       "    </tr>\n",
       "  </tbody>\n",
       "</table>\n",
       "<p>482 rows × 9 columns</p>\n",
       "</div>"
      ],
      "text/plain": [
       "       neg    neu    pos  compound  \\\n",
       "338  0.000  0.472  0.528    0.8834   \n",
       "38   0.000  0.563  0.437    0.7178   \n",
       "436  0.000  0.584  0.416    0.9832   \n",
       "168  0.000  0.617  0.383    0.6369   \n",
       "197  0.000  0.626  0.374    0.9538   \n",
       "..     ...    ...    ...       ...   \n",
       "127  0.178  0.822  0.000   -0.3818   \n",
       "264  0.178  0.822  0.000   -0.9562   \n",
       "40   0.182  0.818  0.000   -0.4404   \n",
       "456  0.207  0.793  0.000   -0.4824   \n",
       "357  0.348  0.652  0.000   -0.9524   \n",
       "\n",
       "                                              selftext  \\\n",
       "338  I'm feeling like a pretty good older sister an...   \n",
       "38   For me I will be retiring to a more stable cou...   \n",
       "436  Today I love to share a FREE training that mak...   \n",
       "168  Interesting image I want to share with you all...   \n",
       "197  It's very rudimentary - the calculations are b...   \n",
       "..                                                 ...   \n",
       "127  My attempt. A  documentation of a \\~1.5y old f...   \n",
       "264  I realize I'm probably misguided, but this is ...   \n",
       "40   When you have enough money to do almost anythi...   \n",
       "456   What is you view on investing in the stock ma...   \n",
       "357  None of us had a “zero” balance start. Hell, m...   \n",
       "\n",
       "                                             word_list  \\\n",
       "338  {'feeling': 0.5, 'like': 1.5, 'pretty': 2.2, '...   \n",
       "38   {'stable': 1.4929999999999999, 'protects': 1.3...   \n",
       "436  {'love': 3.2, 'share': 1.2, 'FREE': 3.033, 'ea...   \n",
       "168    {'Interesting': 1.7, 'want': 0.3, 'share': 1.2}   \n",
       "197  {'welcome': 3.0, 'improve': 2.8499999999999996...   \n",
       "..                                                 ...   \n",
       "127                                    {'fight': -1.6}   \n",
       "264  {'wise': -2.331, 'risk': -1.6500000000000001, ...   \n",
       "40                                     {'worry': -1.9}   \n",
       "456                                   {'FIRE': -2.133}   \n",
       "357  {'Hell': -3.6, 'fuck': -2.5, 'bad': -2.5, 'con...   \n",
       "\n",
       "                                          word  label     total  \n",
       "338             feeling like pretty good share      1  1.118644  \n",
       "38                    stable protects freedoms      1  0.776199  \n",
       "436  love share FREE easy profitable credit :)      1  0.712329  \n",
       "168                     Interesting want share      1  0.620746  \n",
       "197               welcome improve like curious      1  0.597444  \n",
       "..                                         ...    ...       ...  \n",
       "127                                      fight     -1 -0.216545  \n",
       "264                       wise risk like wrong     -1 -0.216545  \n",
       "40                                       worry     -1 -0.222494  \n",
       "456                                       FIRE     -1 -0.261034  \n",
       "357          Hell fuck bad contradictory fucks     -1 -0.533742  \n",
       "\n",
       "[482 rows x 9 columns]"
      ]
     },
     "execution_count": 318,
     "metadata": {},
     "output_type": "execute_result"
    }
   ],
   "source": [
    "sent.sort_values(by='total',ascending=False)"
   ]
  },
  {
   "cell_type": "code",
   "execution_count": 319,
   "id": "agreed-start",
   "metadata": {},
   "outputs": [
    {
     "data": {
      "text/plain": [
       "'For me I will be retiring to a more stable country that protects freedoms.'"
      ]
     },
     "execution_count": 319,
     "metadata": {},
     "output_type": "execute_result"
    }
   ],
   "source": [
    "sent['selftext'][38]"
   ]
  },
  {
   "cell_type": "markdown",
   "id": "permanent-furniture",
   "metadata": {},
   "source": [
    "## Sentiment Word Contribution"
   ]
  },
  {
   "cell_type": "code",
   "execution_count": 367,
   "id": "respected-venezuela",
   "metadata": {},
   "outputs": [
    {
     "data": {
      "text/plain": [
       "1.5"
      ]
     },
     "execution_count": 367,
     "metadata": {},
     "output_type": "execute_result"
    }
   ],
   "source": [
    "all_words=SIA.make_lex_dict(sia)\n",
    "all_words['like'] #not perfectly match all_words due to punctuation amplifier"
   ]
  },
  {
   "cell_type": "code",
   "execution_count": 368,
   "id": "korean-russell",
   "metadata": {},
   "outputs": [
    {
     "data": {
      "text/plain": [
       "{'sure': 0.65,\n",
       " 'want': 0.44999999999999996,\n",
       " 'scam': 2.997,\n",
       " 'like': 2.6895,\n",
       " 'love': 4.800000000000001}"
      ]
     },
     "execution_count": 368,
     "metadata": {},
     "output_type": "execute_result"
    }
   ],
   "source": [
    "sent.p_word_dict[sent['label']==1][0]"
   ]
  },
  {
   "cell_type": "code",
   "execution_count": 381,
   "id": "blessed-physics",
   "metadata": {},
   "outputs": [],
   "source": [
    "positive=sent.p_word[sent['label']==1] #positive words in positive post\n",
    "negative=sent.n_word[sent['label']==-1] #negative words in negative post"
   ]
  },
  {
   "cell_type": "code",
   "execution_count": 377,
   "id": "quantitative-acoustic",
   "metadata": {},
   "outputs": [],
   "source": [
    "# List of all words across rows\n",
    "import itertools\n",
    "import collections\n",
    "def count_words(text):\n",
    "    all_words = list(itertools.chain(*text.str.split()))\n",
    "    counts = collections.Counter(all_words)\n",
    "    counts_df = pd.DataFrame(counts.most_common(100),\n",
    "                            columns=['words', 'count'])\n",
    "\n",
    "    return counts_df"
   ]
  },
  {
   "cell_type": "code",
   "execution_count": 396,
   "id": "angry-jordan",
   "metadata": {},
   "outputs": [
    {
     "data": {
      "text/html": [
       "<div>\n",
       "<style scoped>\n",
       "    .dataframe tbody tr th:only-of-type {\n",
       "        vertical-align: middle;\n",
       "    }\n",
       "\n",
       "    .dataframe tbody tr th {\n",
       "        vertical-align: top;\n",
       "    }\n",
       "\n",
       "    .dataframe thead th {\n",
       "        text-align: right;\n",
       "    }\n",
       "</style>\n",
       "<table border=\"1\" class=\"dataframe\">\n",
       "  <thead>\n",
       "    <tr style=\"text-align: right;\">\n",
       "      <th></th>\n",
       "      <th>words</th>\n",
       "      <th>count</th>\n",
       "    </tr>\n",
       "  </thead>\n",
       "  <tbody>\n",
       "    <tr>\n",
       "      <th>0</th>\n",
       "      <td>like</td>\n",
       "      <td>143</td>\n",
       "    </tr>\n",
       "    <tr>\n",
       "      <th>1</th>\n",
       "      <td>want</td>\n",
       "      <td>81</td>\n",
       "    </tr>\n",
       "    <tr>\n",
       "      <th>2</th>\n",
       "      <td>good</td>\n",
       "      <td>67</td>\n",
       "    </tr>\n",
       "    <tr>\n",
       "      <th>3</th>\n",
       "      <td>better</td>\n",
       "      <td>59</td>\n",
       "    </tr>\n",
       "    <tr>\n",
       "      <th>4</th>\n",
       "      <td>worth</td>\n",
       "      <td>47</td>\n",
       "    </tr>\n",
       "    <tr>\n",
       "      <th>0</th>\n",
       "      <td>FIRE</td>\n",
       "      <td>27</td>\n",
       "    </tr>\n",
       "    <tr>\n",
       "      <th>1</th>\n",
       "      <td>pay</td>\n",
       "      <td>21</td>\n",
       "    </tr>\n",
       "    <tr>\n",
       "      <th>2</th>\n",
       "      <td>no</td>\n",
       "      <td>19</td>\n",
       "    </tr>\n",
       "    <tr>\n",
       "      <th>3</th>\n",
       "      <td>debt</td>\n",
       "      <td>12</td>\n",
       "    </tr>\n",
       "    <tr>\n",
       "      <th>4</th>\n",
       "      <td>low</td>\n",
       "      <td>10</td>\n",
       "    </tr>\n",
       "  </tbody>\n",
       "</table>\n",
       "</div>"
      ],
      "text/plain": [
       "    words  count\n",
       "0    like    143\n",
       "1    want     81\n",
       "2    good     67\n",
       "3  better     59\n",
       "4   worth     47\n",
       "0    FIRE     27\n",
       "1     pay     21\n",
       "2      no     19\n",
       "3    debt     12\n",
       "4     low     10"
      ]
     },
     "execution_count": 396,
     "metadata": {},
     "output_type": "execute_result"
    }
   ],
   "source": [
    "p_n=pd.concat([count_words(positive)[:5],count_words(negative)[:5]])\n",
    "#count_words(positive).head(15)\n",
    "#count_words(negative).head(15)\n",
    "p_n"
   ]
  },
  {
   "cell_type": "code",
   "execution_count": 405,
   "id": "abstract-defensive",
   "metadata": {},
   "outputs": [
    {
     "data": {
      "application/vnd.plotly.v1+json": {
       "config": {
        "plotlyServerURL": "https://plotly.com"
       },
       "data": [
        {
         "marker": {
          "color": [
           "crimson",
           "crimson",
           "crimson",
           "crimson",
           "crimson"
          ]
         },
         "type": "bar",
         "x": [
          "like",
          "want",
          "good",
          "better",
          "worth",
          "FIRE",
          "pay",
          "no",
          "debt",
          "low"
         ],
         "y": [
          143,
          81,
          67,
          59,
          47,
          27,
          21,
          19,
          12,
          10
         ]
        }
       ],
       "layout": {
        "template": {
         "data": {
          "bar": [
           {
            "error_x": {
             "color": "#2a3f5f"
            },
            "error_y": {
             "color": "#2a3f5f"
            },
            "marker": {
             "line": {
              "color": "#E5ECF6",
              "width": 0.5
             }
            },
            "type": "bar"
           }
          ],
          "barpolar": [
           {
            "marker": {
             "line": {
              "color": "#E5ECF6",
              "width": 0.5
             }
            },
            "type": "barpolar"
           }
          ],
          "carpet": [
           {
            "aaxis": {
             "endlinecolor": "#2a3f5f",
             "gridcolor": "white",
             "linecolor": "white",
             "minorgridcolor": "white",
             "startlinecolor": "#2a3f5f"
            },
            "baxis": {
             "endlinecolor": "#2a3f5f",
             "gridcolor": "white",
             "linecolor": "white",
             "minorgridcolor": "white",
             "startlinecolor": "#2a3f5f"
            },
            "type": "carpet"
           }
          ],
          "choropleth": [
           {
            "colorbar": {
             "outlinewidth": 0,
             "ticks": ""
            },
            "type": "choropleth"
           }
          ],
          "contour": [
           {
            "colorbar": {
             "outlinewidth": 0,
             "ticks": ""
            },
            "colorscale": [
             [
              0,
              "#0d0887"
             ],
             [
              0.1111111111111111,
              "#46039f"
             ],
             [
              0.2222222222222222,
              "#7201a8"
             ],
             [
              0.3333333333333333,
              "#9c179e"
             ],
             [
              0.4444444444444444,
              "#bd3786"
             ],
             [
              0.5555555555555556,
              "#d8576b"
             ],
             [
              0.6666666666666666,
              "#ed7953"
             ],
             [
              0.7777777777777778,
              "#fb9f3a"
             ],
             [
              0.8888888888888888,
              "#fdca26"
             ],
             [
              1,
              "#f0f921"
             ]
            ],
            "type": "contour"
           }
          ],
          "contourcarpet": [
           {
            "colorbar": {
             "outlinewidth": 0,
             "ticks": ""
            },
            "type": "contourcarpet"
           }
          ],
          "heatmap": [
           {
            "colorbar": {
             "outlinewidth": 0,
             "ticks": ""
            },
            "colorscale": [
             [
              0,
              "#0d0887"
             ],
             [
              0.1111111111111111,
              "#46039f"
             ],
             [
              0.2222222222222222,
              "#7201a8"
             ],
             [
              0.3333333333333333,
              "#9c179e"
             ],
             [
              0.4444444444444444,
              "#bd3786"
             ],
             [
              0.5555555555555556,
              "#d8576b"
             ],
             [
              0.6666666666666666,
              "#ed7953"
             ],
             [
              0.7777777777777778,
              "#fb9f3a"
             ],
             [
              0.8888888888888888,
              "#fdca26"
             ],
             [
              1,
              "#f0f921"
             ]
            ],
            "type": "heatmap"
           }
          ],
          "heatmapgl": [
           {
            "colorbar": {
             "outlinewidth": 0,
             "ticks": ""
            },
            "colorscale": [
             [
              0,
              "#0d0887"
             ],
             [
              0.1111111111111111,
              "#46039f"
             ],
             [
              0.2222222222222222,
              "#7201a8"
             ],
             [
              0.3333333333333333,
              "#9c179e"
             ],
             [
              0.4444444444444444,
              "#bd3786"
             ],
             [
              0.5555555555555556,
              "#d8576b"
             ],
             [
              0.6666666666666666,
              "#ed7953"
             ],
             [
              0.7777777777777778,
              "#fb9f3a"
             ],
             [
              0.8888888888888888,
              "#fdca26"
             ],
             [
              1,
              "#f0f921"
             ]
            ],
            "type": "heatmapgl"
           }
          ],
          "histogram": [
           {
            "marker": {
             "colorbar": {
              "outlinewidth": 0,
              "ticks": ""
             }
            },
            "type": "histogram"
           }
          ],
          "histogram2d": [
           {
            "colorbar": {
             "outlinewidth": 0,
             "ticks": ""
            },
            "colorscale": [
             [
              0,
              "#0d0887"
             ],
             [
              0.1111111111111111,
              "#46039f"
             ],
             [
              0.2222222222222222,
              "#7201a8"
             ],
             [
              0.3333333333333333,
              "#9c179e"
             ],
             [
              0.4444444444444444,
              "#bd3786"
             ],
             [
              0.5555555555555556,
              "#d8576b"
             ],
             [
              0.6666666666666666,
              "#ed7953"
             ],
             [
              0.7777777777777778,
              "#fb9f3a"
             ],
             [
              0.8888888888888888,
              "#fdca26"
             ],
             [
              1,
              "#f0f921"
             ]
            ],
            "type": "histogram2d"
           }
          ],
          "histogram2dcontour": [
           {
            "colorbar": {
             "outlinewidth": 0,
             "ticks": ""
            },
            "colorscale": [
             [
              0,
              "#0d0887"
             ],
             [
              0.1111111111111111,
              "#46039f"
             ],
             [
              0.2222222222222222,
              "#7201a8"
             ],
             [
              0.3333333333333333,
              "#9c179e"
             ],
             [
              0.4444444444444444,
              "#bd3786"
             ],
             [
              0.5555555555555556,
              "#d8576b"
             ],
             [
              0.6666666666666666,
              "#ed7953"
             ],
             [
              0.7777777777777778,
              "#fb9f3a"
             ],
             [
              0.8888888888888888,
              "#fdca26"
             ],
             [
              1,
              "#f0f921"
             ]
            ],
            "type": "histogram2dcontour"
           }
          ],
          "mesh3d": [
           {
            "colorbar": {
             "outlinewidth": 0,
             "ticks": ""
            },
            "type": "mesh3d"
           }
          ],
          "parcoords": [
           {
            "line": {
             "colorbar": {
              "outlinewidth": 0,
              "ticks": ""
             }
            },
            "type": "parcoords"
           }
          ],
          "pie": [
           {
            "automargin": true,
            "type": "pie"
           }
          ],
          "scatter": [
           {
            "marker": {
             "colorbar": {
              "outlinewidth": 0,
              "ticks": ""
             }
            },
            "type": "scatter"
           }
          ],
          "scatter3d": [
           {
            "line": {
             "colorbar": {
              "outlinewidth": 0,
              "ticks": ""
             }
            },
            "marker": {
             "colorbar": {
              "outlinewidth": 0,
              "ticks": ""
             }
            },
            "type": "scatter3d"
           }
          ],
          "scattercarpet": [
           {
            "marker": {
             "colorbar": {
              "outlinewidth": 0,
              "ticks": ""
             }
            },
            "type": "scattercarpet"
           }
          ],
          "scattergeo": [
           {
            "marker": {
             "colorbar": {
              "outlinewidth": 0,
              "ticks": ""
             }
            },
            "type": "scattergeo"
           }
          ],
          "scattergl": [
           {
            "marker": {
             "colorbar": {
              "outlinewidth": 0,
              "ticks": ""
             }
            },
            "type": "scattergl"
           }
          ],
          "scattermapbox": [
           {
            "marker": {
             "colorbar": {
              "outlinewidth": 0,
              "ticks": ""
             }
            },
            "type": "scattermapbox"
           }
          ],
          "scatterpolar": [
           {
            "marker": {
             "colorbar": {
              "outlinewidth": 0,
              "ticks": ""
             }
            },
            "type": "scatterpolar"
           }
          ],
          "scatterpolargl": [
           {
            "marker": {
             "colorbar": {
              "outlinewidth": 0,
              "ticks": ""
             }
            },
            "type": "scatterpolargl"
           }
          ],
          "scatterternary": [
           {
            "marker": {
             "colorbar": {
              "outlinewidth": 0,
              "ticks": ""
             }
            },
            "type": "scatterternary"
           }
          ],
          "surface": [
           {
            "colorbar": {
             "outlinewidth": 0,
             "ticks": ""
            },
            "colorscale": [
             [
              0,
              "#0d0887"
             ],
             [
              0.1111111111111111,
              "#46039f"
             ],
             [
              0.2222222222222222,
              "#7201a8"
             ],
             [
              0.3333333333333333,
              "#9c179e"
             ],
             [
              0.4444444444444444,
              "#bd3786"
             ],
             [
              0.5555555555555556,
              "#d8576b"
             ],
             [
              0.6666666666666666,
              "#ed7953"
             ],
             [
              0.7777777777777778,
              "#fb9f3a"
             ],
             [
              0.8888888888888888,
              "#fdca26"
             ],
             [
              1,
              "#f0f921"
             ]
            ],
            "type": "surface"
           }
          ],
          "table": [
           {
            "cells": {
             "fill": {
              "color": "#EBF0F8"
             },
             "line": {
              "color": "white"
             }
            },
            "header": {
             "fill": {
              "color": "#C8D4E3"
             },
             "line": {
              "color": "white"
             }
            },
            "type": "table"
           }
          ]
         },
         "layout": {
          "annotationdefaults": {
           "arrowcolor": "#2a3f5f",
           "arrowhead": 0,
           "arrowwidth": 1
          },
          "autotypenumbers": "strict",
          "coloraxis": {
           "colorbar": {
            "outlinewidth": 0,
            "ticks": ""
           }
          },
          "colorscale": {
           "diverging": [
            [
             0,
             "#8e0152"
            ],
            [
             0.1,
             "#c51b7d"
            ],
            [
             0.2,
             "#de77ae"
            ],
            [
             0.3,
             "#f1b6da"
            ],
            [
             0.4,
             "#fde0ef"
            ],
            [
             0.5,
             "#f7f7f7"
            ],
            [
             0.6,
             "#e6f5d0"
            ],
            [
             0.7,
             "#b8e186"
            ],
            [
             0.8,
             "#7fbc41"
            ],
            [
             0.9,
             "#4d9221"
            ],
            [
             1,
             "#276419"
            ]
           ],
           "sequential": [
            [
             0,
             "#0d0887"
            ],
            [
             0.1111111111111111,
             "#46039f"
            ],
            [
             0.2222222222222222,
             "#7201a8"
            ],
            [
             0.3333333333333333,
             "#9c179e"
            ],
            [
             0.4444444444444444,
             "#bd3786"
            ],
            [
             0.5555555555555556,
             "#d8576b"
            ],
            [
             0.6666666666666666,
             "#ed7953"
            ],
            [
             0.7777777777777778,
             "#fb9f3a"
            ],
            [
             0.8888888888888888,
             "#fdca26"
            ],
            [
             1,
             "#f0f921"
            ]
           ],
           "sequentialminus": [
            [
             0,
             "#0d0887"
            ],
            [
             0.1111111111111111,
             "#46039f"
            ],
            [
             0.2222222222222222,
             "#7201a8"
            ],
            [
             0.3333333333333333,
             "#9c179e"
            ],
            [
             0.4444444444444444,
             "#bd3786"
            ],
            [
             0.5555555555555556,
             "#d8576b"
            ],
            [
             0.6666666666666666,
             "#ed7953"
            ],
            [
             0.7777777777777778,
             "#fb9f3a"
            ],
            [
             0.8888888888888888,
             "#fdca26"
            ],
            [
             1,
             "#f0f921"
            ]
           ]
          },
          "colorway": [
           "#636efa",
           "#EF553B",
           "#00cc96",
           "#ab63fa",
           "#FFA15A",
           "#19d3f3",
           "#FF6692",
           "#B6E880",
           "#FF97FF",
           "#FECB52"
          ],
          "font": {
           "color": "#2a3f5f"
          },
          "geo": {
           "bgcolor": "white",
           "lakecolor": "white",
           "landcolor": "#E5ECF6",
           "showlakes": true,
           "showland": true,
           "subunitcolor": "white"
          },
          "hoverlabel": {
           "align": "left"
          },
          "hovermode": "closest",
          "mapbox": {
           "style": "light"
          },
          "paper_bgcolor": "white",
          "plot_bgcolor": "#E5ECF6",
          "polar": {
           "angularaxis": {
            "gridcolor": "white",
            "linecolor": "white",
            "ticks": ""
           },
           "bgcolor": "#E5ECF6",
           "radialaxis": {
            "gridcolor": "white",
            "linecolor": "white",
            "ticks": ""
           }
          },
          "scene": {
           "xaxis": {
            "backgroundcolor": "#E5ECF6",
            "gridcolor": "white",
            "gridwidth": 2,
            "linecolor": "white",
            "showbackground": true,
            "ticks": "",
            "zerolinecolor": "white"
           },
           "yaxis": {
            "backgroundcolor": "#E5ECF6",
            "gridcolor": "white",
            "gridwidth": 2,
            "linecolor": "white",
            "showbackground": true,
            "ticks": "",
            "zerolinecolor": "white"
           },
           "zaxis": {
            "backgroundcolor": "#E5ECF6",
            "gridcolor": "white",
            "gridwidth": 2,
            "linecolor": "white",
            "showbackground": true,
            "ticks": "",
            "zerolinecolor": "white"
           }
          },
          "shapedefaults": {
           "line": {
            "color": "#2a3f5f"
           }
          },
          "ternary": {
           "aaxis": {
            "gridcolor": "white",
            "linecolor": "white",
            "ticks": ""
           },
           "baxis": {
            "gridcolor": "white",
            "linecolor": "white",
            "ticks": ""
           },
           "bgcolor": "#E5ECF6",
           "caxis": {
            "gridcolor": "white",
            "linecolor": "white",
            "ticks": ""
           }
          },
          "title": {
           "x": 0.05
          },
          "xaxis": {
           "automargin": true,
           "gridcolor": "white",
           "linecolor": "white",
           "ticks": "",
           "title": {
            "standoff": 15
           },
           "zerolinecolor": "white",
           "zerolinewidth": 2
          },
          "yaxis": {
           "automargin": true,
           "gridcolor": "white",
           "linecolor": "white",
           "ticks": "",
           "title": {
            "standoff": 15
           },
           "zerolinecolor": "white",
           "zerolinewidth": 2
          }
         }
        },
        "title": {
         "text": "Most common positive and negative sentiment words"
        }
       }
      },
      "text/html": [
       "<div>                            <div id=\"b2296a56-991d-4c09-8ee5-9f814fdc65ec\" class=\"plotly-graph-div\" style=\"height:525px; width:100%;\"></div>            <script type=\"text/javascript\">                require([\"plotly\"], function(Plotly) {                    window.PLOTLYENV=window.PLOTLYENV || {};                                    if (document.getElementById(\"b2296a56-991d-4c09-8ee5-9f814fdc65ec\")) {                    Plotly.newPlot(                        \"b2296a56-991d-4c09-8ee5-9f814fdc65ec\",                        [{\"marker\": {\"color\": [\"crimson\", \"crimson\", \"crimson\", \"crimson\", \"crimson\"]}, \"type\": \"bar\", \"x\": [\"like\", \"want\", \"good\", \"better\", \"worth\", \"FIRE\", \"pay\", \"no\", \"debt\", \"low\"], \"y\": [143, 81, 67, 59, 47, 27, 21, 19, 12, 10]}],                        {\"template\": {\"data\": {\"bar\": [{\"error_x\": {\"color\": \"#2a3f5f\"}, \"error_y\": {\"color\": \"#2a3f5f\"}, \"marker\": {\"line\": {\"color\": \"#E5ECF6\", \"width\": 0.5}}, \"type\": \"bar\"}], \"barpolar\": [{\"marker\": {\"line\": {\"color\": \"#E5ECF6\", \"width\": 0.5}}, \"type\": \"barpolar\"}], \"carpet\": [{\"aaxis\": {\"endlinecolor\": \"#2a3f5f\", \"gridcolor\": \"white\", \"linecolor\": \"white\", \"minorgridcolor\": \"white\", \"startlinecolor\": \"#2a3f5f\"}, \"baxis\": {\"endlinecolor\": \"#2a3f5f\", \"gridcolor\": \"white\", \"linecolor\": \"white\", \"minorgridcolor\": \"white\", \"startlinecolor\": \"#2a3f5f\"}, \"type\": \"carpet\"}], \"choropleth\": [{\"colorbar\": {\"outlinewidth\": 0, \"ticks\": \"\"}, \"type\": \"choropleth\"}], \"contour\": [{\"colorbar\": {\"outlinewidth\": 0, \"ticks\": \"\"}, \"colorscale\": [[0.0, \"#0d0887\"], [0.1111111111111111, \"#46039f\"], [0.2222222222222222, \"#7201a8\"], [0.3333333333333333, \"#9c179e\"], [0.4444444444444444, \"#bd3786\"], [0.5555555555555556, \"#d8576b\"], [0.6666666666666666, \"#ed7953\"], [0.7777777777777778, \"#fb9f3a\"], [0.8888888888888888, \"#fdca26\"], [1.0, \"#f0f921\"]], \"type\": \"contour\"}], \"contourcarpet\": [{\"colorbar\": {\"outlinewidth\": 0, \"ticks\": \"\"}, \"type\": \"contourcarpet\"}], \"heatmap\": [{\"colorbar\": {\"outlinewidth\": 0, \"ticks\": \"\"}, \"colorscale\": [[0.0, \"#0d0887\"], [0.1111111111111111, \"#46039f\"], [0.2222222222222222, \"#7201a8\"], [0.3333333333333333, \"#9c179e\"], [0.4444444444444444, \"#bd3786\"], [0.5555555555555556, \"#d8576b\"], [0.6666666666666666, \"#ed7953\"], [0.7777777777777778, \"#fb9f3a\"], [0.8888888888888888, \"#fdca26\"], [1.0, \"#f0f921\"]], \"type\": \"heatmap\"}], \"heatmapgl\": [{\"colorbar\": {\"outlinewidth\": 0, \"ticks\": \"\"}, \"colorscale\": [[0.0, \"#0d0887\"], [0.1111111111111111, \"#46039f\"], [0.2222222222222222, \"#7201a8\"], [0.3333333333333333, \"#9c179e\"], [0.4444444444444444, \"#bd3786\"], [0.5555555555555556, \"#d8576b\"], [0.6666666666666666, \"#ed7953\"], [0.7777777777777778, \"#fb9f3a\"], [0.8888888888888888, \"#fdca26\"], [1.0, \"#f0f921\"]], \"type\": \"heatmapgl\"}], \"histogram\": [{\"marker\": {\"colorbar\": {\"outlinewidth\": 0, \"ticks\": \"\"}}, \"type\": \"histogram\"}], \"histogram2d\": [{\"colorbar\": {\"outlinewidth\": 0, \"ticks\": \"\"}, \"colorscale\": [[0.0, \"#0d0887\"], [0.1111111111111111, \"#46039f\"], [0.2222222222222222, \"#7201a8\"], [0.3333333333333333, \"#9c179e\"], [0.4444444444444444, \"#bd3786\"], [0.5555555555555556, \"#d8576b\"], [0.6666666666666666, \"#ed7953\"], [0.7777777777777778, \"#fb9f3a\"], [0.8888888888888888, \"#fdca26\"], [1.0, \"#f0f921\"]], \"type\": \"histogram2d\"}], \"histogram2dcontour\": [{\"colorbar\": {\"outlinewidth\": 0, \"ticks\": \"\"}, \"colorscale\": [[0.0, \"#0d0887\"], [0.1111111111111111, \"#46039f\"], [0.2222222222222222, \"#7201a8\"], [0.3333333333333333, \"#9c179e\"], [0.4444444444444444, \"#bd3786\"], [0.5555555555555556, \"#d8576b\"], [0.6666666666666666, \"#ed7953\"], [0.7777777777777778, \"#fb9f3a\"], [0.8888888888888888, \"#fdca26\"], [1.0, \"#f0f921\"]], \"type\": \"histogram2dcontour\"}], \"mesh3d\": [{\"colorbar\": {\"outlinewidth\": 0, \"ticks\": \"\"}, \"type\": \"mesh3d\"}], \"parcoords\": [{\"line\": {\"colorbar\": {\"outlinewidth\": 0, \"ticks\": \"\"}}, \"type\": \"parcoords\"}], \"pie\": [{\"automargin\": true, \"type\": \"pie\"}], \"scatter\": [{\"marker\": {\"colorbar\": {\"outlinewidth\": 0, \"ticks\": \"\"}}, \"type\": \"scatter\"}], \"scatter3d\": [{\"line\": {\"colorbar\": {\"outlinewidth\": 0, \"ticks\": \"\"}}, \"marker\": {\"colorbar\": {\"outlinewidth\": 0, \"ticks\": \"\"}}, \"type\": \"scatter3d\"}], \"scattercarpet\": [{\"marker\": {\"colorbar\": {\"outlinewidth\": 0, \"ticks\": \"\"}}, \"type\": \"scattercarpet\"}], \"scattergeo\": [{\"marker\": {\"colorbar\": {\"outlinewidth\": 0, \"ticks\": \"\"}}, \"type\": \"scattergeo\"}], \"scattergl\": [{\"marker\": {\"colorbar\": {\"outlinewidth\": 0, \"ticks\": \"\"}}, \"type\": \"scattergl\"}], \"scattermapbox\": [{\"marker\": {\"colorbar\": {\"outlinewidth\": 0, \"ticks\": \"\"}}, \"type\": \"scattermapbox\"}], \"scatterpolar\": [{\"marker\": {\"colorbar\": {\"outlinewidth\": 0, \"ticks\": \"\"}}, \"type\": \"scatterpolar\"}], \"scatterpolargl\": [{\"marker\": {\"colorbar\": {\"outlinewidth\": 0, \"ticks\": \"\"}}, \"type\": \"scatterpolargl\"}], \"scatterternary\": [{\"marker\": {\"colorbar\": {\"outlinewidth\": 0, \"ticks\": \"\"}}, \"type\": \"scatterternary\"}], \"surface\": [{\"colorbar\": {\"outlinewidth\": 0, \"ticks\": \"\"}, \"colorscale\": [[0.0, \"#0d0887\"], [0.1111111111111111, \"#46039f\"], [0.2222222222222222, \"#7201a8\"], [0.3333333333333333, \"#9c179e\"], [0.4444444444444444, \"#bd3786\"], [0.5555555555555556, \"#d8576b\"], [0.6666666666666666, \"#ed7953\"], [0.7777777777777778, \"#fb9f3a\"], [0.8888888888888888, \"#fdca26\"], [1.0, \"#f0f921\"]], \"type\": \"surface\"}], \"table\": [{\"cells\": {\"fill\": {\"color\": \"#EBF0F8\"}, \"line\": {\"color\": \"white\"}}, \"header\": {\"fill\": {\"color\": \"#C8D4E3\"}, \"line\": {\"color\": \"white\"}}, \"type\": \"table\"}]}, \"layout\": {\"annotationdefaults\": {\"arrowcolor\": \"#2a3f5f\", \"arrowhead\": 0, \"arrowwidth\": 1}, \"autotypenumbers\": \"strict\", \"coloraxis\": {\"colorbar\": {\"outlinewidth\": 0, \"ticks\": \"\"}}, \"colorscale\": {\"diverging\": [[0, \"#8e0152\"], [0.1, \"#c51b7d\"], [0.2, \"#de77ae\"], [0.3, \"#f1b6da\"], [0.4, \"#fde0ef\"], [0.5, \"#f7f7f7\"], [0.6, \"#e6f5d0\"], [0.7, \"#b8e186\"], [0.8, \"#7fbc41\"], [0.9, \"#4d9221\"], [1, \"#276419\"]], \"sequential\": [[0.0, \"#0d0887\"], [0.1111111111111111, \"#46039f\"], [0.2222222222222222, \"#7201a8\"], [0.3333333333333333, \"#9c179e\"], [0.4444444444444444, \"#bd3786\"], [0.5555555555555556, \"#d8576b\"], [0.6666666666666666, \"#ed7953\"], [0.7777777777777778, \"#fb9f3a\"], [0.8888888888888888, \"#fdca26\"], [1.0, \"#f0f921\"]], \"sequentialminus\": [[0.0, \"#0d0887\"], [0.1111111111111111, \"#46039f\"], [0.2222222222222222, \"#7201a8\"], [0.3333333333333333, \"#9c179e\"], [0.4444444444444444, \"#bd3786\"], [0.5555555555555556, \"#d8576b\"], [0.6666666666666666, \"#ed7953\"], [0.7777777777777778, \"#fb9f3a\"], [0.8888888888888888, \"#fdca26\"], [1.0, \"#f0f921\"]]}, \"colorway\": [\"#636efa\", \"#EF553B\", \"#00cc96\", \"#ab63fa\", \"#FFA15A\", \"#19d3f3\", \"#FF6692\", \"#B6E880\", \"#FF97FF\", \"#FECB52\"], \"font\": {\"color\": \"#2a3f5f\"}, \"geo\": {\"bgcolor\": \"white\", \"lakecolor\": \"white\", \"landcolor\": \"#E5ECF6\", \"showlakes\": true, \"showland\": true, \"subunitcolor\": \"white\"}, \"hoverlabel\": {\"align\": \"left\"}, \"hovermode\": \"closest\", \"mapbox\": {\"style\": \"light\"}, \"paper_bgcolor\": \"white\", \"plot_bgcolor\": \"#E5ECF6\", \"polar\": {\"angularaxis\": {\"gridcolor\": \"white\", \"linecolor\": \"white\", \"ticks\": \"\"}, \"bgcolor\": \"#E5ECF6\", \"radialaxis\": {\"gridcolor\": \"white\", \"linecolor\": \"white\", \"ticks\": \"\"}}, \"scene\": {\"xaxis\": {\"backgroundcolor\": \"#E5ECF6\", \"gridcolor\": \"white\", \"gridwidth\": 2, \"linecolor\": \"white\", \"showbackground\": true, \"ticks\": \"\", \"zerolinecolor\": \"white\"}, \"yaxis\": {\"backgroundcolor\": \"#E5ECF6\", \"gridcolor\": \"white\", \"gridwidth\": 2, \"linecolor\": \"white\", \"showbackground\": true, \"ticks\": \"\", \"zerolinecolor\": \"white\"}, \"zaxis\": {\"backgroundcolor\": \"#E5ECF6\", \"gridcolor\": \"white\", \"gridwidth\": 2, \"linecolor\": \"white\", \"showbackground\": true, \"ticks\": \"\", \"zerolinecolor\": \"white\"}}, \"shapedefaults\": {\"line\": {\"color\": \"#2a3f5f\"}}, \"ternary\": {\"aaxis\": {\"gridcolor\": \"white\", \"linecolor\": \"white\", \"ticks\": \"\"}, \"baxis\": {\"gridcolor\": \"white\", \"linecolor\": \"white\", \"ticks\": \"\"}, \"bgcolor\": \"#E5ECF6\", \"caxis\": {\"gridcolor\": \"white\", \"linecolor\": \"white\", \"ticks\": \"\"}}, \"title\": {\"x\": 0.05}, \"xaxis\": {\"automargin\": true, \"gridcolor\": \"white\", \"linecolor\": \"white\", \"ticks\": \"\", \"title\": {\"standoff\": 15}, \"zerolinecolor\": \"white\", \"zerolinewidth\": 2}, \"yaxis\": {\"automargin\": true, \"gridcolor\": \"white\", \"linecolor\": \"white\", \"ticks\": \"\", \"title\": {\"standoff\": 15}, \"zerolinecolor\": \"white\", \"zerolinewidth\": 2}}}, \"title\": {\"text\": \"Most common positive and negative sentiment words\"}},                        {\"responsive\": true}                    ).then(function(){\n",
       "                            \n",
       "var gd = document.getElementById('b2296a56-991d-4c09-8ee5-9f814fdc65ec');\n",
       "var x = new MutationObserver(function (mutations, observer) {{\n",
       "        var display = window.getComputedStyle(gd).display;\n",
       "        if (!display || display === 'none') {{\n",
       "            console.log([gd, 'removed!']);\n",
       "            Plotly.purge(gd);\n",
       "            observer.disconnect();\n",
       "        }}\n",
       "}});\n",
       "\n",
       "// Listen for the removal of the full notebook cells\n",
       "var notebookContainer = gd.closest('#notebook-container');\n",
       "if (notebookContainer) {{\n",
       "    x.observe(notebookContainer, {childList: true});\n",
       "}}\n",
       "\n",
       "// Listen for the clearing of the current output cell\n",
       "var outputEl = gd.closest('.output');\n",
       "if (outputEl) {{\n",
       "    x.observe(outputEl, {childList: true});\n",
       "}}\n",
       "\n",
       "                        })                };                });            </script>        </div>"
      ]
     },
     "metadata": {},
     "output_type": "display_data"
    }
   ],
   "source": [
    "import plotly.graph_objects as go\n",
    "\n",
    "colors = ['lightslategray',] * 5\n",
    "colors = ['crimson',] * 5\n",
    "\n",
    "fig = go.Figure(data=[go.Bar(\n",
    "    x=p_n['words'],\n",
    "    y=p_n['count'],\n",
    "    marker_color=colors # marker color can be a single color value or an iterable\n",
    ")])\n",
    "fig.update_layout(title_text='Most common positive and negative sentiment words')"
   ]
  },
  {
   "cell_type": "markdown",
   "id": "coordinate-output",
   "metadata": {},
   "source": [
    "------------------------------------------------------------------------------------------"
   ]
  },
  {
   "cell_type": "markdown",
   "id": "received-procurement",
   "metadata": {},
   "source": [
    "## Word Frequency splitted by Sentiment"
   ]
  },
  {
   "cell_type": "code",
   "execution_count": 360,
   "id": "animal-accordance",
   "metadata": {},
   "outputs": [],
   "source": [
    "sent['selftext']=sent['selftext'].str.lower()\n",
    "def remove_emoji(text):\n",
    "    text = text.encode('ascii', 'ignore').decode()\n",
    "    return text\n",
    "\n",
    "sent['selftext']=sent['selftext'].apply(lambda x: remove_emoji(x))\n",
    "\n",
    "import re\n",
    "def remove_other(x):\n",
    "    x = re.sub(\"\\$\",\" \", x) #remove $\n",
    "    x = re.sub(\"https*\\S+\", \" \", x) #remove url\n",
    "    x = re.sub(\"\\'\\w+\", '', x) #remove i'm,we're,let's after the '\n",
    "    x = re.sub(\"[0-9]+\", '', x) #remove numbers\n",
    "    x = re.sub(\"\\n\",'', x)#remove newlines\n",
    "    return x\n",
    "\n",
    "sent['selftext']=sent['selftext'].apply(lambda x: remove_other(x))\n",
    "\n",
    "from nltk.corpus import stopwords\n",
    "#nltk.download(\"stopwords\") #uncomment it when run it for the first time\n",
    "stop_words = set(stopwords.words(\"english\"))\n",
    "\n",
    "def remove_stopwords(text):\n",
    "    text = \" \".join([word for word in text.split() if word not in stop_words])\n",
    "    return text\n",
    "\n",
    "sent['selftext']=sent['selftext'].apply(lambda x: remove_stopwords(x))\n",
    "\n",
    "spec_chars = [\"!\",'“','\"',\"#\",\"%\",\"&\",\"'\",\"(\",\")\",\n",
    "              \"*\",\"+\",\",\",\"-\",\".\",\"/\",\":\",\";\",\"<\",\n",
    "              \"=\",\">\",\"?\",\"@\",\"[\",\"\\\\\",\"]\",\"^\",\"_\",\n",
    "              \"`\",\"{\",\"|\",\"}\",\"~\",\"–\"]\n",
    "for char in spec_chars:\n",
    "    sent['selftext'] = sent['selftext'].str.replace(char, ' ')\n",
    "    sent['selftext'] = sent['selftext'].str.split().str.join(\" \")\n",
    "    \n",
    "from nltk.stem import WordNetLemmatizer\n",
    "\n",
    "def lemmatize(words):\n",
    "    lemmatizer = WordNetLemmatizer()\n",
    "    nwords=[]\n",
    "    for word in words:\n",
    "        word=lemmatizer.lemmatize(word)\n",
    "        nwords.append(word)\n",
    "    return ' '.join(nwords)\n",
    "\n",
    "sent['selftext']= sent['selftext'].str.split().apply(lambda x: lemmatize(x))\n",
    "\n",
    "stop_words.update({'would','k','im','could','also',\n",
    "                   'amp','much','one','like','get',\n",
    "                   'since','etc','got','always',\n",
    "                   'know','thing','really','dont',\n",
    "                   'find','even','go','time','need','want'\n",
    "                  })\n",
    "sent['selftext']=sent['selftext'].apply(lambda x: remove_stopwords(x))"
   ]
  },
  {
   "cell_type": "code",
   "execution_count": 427,
   "id": "904795cb",
   "metadata": {
    "scrolled": true
   },
   "outputs": [
    {
     "data": {
      "text/html": [
       "<div>\n",
       "<style scoped>\n",
       "    .dataframe tbody tr th:only-of-type {\n",
       "        vertical-align: middle;\n",
       "    }\n",
       "\n",
       "    .dataframe tbody tr th {\n",
       "        vertical-align: top;\n",
       "    }\n",
       "\n",
       "    .dataframe thead th {\n",
       "        text-align: right;\n",
       "    }\n",
       "</style>\n",
       "<table border=\"1\" class=\"dataframe\">\n",
       "  <thead>\n",
       "    <tr style=\"text-align: right;\">\n",
       "      <th></th>\n",
       "      <th>words</th>\n",
       "      <th>count</th>\n",
       "    </tr>\n",
       "  </thead>\n",
       "  <tbody>\n",
       "    <tr>\n",
       "      <th>0</th>\n",
       "      <td>roth ira</td>\n",
       "      <td>59</td>\n",
       "    </tr>\n",
       "    <tr>\n",
       "      <th>1</th>\n",
       "      <td>year old</td>\n",
       "      <td>39</td>\n",
       "    </tr>\n",
       "    <tr>\n",
       "      <th>2</th>\n",
       "      <td>brokerage account</td>\n",
       "      <td>39</td>\n",
       "    </tr>\n",
       "    <tr>\n",
       "      <th>3</th>\n",
       "      <td>index fund</td>\n",
       "      <td>31</td>\n",
       "    </tr>\n",
       "    <tr>\n",
       "      <th>4</th>\n",
       "      <td>saving account</td>\n",
       "      <td>29</td>\n",
       "    </tr>\n",
       "    <tr>\n",
       "      <th>5</th>\n",
       "      <td>credit card</td>\n",
       "      <td>28</td>\n",
       "    </tr>\n",
       "    <tr>\n",
       "      <th>6</th>\n",
       "      <td>net worth</td>\n",
       "      <td>28</td>\n",
       "    </tr>\n",
       "    <tr>\n",
       "      <th>7</th>\n",
       "      <td>long term</td>\n",
       "      <td>26</td>\n",
       "    </tr>\n",
       "    <tr>\n",
       "      <th>8</th>\n",
       "      <td>next year</td>\n",
       "      <td>26</td>\n",
       "    </tr>\n",
       "    <tr>\n",
       "      <th>9</th>\n",
       "      <td>stock market</td>\n",
       "      <td>25</td>\n",
       "    </tr>\n",
       "  </tbody>\n",
       "</table>\n",
       "</div>"
      ],
      "text/plain": [
       "               words  count\n",
       "0           roth ira     59\n",
       "1           year old     39\n",
       "2  brokerage account     39\n",
       "3         index fund     31\n",
       "4     saving account     29\n",
       "5        credit card     28\n",
       "6          net worth     28\n",
       "7          long term     26\n",
       "8          next year     26\n",
       "9       stock market     25"
      ]
     },
     "execution_count": 427,
     "metadata": {},
     "output_type": "execute_result"
    }
   ],
   "source": [
    "from nltk.util import ngrams\n",
    "def count_2gram(text):\n",
    "    all_words = list(itertools.chain(*text.str.split()))\n",
    "    es2grams = ngrams(all_words, 2)\n",
    "    counts = collections.Counter(es2grams)\n",
    "    count_df = pd.DataFrame(counts.most_common(100),\n",
    "                            columns=['words', 'count'])\n",
    "    dictionary2 = [' '.join(tup) for tup in count_df.words]\n",
    "    count_df.words=dictionary2\n",
    "\n",
    "    return count_df\n",
    "\n",
    "count_df2=count_2gram(sent['selftext'][sent['label']==1])\n",
    "#count_df2=count_2gram(sent['selftext'][sent['total']>0.127])\n",
    "count_df3=count_2gram(sent['selftext'][sent['label']==-1])\n",
    "#count_df3=count_2gram(sent['selftext'][sent['total']<0.0046])\n",
    "\n",
    "#positive word distribution\n",
    "count_df2.head(10)"
   ]
  },
  {
   "cell_type": "code",
   "execution_count": 428,
   "id": "b5205272",
   "metadata": {},
   "outputs": [
    {
     "data": {
      "text/html": [
       "<div>\n",
       "<style scoped>\n",
       "    .dataframe tbody tr th:only-of-type {\n",
       "        vertical-align: middle;\n",
       "    }\n",
       "\n",
       "    .dataframe tbody tr th {\n",
       "        vertical-align: top;\n",
       "    }\n",
       "\n",
       "    .dataframe thead th {\n",
       "        text-align: right;\n",
       "    }\n",
       "</style>\n",
       "<table border=\"1\" class=\"dataframe\">\n",
       "  <thead>\n",
       "    <tr style=\"text-align: right;\">\n",
       "      <th></th>\n",
       "      <th>words</th>\n",
       "      <th>count</th>\n",
       "    </tr>\n",
       "  </thead>\n",
       "  <tbody>\n",
       "    <tr>\n",
       "      <th>0</th>\n",
       "      <td>emergency fund</td>\n",
       "      <td>28</td>\n",
       "    </tr>\n",
       "    <tr>\n",
       "      <th>1</th>\n",
       "      <td>net worth</td>\n",
       "      <td>16</td>\n",
       "    </tr>\n",
       "    <tr>\n",
       "      <th>2</th>\n",
       "      <td>roth ira</td>\n",
       "      <td>15</td>\n",
       "    </tr>\n",
       "    <tr>\n",
       "      <th>3</th>\n",
       "      <td>next year</td>\n",
       "      <td>12</td>\n",
       "    </tr>\n",
       "    <tr>\n",
       "      <th>4</th>\n",
       "      <td>year old</td>\n",
       "      <td>9</td>\n",
       "    </tr>\n",
       "    <tr>\n",
       "      <th>5</th>\n",
       "      <td>saving account</td>\n",
       "      <td>9</td>\n",
       "    </tr>\n",
       "    <tr>\n",
       "      <th>6</th>\n",
       "      <td>side gig</td>\n",
       "      <td>9</td>\n",
       "    </tr>\n",
       "    <tr>\n",
       "      <th>7</th>\n",
       "      <td>ef investor</td>\n",
       "      <td>8</td>\n",
       "    </tr>\n",
       "    <tr>\n",
       "      <th>8</th>\n",
       "      <td>year ago</td>\n",
       "      <td>8</td>\n",
       "    </tr>\n",
       "    <tr>\n",
       "      <th>9</th>\n",
       "      <td>stock market</td>\n",
       "      <td>7</td>\n",
       "    </tr>\n",
       "  </tbody>\n",
       "</table>\n",
       "</div>"
      ],
      "text/plain": [
       "            words  count\n",
       "0  emergency fund     28\n",
       "1       net worth     16\n",
       "2        roth ira     15\n",
       "3       next year     12\n",
       "4        year old      9\n",
       "5  saving account      9\n",
       "6        side gig      9\n",
       "7     ef investor      8\n",
       "8        year ago      8\n",
       "9    stock market      7"
      ]
     },
     "execution_count": 428,
     "metadata": {},
     "output_type": "execute_result"
    }
   ],
   "source": [
    "#Negative word distribution\n",
    "count_df3.head(10)"
   ]
  },
  {
   "cell_type": "code",
   "execution_count": 429,
   "id": "c39e0259",
   "metadata": {},
   "outputs": [
    {
     "data": {
      "text/html": [
       "<div>\n",
       "<style scoped>\n",
       "    .dataframe tbody tr th:only-of-type {\n",
       "        vertical-align: middle;\n",
       "    }\n",
       "\n",
       "    .dataframe tbody tr th {\n",
       "        vertical-align: top;\n",
       "    }\n",
       "\n",
       "    .dataframe thead th {\n",
       "        text-align: right;\n",
       "    }\n",
       "</style>\n",
       "<table border=\"1\" class=\"dataframe\">\n",
       "  <thead>\n",
       "    <tr style=\"text-align: right;\">\n",
       "      <th></th>\n",
       "      <th>words</th>\n",
       "      <th>count</th>\n",
       "    </tr>\n",
       "  </thead>\n",
       "  <tbody>\n",
       "    <tr>\n",
       "      <th>0</th>\n",
       "      <td>expense ratio administrative</td>\n",
       "      <td>20</td>\n",
       "    </tr>\n",
       "    <tr>\n",
       "      <th>1</th>\n",
       "      <td>ratio administrative cost</td>\n",
       "      <td>20</td>\n",
       "    </tr>\n",
       "    <tr>\n",
       "      <th>2</th>\n",
       "      <td>credit card debt</td>\n",
       "      <td>7</td>\n",
       "    </tr>\n",
       "    <tr>\n",
       "      <th>3</th>\n",
       "      <td>please use thread</td>\n",
       "      <td>5</td>\n",
       "    </tr>\n",
       "    <tr>\n",
       "      <th>4</th>\n",
       "      <td>rule posting question</td>\n",
       "      <td>5</td>\n",
       "    </tr>\n",
       "    <tr>\n",
       "      <th>...</th>\n",
       "      <td>...</td>\n",
       "      <td>...</td>\n",
       "    </tr>\n",
       "    <tr>\n",
       "      <th>95</th>\n",
       "      <td>pay credit card</td>\n",
       "      <td>3</td>\n",
       "    </tr>\n",
       "    <tr>\n",
       "      <th>96</th>\n",
       "      <td>money left end</td>\n",
       "      <td>3</td>\n",
       "    </tr>\n",
       "    <tr>\n",
       "      <th>97</th>\n",
       "      <td>left end v</td>\n",
       "      <td>3</td>\n",
       "    </tr>\n",
       "    <tr>\n",
       "      <th>98</th>\n",
       "      <td>student loan paid</td>\n",
       "      <td>3</td>\n",
       "    </tr>\n",
       "    <tr>\n",
       "      <th>99</th>\n",
       "      <td>daily bonus access</td>\n",
       "      <td>3</td>\n",
       "    </tr>\n",
       "  </tbody>\n",
       "</table>\n",
       "<p>100 rows × 2 columns</p>\n",
       "</div>"
      ],
      "text/plain": [
       "                           words  count\n",
       "0   expense ratio administrative     20\n",
       "1      ratio administrative cost     20\n",
       "2               credit card debt      7\n",
       "3              please use thread      5\n",
       "4          rule posting question      5\n",
       "..                           ...    ...\n",
       "95               pay credit card      3\n",
       "96                money left end      3\n",
       "97                    left end v      3\n",
       "98             student loan paid      3\n",
       "99            daily bonus access      3\n",
       "\n",
       "[100 rows x 2 columns]"
      ]
     },
     "execution_count": 429,
     "metadata": {},
     "output_type": "execute_result"
    }
   ],
   "source": [
    "def count_3gram(text):\n",
    "    all_words = list(itertools.chain(*text.str.split()))\n",
    "    es3grams = ngrams(all_words, 3)\n",
    "    counts = collections.Counter(es3grams)\n",
    "    count_df = pd.DataFrame(counts.most_common(100),\n",
    "                            columns=['words', 'count'])\n",
    "    dictionary3 = [' '.join(tup) for tup in count_df.words]\n",
    "    count_df.words=dictionary3\n",
    "\n",
    "    return count_df\n",
    "\n",
    "\n",
    "count_df4=count_3gram(sent['selftext'][sent['label']==1])\n",
    "count_df5=count_3gram(sent['selftext'][sent['label']==-1])\n",
    "\n",
    "#positive word distribution\n",
    "count_df4"
   ]
  },
  {
   "cell_type": "code",
   "execution_count": 366,
   "id": "9872cc71",
   "metadata": {},
   "outputs": [
    {
     "data": {
      "text/html": [
       "<div>\n",
       "<style scoped>\n",
       "    .dataframe tbody tr th:only-of-type {\n",
       "        vertical-align: middle;\n",
       "    }\n",
       "\n",
       "    .dataframe tbody tr th {\n",
       "        vertical-align: top;\n",
       "    }\n",
       "\n",
       "    .dataframe thead th {\n",
       "        text-align: right;\n",
       "    }\n",
       "</style>\n",
       "<table border=\"1\" class=\"dataframe\">\n",
       "  <thead>\n",
       "    <tr style=\"text-align: right;\">\n",
       "      <th></th>\n",
       "      <th>words</th>\n",
       "      <th>count</th>\n",
       "    </tr>\n",
       "  </thead>\n",
       "  <tbody>\n",
       "    <tr>\n",
       "      <th>0</th>\n",
       "      <td>monthly maintenance fee</td>\n",
       "      <td>6</td>\n",
       "    </tr>\n",
       "    <tr>\n",
       "      <th>1</th>\n",
       "      <td>goal emergency fund</td>\n",
       "      <td>4</td>\n",
       "    </tr>\n",
       "    <tr>\n",
       "      <th>2</th>\n",
       "      <td>ef net worth</td>\n",
       "      <td>4</td>\n",
       "    </tr>\n",
       "    <tr>\n",
       "      <th>3</th>\n",
       "      <td>large enough portfolio</td>\n",
       "      <td>3</td>\n",
       "    </tr>\n",
       "    <tr>\n",
       "      <th>4</th>\n",
       "      <td>traditional emergency fund</td>\n",
       "      <td>3</td>\n",
       "    </tr>\n",
       "    <tr>\n",
       "      <th>...</th>\n",
       "      <td>...</td>\n",
       "      <td>...</td>\n",
       "    </tr>\n",
       "    <tr>\n",
       "      <th>95</th>\n",
       "      <td>r financialindependence post</td>\n",
       "      <td>1</td>\n",
       "    </tr>\n",
       "    <tr>\n",
       "      <th>96</th>\n",
       "      <td>financialindependence post removed</td>\n",
       "      <td>1</td>\n",
       "    </tr>\n",
       "    <tr>\n",
       "      <th>97</th>\n",
       "      <td>post removed moderation</td>\n",
       "      <td>1</td>\n",
       "    </tr>\n",
       "    <tr>\n",
       "      <th>98</th>\n",
       "      <td>removed moderation thread</td>\n",
       "      <td>1</td>\n",
       "    </tr>\n",
       "    <tr>\n",
       "      <th>99</th>\n",
       "      <td>moderation thread rule</td>\n",
       "      <td>1</td>\n",
       "    </tr>\n",
       "  </tbody>\n",
       "</table>\n",
       "<p>100 rows × 2 columns</p>\n",
       "</div>"
      ],
      "text/plain": [
       "                                 words  count\n",
       "0              monthly maintenance fee      6\n",
       "1                  goal emergency fund      4\n",
       "2                         ef net worth      4\n",
       "3               large enough portfolio      3\n",
       "4           traditional emergency fund      3\n",
       "..                                 ...    ...\n",
       "95        r financialindependence post      1\n",
       "96  financialindependence post removed      1\n",
       "97             post removed moderation      1\n",
       "98           removed moderation thread      1\n",
       "99              moderation thread rule      1\n",
       "\n",
       "[100 rows x 2 columns]"
      ]
     },
     "execution_count": 366,
     "metadata": {},
     "output_type": "execute_result"
    }
   ],
   "source": [
    "count_df5"
   ]
  },
  {
   "cell_type": "markdown",
   "id": "innocent-dallas",
   "metadata": {},
   "source": [
    "## Average sentiment score of a given word"
   ]
  },
  {
   "cell_type": "code",
   "execution_count": 412,
   "id": "liquid-financing",
   "metadata": {},
   "outputs": [
    {
     "data": {
      "text/plain": [
       "0.07961512293328499"
      ]
     },
     "execution_count": 412,
     "metadata": {},
     "output_type": "execute_result"
    }
   ],
   "source": [
    "sent['total'].mean()"
   ]
  },
  {
   "cell_type": "code",
   "execution_count": 411,
   "id": "be7faac3",
   "metadata": {},
   "outputs": [
    {
     "data": {
      "text/plain": [
       "0.0611926782455175"
      ]
     },
     "execution_count": 411,
     "metadata": {},
     "output_type": "execute_result"
    }
   ],
   "source": [
    "index=sent[sent['selftext'].str.contains(\"roth ira\")].index\n",
    "sent.iloc[index]['total'].mean()"
   ]
  },
  {
   "cell_type": "code",
   "execution_count": 413,
   "id": "dad8af24",
   "metadata": {},
   "outputs": [
    {
     "data": {
      "text/plain": [
       "0.07794111813669583"
      ]
     },
     "execution_count": 413,
     "metadata": {},
     "output_type": "execute_result"
    }
   ],
   "source": [
    "index=sent[sent['selftext'].str.contains(\"net worth\")].index\n",
    "sent.iloc[index]['total'].mean()"
   ]
  },
  {
   "cell_type": "code",
   "execution_count": 414,
   "id": "historic-vienna",
   "metadata": {},
   "outputs": [
    {
     "data": {
      "text/plain": [
       "0.051764391300869614"
      ]
     },
     "execution_count": 414,
     "metadata": {},
     "output_type": "execute_result"
    }
   ],
   "source": [
    "index=sent[sent['selftext'].str.contains(\"brokerage account\")].index\n",
    "sent.iloc[index]['total'].mean()"
   ]
  },
  {
   "cell_type": "code",
   "execution_count": 416,
   "id": "permanent-hybrid",
   "metadata": {},
   "outputs": [
    {
     "data": {
      "text/plain": [
       "0.029376189394403816"
      ]
     },
     "execution_count": 416,
     "metadata": {},
     "output_type": "execute_result"
    }
   ],
   "source": [
    "index=sent[sent['selftext'].str.contains(\"emergency fund\")].index\n",
    "sent.iloc[index]['total'].mean()"
   ]
  },
  {
   "cell_type": "code",
   "execution_count": 417,
   "id": "287ddbe0",
   "metadata": {},
   "outputs": [
    {
     "data": {
      "text/plain": [
       "0.04868162996178929"
      ]
     },
     "execution_count": 417,
     "metadata": {},
     "output_type": "execute_result"
    }
   ],
   "source": [
    "index=sent[sent['selftext'].str.contains(\"saving account\")].index\n",
    "sent.iloc[index]['total'].mean()"
   ]
  },
  {
   "cell_type": "code",
   "execution_count": 418,
   "id": "incorrect-arkansas",
   "metadata": {},
   "outputs": [
    {
     "data": {
      "text/plain": [
       "0.07585286792996988"
      ]
     },
     "execution_count": 418,
     "metadata": {},
     "output_type": "execute_result"
    }
   ],
   "source": [
    "index=sent[sent['selftext'].str.contains(\"index fund\")].index\n",
    "sent.iloc[index]['total'].mean()"
   ]
  },
  {
   "cell_type": "code",
   "execution_count": 430,
   "id": "developed-disco",
   "metadata": {},
   "outputs": [
    {
     "data": {
      "text/plain": [
       "0.06391767509138607"
      ]
     },
     "execution_count": 430,
     "metadata": {},
     "output_type": "execute_result"
    }
   ],
   "source": [
    "index=sent[sent['selftext'].str.contains(\"long term\")].index\n",
    "sent.iloc[index]['total'].mean()"
   ]
  },
  {
   "cell_type": "code",
   "execution_count": 431,
   "id": "precious-trace",
   "metadata": {},
   "outputs": [
    {
     "data": {
      "text/plain": [
       "0.10073389526904372"
      ]
     },
     "execution_count": 431,
     "metadata": {},
     "output_type": "execute_result"
    }
   ],
   "source": [
    "index=sent[sent['selftext'].str.contains(\"credit card\")].index\n",
    "sent.iloc[index]['total'].mean()"
   ]
  },
  {
   "cell_type": "code",
   "execution_count": 433,
   "id": "french-execution",
   "metadata": {},
   "outputs": [
    {
     "data": {
      "text/html": [
       "<div>\n",
       "<style scoped>\n",
       "    .dataframe tbody tr th:only-of-type {\n",
       "        vertical-align: middle;\n",
       "    }\n",
       "\n",
       "    .dataframe tbody tr th {\n",
       "        vertical-align: top;\n",
       "    }\n",
       "\n",
       "    .dataframe thead th {\n",
       "        text-align: right;\n",
       "    }\n",
       "</style>\n",
       "<table border=\"1\" class=\"dataframe\">\n",
       "  <thead>\n",
       "    <tr style=\"text-align: right;\">\n",
       "      <th></th>\n",
       "      <th>neg</th>\n",
       "      <th>neu</th>\n",
       "      <th>pos</th>\n",
       "      <th>compound</th>\n",
       "      <th>selftext</th>\n",
       "      <th>p_word_dict</th>\n",
       "      <th>n_word_dict</th>\n",
       "      <th>p_word</th>\n",
       "      <th>n_word</th>\n",
       "      <th>label</th>\n",
       "      <th>total</th>\n",
       "    </tr>\n",
       "  </thead>\n",
       "  <tbody>\n",
       "    <tr>\n",
       "      <th>430</th>\n",
       "      <td>0.052</td>\n",
       "      <td>0.671</td>\n",
       "      <td>0.277</td>\n",
       "      <td>0.9659</td>\n",
       "      <td>turned start building credit getting credit ca...</td>\n",
       "      <td>{'want': 0.44999999999999996, 'credit': 2.4000...</td>\n",
       "      <td>{'pay': -0.2, 'FIRE': -3.1995}</td>\n",
       "      <td>want credit good easy advantage Thanks</td>\n",
       "      <td>pay FIRE</td>\n",
       "      <td>1</td>\n",
       "      <td>0.335320</td>\n",
       "    </tr>\n",
       "    <tr>\n",
       "      <th>220</th>\n",
       "      <td>0.101</td>\n",
       "      <td>0.607</td>\n",
       "      <td>0.292</td>\n",
       "      <td>0.7650</td>\n",
       "      <td>thought mile transfer airline credit card pay ...</td>\n",
       "      <td>{'Like': 1.5, 'credit': 1.6, 'advantage': 1.0,...</td>\n",
       "      <td>{'pay': -0.4, 'low': -1.1}</td>\n",
       "      <td>Like credit advantage interest</td>\n",
       "      <td>pay low</td>\n",
       "      <td>1</td>\n",
       "      <td>0.314662</td>\n",
       "    </tr>\n",
       "    <tr>\n",
       "      <th>246</th>\n",
       "      <td>0.039</td>\n",
       "      <td>0.789</td>\n",
       "      <td>0.172</td>\n",
       "      <td>0.9901</td>\n",
       "      <td>hello r financialindependence ultimate goal re...</td>\n",
       "      <td>{'freedom': 3.2, 'credit': 1.6, 'free': 2.3, '...</td>\n",
       "      <td>{'pay': -0.4, 'lower': -1.2, 'no': -1.2, 'debt...</td>\n",
       "      <td>freedom credit free save focused growth like b...</td>\n",
       "      <td>pay lower no debt</td>\n",
       "      <td>1</td>\n",
       "      <td>0.168568</td>\n",
       "    </tr>\n",
       "    <tr>\n",
       "      <th>469</th>\n",
       "      <td>0.070</td>\n",
       "      <td>0.736</td>\n",
       "      <td>0.194</td>\n",
       "      <td>0.9998</td>\n",
       "      <td>xb moneyist friendly neighbor decade recently ...</td>\n",
       "      <td>{'friendly': 1.1, 'friends': 3.150000000000000...</td>\n",
       "      <td>{'struggled': -0.7, 'unemployment': -2.8499999...</td>\n",
       "      <td>friendly friends improve successes fun respect...</td>\n",
       "      <td>struggled unemployment stopped no debt lost co...</td>\n",
       "      <td>1</td>\n",
       "      <td>0.168478</td>\n",
       "    </tr>\n",
       "    <tr>\n",
       "      <th>377</th>\n",
       "      <td>0.076</td>\n",
       "      <td>0.743</td>\n",
       "      <td>0.181</td>\n",
       "      <td>0.7609</td>\n",
       "      <td>hospital bill kaiser los angeles point affecti...</td>\n",
       "      <td>{'credit': 1.6, 'true': 2.25, 'Thank': 1.5}</td>\n",
       "      <td>{'debt': -1.5, 'no': -1.2}</td>\n",
       "      <td>credit true Thank</td>\n",
       "      <td>debt no</td>\n",
       "      <td>1</td>\n",
       "      <td>0.141319</td>\n",
       "    </tr>\n",
       "    <tr>\n",
       "      <th>339</th>\n",
       "      <td>0.051</td>\n",
       "      <td>0.786</td>\n",
       "      <td>0.162</td>\n",
       "      <td>0.9403</td>\n",
       "      <td>recently paid deductible medical procedure yay...</td>\n",
       "      <td>{'credit': 0.8, 'beneficial': 2.84999999999999...</td>\n",
       "      <td>{'pay': -0.2, 'interest': -0.74, 'emergency': ...</td>\n",
       "      <td>credit beneficial advantage like better Thanks</td>\n",
       "      <td>pay interest emergency</td>\n",
       "      <td>1</td>\n",
       "      <td>0.141221</td>\n",
       "    </tr>\n",
       "    <tr>\n",
       "      <th>239</th>\n",
       "      <td>0.043</td>\n",
       "      <td>0.805</td>\n",
       "      <td>0.152</td>\n",
       "      <td>0.8957</td>\n",
       "      <td>hanging friend day starbucks bought couple dri...</td>\n",
       "      <td>{'friends': 1.05, 'good': 0.95, 'friend': 1.1,...</td>\n",
       "      <td>{'missing': -1.7999999999999998, 'liability': ...</td>\n",
       "      <td>friends good friend credit like</td>\n",
       "      <td>missing liability</td>\n",
       "      <td>1</td>\n",
       "      <td>0.135404</td>\n",
       "    </tr>\n",
       "    <tr>\n",
       "      <th>194</th>\n",
       "      <td>0.068</td>\n",
       "      <td>0.764</td>\n",
       "      <td>0.167</td>\n",
       "      <td>0.7351</td>\n",
       "      <td>ive tried applying lot different credit card b...</td>\n",
       "      <td>{'credit': 1.6, 'help': 1.7}</td>\n",
       "      <td>{'denied': -1.9, 'pay': -0.4}</td>\n",
       "      <td>credit help</td>\n",
       "      <td>denied pay</td>\n",
       "      <td>1</td>\n",
       "      <td>0.129581</td>\n",
       "    </tr>\n",
       "    <tr>\n",
       "      <th>331</th>\n",
       "      <td>0.082</td>\n",
       "      <td>0.754</td>\n",
       "      <td>0.164</td>\n",
       "      <td>0.9036</td>\n",
       "      <td>sure belongs apology working pay credit card d...</td>\n",
       "      <td>{'credit': 1.6, 'advantage': 1.0, 'interest': ...</td>\n",
       "      <td>{'sure': -0.962, 'pay': -0.4, 'debt': -1.5}</td>\n",
       "      <td>credit advantage interest Like matter</td>\n",
       "      <td>sure pay debt</td>\n",
       "      <td>1</td>\n",
       "      <td>0.108753</td>\n",
       "    </tr>\n",
       "    <tr>\n",
       "      <th>410</th>\n",
       "      <td>0.084</td>\n",
       "      <td>0.754</td>\n",
       "      <td>0.162</td>\n",
       "      <td>0.5920</td>\n",
       "      <td>hi guy usa looking advice invest profit instea...</td>\n",
       "      <td>{'profit': 0.95, 'want': 0.370625, 'leave': 0....</td>\n",
       "      <td>{'emergency': -0.8, 'debt': -0.75, 'risk': -1....</td>\n",
       "      <td>profit want leave credit interest Thanks</td>\n",
       "      <td>emergency debt risk</td>\n",
       "      <td>1</td>\n",
       "      <td>0.103448</td>\n",
       "    </tr>\n",
       "    <tr>\n",
       "      <th>98</th>\n",
       "      <td>0.046</td>\n",
       "      <td>0.831</td>\n",
       "      <td>0.123</td>\n",
       "      <td>0.9960</td>\n",
       "      <td>welp looked lot better done couple week ago c ...</td>\n",
       "      <td>{'better': 0.95, 'worth': 0.45, 'sharing': 0.9...</td>\n",
       "      <td>{'low': -1.6500000000000001, 'panic': -3.44999...</td>\n",
       "      <td>better worth sharing progress helpful giving h...</td>\n",
       "      <td>low panic pay failing shit lower debt disappea...</td>\n",
       "      <td>1</td>\n",
       "      <td>0.092659</td>\n",
       "    </tr>\n",
       "    <tr>\n",
       "      <th>32</th>\n",
       "      <td>0.090</td>\n",
       "      <td>0.774</td>\n",
       "      <td>0.136</td>\n",
       "      <td>0.9303</td>\n",
       "      <td>hey everyone first posting sorry right place a...</td>\n",
       "      <td>{'friend': 3.3000000000000003, 'save': 3.30000...</td>\n",
       "      <td>{'sorry': -0.15, 'bad': -1.25, 'waste': -2.7, ...</td>\n",
       "      <td>friend save create credit help limited like</td>\n",
       "      <td>sorry bad waste no stop lost safe stops Thank</td>\n",
       "      <td>1</td>\n",
       "      <td>0.059432</td>\n",
       "    </tr>\n",
       "    <tr>\n",
       "      <th>328</th>\n",
       "      <td>0.051</td>\n",
       "      <td>0.851</td>\n",
       "      <td>0.098</td>\n",
       "      <td>0.9539</td>\n",
       "      <td>account fidelity look care act allows withdraw...</td>\n",
       "      <td>{'like': 0.75, 'CARES': 4.0995, 'penalty': 0.7...</td>\n",
       "      <td>{'hardship': -0.65, 'adverse': -0.75, 'lack': ...</td>\n",
       "      <td>like CARES penalty withdrawal want exempt cred...</td>\n",
       "      <td>hardship adverse lack pay delayed no debt</td>\n",
       "      <td>1</td>\n",
       "      <td>0.055229</td>\n",
       "    </tr>\n",
       "    <tr>\n",
       "      <th>30</th>\n",
       "      <td>0.037</td>\n",
       "      <td>0.883</td>\n",
       "      <td>0.081</td>\n",
       "      <td>0.7579</td>\n",
       "      <td>bit background married current work field rece...</td>\n",
       "      <td>{'credit': 1.6, 'please': 1.3, 'save': 2.2, 'w...</td>\n",
       "      <td>{'debt': -1.5, 'emergency': -1.6, 'cut': -1.1}</td>\n",
       "      <td>credit please save want reach Please good</td>\n",
       "      <td>debt emergency cut</td>\n",
       "      <td>1</td>\n",
       "      <td>0.049830</td>\n",
       "    </tr>\n",
       "    <tr>\n",
       "      <th>166</th>\n",
       "      <td>0.065</td>\n",
       "      <td>0.830</td>\n",
       "      <td>0.105</td>\n",
       "      <td>0.9539</td>\n",
       "      <td>key saving money consistently living mean ofte...</td>\n",
       "      <td>{'expand': 1.3, 'increase': 1.3, 'treat': 1.7,...</td>\n",
       "      <td>{'careful': -0.444, 'expands': -0.296, 'missed...</td>\n",
       "      <td>expand increase treat jewels sunny gratify cre...</td>\n",
       "      <td>careful expands missed avoid trap pay no cance...</td>\n",
       "      <td>1</td>\n",
       "      <td>0.048193</td>\n",
       "    </tr>\n",
       "    <tr>\n",
       "      <th>62</th>\n",
       "      <td>0.094</td>\n",
       "      <td>0.782</td>\n",
       "      <td>0.124</td>\n",
       "      <td>0.9188</td>\n",
       "      <td>hello year old sophomore college majoring comp...</td>\n",
       "      <td>{'credit': 1.6, 'good': 1.9, 'loves': 2.7, 'ha...</td>\n",
       "      <td>{'debt': -1.5, 'no': -1.2, 'crap': -1.6, 'bad'...</td>\n",
       "      <td>credit good loves happy love interested expand...</td>\n",
       "      <td>debt no crap bad want drop stupid dumb confused</td>\n",
       "      <td>1</td>\n",
       "      <td>0.038363</td>\n",
       "    </tr>\n",
       "    <tr>\n",
       "      <th>478</th>\n",
       "      <td>0.077</td>\n",
       "      <td>0.816</td>\n",
       "      <td>0.107</td>\n",
       "      <td>0.6369</td>\n",
       "      <td>never done anything financial life besides ban...</td>\n",
       "      <td>{'credit': 1.6, 'interest': 2.0, 'help': 1.7, ...</td>\n",
       "      <td>{'no': -1.2, 'idk': -0.4, 'Sorry': -0.3, 'wron...</td>\n",
       "      <td>credit interest help better</td>\n",
       "      <td>no idk Sorry wrong</td>\n",
       "      <td>1</td>\n",
       "      <td>0.036765</td>\n",
       "    </tr>\n",
       "    <tr>\n",
       "      <th>312</th>\n",
       "      <td>0.074</td>\n",
       "      <td>0.866</td>\n",
       "      <td>0.060</td>\n",
       "      <td>-0.1015</td>\n",
       "      <td>watching graham stephan video worst bank accou...</td>\n",
       "      <td>{'credit': 2.4000000000000004, 'trust': 3.4499...</td>\n",
       "      <td>{'worst': -1.55, 'Idk': -0.2, 'no': -2.2175249...</td>\n",
       "      <td>credit trust Wealth</td>\n",
       "      <td>worst Idk no pay worried charged hurt</td>\n",
       "      <td>-1</td>\n",
       "      <td>-0.016166</td>\n",
       "    </tr>\n",
       "    <tr>\n",
       "      <th>382</th>\n",
       "      <td>0.102</td>\n",
       "      <td>0.833</td>\n",
       "      <td>0.065</td>\n",
       "      <td>-0.4423</td>\n",
       "      <td>forgive wrong sub finally paid credit card lon...</td>\n",
       "      <td>{'Forgive': 0.55, 'credit': 0.8}</td>\n",
       "      <td>{'wrong': -1.05, 'hard': -0.2, 'pay': -0.2, 'd...</td>\n",
       "      <td>Forgive credit</td>\n",
       "      <td>wrong hard pay debt</td>\n",
       "      <td>-1</td>\n",
       "      <td>-0.044418</td>\n",
       "    </tr>\n",
       "    <tr>\n",
       "      <th>470</th>\n",
       "      <td>0.126</td>\n",
       "      <td>0.789</td>\n",
       "      <td>0.085</td>\n",
       "      <td>-0.9969</td>\n",
       "      <td>past week unusual least financial perspective ...</td>\n",
       "      <td>{'steadfast': 0.5, 'surprised': 0.45, 'agog': ...</td>\n",
       "      <td>{'like': -1.99023, 'chaos': -1.481850000000000...</td>\n",
       "      <td>steadfast surprised agog healthy fun curious f...</td>\n",
       "      <td>like chaos FIRE anguish stupid stupidity no ch...</td>\n",
       "      <td>-1</td>\n",
       "      <td>-0.051965</td>\n",
       "    </tr>\n",
       "  </tbody>\n",
       "</table>\n",
       "</div>"
      ],
      "text/plain": [
       "       neg    neu    pos  compound  \\\n",
       "430  0.052  0.671  0.277    0.9659   \n",
       "220  0.101  0.607  0.292    0.7650   \n",
       "246  0.039  0.789  0.172    0.9901   \n",
       "469  0.070  0.736  0.194    0.9998   \n",
       "377  0.076  0.743  0.181    0.7609   \n",
       "339  0.051  0.786  0.162    0.9403   \n",
       "239  0.043  0.805  0.152    0.8957   \n",
       "194  0.068  0.764  0.167    0.7351   \n",
       "331  0.082  0.754  0.164    0.9036   \n",
       "410  0.084  0.754  0.162    0.5920   \n",
       "98   0.046  0.831  0.123    0.9960   \n",
       "32   0.090  0.774  0.136    0.9303   \n",
       "328  0.051  0.851  0.098    0.9539   \n",
       "30   0.037  0.883  0.081    0.7579   \n",
       "166  0.065  0.830  0.105    0.9539   \n",
       "62   0.094  0.782  0.124    0.9188   \n",
       "478  0.077  0.816  0.107    0.6369   \n",
       "312  0.074  0.866  0.060   -0.1015   \n",
       "382  0.102  0.833  0.065   -0.4423   \n",
       "470  0.126  0.789  0.085   -0.9969   \n",
       "\n",
       "                                              selftext  \\\n",
       "430  turned start building credit getting credit ca...   \n",
       "220  thought mile transfer airline credit card pay ...   \n",
       "246  hello r financialindependence ultimate goal re...   \n",
       "469  xb moneyist friendly neighbor decade recently ...   \n",
       "377  hospital bill kaiser los angeles point affecti...   \n",
       "339  recently paid deductible medical procedure yay...   \n",
       "239  hanging friend day starbucks bought couple dri...   \n",
       "194  ive tried applying lot different credit card b...   \n",
       "331  sure belongs apology working pay credit card d...   \n",
       "410  hi guy usa looking advice invest profit instea...   \n",
       "98   welp looked lot better done couple week ago c ...   \n",
       "32   hey everyone first posting sorry right place a...   \n",
       "328  account fidelity look care act allows withdraw...   \n",
       "30   bit background married current work field rece...   \n",
       "166  key saving money consistently living mean ofte...   \n",
       "62   hello year old sophomore college majoring comp...   \n",
       "478  never done anything financial life besides ban...   \n",
       "312  watching graham stephan video worst bank accou...   \n",
       "382  forgive wrong sub finally paid credit card lon...   \n",
       "470  past week unusual least financial perspective ...   \n",
       "\n",
       "                                           p_word_dict  \\\n",
       "430  {'want': 0.44999999999999996, 'credit': 2.4000...   \n",
       "220  {'Like': 1.5, 'credit': 1.6, 'advantage': 1.0,...   \n",
       "246  {'freedom': 3.2, 'credit': 1.6, 'free': 2.3, '...   \n",
       "469  {'friendly': 1.1, 'friends': 3.150000000000000...   \n",
       "377        {'credit': 1.6, 'true': 2.25, 'Thank': 1.5}   \n",
       "339  {'credit': 0.8, 'beneficial': 2.84999999999999...   \n",
       "239  {'friends': 1.05, 'good': 0.95, 'friend': 1.1,...   \n",
       "194                       {'credit': 1.6, 'help': 1.7}   \n",
       "331  {'credit': 1.6, 'advantage': 1.0, 'interest': ...   \n",
       "410  {'profit': 0.95, 'want': 0.370625, 'leave': 0....   \n",
       "98   {'better': 0.95, 'worth': 0.45, 'sharing': 0.9...   \n",
       "32   {'friend': 3.3000000000000003, 'save': 3.30000...   \n",
       "328  {'like': 0.75, 'CARES': 4.0995, 'penalty': 0.7...   \n",
       "30   {'credit': 1.6, 'please': 1.3, 'save': 2.2, 'w...   \n",
       "166  {'expand': 1.3, 'increase': 1.3, 'treat': 1.7,...   \n",
       "62   {'credit': 1.6, 'good': 1.9, 'loves': 2.7, 'ha...   \n",
       "478  {'credit': 1.6, 'interest': 2.0, 'help': 1.7, ...   \n",
       "312  {'credit': 2.4000000000000004, 'trust': 3.4499...   \n",
       "382                   {'Forgive': 0.55, 'credit': 0.8}   \n",
       "470  {'steadfast': 0.5, 'surprised': 0.45, 'agog': ...   \n",
       "\n",
       "                                           n_word_dict  \\\n",
       "430                     {'pay': -0.2, 'FIRE': -3.1995}   \n",
       "220                         {'pay': -0.4, 'low': -1.1}   \n",
       "246  {'pay': -0.4, 'lower': -1.2, 'no': -1.2, 'debt...   \n",
       "469  {'struggled': -0.7, 'unemployment': -2.8499999...   \n",
       "377                         {'debt': -1.5, 'no': -1.2}   \n",
       "339  {'pay': -0.2, 'interest': -0.74, 'emergency': ...   \n",
       "239  {'missing': -1.7999999999999998, 'liability': ...   \n",
       "194                      {'denied': -1.9, 'pay': -0.4}   \n",
       "331        {'sure': -0.962, 'pay': -0.4, 'debt': -1.5}   \n",
       "410  {'emergency': -0.8, 'debt': -0.75, 'risk': -1....   \n",
       "98   {'low': -1.6500000000000001, 'panic': -3.44999...   \n",
       "32   {'sorry': -0.15, 'bad': -1.25, 'waste': -2.7, ...   \n",
       "328  {'hardship': -0.65, 'adverse': -0.75, 'lack': ...   \n",
       "30      {'debt': -1.5, 'emergency': -1.6, 'cut': -1.1}   \n",
       "166  {'careful': -0.444, 'expands': -0.296, 'missed...   \n",
       "62   {'debt': -1.5, 'no': -1.2, 'crap': -1.6, 'bad'...   \n",
       "478  {'no': -1.2, 'idk': -0.4, 'Sorry': -0.3, 'wron...   \n",
       "312  {'worst': -1.55, 'Idk': -0.2, 'no': -2.2175249...   \n",
       "382  {'wrong': -1.05, 'hard': -0.2, 'pay': -0.2, 'd...   \n",
       "470  {'like': -1.99023, 'chaos': -1.481850000000000...   \n",
       "\n",
       "                                                p_word  \\\n",
       "430             want credit good easy advantage Thanks   \n",
       "220                     Like credit advantage interest   \n",
       "246  freedom credit free save focused growth like b...   \n",
       "469  friendly friends improve successes fun respect...   \n",
       "377                                  credit true Thank   \n",
       "339     credit beneficial advantage like better Thanks   \n",
       "239                    friends good friend credit like   \n",
       "194                                        credit help   \n",
       "331              credit advantage interest Like matter   \n",
       "410           profit want leave credit interest Thanks   \n",
       "98   better worth sharing progress helpful giving h...   \n",
       "32         friend save create credit help limited like   \n",
       "328  like CARES penalty withdrawal want exempt cred...   \n",
       "30           credit please save want reach Please good   \n",
       "166  expand increase treat jewels sunny gratify cre...   \n",
       "62   credit good loves happy love interested expand...   \n",
       "478                        credit interest help better   \n",
       "312                                credit trust Wealth   \n",
       "382                                     Forgive credit   \n",
       "470  steadfast surprised agog healthy fun curious f...   \n",
       "\n",
       "                                                n_word  label     total  \n",
       "430                                           pay FIRE      1  0.335320  \n",
       "220                                            pay low      1  0.314662  \n",
       "246                                  pay lower no debt      1  0.168568  \n",
       "469  struggled unemployment stopped no debt lost co...      1  0.168478  \n",
       "377                                            debt no      1  0.141319  \n",
       "339                             pay interest emergency      1  0.141221  \n",
       "239                                  missing liability      1  0.135404  \n",
       "194                                         denied pay      1  0.129581  \n",
       "331                                      sure pay debt      1  0.108753  \n",
       "410                                emergency debt risk      1  0.103448  \n",
       "98   low panic pay failing shit lower debt disappea...      1  0.092659  \n",
       "32       sorry bad waste no stop lost safe stops Thank      1  0.059432  \n",
       "328          hardship adverse lack pay delayed no debt      1  0.055229  \n",
       "30                                  debt emergency cut      1  0.049830  \n",
       "166  careful expands missed avoid trap pay no cance...      1  0.048193  \n",
       "62     debt no crap bad want drop stupid dumb confused      1  0.038363  \n",
       "478                                 no idk Sorry wrong      1  0.036765  \n",
       "312              worst Idk no pay worried charged hurt     -1 -0.016166  \n",
       "382                                wrong hard pay debt     -1 -0.044418  \n",
       "470  like chaos FIRE anguish stupid stupidity no ch...     -1 -0.051965  "
      ]
     },
     "execution_count": 433,
     "metadata": {},
     "output_type": "execute_result"
    }
   ],
   "source": [
    "sent.iloc[index].sort_values(by='total',ascending=False)"
   ]
  },
  {
   "cell_type": "code",
   "execution_count": 434,
   "id": "aggregate-nerve",
   "metadata": {},
   "outputs": [
    {
     "data": {
      "text/plain": [
       "'hi recently came across blog site looking sustainable withdrawal rate swr proportion equity bond investment argument conventional rule thumb understand e reducing equity bond ratio age effective strategy compared bond tent e shift bond retirement normal quickly shift bond equity retirement ha anyone come across us love community opinion many thanks'"
      ]
     },
     "execution_count": 434,
     "metadata": {},
     "output_type": "execute_result"
    }
   ],
   "source": [
    "sent.selftext[420]"
   ]
  },
  {
   "cell_type": "code",
   "execution_count": 435,
   "id": "velvet-investor",
   "metadata": {},
   "outputs": [
    {
     "data": {
      "text/plain": [
       "'past week unusual least financial perspective past month period seen unprecedented market wide crash boom yet nothing quite chaos around gamestop r wsb longtime steadfast fire adherent surprised anguish past week caused equally surprised managed self inflict anguish agog stupid situation though stupidity different sort gme type likely feel point near future given community healthy mix never pick stock type pick stock fun money type curious see many either group feeling sense stupid self inflicted anguish week background wife split across various retirement taxable investment account allocated approximately stock bond neither u ever bought individual stock saving come naturally u index investing late early several month school first job looked checking account swelling something thinking hmmm surely something better money narrow escape financial advisor wanting sell u whole life insurance set path self directed index investing good people sa bfc subforum ever said never bought individual stock bond crypto anything else point never urge buy individual security additionally never urge sell holding response market activity lack attention market many look number every month six month update spreadsheet every two week update includes investment account checking saving credit card well ensure unexpected charge financial trajectory hewing course look p performance every day interesting convert number gained lost day literally never felt urge sell never come close week saw talk brewing gme evening beer yet ready bed whole seemed silly especially fact r wsb getting froth yet suggestible mood particular remember thinking seems kind dumb elon musk tweet send price spiking made extremely character snap decision placed order first ever individual stock purchase went bed ever dealing stupid self inflicted anguish describe anguish watching stock price jump around tug emotion command attention way never experienced seen p sell day week thought huh seen massive gain thought neat price gme jump direction transfixed fucking stupid hate tear away going oh shit oh believe terrible going quite possibly worse sell wait indecision paralyzing emotionally feel truly awful way never felt money self inflicted course ultimately master money decision buy feel especially bad goal perhaps forgive little bunch friend family decided jump fun money group getting buzzed night following herd anonymous internet idiot stock purchase course getting staying individual decision accountable nobody whenever fully cash prompt moment self reckoning hope jumped peak potential hindsight regret stock shoot afterwards stupid worst aspect stupid scale self inflicted anguish compared stake table bought drumroll please le tenth percent net worth cheerfully parted money zero regret sort circumstance donating stimulus check hiring contractor purchasing something family vacation small amount money fucking hung worst gt stupid stupid stupidi made money stupid trade doubled money fact bought ish already taken original buy table well profit sitting two remaining share gme drop zero still managed double money lt hour already feel bad care probably index portfolio past five day give shit lt whole episode illuminating funhouse mirror sort way story happy ending feel core principle unchanged expect buy individual security ever still still index investing another year trajectory fire journey changed whit yet closed position last two share feel following gme stock price several day still stuck dumbest tiniest web ever spun fortunately writing feel first meaningful step taken cutting web playing gme game week love first buying stock fun money picker fun kicking kicking despite fact indexing forever jack bogle sorry'"
      ]
     },
     "execution_count": 435,
     "metadata": {},
     "output_type": "execute_result"
    }
   ],
   "source": [
    "sent.selftext[470]"
   ]
  },
  {
   "cell_type": "code",
   "execution_count": null,
   "id": "irish-movement",
   "metadata": {},
   "outputs": [],
   "source": []
  }
 ],
 "metadata": {
  "kernelspec": {
   "display_name": "Python [conda env:root]",
   "language": "python",
   "name": "conda-root-py"
  },
  "language_info": {
   "codemirror_mode": {
    "name": "ipython",
    "version": 3
   },
   "file_extension": ".py",
   "mimetype": "text/x-python",
   "name": "python",
   "nbconvert_exporter": "python",
   "pygments_lexer": "ipython3",
   "version": "3.8.3"
  }
 },
 "nbformat": 4,
 "nbformat_minor": 5
}
