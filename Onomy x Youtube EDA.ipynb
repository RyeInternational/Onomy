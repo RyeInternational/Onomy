{
 "cells": [
  {
   "cell_type": "markdown",
   "metadata": {},
   "source": [
    "## Dataset: Top 100,000 YouTube channels by followers"
   ]
  },
  {
   "cell_type": "code",
   "execution_count": 1,
   "metadata": {},
   "outputs": [
    {
     "data": {
      "text/html": [
       "<div>\n",
       "<style scoped>\n",
       "    .dataframe tbody tr th:only-of-type {\n",
       "        vertical-align: middle;\n",
       "    }\n",
       "\n",
       "    .dataframe tbody tr th {\n",
       "        vertical-align: top;\n",
       "    }\n",
       "\n",
       "    .dataframe thead th {\n",
       "        text-align: right;\n",
       "    }\n",
       "</style>\n",
       "<table border=\"1\" class=\"dataframe\">\n",
       "  <thead>\n",
       "    <tr style=\"text-align: right;\">\n",
       "      <th></th>\n",
       "      <th>category_id</th>\n",
       "      <th>category_name</th>\n",
       "      <th>channel_id</th>\n",
       "      <th>country</th>\n",
       "      <th>description</th>\n",
       "      <th>followers</th>\n",
       "      <th>join_date</th>\n",
       "      <th>location</th>\n",
       "      <th>picture_url</th>\n",
       "      <th>profile_url</th>\n",
       "      <th>title</th>\n",
       "      <th>trailer_title</th>\n",
       "      <th>trailer_url</th>\n",
       "      <th>videos</th>\n",
       "    </tr>\n",
       "  </thead>\n",
       "  <tbody>\n",
       "    <tr>\n",
       "      <th>0</th>\n",
       "      <td>24</td>\n",
       "      <td>Entertainment</td>\n",
       "      <td>UC-lHJZR3Gqxm24_Vd_AJ5Yw</td>\n",
       "      <td>United States</td>\n",
       "      <td>I make videos.</td>\n",
       "      <td>69896406</td>\n",
       "      <td>2010-04-29</td>\n",
       "      <td>NaN</td>\n",
       "      <td>https://yt3.ggpht.com/a-/AN66SAztY6oYWZnS1Cae9...</td>\n",
       "      <td>http://www.youtube.com/channel/UC-lHJZR3Gqxm24...</td>\n",
       "      <td>PewDiePie</td>\n",
       "      <td>bitch lasagna</td>\n",
       "      <td>https://www.youtube.com/watch?v=6Dh-RL__uN4</td>\n",
       "      <td>3649</td>\n",
       "    </tr>\n",
       "    <tr>\n",
       "      <th>1</th>\n",
       "      <td>10</td>\n",
       "      <td>Music</td>\n",
       "      <td>UCq-Fj5jknLsUf-MWSy4_brA</td>\n",
       "      <td>India</td>\n",
       "      <td>\\</td>\n",
       "      <td>69471946</td>\n",
       "      <td>2006-03-13</td>\n",
       "      <td>NaN</td>\n",
       "      <td>https://yt3.ggpht.com/a-/AN66SAxPfKnfHAnAs0rOq...</td>\n",
       "      <td>http://www.youtube.com/channel/UCq-Fj5jknLsUf-...</td>\n",
       "      <td>T-Series</td>\n",
       "      <td>Guru Randhawa: GOLIMAAR Lyrical Video | Bhusha...</td>\n",
       "      <td>https://www.youtube.com/watch?v=nJ1f44JvlC8</td>\n",
       "      <td>12820</td>\n",
       "    </tr>\n",
       "    <tr>\n",
       "      <th>2</th>\n",
       "      <td>24</td>\n",
       "      <td>Entertainment</td>\n",
       "      <td>UCIwFjwMjI0y7PDBVEO9-bkQ</td>\n",
       "      <td>NaN</td>\n",
       "      <td>Help change the world. OUR album \\'Purpose\\' o...</td>\n",
       "      <td>41858494</td>\n",
       "      <td>2007-01-15</td>\n",
       "      <td>NaN</td>\n",
       "      <td>https://yt3.ggpht.com/a-/AN66SAzY-4LlEPxP9YOux...</td>\n",
       "      <td>http://www.youtube.com/channel/UCIwFjwMjI0y7PD...</td>\n",
       "      <td>Justin Bieber</td>\n",
       "      <td>DJ Khaled - No Brainer (Official Video) ft. Ju...</td>\n",
       "      <td>https://www.youtube.com/watch?v=kxloC1MKTpg</td>\n",
       "      <td>132</td>\n",
       "    </tr>\n",
       "    <tr>\n",
       "      <th>3</th>\n",
       "      <td>26</td>\n",
       "      <td>Howto &amp; Style</td>\n",
       "      <td>UC295-Dw_tDNtZXFeAPAW6Aw</td>\n",
       "      <td>United States</td>\n",
       "      <td>Fun diy-projects, crafts, experience the joy o...</td>\n",
       "      <td>40474509</td>\n",
       "      <td>2016-11-15</td>\n",
       "      <td>NaN</td>\n",
       "      <td>https://yt3.ggpht.com/a-/AN66SAzCuCdsGXFCbf4rL...</td>\n",
       "      <td>http://www.youtube.com/channel/UC295-Dw_tDNtZX...</td>\n",
       "      <td>5-Minute Crafts</td>\n",
       "      <td>5-Minute Crafts compilation: This video is a t...</td>\n",
       "      <td>https://www.youtube.com/watch?v=YAjzcignrLU</td>\n",
       "      <td>2350</td>\n",
       "    </tr>\n",
       "    <tr>\n",
       "      <th>4</th>\n",
       "      <td>17</td>\n",
       "      <td>Sports</td>\n",
       "      <td>UCJ5v_MCY6GNUBTO8-D3XoAg</td>\n",
       "      <td>NaN</td>\n",
       "      <td>WWE on YouTube is your number one spot to catc...</td>\n",
       "      <td>36301947</td>\n",
       "      <td>2007-05-11</td>\n",
       "      <td>NaN</td>\n",
       "      <td>https://yt3.ggpht.com/a-/AN66SAx_23YzwxBkenlfs...</td>\n",
       "      <td>http://www.youtube.com/channel/UCJ5v_MCY6GNUBT...</td>\n",
       "      <td>WWE</td>\n",
       "      <td>Braun Strowman and Brock Lesnar throw down bef...</td>\n",
       "      <td>https://www.youtube.com/watch?v=l6d1w8lJsm4</td>\n",
       "      <td>37928</td>\n",
       "    </tr>\n",
       "    <tr>\n",
       "      <th>...</th>\n",
       "      <td>...</td>\n",
       "      <td>...</td>\n",
       "      <td>...</td>\n",
       "      <td>...</td>\n",
       "      <td>...</td>\n",
       "      <td>...</td>\n",
       "      <td>...</td>\n",
       "      <td>...</td>\n",
       "      <td>...</td>\n",
       "      <td>...</td>\n",
       "      <td>...</td>\n",
       "      <td>...</td>\n",
       "      <td>...</td>\n",
       "      <td>...</td>\n",
       "    </tr>\n",
       "    <tr>\n",
       "      <th>104747</th>\n",
       "      <td>20</td>\n",
       "      <td>Gaming</td>\n",
       "      <td>UCIMg4rtAXAWpJRL7SgfwrJQ</td>\n",
       "      <td>NaN</td>\n",
       "      <td>Hey there! I\\'m Ink Hyaena! I\\'m your average ...</td>\n",
       "      <td>14762</td>\n",
       "      <td>2015-10-23</td>\n",
       "      <td>NaN</td>\n",
       "      <td>https://yt3.ggpht.com/a-/AN66SAwmF-PBiyzFKoXBv...</td>\n",
       "      <td>http://www.youtube.com/channel/UCIMg4rtAXAWpJR...</td>\n",
       "      <td>Ink Hyaena</td>\n",
       "      <td>Channel Trailer Ink Hyaena</td>\n",
       "      <td>https://www.youtube.com/watch?v=NFc1It0W4FM</td>\n",
       "      <td>142</td>\n",
       "    </tr>\n",
       "    <tr>\n",
       "      <th>104748</th>\n",
       "      <td>20</td>\n",
       "      <td>Gaming</td>\n",
       "      <td>UCWtOdmCdNbWv9l6lH4oIatg</td>\n",
       "      <td>NaN</td>\n",
       "      <td>Gamer Princess : \\r\\r\\nhttp://split.nyc/channe...</td>\n",
       "      <td>14762</td>\n",
       "      <td>2016-04-29</td>\n",
       "      <td>NaN</td>\n",
       "      <td>https://yt3.ggpht.com/a-/AN66SAyzx9qOaO2aEZX3m...</td>\n",
       "      <td>http://www.youtube.com/channel/UCWtOdmCdNbWv9l...</td>\n",
       "      <td>Gamer Princess</td>\n",
       "      <td>Top Crew!! 2k League Grind Later !</td>\n",
       "      <td>https://www.youtube.com/watch?v=gmudsW-lys8</td>\n",
       "      <td>77</td>\n",
       "    </tr>\n",
       "    <tr>\n",
       "      <th>104749</th>\n",
       "      <td>22</td>\n",
       "      <td>People &amp; Blogs</td>\n",
       "      <td>UC9OL1RKpOkDR0S46QR-5VKg</td>\n",
       "      <td>United States</td>\n",
       "      <td>NaN</td>\n",
       "      <td>14762</td>\n",
       "      <td>2015-04-14</td>\n",
       "      <td>NaN</td>\n",
       "      <td>https://yt3.ggpht.com/a-/AN66SAx_MMVM6Hmurvkjh...</td>\n",
       "      <td>http://www.youtube.com/channel/UC9OL1RKpOkDR0S...</td>\n",
       "      <td>Worship Guide</td>\n",
       "      <td>10,000 Reasons VERY EASY Tutorial (Matt Redman...</td>\n",
       "      <td>https://www.youtube.com/watch?v=J8JVVZAMOzI</td>\n",
       "      <td>17</td>\n",
       "    </tr>\n",
       "    <tr>\n",
       "      <th>104750</th>\n",
       "      <td>1</td>\n",
       "      <td>Film and Animation</td>\n",
       "      <td>UCpFtWLMLKj-t3X1u2lL63uw</td>\n",
       "      <td>NaN</td>\n",
       "      <td>Name: Weronika\\r\\r\\nAge: 14\\r\\r\\nBirthday: 16t...</td>\n",
       "      <td>14761</td>\n",
       "      <td>2014-03-15</td>\n",
       "      <td>NaN</td>\n",
       "      <td>https://yt3.ggpht.com/a-/AN66SAxMc1REPRYd3yWD_...</td>\n",
       "      <td>http://www.youtube.com/channel/UCpFtWLMLKj-t3X...</td>\n",
       "      <td>Akani 「Edits」</td>\n",
       "      <td>Changing Nickname! Some informations + Test!</td>\n",
       "      <td>https://www.youtube.com/watch?v=IAScMklTm9s</td>\n",
       "      <td>126</td>\n",
       "    </tr>\n",
       "    <tr>\n",
       "      <th>104751</th>\n",
       "      <td>24</td>\n",
       "      <td>Entertainment</td>\n",
       "      <td>UCTIpbKVEDWuVhwNHDtQliUA</td>\n",
       "      <td>Australia</td>\n",
       "      <td>My story,\\r\\r\\n\\r\\r\\nA few hours after I was b...</td>\n",
       "      <td>14760</td>\n",
       "      <td>2009-10-21</td>\n",
       "      <td>NaN</td>\n",
       "      <td>https://yt3.ggpht.com/a-/AN66SAy3G8qVSpTyzmCPN...</td>\n",
       "      <td>http://www.youtube.com/channel/UCTIpbKVEDWuVhw...</td>\n",
       "      <td>Equalification Productions</td>\n",
       "      <td>We Are All Created Equal</td>\n",
       "      <td>https://www.youtube.com/watch?v=WoPuOUd0yWk</td>\n",
       "      <td>128</td>\n",
       "    </tr>\n",
       "  </tbody>\n",
       "</table>\n",
       "<p>104752 rows × 14 columns</p>\n",
       "</div>"
      ],
      "text/plain": [
       "        category_id       category_name                channel_id  \\\n",
       "0                24       Entertainment  UC-lHJZR3Gqxm24_Vd_AJ5Yw   \n",
       "1                10               Music  UCq-Fj5jknLsUf-MWSy4_brA   \n",
       "2                24       Entertainment  UCIwFjwMjI0y7PDBVEO9-bkQ   \n",
       "3                26       Howto & Style  UC295-Dw_tDNtZXFeAPAW6Aw   \n",
       "4                17              Sports  UCJ5v_MCY6GNUBTO8-D3XoAg   \n",
       "...             ...                 ...                       ...   \n",
       "104747           20              Gaming  UCIMg4rtAXAWpJRL7SgfwrJQ   \n",
       "104748           20              Gaming  UCWtOdmCdNbWv9l6lH4oIatg   \n",
       "104749           22      People & Blogs  UC9OL1RKpOkDR0S46QR-5VKg   \n",
       "104750            1  Film and Animation  UCpFtWLMLKj-t3X1u2lL63uw   \n",
       "104751           24       Entertainment  UCTIpbKVEDWuVhwNHDtQliUA   \n",
       "\n",
       "              country                                        description  \\\n",
       "0       United States                                     I make videos.   \n",
       "1               India                                                  \\   \n",
       "2                 NaN  Help change the world. OUR album \\'Purpose\\' o...   \n",
       "3       United States  Fun diy-projects, crafts, experience the joy o...   \n",
       "4                 NaN  WWE on YouTube is your number one spot to catc...   \n",
       "...               ...                                                ...   \n",
       "104747            NaN  Hey there! I\\'m Ink Hyaena! I\\'m your average ...   \n",
       "104748            NaN  Gamer Princess : \\r\\r\\nhttp://split.nyc/channe...   \n",
       "104749  United States                                                NaN   \n",
       "104750            NaN  Name: Weronika\\r\\r\\nAge: 14\\r\\r\\nBirthday: 16t...   \n",
       "104751      Australia  My story,\\r\\r\\n\\r\\r\\nA few hours after I was b...   \n",
       "\n",
       "        followers   join_date  location  \\\n",
       "0        69896406  2010-04-29       NaN   \n",
       "1        69471946  2006-03-13       NaN   \n",
       "2        41858494  2007-01-15       NaN   \n",
       "3        40474509  2016-11-15       NaN   \n",
       "4        36301947  2007-05-11       NaN   \n",
       "...           ...         ...       ...   \n",
       "104747      14762  2015-10-23       NaN   \n",
       "104748      14762  2016-04-29       NaN   \n",
       "104749      14762  2015-04-14       NaN   \n",
       "104750      14761  2014-03-15       NaN   \n",
       "104751      14760  2009-10-21       NaN   \n",
       "\n",
       "                                              picture_url  \\\n",
       "0       https://yt3.ggpht.com/a-/AN66SAztY6oYWZnS1Cae9...   \n",
       "1       https://yt3.ggpht.com/a-/AN66SAxPfKnfHAnAs0rOq...   \n",
       "2       https://yt3.ggpht.com/a-/AN66SAzY-4LlEPxP9YOux...   \n",
       "3       https://yt3.ggpht.com/a-/AN66SAzCuCdsGXFCbf4rL...   \n",
       "4       https://yt3.ggpht.com/a-/AN66SAx_23YzwxBkenlfs...   \n",
       "...                                                   ...   \n",
       "104747  https://yt3.ggpht.com/a-/AN66SAwmF-PBiyzFKoXBv...   \n",
       "104748  https://yt3.ggpht.com/a-/AN66SAyzx9qOaO2aEZX3m...   \n",
       "104749  https://yt3.ggpht.com/a-/AN66SAx_MMVM6Hmurvkjh...   \n",
       "104750  https://yt3.ggpht.com/a-/AN66SAxMc1REPRYd3yWD_...   \n",
       "104751  https://yt3.ggpht.com/a-/AN66SAy3G8qVSpTyzmCPN...   \n",
       "\n",
       "                                              profile_url  \\\n",
       "0       http://www.youtube.com/channel/UC-lHJZR3Gqxm24...   \n",
       "1       http://www.youtube.com/channel/UCq-Fj5jknLsUf-...   \n",
       "2       http://www.youtube.com/channel/UCIwFjwMjI0y7PD...   \n",
       "3       http://www.youtube.com/channel/UC295-Dw_tDNtZX...   \n",
       "4       http://www.youtube.com/channel/UCJ5v_MCY6GNUBT...   \n",
       "...                                                   ...   \n",
       "104747  http://www.youtube.com/channel/UCIMg4rtAXAWpJR...   \n",
       "104748  http://www.youtube.com/channel/UCWtOdmCdNbWv9l...   \n",
       "104749  http://www.youtube.com/channel/UC9OL1RKpOkDR0S...   \n",
       "104750  http://www.youtube.com/channel/UCpFtWLMLKj-t3X...   \n",
       "104751  http://www.youtube.com/channel/UCTIpbKVEDWuVhw...   \n",
       "\n",
       "                             title  \\\n",
       "0                        PewDiePie   \n",
       "1                         T-Series   \n",
       "2                    Justin Bieber   \n",
       "3                  5-Minute Crafts   \n",
       "4                              WWE   \n",
       "...                            ...   \n",
       "104747                  Ink Hyaena   \n",
       "104748              Gamer Princess   \n",
       "104749               Worship Guide   \n",
       "104750               Akani 「Edits」   \n",
       "104751  Equalification Productions   \n",
       "\n",
       "                                            trailer_title  \\\n",
       "0                                           bitch lasagna   \n",
       "1       Guru Randhawa: GOLIMAAR Lyrical Video | Bhusha...   \n",
       "2       DJ Khaled - No Brainer (Official Video) ft. Ju...   \n",
       "3       5-Minute Crafts compilation: This video is a t...   \n",
       "4       Braun Strowman and Brock Lesnar throw down bef...   \n",
       "...                                                   ...   \n",
       "104747                         Channel Trailer Ink Hyaena   \n",
       "104748                 Top Crew!! 2k League Grind Later !   \n",
       "104749  10,000 Reasons VERY EASY Tutorial (Matt Redman...   \n",
       "104750       Changing Nickname! Some informations + Test!   \n",
       "104751                           We Are All Created Equal   \n",
       "\n",
       "                                        trailer_url  videos  \n",
       "0       https://www.youtube.com/watch?v=6Dh-RL__uN4    3649  \n",
       "1       https://www.youtube.com/watch?v=nJ1f44JvlC8   12820  \n",
       "2       https://www.youtube.com/watch?v=kxloC1MKTpg     132  \n",
       "3       https://www.youtube.com/watch?v=YAjzcignrLU    2350  \n",
       "4       https://www.youtube.com/watch?v=l6d1w8lJsm4   37928  \n",
       "...                                             ...     ...  \n",
       "104747  https://www.youtube.com/watch?v=NFc1It0W4FM     142  \n",
       "104748  https://www.youtube.com/watch?v=gmudsW-lys8      77  \n",
       "104749  https://www.youtube.com/watch?v=J8JVVZAMOzI      17  \n",
       "104750  https://www.youtube.com/watch?v=IAScMklTm9s     126  \n",
       "104751  https://www.youtube.com/watch?v=WoPuOUd0yWk     128  \n",
       "\n",
       "[104752 rows x 14 columns]"
      ]
     },
     "execution_count": 1,
     "metadata": {},
     "output_type": "execute_result"
    }
   ],
   "source": [
    "import pandas as pd\n",
    "\n",
    "df = pd.read_csv(\"channels.csv\")\n",
    "df"
   ]
  },
  {
   "cell_type": "code",
   "execution_count": 2,
   "metadata": {},
   "outputs": [
    {
     "data": {
      "text/plain": [
       "{'Autos & Vehicles',\n",
       " 'Channel Trailer:',\n",
       " 'Comedy',\n",
       " 'Education',\n",
       " 'Entertainment',\n",
       " 'Example Video:',\n",
       " 'Film and Animation',\n",
       " 'Gaming',\n",
       " 'Howto & Style',\n",
       " 'Music',\n",
       " 'News & Politics',\n",
       " 'Nonprofits & Activism',\n",
       " 'People & Blogs',\n",
       " 'Pets & Animals',\n",
       " 'Science & Technology',\n",
       " 'Sports',\n",
       " 'Travel & Events'}"
      ]
     },
     "execution_count": 2,
     "metadata": {},
     "output_type": "execute_result"
    }
   ],
   "source": [
    "set(df['category_name'])"
   ]
  },
  {
   "cell_type": "code",
   "execution_count": 3,
   "metadata": {
    "scrolled": true
   },
   "outputs": [
    {
     "data": {
      "text/html": [
       "<div>\n",
       "<style scoped>\n",
       "    .dataframe tbody tr th:only-of-type {\n",
       "        vertical-align: middle;\n",
       "    }\n",
       "\n",
       "    .dataframe tbody tr th {\n",
       "        vertical-align: top;\n",
       "    }\n",
       "\n",
       "    .dataframe thead th {\n",
       "        text-align: right;\n",
       "    }\n",
       "</style>\n",
       "<table border=\"1\" class=\"dataframe\">\n",
       "  <thead>\n",
       "    <tr style=\"text-align: right;\">\n",
       "      <th></th>\n",
       "      <th>category_name</th>\n",
       "      <th>title</th>\n",
       "      <th>description</th>\n",
       "      <th>followers</th>\n",
       "      <th>videos</th>\n",
       "      <th>join_date</th>\n",
       "    </tr>\n",
       "  </thead>\n",
       "  <tbody>\n",
       "    <tr>\n",
       "      <th>39</th>\n",
       "      <td>Education</td>\n",
       "      <td>Cocomelon - Nursery Rhymes</td>\n",
       "      <td>At Cocomelon (formerly “ABCkidTV”), our goal i...</td>\n",
       "      <td>26274947</td>\n",
       "      <td>385</td>\n",
       "      <td>2006-09-01</td>\n",
       "    </tr>\n",
       "    <tr>\n",
       "      <th>144</th>\n",
       "      <td>Education</td>\n",
       "      <td>ChuChu TV Nursery Rhymes &amp; Kids Songs</td>\n",
       "      <td>ChuChu TV is designed to engage children throu...</td>\n",
       "      <td>20742541</td>\n",
       "      <td>268</td>\n",
       "      <td>2013-02-09</td>\n",
       "    </tr>\n",
       "    <tr>\n",
       "      <th>122</th>\n",
       "      <td>Education</td>\n",
       "      <td>BillionSurpriseToys - Nursery Rhymes &amp; Songs</td>\n",
       "      <td>Learn Kids Songs, Nursery Rhymes and more..  w...</td>\n",
       "      <td>18890789</td>\n",
       "      <td>234</td>\n",
       "      <td>2013-10-25</td>\n",
       "    </tr>\n",
       "    <tr>\n",
       "      <th>133</th>\n",
       "      <td>Education</td>\n",
       "      <td>Little Baby Bum - Nursery Rhymes &amp; Kids Songs</td>\n",
       "      <td>The best nursery rhyme videos for children on ...</td>\n",
       "      <td>16857674</td>\n",
       "      <td>731</td>\n",
       "      <td>2011-06-22</td>\n",
       "    </tr>\n",
       "    <tr>\n",
       "      <th>203</th>\n",
       "      <td>Education</td>\n",
       "      <td>CVS 3D Rhymes</td>\n",
       "      <td>3D Animation Nursery Rhymes, Stories and Short...</td>\n",
       "      <td>16481062</td>\n",
       "      <td>317</td>\n",
       "      <td>2008-08-26</td>\n",
       "    </tr>\n",
       "    <tr>\n",
       "      <th>...</th>\n",
       "      <td>...</td>\n",
       "      <td>...</td>\n",
       "      <td>...</td>\n",
       "      <td>...</td>\n",
       "      <td>...</td>\n",
       "      <td>...</td>\n",
       "    </tr>\n",
       "    <tr>\n",
       "      <th>104578</th>\n",
       "      <td>Education</td>\n",
       "      <td>Ram Verma</td>\n",
       "      <td>NLP Training in India by Ram Verma.\\r\\r\\nRam V...</td>\n",
       "      <td>14800</td>\n",
       "      <td>98</td>\n",
       "      <td>2011-10-22</td>\n",
       "    </tr>\n",
       "    <tr>\n",
       "      <th>104706</th>\n",
       "      <td>Education</td>\n",
       "      <td>No B.S. Inner Circle</td>\n",
       "      <td>Magnetic Marketing|No B.S. Inner Circle is a m...</td>\n",
       "      <td>14786</td>\n",
       "      <td>267</td>\n",
       "      <td>2009-09-17</td>\n",
       "    </tr>\n",
       "    <tr>\n",
       "      <th>104638</th>\n",
       "      <td>Education</td>\n",
       "      <td>HF Survival School</td>\n",
       "      <td>Hello , if you are interested in Hunting , Fis...</td>\n",
       "      <td>14774</td>\n",
       "      <td>86</td>\n",
       "      <td>2015-02-03</td>\n",
       "    </tr>\n",
       "    <tr>\n",
       "      <th>104673</th>\n",
       "      <td>Education</td>\n",
       "      <td>A/V Geeks</td>\n",
       "      <td>Films and videos from the A/V Geeks Film Archi...</td>\n",
       "      <td>14765</td>\n",
       "      <td>3239</td>\n",
       "      <td>2008-03-26</td>\n",
       "    </tr>\n",
       "    <tr>\n",
       "      <th>104731</th>\n",
       "      <td>Education</td>\n",
       "      <td>Mango Kids</td>\n",
       "      <td>Mango Kids is a fun, easy learning destination...</td>\n",
       "      <td>14756</td>\n",
       "      <td>515</td>\n",
       "      <td>2014-04-14</td>\n",
       "    </tr>\n",
       "  </tbody>\n",
       "</table>\n",
       "<p>5522 rows × 6 columns</p>\n",
       "</div>"
      ],
      "text/plain": [
       "       category_name                                          title  \\\n",
       "39         Education                     Cocomelon - Nursery Rhymes   \n",
       "144        Education          ChuChu TV Nursery Rhymes & Kids Songs   \n",
       "122        Education   BillionSurpriseToys - Nursery Rhymes & Songs   \n",
       "133        Education  Little Baby Bum - Nursery Rhymes & Kids Songs   \n",
       "203        Education                                  CVS 3D Rhymes   \n",
       "...              ...                                            ...   \n",
       "104578     Education                                      Ram Verma   \n",
       "104706     Education                           No B.S. Inner Circle   \n",
       "104638     Education                             HF Survival School   \n",
       "104673     Education                                      A/V Geeks   \n",
       "104731     Education                                     Mango Kids   \n",
       "\n",
       "                                              description  followers  videos  \\\n",
       "39      At Cocomelon (formerly “ABCkidTV”), our goal i...   26274947     385   \n",
       "144     ChuChu TV is designed to engage children throu...   20742541     268   \n",
       "122     Learn Kids Songs, Nursery Rhymes and more..  w...   18890789     234   \n",
       "133     The best nursery rhyme videos for children on ...   16857674     731   \n",
       "203     3D Animation Nursery Rhymes, Stories and Short...   16481062     317   \n",
       "...                                                   ...        ...     ...   \n",
       "104578  NLP Training in India by Ram Verma.\\r\\r\\nRam V...      14800      98   \n",
       "104706  Magnetic Marketing|No B.S. Inner Circle is a m...      14786     267   \n",
       "104638  Hello , if you are interested in Hunting , Fis...      14774      86   \n",
       "104673  Films and videos from the A/V Geeks Film Archi...      14765    3239   \n",
       "104731  Mango Kids is a fun, easy learning destination...      14756     515   \n",
       "\n",
       "         join_date  \n",
       "39      2006-09-01  \n",
       "144     2013-02-09  \n",
       "122     2013-10-25  \n",
       "133     2011-06-22  \n",
       "203     2008-08-26  \n",
       "...            ...  \n",
       "104578  2011-10-22  \n",
       "104706  2009-09-17  \n",
       "104638  2015-02-03  \n",
       "104673  2008-03-26  \n",
       "104731  2014-04-14  \n",
       "\n",
       "[5522 rows x 6 columns]"
      ]
     },
     "execution_count": 3,
     "metadata": {},
     "output_type": "execute_result"
    }
   ],
   "source": [
    "Edu=df[df[\"category_id\"]==27]\n",
    "Edu=Edu.sort_values([\"followers\"], ascending = False)\n",
    "Edu=Edu[['category_name','title','description','followers','videos','join_date']]\n",
    "Edu"
   ]
  },
  {
   "cell_type": "markdown",
   "metadata": {},
   "source": [
    "## Data Cleaning"
   ]
  },
  {
   "cell_type": "code",
   "execution_count": 4,
   "metadata": {},
   "outputs": [
    {
     "name": "stdout",
     "output_type": "stream",
     "text": [
      "There are 12 duplicated values.\n"
     ]
    }
   ],
   "source": [
    "duplicate = Edu.duplicated()\n",
    "print('There are', duplicate.sum(), 'duplicated values.')\n",
    "Edu.drop_duplicates(inplace=True)"
   ]
  },
  {
   "cell_type": "code",
   "execution_count": 5,
   "metadata": {},
   "outputs": [],
   "source": [
    "Edu=Edu[Edu.title.map(lambda x: x.isascii())] #remove non-english title"
   ]
  },
  {
   "cell_type": "code",
   "execution_count": 6,
   "metadata": {},
   "outputs": [],
   "source": [
    "#Edu=Edu[Edu.description.map(lambda x: x.isascii())]  \n",
    "#remove non-english description will result in essential lost in dataset"
   ]
  },
  {
   "cell_type": "code",
   "execution_count": 7,
   "metadata": {},
   "outputs": [
    {
     "data": {
      "text/plain": [
       "4983"
      ]
     },
     "execution_count": 7,
     "metadata": {},
     "output_type": "execute_result"
    }
   ],
   "source": [
    "Edu=Edu.dropna(subset=[\"description\"])  #remove those with empty description\n",
    "len(Edu)"
   ]
  },
  {
   "cell_type": "code",
   "execution_count": 8,
   "metadata": {},
   "outputs": [],
   "source": [
    "Edu[\"description\"]=Edu[\"description\"].str.lower()\n",
    "Edu[\"title\"]=Edu[\"title\"].str.lower()"
   ]
  },
  {
   "cell_type": "markdown",
   "metadata": {},
   "source": [
    "## Remove channels for kids education"
   ]
  },
  {
   "cell_type": "code",
   "execution_count": 9,
   "metadata": {},
   "outputs": [
    {
     "data": {
      "text/plain": [
       "542"
      ]
     },
     "execution_count": 9,
     "metadata": {},
     "output_type": "execute_result"
    }
   ],
   "source": [
    "Edu_kids=Edu[Edu[\"title\"].str.contains(\"kids\")\n",
    "            |Edu[\"description\"].str.contains(\"kids\")\n",
    "            |Edu[\"description\"].str.contains(\"nursery\")\n",
    "            |Edu[\"description\"].str.contains(\"baby\")\n",
    "            |Edu[\"description\"].str.contains(\"children\")\n",
    "            |Edu[\"description\"].str.contains(\"kindergarten\")\n",
    "            |Edu[\"title\"].str.contains(\"baby\")]\n",
    "len(Edu_kids)"
   ]
  },
  {
   "cell_type": "code",
   "execution_count": 10,
   "metadata": {},
   "outputs": [
    {
     "data": {
      "text/plain": [
       "4441"
      ]
     },
     "execution_count": 10,
     "metadata": {},
     "output_type": "execute_result"
    }
   ],
   "source": [
    "Edu_nokids=pd.concat([Edu_kids, Edu]).drop_duplicates(keep=False)\n",
    "len(Edu_nokids) "
   ]
  },
  {
   "cell_type": "markdown",
   "metadata": {},
   "source": [
    "## 1. Top 5 Education Channel(remove those for kids)"
   ]
  },
  {
   "cell_type": "code",
   "execution_count": 11,
   "metadata": {},
   "outputs": [
    {
     "data": {
      "text/html": [
       "<div>\n",
       "<style scoped>\n",
       "    .dataframe tbody tr th:only-of-type {\n",
       "        vertical-align: middle;\n",
       "    }\n",
       "\n",
       "    .dataframe tbody tr th {\n",
       "        vertical-align: top;\n",
       "    }\n",
       "\n",
       "    .dataframe thead th {\n",
       "        text-align: right;\n",
       "    }\n",
       "</style>\n",
       "<table border=\"1\" class=\"dataframe\">\n",
       "  <thead>\n",
       "    <tr style=\"text-align: right;\">\n",
       "      <th></th>\n",
       "      <th>category_name</th>\n",
       "      <th>title</th>\n",
       "      <th>description</th>\n",
       "      <th>followers</th>\n",
       "      <th>videos</th>\n",
       "      <th>join_date</th>\n",
       "    </tr>\n",
       "  </thead>\n",
       "  <tbody>\n",
       "    <tr>\n",
       "      <th>230</th>\n",
       "      <td>Education</td>\n",
       "      <td>the king of random</td>\n",
       "      <td>we make videos dedicated to exploring life thr...</td>\n",
       "      <td>10450207</td>\n",
       "      <td>770</td>\n",
       "      <td>2010-01-04</td>\n",
       "    </tr>\n",
       "    <tr>\n",
       "      <th>216</th>\n",
       "      <td>Education</td>\n",
       "      <td>crashcourse</td>\n",
       "      <td>tons of awesome courses in one awesome channel...</td>\n",
       "      <td>8506610</td>\n",
       "      <td>1036</td>\n",
       "      <td>2006-05-20</td>\n",
       "    </tr>\n",
       "    <tr>\n",
       "      <th>332</th>\n",
       "      <td>Education</td>\n",
       "      <td>ted-ed</td>\n",
       "      <td>ted-ed’s commitment to creating lessons worth ...</td>\n",
       "      <td>7881771</td>\n",
       "      <td>1511</td>\n",
       "      <td>2011-03-01</td>\n",
       "    </tr>\n",
       "    <tr>\n",
       "      <th>422</th>\n",
       "      <td>Education</td>\n",
       "      <td>matthewsantoro</td>\n",
       "      <td>hi! my name is matt santoro. i make top 10 inf...</td>\n",
       "      <td>6184169</td>\n",
       "      <td>720</td>\n",
       "      <td>2010-02-13</td>\n",
       "    </tr>\n",
       "    <tr>\n",
       "      <th>629</th>\n",
       "      <td>Education</td>\n",
       "      <td>planet dolan</td>\n",
       "      <td>story &amp; fact countdowns ft. the planet dolan c...</td>\n",
       "      <td>5762164</td>\n",
       "      <td>1115</td>\n",
       "      <td>2014-03-01</td>\n",
       "    </tr>\n",
       "  </tbody>\n",
       "</table>\n",
       "</div>"
      ],
      "text/plain": [
       "    category_name               title  \\\n",
       "230     Education  the king of random   \n",
       "216     Education         crashcourse   \n",
       "332     Education              ted-ed   \n",
       "422     Education      matthewsantoro   \n",
       "629     Education        planet dolan   \n",
       "\n",
       "                                           description  followers  videos  \\\n",
       "230  we make videos dedicated to exploring life thr...   10450207     770   \n",
       "216  tons of awesome courses in one awesome channel...    8506610    1036   \n",
       "332  ted-ed’s commitment to creating lessons worth ...    7881771    1511   \n",
       "422  hi! my name is matt santoro. i make top 10 inf...    6184169     720   \n",
       "629  story & fact countdowns ft. the planet dolan c...    5762164    1115   \n",
       "\n",
       "      join_date  \n",
       "230  2010-01-04  \n",
       "216  2006-05-20  \n",
       "332  2011-03-01  \n",
       "422  2010-02-13  \n",
       "629  2014-03-01  "
      ]
     },
     "execution_count": 11,
     "metadata": {},
     "output_type": "execute_result"
    }
   ],
   "source": [
    "Edu_nokids1=Edu_nokids.head(5)\n",
    "Edu_nokids1"
   ]
  },
  {
   "cell_type": "code",
   "execution_count": 12,
   "metadata": {},
   "outputs": [
    {
     "data": {
      "image/png": "[encoded data removed]",
      "text/plain": [
       "<Figure size 1440x216 with 2 Axes>"
      ]
     },
     "metadata": {
      "needs_background": "light"
     },
     "output_type": "display_data"
    }
   ],
   "source": [
    "import matplotlib.pyplot as plt\n",
    "fig, ax = plt.subplots(1,2,figsize=(20,3))\n",
    "ax[0].bar(Edu_nokids1[\"title\"], Edu_nokids1[\"followers\"])\n",
    "ax[1].bar(Edu_nokids1[\"title\"], Edu_nokids1[\"videos\"])\n",
    "\n",
    "ax[0].set(ylabel = \"Number of followers\", title = \"Number of followers of Top 5 Education Channel\")\n",
    "ax[1].set(ylabel = \"Number of videos\",title = \"Number of videos of Top 5 Education Channel\")\n",
    "plt.show()"
   ]
  },
  {
   "cell_type": "markdown",
   "metadata": {},
   "source": [
    "#### The King of Random (aka TKOR) \n",
    "a place where curiosity, creativity, and experimentation meet. We're all about learning how things work, doing cool projects, and sharing our discoveries with you. \n",
    "\n",
    "#### Crash Course\n",
    "produced more than 32 courses on a wide variety of subjects, including organic chemistry, literature, world history, biology, philosophy, theater, ecology, and many more! **Including many courses for investing/taxes/insurance, each about 10 min long. Might be Onomy's competitor.**\n",
    "\n",
    "#### TED-Ed\n",
    "creating lessons worth sharing is an extension of TED’s mission of spreading great ideas.  **Cover topics about investing, not the rest. Each video is about 5 min with carton-like pictures.** \n",
    "\n",
    "#### Matthew Santoro \n",
    "a Canadian YouTuber and comedian. He produces top ten lists and \"50 Amazing Facts\" videos on his main channel.  \n",
    "\n",
    "#### Planet Dolan\n",
    "answers fan-submitted questions in a way that is completely inaccurate (most of the time), but is meant to convince the audience of its validity, or simply for entertainment purpose."
   ]
  },
  {
   "cell_type": "markdown",
   "metadata": {},
   "source": [
    "## 2. Top 5 Courses Related Channels"
   ]
  },
  {
   "cell_type": "code",
   "execution_count": 66,
   "metadata": {},
   "outputs": [
    {
     "data": {
      "text/plain": [
       "452"
      ]
     },
     "execution_count": 66,
     "metadata": {},
     "output_type": "execute_result"
    }
   ],
   "source": [
    "courses=Edu_nokids[Edu_nokids['title'].str.contains(\"course\")\n",
    "                   |Edu_nokids['description'].str.contains(\"courses\")\n",
    "                   |Edu_nokids['description'].str.contains(\"course\")\n",
    "                   |Edu_nokids['description'].str.contains(\"lessons\")\n",
    "                   |Edu_nokids['description'].str.contains(\"instruction\")]\n",
    "len(courses)"
   ]
  },
  {
   "cell_type": "code",
   "execution_count": 67,
   "metadata": {},
   "outputs": [
    {
     "data": {
      "text/plain": [
       "216                                           crashcourse\n",
       "332                                                ted-ed\n",
       "802                                          khan academy\n",
       "1105    learn english with let's talk - free english l...\n",
       "1602                                            unacademy\n",
       "Name: title, dtype: object"
      ]
     },
     "execution_count": 67,
     "metadata": {},
     "output_type": "execute_result"
    }
   ],
   "source": [
    "courses1=courses.head(5)\n",
    "courses1['title']"
   ]
  },
  {
   "cell_type": "markdown",
   "metadata": {},
   "source": [
    "#### Unacademy\n",
    "india’s largest free education initiative focuses on Academic teaching. Almost no overlap with Onomy.\n",
    "\n",
    "#### Learn English with Let's Talk - Free English Lessons\n",
    "India platform of learning English for Business, IELTS, and TOFEL. Uploading 10 videos per month, each about 10 min.  Their topics have almost no overlap with Onomy.\n",
    "\n",
    "#### Khan Academy\n",
    "Our interactive practice problems, articles, and videos help students succeed in math, biology, chemistry, physics, history, economics, finance, grammar, and many other topics.**Including many courses for investing/taxes/insurance, each about 10 min long. Might be Onomy's competitor.** "
   ]
  },
  {
   "cell_type": "code",
   "execution_count": 73,
   "metadata": {},
   "outputs": [
    {
     "data": {
      "image/png": "[encoded data removed]",
      "text/plain": [
       "<Figure size 1296x216 with 1 Axes>"
      ]
     },
     "metadata": {
      "needs_background": "light"
     },
     "output_type": "display_data"
    }
   ],
   "source": [
    "import matplotlib.pyplot as plt\n",
    "fig, ax = plt.subplots(1,figsize=(18,3))\n",
    "plt.bar(courses1[\"title\"], courses1[\"followers\"])\n",
    "\n",
    "plt.suptitle(\"Number of followers of Top 5 Course-related Channel\")\n",
    "plt.show()"
   ]
  },
  {
   "cell_type": "code",
   "execution_count": 74,
   "metadata": {},
   "outputs": [
    {
     "data": {
      "image/png": "[encoded data removed]",
      "text/plain": [
       "<Figure size 1296x216 with 1 Axes>"
      ]
     },
     "metadata": {
      "needs_background": "light"
     },
     "output_type": "display_data"
    }
   ],
   "source": [
    "fig, ax = plt.subplots(1,figsize=(18,3))\n",
    "plt.bar(courses1[\"title\"], courses1[\"videos\"])\n",
    "\n",
    "plt.suptitle(\"Number of videos of Top 5 Course-related Channel\")\n",
    "plt.show()"
   ]
  },
  {
   "cell_type": "markdown",
   "metadata": {},
   "source": [
    "### Attempts to find relationship between number of followers vs videos"
   ]
  },
  {
   "cell_type": "code",
   "execution_count": 15,
   "metadata": {},
   "outputs": [
    {
     "data": {
      "text/plain": [
       "Text(0.5, 1.0, 'Number of videos vs Number of followers')"
      ]
     },
     "execution_count": 15,
     "metadata": {},
     "output_type": "execute_result"
    },
    {
     "data": {
      "image/png": "[encoded data removed]",
      "text/plain": [
       "<Figure size 576x216 with 1 Axes>"
      ]
     },
     "metadata": {
      "needs_background": "light"
     },
     "output_type": "display_data"
    }
   ],
   "source": [
    "fig, axes = plt.subplots(1,figsize=(8,3))\n",
    "plt.scatter(courses1[\"videos\"], courses1[\"followers\"])\n",
    "plt.xlabel('Number of videos')\n",
    "plt.ylabel('Number of followers')\n",
    "plt.title('Number of videos vs Number of followers')"
   ]
  },
  {
   "cell_type": "code",
   "execution_count": 16,
   "metadata": {},
   "outputs": [
    {
     "data": {
      "text/plain": [
       "Text(0.5, 1.0, 'Number of videos vs Number of followers')"
      ]
     },
     "execution_count": 16,
     "metadata": {},
     "output_type": "execute_result"
    },
    {
     "data": {
      "image/png": "[encoded data removed]",
      "text/plain": [
       "<Figure size 576x216 with 1 Axes>"
      ]
     },
     "metadata": {
      "needs_background": "light"
     },
     "output_type": "display_data"
    }
   ],
   "source": [
    "Edu_nokids1=Edu_nokids.head(100)\n",
    "fig, axes = plt.subplots(1,figsize=(8,3))\n",
    "plt.scatter(Edu_nokids[\"videos\"], Edu_nokids[\"followers\"])\n",
    "plt.xlabel('Number of videos')\n",
    "plt.ylabel('Number of followers')\n",
    "plt.title('Number of videos vs Number of followers')"
   ]
  },
  {
   "cell_type": "code",
   "execution_count": 17,
   "metadata": {},
   "outputs": [
    {
     "data": {
      "text/html": [
       "<div>\n",
       "<style scoped>\n",
       "    .dataframe tbody tr th:only-of-type {\n",
       "        vertical-align: middle;\n",
       "    }\n",
       "\n",
       "    .dataframe tbody tr th {\n",
       "        vertical-align: top;\n",
       "    }\n",
       "\n",
       "    .dataframe thead th {\n",
       "        text-align: right;\n",
       "    }\n",
       "</style>\n",
       "<table border=\"1\" class=\"dataframe\">\n",
       "  <thead>\n",
       "    <tr style=\"text-align: right;\">\n",
       "      <th></th>\n",
       "      <th>category_name</th>\n",
       "      <th>title</th>\n",
       "      <th>description</th>\n",
       "      <th>followers</th>\n",
       "      <th>videos</th>\n",
       "      <th>join_date</th>\n",
       "    </tr>\n",
       "  </thead>\n",
       "  <tbody>\n",
       "    <tr>\n",
       "      <th>50091</th>\n",
       "      <td>Education</td>\n",
       "      <td>doubtnut</td>\n",
       "      <td>doubtnut app is world’s biggest platform for f...</td>\n",
       "      <td>58772</td>\n",
       "      <td>72083</td>\n",
       "      <td>2015-06-08</td>\n",
       "    </tr>\n",
       "    <tr>\n",
       "      <th>8500</th>\n",
       "      <td>Education</td>\n",
       "      <td>iskcon desire tree</td>\n",
       "      <td>largest official channel of international soci...</td>\n",
       "      <td>587133</td>\n",
       "      <td>48023</td>\n",
       "      <td>2009-04-10</td>\n",
       "    </tr>\n",
       "    <tr>\n",
       "      <th>41231</th>\n",
       "      <td>Education</td>\n",
       "      <td>vu</td>\n",
       "      <td>course lectures from virtual university of pak...</td>\n",
       "      <td>81283</td>\n",
       "      <td>29510</td>\n",
       "      <td>2005-11-07</td>\n",
       "    </tr>\n",
       "    <tr>\n",
       "      <th>14011</th>\n",
       "      <td>Education</td>\n",
       "      <td>udacity</td>\n",
       "      <td>udacity, a pioneer in online education, is bui...</td>\n",
       "      <td>344489</td>\n",
       "      <td>29422</td>\n",
       "      <td>2012-02-02</td>\n",
       "    </tr>\n",
       "    <tr>\n",
       "      <th>3967</th>\n",
       "      <td>Education</td>\n",
       "      <td>irc tv</td>\n",
       "      <td>official youtube channel of adv. faiz syed\\r\\r...</td>\n",
       "      <td>1233575</td>\n",
       "      <td>22436</td>\n",
       "      <td>2009-12-04</td>\n",
       "    </tr>\n",
       "    <tr>\n",
       "      <th>73156</th>\n",
       "      <td>Education</td>\n",
       "      <td>huntleyfilmarchives</td>\n",
       "      <td>a selection of films from the collections of h...</td>\n",
       "      <td>29965</td>\n",
       "      <td>20247</td>\n",
       "      <td>2008-12-11</td>\n",
       "    </tr>\n",
       "    <tr>\n",
       "      <th>3543</th>\n",
       "      <td>Education</td>\n",
       "      <td>nptelhrd</td>\n",
       "      <td>your favorite courses available for certificat...</td>\n",
       "      <td>1334921</td>\n",
       "      <td>20085</td>\n",
       "      <td>2007-11-28</td>\n",
       "    </tr>\n",
       "    <tr>\n",
       "      <th>24455</th>\n",
       "      <td>Education</td>\n",
       "      <td>ewtn</td>\n",
       "      <td>ewtn global catholic network, now entering its...</td>\n",
       "      <td>174748</td>\n",
       "      <td>19259</td>\n",
       "      <td>2006-11-23</td>\n",
       "    </tr>\n",
       "    <tr>\n",
       "      <th>3475</th>\n",
       "      <td>Education</td>\n",
       "      <td>mahalodotcom</td>\n",
       "      <td>learn anything on mahalo.com!\\r\\r\\r\\n\\r\\r\\r\\no...</td>\n",
       "      <td>1392518</td>\n",
       "      <td>14034</td>\n",
       "      <td>2007-06-08</td>\n",
       "    </tr>\n",
       "  </tbody>\n",
       "</table>\n",
       "</div>"
      ],
      "text/plain": [
       "      category_name                title  \\\n",
       "50091     Education             doubtnut   \n",
       "8500      Education   iskcon desire tree   \n",
       "41231     Education                   vu   \n",
       "14011     Education              udacity   \n",
       "3967      Education               irc tv   \n",
       "73156     Education  huntleyfilmarchives   \n",
       "3543      Education             nptelhrd   \n",
       "24455     Education                 ewtn   \n",
       "3475      Education         mahalodotcom   \n",
       "\n",
       "                                             description  followers  videos  \\\n",
       "50091  doubtnut app is world’s biggest platform for f...      58772   72083   \n",
       "8500   largest official channel of international soci...     587133   48023   \n",
       "41231  course lectures from virtual university of pak...      81283   29510   \n",
       "14011  udacity, a pioneer in online education, is bui...     344489   29422   \n",
       "3967   official youtube channel of adv. faiz syed\\r\\r...    1233575   22436   \n",
       "73156  a selection of films from the collections of h...      29965   20247   \n",
       "3543   your favorite courses available for certificat...    1334921   20085   \n",
       "24455  ewtn global catholic network, now entering its...     174748   19259   \n",
       "3475   learn anything on mahalo.com!\\r\\r\\r\\n\\r\\r\\r\\no...    1392518   14034   \n",
       "\n",
       "        join_date  \n",
       "50091  2015-06-08  \n",
       "8500   2009-04-10  \n",
       "41231  2005-11-07  \n",
       "14011  2012-02-02  \n",
       "3967   2009-12-04  \n",
       "73156  2008-12-11  \n",
       "3543   2007-11-28  \n",
       "24455  2006-11-23  \n",
       "3475   2007-06-08  "
      ]
     },
     "execution_count": 17,
     "metadata": {},
     "output_type": "execute_result"
    }
   ],
   "source": [
    "Edu_nokids.sort_values(\"videos\",ascending=False).head(9)"
   ]
  },
  {
   "cell_type": "code",
   "execution_count": 19,
   "metadata": {},
   "outputs": [
    {
     "data": {
      "text/plain": [
       "Text(0.5, 1.0, 'Number of videos vs Number of followers')"
      ]
     },
     "execution_count": 19,
     "metadata": {},
     "output_type": "execute_result"
    },
    {
     "data": {
      "image/png": "[encoded data removed]",
      "text/plain": [
       "<Figure size 576x216 with 1 Axes>"
      ]
     },
     "metadata": {
      "needs_background": "light"
     },
     "output_type": "display_data"
    }
   ],
   "source": [
    "fig, axes = plt.subplots(1,figsize=(8,3))\n",
    "plt.scatter(courses[\"videos\"], courses[\"followers\"])\n",
    "plt.xlabel('Number of videos')\n",
    "plt.ylabel('Number of followers')\n",
    "plt.title('Number of videos vs Number of followers')"
   ]
  },
  {
   "cell_type": "code",
   "execution_count": 65,
   "metadata": {},
   "outputs": [
    {
     "data": {
      "text/html": [
       "<div>\n",
       "<style scoped>\n",
       "    .dataframe tbody tr th:only-of-type {\n",
       "        vertical-align: middle;\n",
       "    }\n",
       "\n",
       "    .dataframe tbody tr th {\n",
       "        vertical-align: top;\n",
       "    }\n",
       "\n",
       "    .dataframe thead th {\n",
       "        text-align: right;\n",
       "    }\n",
       "</style>\n",
       "<table border=\"1\" class=\"dataframe\">\n",
       "  <thead>\n",
       "    <tr style=\"text-align: right;\">\n",
       "      <th></th>\n",
       "      <th>category_name</th>\n",
       "      <th>title</th>\n",
       "      <th>description</th>\n",
       "      <th>followers</th>\n",
       "      <th>videos</th>\n",
       "      <th>join_date</th>\n",
       "    </tr>\n",
       "  </thead>\n",
       "  <tbody>\n",
       "    <tr>\n",
       "      <th>41231</th>\n",
       "      <td>Education</td>\n",
       "      <td>vu</td>\n",
       "      <td>course lectures from virtual university of pak...</td>\n",
       "      <td>81283</td>\n",
       "      <td>29510</td>\n",
       "      <td>2005-11-07</td>\n",
       "    </tr>\n",
       "    <tr>\n",
       "      <th>3543</th>\n",
       "      <td>Education</td>\n",
       "      <td>nptelhrd</td>\n",
       "      <td>your favorite courses available for certificat...</td>\n",
       "      <td>1334921</td>\n",
       "      <td>20085</td>\n",
       "      <td>2007-11-28</td>\n",
       "    </tr>\n",
       "    <tr>\n",
       "      <th>14564</th>\n",
       "      <td>Education</td>\n",
       "      <td>durga software solutions</td>\n",
       "      <td>durga software solutions is an institute, whic...</td>\n",
       "      <td>330635</td>\n",
       "      <td>8834</td>\n",
       "      <td>2014-02-03</td>\n",
       "    </tr>\n",
       "    <tr>\n",
       "      <th>802</th>\n",
       "      <td>Education</td>\n",
       "      <td>khan academy</td>\n",
       "      <td>khan academy is a 501(c)(3) nonprofit organiza...</td>\n",
       "      <td>4426023</td>\n",
       "      <td>7185</td>\n",
       "      <td>2006-11-17</td>\n",
       "    </tr>\n",
       "    <tr>\n",
       "      <th>36149</th>\n",
       "      <td>Education</td>\n",
       "      <td>mathispower4u</td>\n",
       "      <td>this channel provides math tutorials from basi...</td>\n",
       "      <td>99947</td>\n",
       "      <td>6108</td>\n",
       "      <td>2008-01-10</td>\n",
       "    </tr>\n",
       "    <tr>\n",
       "      <th>1602</th>\n",
       "      <td>Education</td>\n",
       "      <td>unacademy</td>\n",
       "      <td>unacademy.com is india’s largest free educatio...</td>\n",
       "      <td>2623122</td>\n",
       "      <td>6067</td>\n",
       "      <td>2010-12-26</td>\n",
       "    </tr>\n",
       "    <tr>\n",
       "      <th>7961</th>\n",
       "      <td>Education</td>\n",
       "      <td>examfear education</td>\n",
       "      <td>examfear education is india\\'s number 1 free e...</td>\n",
       "      <td>636098</td>\n",
       "      <td>5898</td>\n",
       "      <td>2011-07-14</td>\n",
       "    </tr>\n",
       "    <tr>\n",
       "      <th>2669</th>\n",
       "      <td>Education</td>\n",
       "      <td>mit opencourseware</td>\n",
       "      <td>whether you’re a student, a teacher, or simply...</td>\n",
       "      <td>1763027</td>\n",
       "      <td>5161</td>\n",
       "      <td>2005-10-11</td>\n",
       "    </tr>\n",
       "    <tr>\n",
       "      <th>14165</th>\n",
       "      <td>Education</td>\n",
       "      <td>ekeeda</td>\n",
       "      <td>diploma &amp; degree engineering video lectures, c...</td>\n",
       "      <td>341490</td>\n",
       "      <td>4852</td>\n",
       "      <td>2015-06-29</td>\n",
       "    </tr>\n",
       "  </tbody>\n",
       "</table>\n",
       "</div>"
      ],
      "text/plain": [
       "      category_name                     title  \\\n",
       "41231     Education                        vu   \n",
       "3543      Education                  nptelhrd   \n",
       "14564     Education  durga software solutions   \n",
       "802       Education              khan academy   \n",
       "36149     Education             mathispower4u   \n",
       "1602      Education                 unacademy   \n",
       "7961      Education        examfear education   \n",
       "2669      Education        mit opencourseware   \n",
       "14165     Education                    ekeeda   \n",
       "\n",
       "                                             description  followers  videos  \\\n",
       "41231  course lectures from virtual university of pak...      81283   29510   \n",
       "3543   your favorite courses available for certificat...    1334921   20085   \n",
       "14564  durga software solutions is an institute, whic...     330635    8834   \n",
       "802    khan academy is a 501(c)(3) nonprofit organiza...    4426023    7185   \n",
       "36149  this channel provides math tutorials from basi...      99947    6108   \n",
       "1602   unacademy.com is india’s largest free educatio...    2623122    6067   \n",
       "7961   examfear education is india\\'s number 1 free e...     636098    5898   \n",
       "2669   whether you’re a student, a teacher, or simply...    1763027    5161   \n",
       "14165  diploma & degree engineering video lectures, c...     341490    4852   \n",
       "\n",
       "        join_date  \n",
       "41231  2005-11-07  \n",
       "3543   2007-11-28  \n",
       "14564  2014-02-03  \n",
       "802    2006-11-17  \n",
       "36149  2008-01-10  \n",
       "1602   2010-12-26  \n",
       "7961   2011-07-14  \n",
       "2669   2005-10-11  \n",
       "14165  2015-06-29  "
      ]
     },
     "execution_count": 65,
     "metadata": {},
     "output_type": "execute_result"
    }
   ],
   "source": [
    "courses.sort_values(\"videos\",ascending=False).head(9)"
   ]
  },
  {
   "cell_type": "markdown",
   "metadata": {},
   "source": [
    "## 3. Potential Competitors Identified based on \"similar content\""
   ]
  },
  {
   "cell_type": "code",
   "execution_count": 20,
   "metadata": {},
   "outputs": [
    {
     "data": {
      "text/html": [
       "<div>\n",
       "<style scoped>\n",
       "    .dataframe tbody tr th:only-of-type {\n",
       "        vertical-align: middle;\n",
       "    }\n",
       "\n",
       "    .dataframe tbody tr th {\n",
       "        vertical-align: top;\n",
       "    }\n",
       "\n",
       "    .dataframe thead th {\n",
       "        text-align: right;\n",
       "    }\n",
       "</style>\n",
       "<table border=\"1\" class=\"dataframe\">\n",
       "  <thead>\n",
       "    <tr style=\"text-align: right;\">\n",
       "      <th></th>\n",
       "      <th>category_name</th>\n",
       "      <th>title</th>\n",
       "      <th>description</th>\n",
       "      <th>followers</th>\n",
       "      <th>videos</th>\n",
       "      <th>join_date</th>\n",
       "    </tr>\n",
       "  </thead>\n",
       "  <tbody>\n",
       "    <tr>\n",
       "      <th>216</th>\n",
       "      <td>Education</td>\n",
       "      <td>crashcourse</td>\n",
       "      <td>tons of awesome courses in one awesome channel...</td>\n",
       "      <td>8506610</td>\n",
       "      <td>1036</td>\n",
       "      <td>2006-05-20</td>\n",
       "    </tr>\n",
       "    <tr>\n",
       "      <th>332</th>\n",
       "      <td>Education</td>\n",
       "      <td>ted-ed</td>\n",
       "      <td>ted-ed’s commitment to creating lessons worth ...</td>\n",
       "      <td>7881771</td>\n",
       "      <td>1511</td>\n",
       "      <td>2011-03-01</td>\n",
       "    </tr>\n",
       "    <tr>\n",
       "      <th>802</th>\n",
       "      <td>Education</td>\n",
       "      <td>khan academy</td>\n",
       "      <td>khan academy is a 501(c)(3) nonprofit organiza...</td>\n",
       "      <td>4426023</td>\n",
       "      <td>7185</td>\n",
       "      <td>2006-11-17</td>\n",
       "    </tr>\n",
       "    <tr>\n",
       "      <th>2669</th>\n",
       "      <td>Education</td>\n",
       "      <td>mit opencourseware</td>\n",
       "      <td>whether you’re a student, a teacher, or simply...</td>\n",
       "      <td>1763027</td>\n",
       "      <td>5161</td>\n",
       "      <td>2005-10-11</td>\n",
       "    </tr>\n",
       "  </tbody>\n",
       "</table>\n",
       "</div>"
      ],
      "text/plain": [
       "     category_name               title  \\\n",
       "216      Education         crashcourse   \n",
       "332      Education              ted-ed   \n",
       "802      Education        khan academy   \n",
       "2669     Education  mit opencourseware   \n",
       "\n",
       "                                            description  followers  videos  \\\n",
       "216   tons of awesome courses in one awesome channel...    8506610    1036   \n",
       "332   ted-ed’s commitment to creating lessons worth ...    7881771    1511   \n",
       "802   khan academy is a 501(c)(3) nonprofit organiza...    4426023    7185   \n",
       "2669  whether you’re a student, a teacher, or simply...    1763027    5161   \n",
       "\n",
       "       join_date  \n",
       "216   2006-05-20  \n",
       "332   2011-03-01  \n",
       "802   2006-11-17  \n",
       "2669  2005-10-11  "
      ]
     },
     "execution_count": 20,
     "metadata": {},
     "output_type": "execute_result"
    }
   ],
   "source": [
    "#get these 4 channels by previous research about their content stated in description(overlap with Onomy)\n",
    "BigFish=courses.loc[[216,332,802,2669],:] \n",
    "BigFish"
   ]
  },
  {
   "cell_type": "code",
   "execution_count": 21,
   "metadata": {},
   "outputs": [
    {
     "data": {
      "image/png": "[encoded data removed]",
      "text/plain": [
       "<Figure size 1440x216 with 2 Axes>"
      ]
     },
     "metadata": {
      "needs_background": "light"
     },
     "output_type": "display_data"
    }
   ],
   "source": [
    "fig, ax = plt.subplots(1,2,figsize=(20,3))\n",
    "ax[0].bar(BigFish[\"title\"], BigFish[\"followers\"])\n",
    "ax[1].bar(BigFish[\"title\"], BigFish[\"videos\"])\n",
    "\n",
    "ax[0].set(ylabel = \"Number of followers\", title = \"Number of followers of Potential Competitors\")\n",
    "ax[1].set(ylabel = \"Number of videos\",title = \"Number of videos of Potential Competitors\")\n",
    "plt.show()"
   ]
  },
  {
   "cell_type": "markdown",
   "metadata": {},
   "source": [
    "Number of videos has no relationship with number of followers. For Khan Academy and MIT Opencourseware, they both provide wide range of courses including academic one, so their video numbers are large. For Crashcourse, it has the least number of videos but with the most followers. Considered that Crashcourse covers most of topics taught in Onomy, it might be insightful to study Crashcourse's strategies in attracting viewers.  "
   ]
  },
  {
   "cell_type": "markdown",
   "metadata": {},
   "source": [
    "### Thoughts\n",
    "Both CrashCourse and Khan Academy offer similar courses as Onomy. Since they offer all kinds of courses including the academic one, college students(people struggling with adulting concern) may be more familiar with these learning platforms and more likely to click in their videos instead of Onomy.\n",
    "\n",
    "Questions:\n",
    "1. How does Onomy define their target customers?(Age, educational level, US/Inl) How does it differ from target customers of CrashCourse and Khan Academy? \n",
    "2. What are the comparative advantage of Onomy to attract users to take Onomy courses instead of similar courses above?\n",
    "3. What are current marketing strategies/channels that make people get to know about Onomy?"
   ]
  },
  {
   "cell_type": "markdown",
   "metadata": {},
   "source": [
    "## 4. Filter channel description by keywords"
   ]
  },
  {
   "cell_type": "markdown",
   "metadata": {},
   "source": [
    "### For all Education channels that mention Onomy's topic"
   ]
  },
  {
   "cell_type": "code",
   "execution_count": 22,
   "metadata": {},
   "outputs": [
    {
     "data": {
      "text/plain": [
       "128"
      ]
     },
     "execution_count": 22,
     "metadata": {},
     "output_type": "execute_result"
    }
   ],
   "source": [
    "Invest=Edu_nokids[Edu_nokids['description'].str.contains(\"investing\")\n",
    "                 |Edu_nokids['description'].str.contains(\"invest\")\n",
    "                 |Edu_nokids['description'].str.contains(\"finance\")]\n",
    "len(Invest)"
   ]
  },
  {
   "cell_type": "code",
   "execution_count": 23,
   "metadata": {},
   "outputs": [
    {
     "data": {
      "text/html": [
       "<div>\n",
       "<style scoped>\n",
       "    .dataframe tbody tr th:only-of-type {\n",
       "        vertical-align: middle;\n",
       "    }\n",
       "\n",
       "    .dataframe tbody tr th {\n",
       "        vertical-align: top;\n",
       "    }\n",
       "\n",
       "    .dataframe thead th {\n",
       "        text-align: right;\n",
       "    }\n",
       "</style>\n",
       "<table border=\"1\" class=\"dataframe\">\n",
       "  <thead>\n",
       "    <tr style=\"text-align: right;\">\n",
       "      <th></th>\n",
       "      <th>category_name</th>\n",
       "      <th>title</th>\n",
       "      <th>description</th>\n",
       "      <th>followers</th>\n",
       "      <th>videos</th>\n",
       "      <th>join_date</th>\n",
       "    </tr>\n",
       "  </thead>\n",
       "  <tbody>\n",
       "    <tr>\n",
       "      <th>802</th>\n",
       "      <td>Education</td>\n",
       "      <td>khan academy</td>\n",
       "      <td>khan academy is a 501(c)(3) nonprofit organiza...</td>\n",
       "      <td>4426023</td>\n",
       "      <td>7185</td>\n",
       "      <td>2006-11-17</td>\n",
       "    </tr>\n",
       "    <tr>\n",
       "      <th>3996</th>\n",
       "      <td>Education</td>\n",
       "      <td>tai lopez</td>\n",
       "      <td>tai lopez is an investor, partner, consultant,...</td>\n",
       "      <td>1252537</td>\n",
       "      <td>162</td>\n",
       "      <td>2013-08-27</td>\n",
       "    </tr>\n",
       "    <tr>\n",
       "      <th>6509</th>\n",
       "      <td>Education</td>\n",
       "      <td>grant cardone</td>\n",
       "      <td>grant cardone is a ny times best selling autho...</td>\n",
       "      <td>775932</td>\n",
       "      <td>4038</td>\n",
       "      <td>2007-10-16</td>\n",
       "    </tr>\n",
       "    <tr>\n",
       "      <th>9244</th>\n",
       "      <td>Education</td>\n",
       "      <td>sentdex</td>\n",
       "      <td>python programming tutorials, going further th...</td>\n",
       "      <td>546291</td>\n",
       "      <td>1100</td>\n",
       "      <td>2012-12-16</td>\n",
       "    </tr>\n",
       "    <tr>\n",
       "      <th>10679</th>\n",
       "      <td>Education</td>\n",
       "      <td>finnovationz.com</td>\n",
       "      <td>finnovationz here! on our channel, we upload i...</td>\n",
       "      <td>474047</td>\n",
       "      <td>208</td>\n",
       "      <td>2014-01-12</td>\n",
       "    </tr>\n",
       "    <tr>\n",
       "      <th>12170</th>\n",
       "      <td>Education</td>\n",
       "      <td>ricky gutierrez</td>\n",
       "      <td>we make simple videos on how to start investin...</td>\n",
       "      <td>403244</td>\n",
       "      <td>1103</td>\n",
       "      <td>2015-11-26</td>\n",
       "    </tr>\n",
       "  </tbody>\n",
       "</table>\n",
       "</div>"
      ],
      "text/plain": [
       "      category_name             title  \\\n",
       "802       Education      khan academy   \n",
       "3996      Education         tai lopez   \n",
       "6509      Education     grant cardone   \n",
       "9244      Education           sentdex   \n",
       "10679     Education  finnovationz.com   \n",
       "12170     Education   ricky gutierrez   \n",
       "\n",
       "                                             description  followers  videos  \\\n",
       "802    khan academy is a 501(c)(3) nonprofit organiza...    4426023    7185   \n",
       "3996   tai lopez is an investor, partner, consultant,...    1252537     162   \n",
       "6509   grant cardone is a ny times best selling autho...     775932    4038   \n",
       "9244   python programming tutorials, going further th...     546291    1100   \n",
       "10679  finnovationz here! on our channel, we upload i...     474047     208   \n",
       "12170  we make simple videos on how to start investin...     403244    1103   \n",
       "\n",
       "        join_date  \n",
       "802    2006-11-17  \n",
       "3996   2013-08-27  \n",
       "6509   2007-10-16  \n",
       "9244   2012-12-16  \n",
       "10679  2014-01-12  \n",
       "12170  2015-11-26  "
      ]
     },
     "execution_count": 23,
     "metadata": {},
     "output_type": "execute_result"
    }
   ],
   "source": [
    "Invest.head(6)"
   ]
  },
  {
   "cell_type": "markdown",
   "metadata": {},
   "source": [
    "#### Tai Lopez\n",
    "Tai Lopez is an investor, partner, consultant, or advisor to over 20 multi-million dollar businesses. \n",
    "\n",
    "#### Grant Cardone\n",
    "Grant Cardone is the author of eight business books, thirteen business programs, and is the CEO of seven privately held companies.  Forbes calls him one of the top social media business influencers in the world. \n",
    "\n",
    "#### Finnovationz.com\n",
    "a platform designed for learners who are passionate about learning stock market investments, mutual funds, TA, etc. The company's goal is to answer people's questions about the stock market. It is the beginners’ guide to the world of finance, and it brings exclusive videos, news updates, courses, blogs and many other products, aimed at increasing financial awareness among people.\n",
    "\n",
    "#### Ricky Gutierrez\n",
    "We make simple videos on HOW TO START TRADING IN the stock market, ETF, Penny Stocks, Swing & Day Trading, Cryptocurrency, Bitcoin, Startups, Real Estate, Forex, Binary Option, Affiliate marketing, Digital Marketing, Online Sales, and creative methods to make money online. "
   ]
  },
  {
   "cell_type": "code",
   "execution_count": 24,
   "metadata": {},
   "outputs": [
    {
     "data": {
      "text/plain": [
       "17"
      ]
     },
     "execution_count": 24,
     "metadata": {},
     "output_type": "execute_result"
    }
   ],
   "source": [
    "healthcare=Edu_nokids[Edu_nokids['description'].str.contains(\"healthcare\")]\n",
    "len(healthcare)"
   ]
  },
  {
   "cell_type": "code",
   "execution_count": 25,
   "metadata": {},
   "outputs": [
    {
     "data": {
      "text/html": [
       "<div>\n",
       "<style scoped>\n",
       "    .dataframe tbody tr th:only-of-type {\n",
       "        vertical-align: middle;\n",
       "    }\n",
       "\n",
       "    .dataframe tbody tr th {\n",
       "        vertical-align: top;\n",
       "    }\n",
       "\n",
       "    .dataframe thead th {\n",
       "        text-align: right;\n",
       "    }\n",
       "</style>\n",
       "<table border=\"1\" class=\"dataframe\">\n",
       "  <thead>\n",
       "    <tr style=\"text-align: right;\">\n",
       "      <th></th>\n",
       "      <th>category_name</th>\n",
       "      <th>title</th>\n",
       "      <th>description</th>\n",
       "      <th>followers</th>\n",
       "      <th>videos</th>\n",
       "      <th>join_date</th>\n",
       "    </tr>\n",
       "  </thead>\n",
       "  <tbody>\n",
       "    <tr>\n",
       "      <th>4059</th>\n",
       "      <td>Education</td>\n",
       "      <td>be natural</td>\n",
       "      <td>be natural is all about hair care,skin care, m...</td>\n",
       "      <td>1218311</td>\n",
       "      <td>411</td>\n",
       "      <td>2017-05-09</td>\n",
       "    </tr>\n",
       "    <tr>\n",
       "      <th>4156</th>\n",
       "      <td>Education</td>\n",
       "      <td>nucleus medical media</td>\n",
       "      <td>nucleus medical media creates visual content f...</td>\n",
       "      <td>1183482</td>\n",
       "      <td>427</td>\n",
       "      <td>2007-02-02</td>\n",
       "    </tr>\n",
       "    <tr>\n",
       "      <th>10345</th>\n",
       "      <td>Education</td>\n",
       "      <td>global health media project</td>\n",
       "      <td>global health media project produces and distr...</td>\n",
       "      <td>488813</td>\n",
       "      <td>759</td>\n",
       "      <td>2011-12-09</td>\n",
       "    </tr>\n",
       "  </tbody>\n",
       "</table>\n",
       "</div>"
      ],
      "text/plain": [
       "      category_name                        title  \\\n",
       "4059      Education                   be natural   \n",
       "4156      Education        nucleus medical media   \n",
       "10345     Education  global health media project   \n",
       "\n",
       "                                             description  followers  videos  \\\n",
       "4059   be natural is all about hair care,skin care, m...    1218311     411   \n",
       "4156   nucleus medical media creates visual content f...    1183482     427   \n",
       "10345  global health media project produces and distr...     488813     759   \n",
       "\n",
       "        join_date  \n",
       "4059   2017-05-09  \n",
       "4156   2007-02-02  \n",
       "10345  2011-12-09  "
      ]
     },
     "execution_count": 25,
     "metadata": {},
     "output_type": "execute_result"
    }
   ],
   "source": [
    "healthcare.head(3)"
   ]
  },
  {
   "cell_type": "markdown",
   "metadata": {},
   "source": [
    "#### Nucleus Medical Media\n",
    "Nucleus Medical Media creates visual content for healthcare, education, media, pharma and medical device companies. The animations on this channel are predominantly created for hospital patient education and content marketing.\n",
    "\n",
    "#### Global Health Media Project\n",
    "Global Health Media Project produces and distributes teaching videos for frontline healthcare workers and communities in low-resource settings. Based on international standards of care, the videos provide high-quality, step-by-step visual instructions that are easy to understand and put into action.  The videos are professionally filmed on-location in developing world health clinics and voiced over to enable narration in local languages.\n",
    "\n",
    "#### Be Natural\n",
    "BE NATURAL is all about hair care, skin care, DIYs, makeup, beauty, style, fitness, fashion, women health & hygiene, women empowerment, girl power, motivational video, vlogs, lifestyle and videos platform for everyone."
   ]
  },
  {
   "cell_type": "code",
   "execution_count": 26,
   "metadata": {},
   "outputs": [
    {
     "data": {
      "text/plain": [
       "13"
      ]
     },
     "execution_count": 26,
     "metadata": {},
     "output_type": "execute_result"
    }
   ],
   "source": [
    "tax=Edu_nokids[Edu_nokids['description'].str.contains(\"tax\")\n",
    "              |Edu_nokids['description'].str.contains(\"taxes\")]\n",
    "len(tax)"
   ]
  },
  {
   "cell_type": "code",
   "execution_count": 27,
   "metadata": {},
   "outputs": [
    {
     "data": {
      "text/html": [
       "<div>\n",
       "<style scoped>\n",
       "    .dataframe tbody tr th:only-of-type {\n",
       "        vertical-align: middle;\n",
       "    }\n",
       "\n",
       "    .dataframe tbody tr th {\n",
       "        vertical-align: top;\n",
       "    }\n",
       "\n",
       "    .dataframe thead th {\n",
       "        text-align: right;\n",
       "    }\n",
       "</style>\n",
       "<table border=\"1\" class=\"dataframe\">\n",
       "  <thead>\n",
       "    <tr style=\"text-align: right;\">\n",
       "      <th></th>\n",
       "      <th>category_name</th>\n",
       "      <th>title</th>\n",
       "      <th>description</th>\n",
       "      <th>followers</th>\n",
       "      <th>videos</th>\n",
       "      <th>join_date</th>\n",
       "    </tr>\n",
       "  </thead>\n",
       "  <tbody>\n",
       "    <tr>\n",
       "      <th>17494</th>\n",
       "      <td>Education</td>\n",
       "      <td>ca dilip badlani</td>\n",
       "      <td>get all the lectures of taxation for ca / cs s...</td>\n",
       "      <td>265782</td>\n",
       "      <td>1001</td>\n",
       "      <td>2011-06-04</td>\n",
       "    </tr>\n",
       "    <tr>\n",
       "      <th>18572</th>\n",
       "      <td>Education</td>\n",
       "      <td>code.org</td>\n",
       "      <td>code.org is a non-profit dedicated to expandin...</td>\n",
       "      <td>245087</td>\n",
       "      <td>463</td>\n",
       "      <td>2013-01-30</td>\n",
       "    </tr>\n",
       "    <tr>\n",
       "      <th>26183</th>\n",
       "      <td>Education</td>\n",
       "      <td>amar jeet singh</td>\n",
       "      <td>this channel is created by city commerce acade...</td>\n",
       "      <td>158392</td>\n",
       "      <td>33</td>\n",
       "      <td>2014-04-18</td>\n",
       "    </tr>\n",
       "  </tbody>\n",
       "</table>\n",
       "</div>"
      ],
      "text/plain": [
       "      category_name             title  \\\n",
       "17494     Education  ca dilip badlani   \n",
       "18572     Education          code.org   \n",
       "26183     Education   amar jeet singh   \n",
       "\n",
       "                                             description  followers  videos  \\\n",
       "17494  get all the lectures of taxation for ca / cs s...     265782    1001   \n",
       "18572  code.org is a non-profit dedicated to expandin...     245087     463   \n",
       "26183  this channel is created by city commerce acade...     158392      33   \n",
       "\n",
       "        join_date  \n",
       "17494  2011-06-04  \n",
       "18572  2013-01-30  \n",
       "26183  2014-04-18  "
      ]
     },
     "execution_count": 27,
     "metadata": {},
     "output_type": "execute_result"
    }
   ],
   "source": [
    "tax.head(3)"
   ]
  },
  {
   "cell_type": "markdown",
   "metadata": {},
   "source": [
    "#### Ca Dilip Badlani\n",
    "We \"Badlani Classes\" provides CA / CS / CMA online classes not only for students but also for Tax Professionals. \n",
    "\n",
    "#### Amar Jeet Singh\n",
    "Welcome to City Commerce Academy Online Classes. Learn Accounts and Taxation in just 45 days even if you don't have any accounts background "
   ]
  },
  {
   "cell_type": "code",
   "execution_count": 28,
   "metadata": {},
   "outputs": [
    {
     "data": {
      "text/plain": [
       "9"
      ]
     },
     "execution_count": 28,
     "metadata": {},
     "output_type": "execute_result"
    }
   ],
   "source": [
    "Credit_Loan=Edu_nokids[Edu_nokids['description'].str.contains(\"credit card\")\n",
    "                 |Edu_nokids['description'].str.contains(\"loans\")\n",
    "                 |Edu_nokids['description'].str.contains(\"loan\")\n",
    "                 |Edu_nokids['description'].str.contains(\"mortgages\")\n",
    "                 |Edu_nokids['description'].str.contains(\"mortgage\")]\n",
    "len(Credit_Loan)"
   ]
  },
  {
   "cell_type": "code",
   "execution_count": 29,
   "metadata": {},
   "outputs": [
    {
     "data": {
      "text/html": [
       "<div>\n",
       "<style scoped>\n",
       "    .dataframe tbody tr th:only-of-type {\n",
       "        vertical-align: middle;\n",
       "    }\n",
       "\n",
       "    .dataframe tbody tr th {\n",
       "        vertical-align: top;\n",
       "    }\n",
       "\n",
       "    .dataframe thead th {\n",
       "        text-align: right;\n",
       "    }\n",
       "</style>\n",
       "<table border=\"1\" class=\"dataframe\">\n",
       "  <thead>\n",
       "    <tr style=\"text-align: right;\">\n",
       "      <th></th>\n",
       "      <th>category_name</th>\n",
       "      <th>title</th>\n",
       "      <th>description</th>\n",
       "      <th>followers</th>\n",
       "      <th>videos</th>\n",
       "      <th>join_date</th>\n",
       "    </tr>\n",
       "  </thead>\n",
       "  <tbody>\n",
       "    <tr>\n",
       "      <th>7695</th>\n",
       "      <td>Education</td>\n",
       "      <td>now you see it</td>\n",
       "      <td>now you see it explores film themes and tropes...</td>\n",
       "      <td>664701</td>\n",
       "      <td>53</td>\n",
       "      <td>2015-06-01</td>\n",
       "    </tr>\n",
       "    <tr>\n",
       "      <th>29575</th>\n",
       "      <td>Education</td>\n",
       "      <td>vipfinancialed</td>\n",
       "      <td>vip financial education is the trusted pilot f...</td>\n",
       "      <td>133802</td>\n",
       "      <td>266</td>\n",
       "      <td>2011-04-08</td>\n",
       "    </tr>\n",
       "    <tr>\n",
       "      <th>48234</th>\n",
       "      <td>Education</td>\n",
       "      <td>100 percent financed</td>\n",
       "      <td>our website: http://www.100percentfinanced.com...</td>\n",
       "      <td>62574</td>\n",
       "      <td>138</td>\n",
       "      <td>2014-06-15</td>\n",
       "    </tr>\n",
       "  </tbody>\n",
       "</table>\n",
       "</div>"
      ],
      "text/plain": [
       "      category_name                 title  \\\n",
       "7695      Education        now you see it   \n",
       "29575     Education        vipfinancialed   \n",
       "48234     Education  100 percent financed   \n",
       "\n",
       "                                             description  followers  videos  \\\n",
       "7695   now you see it explores film themes and tropes...     664701      53   \n",
       "29575  vip financial education is the trusted pilot f...     133802     266   \n",
       "48234  our website: http://www.100percentfinanced.com...      62574     138   \n",
       "\n",
       "        join_date  \n",
       "7695   2015-06-01  \n",
       "29575  2011-04-08  \n",
       "48234  2014-06-15  "
      ]
     },
     "execution_count": 29,
     "metadata": {},
     "output_type": "execute_result"
    }
   ],
   "source": [
    "Credit_Loan.head(3)"
   ]
  },
  {
   "cell_type": "markdown",
   "metadata": {},
   "source": [
    "#### VIP Financial Education\n",
    "VIP Financial Education is the trusted pilot for people who want to dominate the banks.  \n",
    "Companies from NASA, to RE/MAX have relied on this curriculum to empower borrowers with strategies that quickly grow credit, unlock massive capital, and rapidly wipe out mortgage and non-mortgage debts.\n",
    "\n",
    "#### 100 Percent Financed\n",
    "My name is Juan Pablo and I help investors get multi-unit rentals using my predictable and automated cashflow cycle system. Teach people how to increase credit score and several Real Estate strategies."
   ]
  },
  {
   "cell_type": "code",
   "execution_count": 30,
   "metadata": {},
   "outputs": [
    {
     "data": {
      "text/plain": [
       "{'Invest': 2.8822337311416346,\n",
       " 'Healthcare': 0.3827966674172484,\n",
       " 'Taxes': 0.2927268633190723,\n",
       " 'Credit/Loan': 0.20265705922089622}"
      ]
     },
     "execution_count": 30,
     "metadata": {},
     "output_type": "execute_result"
    }
   ],
   "source": [
    "len(Edu_nokids) #4448\n",
    "Percentage={'Invest':len(Invest)/len(Edu_nokids)*100,\n",
    "            'Healthcare':len(healthcare)/len(Edu_nokids)*100,\n",
    "            'Taxes':len(tax)/len(Edu_nokids)*100,\n",
    "           'Credit/Loan':len(Credit_Loan)/len(Edu_nokids)*100}\n",
    "Percentage"
   ]
  },
  {
   "cell_type": "code",
   "execution_count": 31,
   "metadata": {},
   "outputs": [
    {
     "data": {
      "image/png": "[encoded data removed]",
      "text/plain": [
       "<Figure size 576x360 with 1 Axes>"
      ]
     },
     "metadata": {
      "needs_background": "light"
     },
     "output_type": "display_data"
    }
   ],
   "source": [
    "fig, ax = plt.subplots(1,figsize=(8,5))\n",
    "plt.bar(range(len(Percentage)), list(Percentage.values()), align='center')\n",
    "plt.xticks(range(len(Percentage)), list(Percentage.keys()))\n",
    "plt.suptitle(\"Percentage of Onomy's topics among all Education Channels\",fontsize=15)\n",
    "plt.ylabel(\"Percentage\")\n",
    "plt.show()"
   ]
  },
  {
   "cell_type": "markdown",
   "metadata": {},
   "source": [
    "### Filter keywords in all courses-related channels"
   ]
  },
  {
   "cell_type": "code",
   "execution_count": 32,
   "metadata": {},
   "outputs": [
    {
     "data": {
      "text/plain": [
       "12"
      ]
     },
     "execution_count": 32,
     "metadata": {},
     "output_type": "execute_result"
    }
   ],
   "source": [
    "Invest1=courses[courses['description'].str.contains(\"investing\")\n",
    "                 |courses['description'].str.contains(\"invest\")\n",
    "                 |courses['description'].str.contains(\"finance\")]\n",
    "len(Invest1)"
   ]
  },
  {
   "cell_type": "code",
   "execution_count": 33,
   "metadata": {},
   "outputs": [
    {
     "data": {
      "text/plain": [
       "4"
      ]
     },
     "execution_count": 33,
     "metadata": {},
     "output_type": "execute_result"
    }
   ],
   "source": [
    "healthcare1=courses[courses['description'].str.contains(\"healthcare\")]\n",
    "len(healthcare1)"
   ]
  },
  {
   "cell_type": "code",
   "execution_count": 34,
   "metadata": {},
   "outputs": [
    {
     "data": {
      "text/html": [
       "<div>\n",
       "<style scoped>\n",
       "    .dataframe tbody tr th:only-of-type {\n",
       "        vertical-align: middle;\n",
       "    }\n",
       "\n",
       "    .dataframe tbody tr th {\n",
       "        vertical-align: top;\n",
       "    }\n",
       "\n",
       "    .dataframe thead th {\n",
       "        text-align: right;\n",
       "    }\n",
       "</style>\n",
       "<table border=\"1\" class=\"dataframe\">\n",
       "  <thead>\n",
       "    <tr style=\"text-align: right;\">\n",
       "      <th></th>\n",
       "      <th>category_name</th>\n",
       "      <th>title</th>\n",
       "      <th>description</th>\n",
       "      <th>followers</th>\n",
       "      <th>videos</th>\n",
       "      <th>join_date</th>\n",
       "    </tr>\n",
       "  </thead>\n",
       "  <tbody>\n",
       "    <tr>\n",
       "      <th>10345</th>\n",
       "      <td>Education</td>\n",
       "      <td>global health media project</td>\n",
       "      <td>global health media project produces and distr...</td>\n",
       "      <td>488813</td>\n",
       "      <td>759</td>\n",
       "      <td>2011-12-09</td>\n",
       "    </tr>\n",
       "    <tr>\n",
       "      <th>15505</th>\n",
       "      <td>Education</td>\n",
       "      <td>healthcare triage</td>\n",
       "      <td>healthcare triage is a series about healthcare...</td>\n",
       "      <td>305554</td>\n",
       "      <td>486</td>\n",
       "      <td>2013-09-29</td>\n",
       "    </tr>\n",
       "  </tbody>\n",
       "</table>\n",
       "</div>"
      ],
      "text/plain": [
       "      category_name                        title  \\\n",
       "10345     Education  global health media project   \n",
       "15505     Education            healthcare triage   \n",
       "\n",
       "                                             description  followers  videos  \\\n",
       "10345  global health media project produces and distr...     488813     759   \n",
       "15505  healthcare triage is a series about healthcare...     305554     486   \n",
       "\n",
       "        join_date  \n",
       "10345  2011-12-09  \n",
       "15505  2013-09-29  "
      ]
     },
     "execution_count": 34,
     "metadata": {},
     "output_type": "execute_result"
    }
   ],
   "source": [
    "healthcare1.head(2)"
   ]
  },
  {
   "cell_type": "markdown",
   "metadata": {},
   "source": [
    "#### Healthcare Triage\n",
    "Healthcare Triage is a series about healthcare hosted by Dr. Aaron Carroll who explains healthcare policy, medical research, and answers a lot of other questions you may have about medicine, health, and healthcare."
   ]
  },
  {
   "cell_type": "code",
   "execution_count": 35,
   "metadata": {},
   "outputs": [
    {
     "data": {
      "text/plain": [
       "2"
      ]
     },
     "execution_count": 35,
     "metadata": {},
     "output_type": "execute_result"
    }
   ],
   "source": [
    "tax1=courses[courses['description'].str.contains(\"tax\")\n",
    "              |courses['description'].str.contains(\"taxes\")]\n",
    "len(tax1)"
   ]
  },
  {
   "cell_type": "code",
   "execution_count": 36,
   "metadata": {},
   "outputs": [
    {
     "data": {
      "text/html": [
       "<div>\n",
       "<style scoped>\n",
       "    .dataframe tbody tr th:only-of-type {\n",
       "        vertical-align: middle;\n",
       "    }\n",
       "\n",
       "    .dataframe tbody tr th {\n",
       "        vertical-align: top;\n",
       "    }\n",
       "\n",
       "    .dataframe thead th {\n",
       "        text-align: right;\n",
       "    }\n",
       "</style>\n",
       "<table border=\"1\" class=\"dataframe\">\n",
       "  <thead>\n",
       "    <tr style=\"text-align: right;\">\n",
       "      <th></th>\n",
       "      <th>category_name</th>\n",
       "      <th>title</th>\n",
       "      <th>description</th>\n",
       "      <th>followers</th>\n",
       "      <th>videos</th>\n",
       "      <th>join_date</th>\n",
       "    </tr>\n",
       "  </thead>\n",
       "  <tbody>\n",
       "    <tr>\n",
       "      <th>17494</th>\n",
       "      <td>Education</td>\n",
       "      <td>ca dilip badlani</td>\n",
       "      <td>get all the lectures of taxation for ca / cs s...</td>\n",
       "      <td>265782</td>\n",
       "      <td>1001</td>\n",
       "      <td>2011-06-04</td>\n",
       "    </tr>\n",
       "    <tr>\n",
       "      <th>18572</th>\n",
       "      <td>Education</td>\n",
       "      <td>code.org</td>\n",
       "      <td>code.org is a non-profit dedicated to expandin...</td>\n",
       "      <td>245087</td>\n",
       "      <td>463</td>\n",
       "      <td>2013-01-30</td>\n",
       "    </tr>\n",
       "    <tr>\n",
       "      <th>26183</th>\n",
       "      <td>Education</td>\n",
       "      <td>amar jeet singh</td>\n",
       "      <td>this channel is created by city commerce acade...</td>\n",
       "      <td>158392</td>\n",
       "      <td>33</td>\n",
       "      <td>2014-04-18</td>\n",
       "    </tr>\n",
       "    <tr>\n",
       "      <th>32666</th>\n",
       "      <td>Education</td>\n",
       "      <td>ukspreadbetting</td>\n",
       "      <td>financial-spread-betting.com is where betting ...</td>\n",
       "      <td>116342</td>\n",
       "      <td>2839</td>\n",
       "      <td>2011-10-20</td>\n",
       "    </tr>\n",
       "    <tr>\n",
       "      <th>43368</th>\n",
       "      <td>Education</td>\n",
       "      <td>tipsntricksguru</td>\n",
       "      <td>welcome to tipsntricksguru! \\r\\r\\nthis channel...</td>\n",
       "      <td>74430</td>\n",
       "      <td>134</td>\n",
       "      <td>2017-01-24</td>\n",
       "    </tr>\n",
       "    <tr>\n",
       "      <th>59065</th>\n",
       "      <td>Education</td>\n",
       "      <td>djbooth pro audio</td>\n",
       "      <td>welcome to djbooth.net dj\\'s official youtube ...</td>\n",
       "      <td>44298</td>\n",
       "      <td>650</td>\n",
       "      <td>2010-12-02</td>\n",
       "    </tr>\n",
       "    <tr>\n",
       "      <th>63419</th>\n",
       "      <td>Education</td>\n",
       "      <td>hillsdale college</td>\n",
       "      <td>founded in 1844, hillsdale college is an indep...</td>\n",
       "      <td>39066</td>\n",
       "      <td>592</td>\n",
       "      <td>2009-02-06</td>\n",
       "    </tr>\n",
       "    <tr>\n",
       "      <th>67062</th>\n",
       "      <td>Education</td>\n",
       "      <td>farhat's accounting lectures</td>\n",
       "      <td>my youtube channel offers a growing number of ...</td>\n",
       "      <td>35069</td>\n",
       "      <td>1249</td>\n",
       "      <td>2006-11-03</td>\n",
       "    </tr>\n",
       "    <tr>\n",
       "      <th>71717</th>\n",
       "      <td>Education</td>\n",
       "      <td>fitz houston</td>\n",
       "      <td>founded in 1996 by minister fitz and jahna hou...</td>\n",
       "      <td>30898</td>\n",
       "      <td>1133</td>\n",
       "      <td>2007-11-01</td>\n",
       "    </tr>\n",
       "    <tr>\n",
       "      <th>82938</th>\n",
       "      <td>Education</td>\n",
       "      <td>house flipping guide</td>\n",
       "      <td>house flipping guide is a real estate investin...</td>\n",
       "      <td>23550</td>\n",
       "      <td>286</td>\n",
       "      <td>2013-07-11</td>\n",
       "    </tr>\n",
       "    <tr>\n",
       "      <th>84559</th>\n",
       "      <td>Education</td>\n",
       "      <td>mark j kohler</td>\n",
       "      <td>mark j. kohler, m.pr.a., c.p.a., j.d., is a be...</td>\n",
       "      <td>22666</td>\n",
       "      <td>157</td>\n",
       "      <td>2011-10-04</td>\n",
       "    </tr>\n",
       "    <tr>\n",
       "      <th>94912</th>\n",
       "      <td>Education</td>\n",
       "      <td>real estate asset protection</td>\n",
       "      <td>asset protection and tax strategies for real e...</td>\n",
       "      <td>17982</td>\n",
       "      <td>90</td>\n",
       "      <td>2012-04-26</td>\n",
       "    </tr>\n",
       "    <tr>\n",
       "      <th>103941</th>\n",
       "      <td>Education</td>\n",
       "      <td>pwc us</td>\n",
       "      <td>pwc us helps organizations and individuals cre...</td>\n",
       "      <td>14994</td>\n",
       "      <td>2641</td>\n",
       "      <td>2008-09-12</td>\n",
       "    </tr>\n",
       "  </tbody>\n",
       "</table>\n",
       "</div>"
      ],
      "text/plain": [
       "       category_name                         title  \\\n",
       "17494      Education              ca dilip badlani   \n",
       "18572      Education                      code.org   \n",
       "26183      Education               amar jeet singh   \n",
       "32666      Education               ukspreadbetting   \n",
       "43368      Education               tipsntricksguru   \n",
       "59065      Education             djbooth pro audio   \n",
       "63419      Education             hillsdale college   \n",
       "67062      Education  farhat's accounting lectures   \n",
       "71717      Education                  fitz houston   \n",
       "82938      Education          house flipping guide   \n",
       "84559      Education                 mark j kohler   \n",
       "94912      Education  real estate asset protection   \n",
       "103941     Education                        pwc us   \n",
       "\n",
       "                                              description  followers  videos  \\\n",
       "17494   get all the lectures of taxation for ca / cs s...     265782    1001   \n",
       "18572   code.org is a non-profit dedicated to expandin...     245087     463   \n",
       "26183   this channel is created by city commerce acade...     158392      33   \n",
       "32666   financial-spread-betting.com is where betting ...     116342    2839   \n",
       "43368   welcome to tipsntricksguru! \\r\\r\\nthis channel...      74430     134   \n",
       "59065   welcome to djbooth.net dj\\'s official youtube ...      44298     650   \n",
       "63419   founded in 1844, hillsdale college is an indep...      39066     592   \n",
       "67062   my youtube channel offers a growing number of ...      35069    1249   \n",
       "71717   founded in 1996 by minister fitz and jahna hou...      30898    1133   \n",
       "82938   house flipping guide is a real estate investin...      23550     286   \n",
       "84559   mark j. kohler, m.pr.a., c.p.a., j.d., is a be...      22666     157   \n",
       "94912   asset protection and tax strategies for real e...      17982      90   \n",
       "103941  pwc us helps organizations and individuals cre...      14994    2641   \n",
       "\n",
       "         join_date  \n",
       "17494   2011-06-04  \n",
       "18572   2013-01-30  \n",
       "26183   2014-04-18  \n",
       "32666   2011-10-20  \n",
       "43368   2017-01-24  \n",
       "59065   2010-12-02  \n",
       "63419   2009-02-06  \n",
       "67062   2006-11-03  \n",
       "71717   2007-11-01  \n",
       "82938   2013-07-11  \n",
       "84559   2011-10-04  \n",
       "94912   2012-04-26  \n",
       "103941  2008-09-12  "
      ]
     },
     "execution_count": 36,
     "metadata": {},
     "output_type": "execute_result"
    }
   ],
   "source": [
    "tax"
   ]
  },
  {
   "cell_type": "markdown",
   "metadata": {},
   "source": [
    "#### Farhat's Accounting Lectures\n",
    "offers a growing number of free accounting lectures and accounting courses that cover college level Accounting courses including Financial Accounting, Managerial Accounting, Intermediate Accounting, Advanced Accounting, Taxation, Auditing, Cost Accounting and CPA prep material. "
   ]
  },
  {
   "cell_type": "code",
   "execution_count": 37,
   "metadata": {},
   "outputs": [
    {
     "data": {
      "text/plain": [
       "0"
      ]
     },
     "execution_count": 37,
     "metadata": {},
     "output_type": "execute_result"
    }
   ],
   "source": [
    "Credit_Loan1=courses[courses['description'].str.contains(\"credit card\")\n",
    "                 |courses['description'].str.contains(\"loans\")\n",
    "                 |courses['description'].str.contains(\"loan\")\n",
    "                 |courses['description'].str.contains(\"mortgages\")\n",
    "                 |courses['description'].str.contains(\"mortgage\")]\n",
    "len(Credit_Loan1)"
   ]
  },
  {
   "cell_type": "code",
   "execution_count": 38,
   "metadata": {},
   "outputs": [
    {
     "data": {
      "text/plain": [
       "{'Invest': 2.6548672566371683,\n",
       " 'Healthcare': 0.8849557522123894,\n",
       " 'Taxes': 0.4424778761061947,\n",
       " 'Credit/Loan': 0.0}"
      ]
     },
     "execution_count": 38,
     "metadata": {},
     "output_type": "execute_result"
    }
   ],
   "source": [
    "len(courses) #451 \n",
    "Percentage1={'Invest':len(Invest1)/len(courses)*100,\n",
    "            'Healthcare':len(healthcare1)/len(courses)*100,\n",
    "            'Taxes':len(tax1)/len(courses)*100,\n",
    "           'Credit/Loan':len(Credit_Loan1)/len(courses)*100}\n",
    "Percentage1"
   ]
  },
  {
   "cell_type": "code",
   "execution_count": 39,
   "metadata": {},
   "outputs": [
    {
     "data": {
      "image/png": "[encoded data removed]",
      "text/plain": [
       "<Figure size 504x360 with 1 Axes>"
      ]
     },
     "metadata": {
      "needs_background": "light"
     },
     "output_type": "display_data"
    }
   ],
   "source": [
    "#bar plot\n",
    "fig, ax = plt.subplots(1,figsize=(7,5))\n",
    "plt.bar(range(len(Percentage1)), list(Percentage1.values()), align='center')\n",
    "plt.xticks(range(len(Percentage1)), list(Percentage1.keys()))\n",
    "plt.title(\"Percentage of Onomy's topics among all courses Channels\")\n",
    "plt.ylabel(\"Percentage\")\n",
    "plt.show()"
   ]
  },
  {
   "cell_type": "markdown",
   "metadata": {},
   "source": [
    "### Try Topic Modeling for all Education Channel"
   ]
  },
  {
   "cell_type": "code",
   "execution_count": 40,
   "metadata": {},
   "outputs": [
    {
     "data": {
      "text/html": [
       "<div>\n",
       "<style scoped>\n",
       "    .dataframe tbody tr th:only-of-type {\n",
       "        vertical-align: middle;\n",
       "    }\n",
       "\n",
       "    .dataframe tbody tr th {\n",
       "        vertical-align: top;\n",
       "    }\n",
       "\n",
       "    .dataframe thead th {\n",
       "        text-align: right;\n",
       "    }\n",
       "</style>\n",
       "<table border=\"1\" class=\"dataframe\">\n",
       "  <thead>\n",
       "    <tr style=\"text-align: right;\">\n",
       "      <th></th>\n",
       "      <th>text</th>\n",
       "    </tr>\n",
       "  </thead>\n",
       "  <tbody>\n",
       "    <tr>\n",
       "      <th>230</th>\n",
       "      <td>we make videos dedicated to exploring life thr...</td>\n",
       "    </tr>\n",
       "    <tr>\n",
       "      <th>216</th>\n",
       "      <td>tons of awesome courses in one awesome channel...</td>\n",
       "    </tr>\n",
       "    <tr>\n",
       "      <th>332</th>\n",
       "      <td>ted-ed’s commitment to creating lessons worth ...</td>\n",
       "    </tr>\n",
       "    <tr>\n",
       "      <th>422</th>\n",
       "      <td>hi! my name is matt santoro. i make top 10 inf...</td>\n",
       "    </tr>\n",
       "    <tr>\n",
       "      <th>629</th>\n",
       "      <td>story &amp; fact countdowns ft. the planet dolan c...</td>\n",
       "    </tr>\n",
       "    <tr>\n",
       "      <th>...</th>\n",
       "      <td>...</td>\n",
       "    </tr>\n",
       "    <tr>\n",
       "      <th>104536</th>\n",
       "      <td>fair dealing notice: videos on my channel may ...</td>\n",
       "    </tr>\n",
       "    <tr>\n",
       "      <th>104578</th>\n",
       "      <td>nlp training in india by ram verma.\\r\\r\\nram v...</td>\n",
       "    </tr>\n",
       "    <tr>\n",
       "      <th>104706</th>\n",
       "      <td>magnetic marketing|no b.s. inner circle is a m...</td>\n",
       "    </tr>\n",
       "    <tr>\n",
       "      <th>104638</th>\n",
       "      <td>hello , if you are interested in hunting , fis...</td>\n",
       "    </tr>\n",
       "    <tr>\n",
       "      <th>104673</th>\n",
       "      <td>films and videos from the a/v geeks film archi...</td>\n",
       "    </tr>\n",
       "  </tbody>\n",
       "</table>\n",
       "<p>4441 rows × 1 columns</p>\n",
       "</div>"
      ],
      "text/plain": [
       "                                                     text\n",
       "230     we make videos dedicated to exploring life thr...\n",
       "216     tons of awesome courses in one awesome channel...\n",
       "332     ted-ed’s commitment to creating lessons worth ...\n",
       "422     hi! my name is matt santoro. i make top 10 inf...\n",
       "629     story & fact countdowns ft. the planet dolan c...\n",
       "...                                                   ...\n",
       "104536  fair dealing notice: videos on my channel may ...\n",
       "104578  nlp training in india by ram verma.\\r\\r\\nram v...\n",
       "104706  magnetic marketing|no b.s. inner circle is a m...\n",
       "104638  hello , if you are interested in hunting , fis...\n",
       "104673  films and videos from the a/v geeks film archi...\n",
       "\n",
       "[4441 rows x 1 columns]"
      ]
     },
     "execution_count": 40,
     "metadata": {},
     "output_type": "execute_result"
    }
   ],
   "source": [
    "X=pd.DataFrame({'text':Edu_nokids['description']})\n",
    "X"
   ]
  },
  {
   "cell_type": "code",
   "execution_count": 41,
   "metadata": {},
   "outputs": [
    {
     "data": {
      "text/html": [
       "<div>\n",
       "<style scoped>\n",
       "    .dataframe tbody tr th:only-of-type {\n",
       "        vertical-align: middle;\n",
       "    }\n",
       "\n",
       "    .dataframe tbody tr th {\n",
       "        vertical-align: top;\n",
       "    }\n",
       "\n",
       "    .dataframe thead th {\n",
       "        text-align: right;\n",
       "    }\n",
       "</style>\n",
       "<table border=\"1\" class=\"dataframe\">\n",
       "  <thead>\n",
       "    <tr style=\"text-align: right;\">\n",
       "      <th></th>\n",
       "      <th>10</th>\n",
       "      <th>art</th>\n",
       "      <th>based</th>\n",
       "      <th>best</th>\n",
       "      <th>better</th>\n",
       "      <th>business</th>\n",
       "      <th>check</th>\n",
       "      <th>come</th>\n",
       "      <th>community</th>\n",
       "      <th>contact</th>\n",
       "      <th>...</th>\n",
       "      <th>university</th>\n",
       "      <th>use</th>\n",
       "      <th>ve</th>\n",
       "      <th>visit</th>\n",
       "      <th>watch</th>\n",
       "      <th>way</th>\n",
       "      <th>week</th>\n",
       "      <th>welcome</th>\n",
       "      <th>work</th>\n",
       "      <th>years</th>\n",
       "    </tr>\n",
       "  </thead>\n",
       "  <tbody>\n",
       "    <tr>\n",
       "      <th>0</th>\n",
       "      <td>0</td>\n",
       "      <td>0</td>\n",
       "      <td>0</td>\n",
       "      <td>0</td>\n",
       "      <td>0</td>\n",
       "      <td>0</td>\n",
       "      <td>0</td>\n",
       "      <td>0</td>\n",
       "      <td>0</td>\n",
       "      <td>0</td>\n",
       "      <td>...</td>\n",
       "      <td>0</td>\n",
       "      <td>0</td>\n",
       "      <td>0</td>\n",
       "      <td>0</td>\n",
       "      <td>0</td>\n",
       "      <td>0</td>\n",
       "      <td>0</td>\n",
       "      <td>0</td>\n",
       "      <td>0</td>\n",
       "      <td>0</td>\n",
       "    </tr>\n",
       "    <tr>\n",
       "      <th>1</th>\n",
       "      <td>0</td>\n",
       "      <td>0</td>\n",
       "      <td>0</td>\n",
       "      <td>0</td>\n",
       "      <td>0</td>\n",
       "      <td>0</td>\n",
       "      <td>1</td>\n",
       "      <td>0</td>\n",
       "      <td>0</td>\n",
       "      <td>0</td>\n",
       "      <td>...</td>\n",
       "      <td>0</td>\n",
       "      <td>0</td>\n",
       "      <td>0</td>\n",
       "      <td>0</td>\n",
       "      <td>0</td>\n",
       "      <td>0</td>\n",
       "      <td>0</td>\n",
       "      <td>0</td>\n",
       "      <td>0</td>\n",
       "      <td>0</td>\n",
       "    </tr>\n",
       "    <tr>\n",
       "      <th>2</th>\n",
       "      <td>0</td>\n",
       "      <td>0</td>\n",
       "      <td>0</td>\n",
       "      <td>0</td>\n",
       "      <td>0</td>\n",
       "      <td>0</td>\n",
       "      <td>0</td>\n",
       "      <td>0</td>\n",
       "      <td>0</td>\n",
       "      <td>0</td>\n",
       "      <td>...</td>\n",
       "      <td>0</td>\n",
       "      <td>0</td>\n",
       "      <td>0</td>\n",
       "      <td>1</td>\n",
       "      <td>0</td>\n",
       "      <td>0</td>\n",
       "      <td>0</td>\n",
       "      <td>0</td>\n",
       "      <td>0</td>\n",
       "      <td>0</td>\n",
       "    </tr>\n",
       "    <tr>\n",
       "      <th>3</th>\n",
       "      <td>1</td>\n",
       "      <td>0</td>\n",
       "      <td>0</td>\n",
       "      <td>0</td>\n",
       "      <td>0</td>\n",
       "      <td>0</td>\n",
       "      <td>0</td>\n",
       "      <td>0</td>\n",
       "      <td>0</td>\n",
       "      <td>0</td>\n",
       "      <td>...</td>\n",
       "      <td>0</td>\n",
       "      <td>0</td>\n",
       "      <td>0</td>\n",
       "      <td>0</td>\n",
       "      <td>0</td>\n",
       "      <td>0</td>\n",
       "      <td>0</td>\n",
       "      <td>0</td>\n",
       "      <td>0</td>\n",
       "      <td>0</td>\n",
       "    </tr>\n",
       "    <tr>\n",
       "      <th>4</th>\n",
       "      <td>0</td>\n",
       "      <td>1</td>\n",
       "      <td>0</td>\n",
       "      <td>0</td>\n",
       "      <td>0</td>\n",
       "      <td>1</td>\n",
       "      <td>0</td>\n",
       "      <td>0</td>\n",
       "      <td>0</td>\n",
       "      <td>1</td>\n",
       "      <td>...</td>\n",
       "      <td>0</td>\n",
       "      <td>0</td>\n",
       "      <td>0</td>\n",
       "      <td>0</td>\n",
       "      <td>0</td>\n",
       "      <td>0</td>\n",
       "      <td>0</td>\n",
       "      <td>0</td>\n",
       "      <td>0</td>\n",
       "      <td>0</td>\n",
       "    </tr>\n",
       "    <tr>\n",
       "      <th>...</th>\n",
       "      <td>...</td>\n",
       "      <td>...</td>\n",
       "      <td>...</td>\n",
       "      <td>...</td>\n",
       "      <td>...</td>\n",
       "      <td>...</td>\n",
       "      <td>...</td>\n",
       "      <td>...</td>\n",
       "      <td>...</td>\n",
       "      <td>...</td>\n",
       "      <td>...</td>\n",
       "      <td>...</td>\n",
       "      <td>...</td>\n",
       "      <td>...</td>\n",
       "      <td>...</td>\n",
       "      <td>...</td>\n",
       "      <td>...</td>\n",
       "      <td>...</td>\n",
       "      <td>...</td>\n",
       "      <td>...</td>\n",
       "      <td>...</td>\n",
       "    </tr>\n",
       "    <tr>\n",
       "      <th>4436</th>\n",
       "      <td>0</td>\n",
       "      <td>0</td>\n",
       "      <td>0</td>\n",
       "      <td>1</td>\n",
       "      <td>0</td>\n",
       "      <td>0</td>\n",
       "      <td>0</td>\n",
       "      <td>0</td>\n",
       "      <td>0</td>\n",
       "      <td>0</td>\n",
       "      <td>...</td>\n",
       "      <td>0</td>\n",
       "      <td>1</td>\n",
       "      <td>0</td>\n",
       "      <td>0</td>\n",
       "      <td>0</td>\n",
       "      <td>0</td>\n",
       "      <td>0</td>\n",
       "      <td>0</td>\n",
       "      <td>0</td>\n",
       "      <td>0</td>\n",
       "    </tr>\n",
       "    <tr>\n",
       "      <th>4437</th>\n",
       "      <td>0</td>\n",
       "      <td>0</td>\n",
       "      <td>0</td>\n",
       "      <td>0</td>\n",
       "      <td>0</td>\n",
       "      <td>0</td>\n",
       "      <td>0</td>\n",
       "      <td>0</td>\n",
       "      <td>0</td>\n",
       "      <td>0</td>\n",
       "      <td>...</td>\n",
       "      <td>0</td>\n",
       "      <td>0</td>\n",
       "      <td>0</td>\n",
       "      <td>0</td>\n",
       "      <td>0</td>\n",
       "      <td>0</td>\n",
       "      <td>0</td>\n",
       "      <td>0</td>\n",
       "      <td>0</td>\n",
       "      <td>0</td>\n",
       "    </tr>\n",
       "    <tr>\n",
       "      <th>4438</th>\n",
       "      <td>0</td>\n",
       "      <td>0</td>\n",
       "      <td>0</td>\n",
       "      <td>0</td>\n",
       "      <td>0</td>\n",
       "      <td>1</td>\n",
       "      <td>0</td>\n",
       "      <td>0</td>\n",
       "      <td>1</td>\n",
       "      <td>0</td>\n",
       "      <td>...</td>\n",
       "      <td>0</td>\n",
       "      <td>0</td>\n",
       "      <td>0</td>\n",
       "      <td>0</td>\n",
       "      <td>0</td>\n",
       "      <td>0</td>\n",
       "      <td>0</td>\n",
       "      <td>0</td>\n",
       "      <td>0</td>\n",
       "      <td>0</td>\n",
       "    </tr>\n",
       "    <tr>\n",
       "      <th>4439</th>\n",
       "      <td>0</td>\n",
       "      <td>0</td>\n",
       "      <td>0</td>\n",
       "      <td>1</td>\n",
       "      <td>0</td>\n",
       "      <td>0</td>\n",
       "      <td>0</td>\n",
       "      <td>0</td>\n",
       "      <td>0</td>\n",
       "      <td>0</td>\n",
       "      <td>...</td>\n",
       "      <td>0</td>\n",
       "      <td>0</td>\n",
       "      <td>0</td>\n",
       "      <td>0</td>\n",
       "      <td>0</td>\n",
       "      <td>1</td>\n",
       "      <td>0</td>\n",
       "      <td>0</td>\n",
       "      <td>0</td>\n",
       "      <td>0</td>\n",
       "    </tr>\n",
       "    <tr>\n",
       "      <th>4440</th>\n",
       "      <td>0</td>\n",
       "      <td>0</td>\n",
       "      <td>0</td>\n",
       "      <td>0</td>\n",
       "      <td>0</td>\n",
       "      <td>0</td>\n",
       "      <td>0</td>\n",
       "      <td>0</td>\n",
       "      <td>0</td>\n",
       "      <td>0</td>\n",
       "      <td>...</td>\n",
       "      <td>0</td>\n",
       "      <td>0</td>\n",
       "      <td>0</td>\n",
       "      <td>0</td>\n",
       "      <td>0</td>\n",
       "      <td>0</td>\n",
       "      <td>0</td>\n",
       "      <td>0</td>\n",
       "      <td>0</td>\n",
       "      <td>0</td>\n",
       "    </tr>\n",
       "  </tbody>\n",
       "</table>\n",
       "<p>4441 rows × 97 columns</p>\n",
       "</div>"
      ],
      "text/plain": [
       "      10  art  based  best  better  business  check  come  community  contact  \\\n",
       "0      0    0      0     0       0         0      0     0          0        0   \n",
       "1      0    0      0     0       0         0      1     0          0        0   \n",
       "2      0    0      0     0       0         0      0     0          0        0   \n",
       "3      1    0      0     0       0         0      0     0          0        0   \n",
       "4      0    1      0     0       0         1      0     0          0        1   \n",
       "...   ..  ...    ...   ...     ...       ...    ...   ...        ...      ...   \n",
       "4436   0    0      0     1       0         0      0     0          0        0   \n",
       "4437   0    0      0     0       0         0      0     0          0        0   \n",
       "4438   0    0      0     0       0         1      0     0          1        0   \n",
       "4439   0    0      0     1       0         0      0     0          0        0   \n",
       "4440   0    0      0     0       0         0      0     0          0        0   \n",
       "\n",
       "      ...  university  use  ve  visit  watch  way  week  welcome  work  years  \n",
       "0     ...           0    0   0      0      0    0     0        0     0      0  \n",
       "1     ...           0    0   0      0      0    0     0        0     0      0  \n",
       "2     ...           0    0   0      1      0    0     0        0     0      0  \n",
       "3     ...           0    0   0      0      0    0     0        0     0      0  \n",
       "4     ...           0    0   0      0      0    0     0        0     0      0  \n",
       "...   ...         ...  ...  ..    ...    ...  ...   ...      ...   ...    ...  \n",
       "4436  ...           0    1   0      0      0    0     0        0     0      0  \n",
       "4437  ...           0    0   0      0      0    0     0        0     0      0  \n",
       "4438  ...           0    0   0      0      0    0     0        0     0      0  \n",
       "4439  ...           0    0   0      0      0    1     0        0     0      0  \n",
       "4440  ...           0    0   0      0      0    0     0        0     0      0  \n",
       "\n",
       "[4441 rows x 97 columns]"
      ]
     },
     "execution_count": 41,
     "metadata": {},
     "output_type": "execute_result"
    }
   ],
   "source": [
    "from sklearn.feature_extraction.text import CountVectorizer\n",
    "vec=CountVectorizer(max_df=0.15,min_df=0.03, stop_words='english')\n",
    "counts=vec.fit_transform(X['text'])\n",
    "counts=counts.toarray()\n",
    "count_df1=pd.DataFrame(counts,columns=vec.get_feature_names())\n",
    "count_df1=count_df1.drop(['want','website','twitter',\n",
    "                          'facebook','online','things','http',\n",
    "                         'https','people'],axis=1)\n",
    "count_df1"
   ]
  },
  {
   "cell_type": "code",
   "execution_count": 42,
   "metadata": {},
   "outputs": [
    {
     "data": {
      "text/plain": [
       "NMF(init='random', n_components=6, random_state=0)"
      ]
     },
     "execution_count": 42,
     "metadata": {},
     "output_type": "execute_result"
    }
   ],
   "source": [
    "from sklearn.decomposition import NMF\n",
    "\n",
    "model1=NMF(n_components=6,init=\"random\",random_state=0)\n",
    "model1.fit(count_df1)\n",
    "#model1.components_"
   ]
  },
  {
   "cell_type": "code",
   "execution_count": 43,
   "metadata": {},
   "outputs": [],
   "source": [
    "import numpy as np\n",
    "def top_words(X, model, component, num_words):\n",
    "    \"\"\"\n",
    "    Extract the top words from the specified component \n",
    "    for a topic model trained on data. \n",
    "    X: a term-document matrix, assumed to be a pd.DataFrame\n",
    "    model: a sklearn model with a components_ attribute, e.g. NMF\n",
    "    component: the desired component, specified as an integer. \n",
    "        Must be less than than the total number of components in model\n",
    "    num_words: the number of words to return.\n",
    "    \"\"\"\n",
    "    orders = np.argsort(model.components_, axis = 1)\n",
    "    important_words = np.array(X.columns)[orders]\n",
    "    return important_words[component][-num_words:]"
   ]
  },
  {
   "cell_type": "code",
   "execution_count": 44,
   "metadata": {},
   "outputs": [
    {
     "data": {
      "text/html": [
       "<div>\n",
       "<style scoped>\n",
       "    .dataframe tbody tr th:only-of-type {\n",
       "        vertical-align: middle;\n",
       "    }\n",
       "\n",
       "    .dataframe tbody tr th {\n",
       "        vertical-align: top;\n",
       "    }\n",
       "\n",
       "    .dataframe thead th {\n",
       "        text-align: right;\n",
       "    }\n",
       "</style>\n",
       "<table border=\"1\" class=\"dataframe\">\n",
       "  <thead>\n",
       "    <tr style=\"text-align: right;\">\n",
       "      <th></th>\n",
       "      <th>Topic 1</th>\n",
       "      <th>Topic 2</th>\n",
       "      <th>Topic 3</th>\n",
       "      <th>Topic 4</th>\n",
       "      <th>Topic 5</th>\n",
       "      <th>Topic 6</th>\n",
       "    </tr>\n",
       "  </thead>\n",
       "  <tbody>\n",
       "    <tr>\n",
       "      <th>0</th>\n",
       "      <td>learning</td>\n",
       "      <td>way</td>\n",
       "      <td>business</td>\n",
       "      <td>science</td>\n",
       "      <td>home</td>\n",
       "      <td>use</td>\n",
       "    </tr>\n",
       "    <tr>\n",
       "      <th>1</th>\n",
       "      <td>help</td>\n",
       "      <td>ll</td>\n",
       "      <td>free</td>\n",
       "      <td>learning</td>\n",
       "      <td>help</td>\n",
       "      <td>great</td>\n",
       "    </tr>\n",
       "    <tr>\n",
       "      <th>2</th>\n",
       "      <td>learn</td>\n",
       "      <td>lessons</td>\n",
       "      <td>tutorials</td>\n",
       "      <td>history</td>\n",
       "      <td>tips</td>\n",
       "      <td>lessons</td>\n",
       "    </tr>\n",
       "    <tr>\n",
       "      <th>3</th>\n",
       "      <td>language</td>\n",
       "      <td>fun</td>\n",
       "      <td>make</td>\n",
       "      <td>university</td>\n",
       "      <td>information</td>\n",
       "      <td>life</td>\n",
       "    </tr>\n",
       "    <tr>\n",
       "      <th>4</th>\n",
       "      <td>lessons</td>\n",
       "      <td>learning</td>\n",
       "      <td>like</td>\n",
       "      <td>students</td>\n",
       "      <td>life</td>\n",
       "      <td>courses</td>\n",
       "    </tr>\n",
       "    <tr>\n",
       "      <th>5</th>\n",
       "      <td>english</td>\n",
       "      <td>learn</td>\n",
       "      <td>help</td>\n",
       "      <td>education</td>\n",
       "      <td>health</td>\n",
       "      <td>music</td>\n",
       "    </tr>\n",
       "  </tbody>\n",
       "</table>\n",
       "</div>"
      ],
      "text/plain": [
       "    Topic 1   Topic 2    Topic 3     Topic 4      Topic 5  Topic 6\n",
       "0  learning       way   business     science         home      use\n",
       "1      help        ll       free    learning         help    great\n",
       "2     learn   lessons  tutorials     history         tips  lessons\n",
       "3  language       fun       make  university  information     life\n",
       "4   lessons  learning       like    students         life  courses\n",
       "5   english     learn       help   education       health    music"
      ]
     },
     "execution_count": 44,
     "metadata": {},
     "output_type": "execute_result"
    }
   ],
   "source": [
    "topic1=pd.DataFrame({'Topic 1':top_words(count_df1, model1, 0, 6),\n",
    "                   'Topic 2':top_words(count_df1, model1, 1, 6),\n",
    "                   'Topic 3':top_words(count_df1, model1, 2, 6),\n",
    "                   'Topic 4':top_words(count_df1, model1, 3, 6),\n",
    "                    'Topic 5':top_words(count_df1, model1, 4, 6),\n",
    "                    'Topic 6':top_words(count_df1, model1, 5, 6)})\n",
    "topic1"
   ]
  },
  {
   "cell_type": "code",
   "execution_count": 45,
   "metadata": {},
   "outputs": [
    {
     "data": {
      "text/html": [
       "<div>\n",
       "<style scoped>\n",
       "    .dataframe tbody tr th:only-of-type {\n",
       "        vertical-align: middle;\n",
       "    }\n",
       "\n",
       "    .dataframe tbody tr th {\n",
       "        vertical-align: top;\n",
       "    }\n",
       "\n",
       "    .dataframe thead th {\n",
       "        text-align: right;\n",
       "    }\n",
       "</style>\n",
       "<table border=\"1\" class=\"dataframe\">\n",
       "  <thead>\n",
       "    <tr style=\"text-align: right;\">\n",
       "      <th></th>\n",
       "      <th>text</th>\n",
       "    </tr>\n",
       "  </thead>\n",
       "  <tbody>\n",
       "    <tr>\n",
       "      <th>216</th>\n",
       "      <td>tons of awesome courses in one awesome channel...</td>\n",
       "    </tr>\n",
       "    <tr>\n",
       "      <th>332</th>\n",
       "      <td>ted-ed’s commitment to creating lessons worth ...</td>\n",
       "    </tr>\n",
       "    <tr>\n",
       "      <th>802</th>\n",
       "      <td>khan academy is a 501(c)(3) nonprofit organiza...</td>\n",
       "    </tr>\n",
       "    <tr>\n",
       "      <th>1105</th>\n",
       "      <td>let\\'s talk  is a convenient way to learn engl...</td>\n",
       "    </tr>\n",
       "    <tr>\n",
       "      <th>1602</th>\n",
       "      <td>unacademy.com is india’s largest free educatio...</td>\n",
       "    </tr>\n",
       "    <tr>\n",
       "      <th>...</th>\n",
       "      <td>...</td>\n",
       "    </tr>\n",
       "    <tr>\n",
       "      <th>103269</th>\n",
       "      <td>an artist-owned business featuring art instruc...</td>\n",
       "    </tr>\n",
       "    <tr>\n",
       "      <th>103471</th>\n",
       "      <td>http://www.darrenlacroix.com\\r\\r\\n\\r\\r\\nworld ...</td>\n",
       "    </tr>\n",
       "    <tr>\n",
       "      <th>103576</th>\n",
       "      <td>our collection of videos to help you learn fas...</td>\n",
       "    </tr>\n",
       "    <tr>\n",
       "      <th>103942</th>\n",
       "      <td>please support my channel in patreon: https://...</td>\n",
       "    </tr>\n",
       "    <tr>\n",
       "      <th>104163</th>\n",
       "      <td>all the important staff on yoga and meditation...</td>\n",
       "    </tr>\n",
       "  </tbody>\n",
       "</table>\n",
       "<p>452 rows × 1 columns</p>\n",
       "</div>"
      ],
      "text/plain": [
       "                                                     text\n",
       "216     tons of awesome courses in one awesome channel...\n",
       "332     ted-ed’s commitment to creating lessons worth ...\n",
       "802     khan academy is a 501(c)(3) nonprofit organiza...\n",
       "1105    let\\'s talk  is a convenient way to learn engl...\n",
       "1602    unacademy.com is india’s largest free educatio...\n",
       "...                                                   ...\n",
       "103269  an artist-owned business featuring art instruc...\n",
       "103471  http://www.darrenlacroix.com\\r\\r\\n\\r\\r\\nworld ...\n",
       "103576  our collection of videos to help you learn fas...\n",
       "103942  please support my channel in patreon: https://...\n",
       "104163  all the important staff on yoga and meditation...\n",
       "\n",
       "[452 rows x 1 columns]"
      ]
     },
     "execution_count": 45,
     "metadata": {},
     "output_type": "execute_result"
    }
   ],
   "source": [
    "Y=pd.DataFrame({'text':courses['description']})\n",
    "Y"
   ]
  },
  {
   "cell_type": "code",
   "execution_count": 46,
   "metadata": {},
   "outputs": [
    {
     "data": {
      "text/html": [
       "<div>\n",
       "<style scoped>\n",
       "    .dataframe tbody tr th:only-of-type {\n",
       "        vertical-align: middle;\n",
       "    }\n",
       "\n",
       "    .dataframe tbody tr th {\n",
       "        vertical-align: top;\n",
       "    }\n",
       "\n",
       "    .dataframe thead th {\n",
       "        text-align: right;\n",
       "    }\n",
       "</style>\n",
       "<table border=\"1\" class=\"dataframe\">\n",
       "  <thead>\n",
       "    <tr style=\"text-align: right;\">\n",
       "      <th></th>\n",
       "      <th>000</th>\n",
       "      <th>10</th>\n",
       "      <th>academy</th>\n",
       "      <th>access</th>\n",
       "      <th>advanced</th>\n",
       "      <th>art</th>\n",
       "      <th>audio</th>\n",
       "      <th>available</th>\n",
       "      <th>based</th>\n",
       "      <th>basic</th>\n",
       "      <th>...</th>\n",
       "      <th>website</th>\n",
       "      <th>week</th>\n",
       "      <th>welcome</th>\n",
       "      <th>work</th>\n",
       "      <th>working</th>\n",
       "      <th>world</th>\n",
       "      <th>write</th>\n",
       "      <th>year</th>\n",
       "      <th>years</th>\n",
       "      <th>youtube</th>\n",
       "    </tr>\n",
       "  </thead>\n",
       "  <tbody>\n",
       "    <tr>\n",
       "      <th>0</th>\n",
       "      <td>0</td>\n",
       "      <td>0</td>\n",
       "      <td>0</td>\n",
       "      <td>0</td>\n",
       "      <td>0</td>\n",
       "      <td>0</td>\n",
       "      <td>0</td>\n",
       "      <td>0</td>\n",
       "      <td>0</td>\n",
       "      <td>0</td>\n",
       "      <td>...</td>\n",
       "      <td>0</td>\n",
       "      <td>0</td>\n",
       "      <td>0</td>\n",
       "      <td>0</td>\n",
       "      <td>0</td>\n",
       "      <td>1</td>\n",
       "      <td>0</td>\n",
       "      <td>0</td>\n",
       "      <td>0</td>\n",
       "      <td>0</td>\n",
       "    </tr>\n",
       "    <tr>\n",
       "      <th>1</th>\n",
       "      <td>0</td>\n",
       "      <td>0</td>\n",
       "      <td>0</td>\n",
       "      <td>0</td>\n",
       "      <td>0</td>\n",
       "      <td>0</td>\n",
       "      <td>0</td>\n",
       "      <td>0</td>\n",
       "      <td>0</td>\n",
       "      <td>0</td>\n",
       "      <td>...</td>\n",
       "      <td>2</td>\n",
       "      <td>0</td>\n",
       "      <td>0</td>\n",
       "      <td>0</td>\n",
       "      <td>0</td>\n",
       "      <td>0</td>\n",
       "      <td>0</td>\n",
       "      <td>0</td>\n",
       "      <td>0</td>\n",
       "      <td>0</td>\n",
       "    </tr>\n",
       "    <tr>\n",
       "      <th>2</th>\n",
       "      <td>0</td>\n",
       "      <td>0</td>\n",
       "      <td>3</td>\n",
       "      <td>0</td>\n",
       "      <td>0</td>\n",
       "      <td>0</td>\n",
       "      <td>0</td>\n",
       "      <td>0</td>\n",
       "      <td>0</td>\n",
       "      <td>0</td>\n",
       "      <td>...</td>\n",
       "      <td>0</td>\n",
       "      <td>0</td>\n",
       "      <td>0</td>\n",
       "      <td>0</td>\n",
       "      <td>0</td>\n",
       "      <td>1</td>\n",
       "      <td>0</td>\n",
       "      <td>0</td>\n",
       "      <td>0</td>\n",
       "      <td>0</td>\n",
       "    </tr>\n",
       "    <tr>\n",
       "      <th>3</th>\n",
       "      <td>0</td>\n",
       "      <td>0</td>\n",
       "      <td>0</td>\n",
       "      <td>0</td>\n",
       "      <td>0</td>\n",
       "      <td>0</td>\n",
       "      <td>1</td>\n",
       "      <td>0</td>\n",
       "      <td>0</td>\n",
       "      <td>0</td>\n",
       "      <td>...</td>\n",
       "      <td>0</td>\n",
       "      <td>0</td>\n",
       "      <td>0</td>\n",
       "      <td>0</td>\n",
       "      <td>0</td>\n",
       "      <td>0</td>\n",
       "      <td>0</td>\n",
       "      <td>0</td>\n",
       "      <td>0</td>\n",
       "      <td>0</td>\n",
       "    </tr>\n",
       "    <tr>\n",
       "      <th>4</th>\n",
       "      <td>0</td>\n",
       "      <td>0</td>\n",
       "      <td>0</td>\n",
       "      <td>0</td>\n",
       "      <td>0</td>\n",
       "      <td>0</td>\n",
       "      <td>0</td>\n",
       "      <td>1</td>\n",
       "      <td>0</td>\n",
       "      <td>0</td>\n",
       "      <td>...</td>\n",
       "      <td>0</td>\n",
       "      <td>0</td>\n",
       "      <td>0</td>\n",
       "      <td>0</td>\n",
       "      <td>0</td>\n",
       "      <td>1</td>\n",
       "      <td>0</td>\n",
       "      <td>0</td>\n",
       "      <td>0</td>\n",
       "      <td>2</td>\n",
       "    </tr>\n",
       "    <tr>\n",
       "      <th>...</th>\n",
       "      <td>...</td>\n",
       "      <td>...</td>\n",
       "      <td>...</td>\n",
       "      <td>...</td>\n",
       "      <td>...</td>\n",
       "      <td>...</td>\n",
       "      <td>...</td>\n",
       "      <td>...</td>\n",
       "      <td>...</td>\n",
       "      <td>...</td>\n",
       "      <td>...</td>\n",
       "      <td>...</td>\n",
       "      <td>...</td>\n",
       "      <td>...</td>\n",
       "      <td>...</td>\n",
       "      <td>...</td>\n",
       "      <td>...</td>\n",
       "      <td>...</td>\n",
       "      <td>...</td>\n",
       "      <td>...</td>\n",
       "      <td>...</td>\n",
       "    </tr>\n",
       "    <tr>\n",
       "      <th>447</th>\n",
       "      <td>0</td>\n",
       "      <td>0</td>\n",
       "      <td>0</td>\n",
       "      <td>0</td>\n",
       "      <td>0</td>\n",
       "      <td>2</td>\n",
       "      <td>0</td>\n",
       "      <td>0</td>\n",
       "      <td>0</td>\n",
       "      <td>0</td>\n",
       "      <td>...</td>\n",
       "      <td>0</td>\n",
       "      <td>0</td>\n",
       "      <td>0</td>\n",
       "      <td>0</td>\n",
       "      <td>0</td>\n",
       "      <td>0</td>\n",
       "      <td>0</td>\n",
       "      <td>0</td>\n",
       "      <td>0</td>\n",
       "      <td>0</td>\n",
       "    </tr>\n",
       "    <tr>\n",
       "      <th>448</th>\n",
       "      <td>1</td>\n",
       "      <td>0</td>\n",
       "      <td>0</td>\n",
       "      <td>0</td>\n",
       "      <td>1</td>\n",
       "      <td>0</td>\n",
       "      <td>0</td>\n",
       "      <td>0</td>\n",
       "      <td>0</td>\n",
       "      <td>0</td>\n",
       "      <td>...</td>\n",
       "      <td>0</td>\n",
       "      <td>0</td>\n",
       "      <td>0</td>\n",
       "      <td>0</td>\n",
       "      <td>0</td>\n",
       "      <td>2</td>\n",
       "      <td>0</td>\n",
       "      <td>0</td>\n",
       "      <td>0</td>\n",
       "      <td>0</td>\n",
       "    </tr>\n",
       "    <tr>\n",
       "      <th>449</th>\n",
       "      <td>0</td>\n",
       "      <td>0</td>\n",
       "      <td>0</td>\n",
       "      <td>0</td>\n",
       "      <td>0</td>\n",
       "      <td>0</td>\n",
       "      <td>0</td>\n",
       "      <td>0</td>\n",
       "      <td>0</td>\n",
       "      <td>0</td>\n",
       "      <td>...</td>\n",
       "      <td>0</td>\n",
       "      <td>0</td>\n",
       "      <td>0</td>\n",
       "      <td>0</td>\n",
       "      <td>0</td>\n",
       "      <td>0</td>\n",
       "      <td>0</td>\n",
       "      <td>0</td>\n",
       "      <td>0</td>\n",
       "      <td>0</td>\n",
       "    </tr>\n",
       "    <tr>\n",
       "      <th>450</th>\n",
       "      <td>0</td>\n",
       "      <td>0</td>\n",
       "      <td>0</td>\n",
       "      <td>0</td>\n",
       "      <td>0</td>\n",
       "      <td>0</td>\n",
       "      <td>0</td>\n",
       "      <td>0</td>\n",
       "      <td>0</td>\n",
       "      <td>0</td>\n",
       "      <td>...</td>\n",
       "      <td>0</td>\n",
       "      <td>0</td>\n",
       "      <td>0</td>\n",
       "      <td>1</td>\n",
       "      <td>1</td>\n",
       "      <td>0</td>\n",
       "      <td>0</td>\n",
       "      <td>0</td>\n",
       "      <td>0</td>\n",
       "      <td>0</td>\n",
       "    </tr>\n",
       "    <tr>\n",
       "      <th>451</th>\n",
       "      <td>0</td>\n",
       "      <td>0</td>\n",
       "      <td>0</td>\n",
       "      <td>0</td>\n",
       "      <td>0</td>\n",
       "      <td>0</td>\n",
       "      <td>0</td>\n",
       "      <td>0</td>\n",
       "      <td>0</td>\n",
       "      <td>0</td>\n",
       "      <td>...</td>\n",
       "      <td>0</td>\n",
       "      <td>0</td>\n",
       "      <td>0</td>\n",
       "      <td>0</td>\n",
       "      <td>0</td>\n",
       "      <td>0</td>\n",
       "      <td>0</td>\n",
       "      <td>0</td>\n",
       "      <td>0</td>\n",
       "      <td>0</td>\n",
       "    </tr>\n",
       "  </tbody>\n",
       "</table>\n",
       "<p>452 rows × 219 columns</p>\n",
       "</div>"
      ],
      "text/plain": [
       "     000  10  academy  access  advanced  art  audio  available  based  basic  \\\n",
       "0      0   0        0       0         0    0      0          0      0      0   \n",
       "1      0   0        0       0         0    0      0          0      0      0   \n",
       "2      0   0        3       0         0    0      0          0      0      0   \n",
       "3      0   0        0       0         0    0      1          0      0      0   \n",
       "4      0   0        0       0         0    0      0          1      0      0   \n",
       "..   ...  ..      ...     ...       ...  ...    ...        ...    ...    ...   \n",
       "447    0   0        0       0         0    2      0          0      0      0   \n",
       "448    1   0        0       0         1    0      0          0      0      0   \n",
       "449    0   0        0       0         0    0      0          0      0      0   \n",
       "450    0   0        0       0         0    0      0          0      0      0   \n",
       "451    0   0        0       0         0    0      0          0      0      0   \n",
       "\n",
       "     ...  website  week  welcome  work  working  world  write  year  years  \\\n",
       "0    ...        0     0        0     0        0      1      0     0      0   \n",
       "1    ...        2     0        0     0        0      0      0     0      0   \n",
       "2    ...        0     0        0     0        0      1      0     0      0   \n",
       "3    ...        0     0        0     0        0      0      0     0      0   \n",
       "4    ...        0     0        0     0        0      1      0     0      0   \n",
       "..   ...      ...   ...      ...   ...      ...    ...    ...   ...    ...   \n",
       "447  ...        0     0        0     0        0      0      0     0      0   \n",
       "448  ...        0     0        0     0        0      2      0     0      0   \n",
       "449  ...        0     0        0     0        0      0      0     0      0   \n",
       "450  ...        0     0        0     1        1      0      0     0      0   \n",
       "451  ...        0     0        0     0        0      0      0     0      0   \n",
       "\n",
       "     youtube  \n",
       "0          0  \n",
       "1          0  \n",
       "2          0  \n",
       "3          0  \n",
       "4          2  \n",
       "..       ...  \n",
       "447        0  \n",
       "448        0  \n",
       "449        0  \n",
       "450        0  \n",
       "451        0  \n",
       "\n",
       "[452 rows x 219 columns]"
      ]
     },
     "execution_count": 46,
     "metadata": {},
     "output_type": "execute_result"
    }
   ],
   "source": [
    "from sklearn.feature_extraction.text import CountVectorizer\n",
    "vec=CountVectorizer(max_df=0.3,min_df=0.03, stop_words='english')\n",
    "counts=vec.fit_transform(Y['text'])\n",
    "counts=counts.toarray()\n",
    "count_df2=pd.DataFrame(counts,columns=vec.get_feature_names())\n",
    "count_df2=count_df2.drop(['http','https','video'],axis=1)\n",
    "count_df2"
   ]
  },
  {
   "cell_type": "code",
   "execution_count": 47,
   "metadata": {},
   "outputs": [
    {
     "data": {
      "text/plain": [
       "NMF(init='random', n_components=4, random_state=0)"
      ]
     },
     "execution_count": 47,
     "metadata": {},
     "output_type": "execute_result"
    }
   ],
   "source": [
    "from sklearn.decomposition import NMF\n",
    "\n",
    "model2=NMF(n_components=4,init=\"random\",random_state=0)\n",
    "model2.fit(count_df2)\n",
    "#model2.components_"
   ]
  },
  {
   "cell_type": "code",
   "execution_count": 48,
   "metadata": {},
   "outputs": [
    {
     "data": {
      "text/html": [
       "<div>\n",
       "<style scoped>\n",
       "    .dataframe tbody tr th:only-of-type {\n",
       "        vertical-align: middle;\n",
       "    }\n",
       "\n",
       "    .dataframe tbody tr th {\n",
       "        vertical-align: top;\n",
       "    }\n",
       "\n",
       "    .dataframe thead th {\n",
       "        text-align: right;\n",
       "    }\n",
       "</style>\n",
       "<table border=\"1\" class=\"dataframe\">\n",
       "  <thead>\n",
       "    <tr style=\"text-align: right;\">\n",
       "      <th></th>\n",
       "      <th>Topic 1</th>\n",
       "      <th>Topic 2</th>\n",
       "      <th>Topic 3</th>\n",
       "      <th>Topic 4</th>\n",
       "    </tr>\n",
       "  </thead>\n",
       "  <tbody>\n",
       "    <tr>\n",
       "      <th>0</th>\n",
       "      <td>way</td>\n",
       "      <td>improve</td>\n",
       "      <td>students</td>\n",
       "      <td>course</td>\n",
       "    </tr>\n",
       "    <tr>\n",
       "      <th>1</th>\n",
       "      <td>ll</td>\n",
       "      <td>grammar</td>\n",
       "      <td>guitar</td>\n",
       "      <td>youtube</td>\n",
       "    </tr>\n",
       "    <tr>\n",
       "      <th>2</th>\n",
       "      <td>fun</td>\n",
       "      <td>speaking</td>\n",
       "      <td>online</td>\n",
       "      <td>tutorials</td>\n",
       "    </tr>\n",
       "    <tr>\n",
       "      <th>3</th>\n",
       "      <td>learning</td>\n",
       "      <td>english</td>\n",
       "      <td>music</td>\n",
       "      <td>free</td>\n",
       "    </tr>\n",
       "  </tbody>\n",
       "</table>\n",
       "</div>"
      ],
      "text/plain": [
       "    Topic 1   Topic 2   Topic 3    Topic 4\n",
       "0       way   improve  students     course\n",
       "1        ll   grammar    guitar    youtube\n",
       "2       fun  speaking    online  tutorials\n",
       "3  learning   english     music       free"
      ]
     },
     "execution_count": 48,
     "metadata": {},
     "output_type": "execute_result"
    }
   ],
   "source": [
    "topic2=pd.DataFrame({'Topic 1':top_words(count_df2, model2, 0, 4),\n",
    "                   'Topic 2':top_words(count_df2, model2, 1, 4),\n",
    "                   'Topic 3':top_words(count_df2, model2, 2, 4),\n",
    "                   'Topic 4':top_words(count_df2, model2, 3, 4)})\n",
    "topic2"
   ]
  },
  {
   "cell_type": "markdown",
   "metadata": {},
   "source": [
    "## Try to find category composition of Education channels"
   ]
  },
  {
   "cell_type": "code",
   "execution_count": 49,
   "metadata": {},
   "outputs": [
    {
     "data": {
      "text/plain": [
       "349"
      ]
     },
     "execution_count": 49,
     "metadata": {},
     "output_type": "execute_result"
    }
   ],
   "source": [
    "Language=Edu_nokids[Edu_nokids['description'].str.contains(\"language\")\n",
    "                    |Edu_nokids['description'].str.contains(\"english\")\n",
    "                   |Edu_nokids['title'].str.contains(\"english\")]\n",
    "len(Language)"
   ]
  },
  {
   "cell_type": "code",
   "execution_count": 50,
   "metadata": {},
   "outputs": [
    {
     "data": {
      "text/plain": [
       "181"
      ]
     },
     "execution_count": 50,
     "metadata": {},
     "output_type": "execute_result"
    }
   ],
   "source": [
    "History=Edu_nokids[Edu_nokids['description'].str.contains(\"history\")\n",
    "                  |Edu_nokids['title'].str.contains(\"history\")]\n",
    "len(History)"
   ]
  },
  {
   "cell_type": "code",
   "execution_count": 51,
   "metadata": {},
   "outputs": [
    {
     "data": {
      "text/plain": [
       "179"
      ]
     },
     "execution_count": 51,
     "metadata": {},
     "output_type": "execute_result"
    }
   ],
   "source": [
    "Music=Edu_nokids[Edu_nokids['description'].str.contains(\"music\")\n",
    "                |Edu_nokids['title'].str.contains(\"music\")]\n",
    "len(Music)"
   ]
  },
  {
   "cell_type": "code",
   "execution_count": 52,
   "metadata": {},
   "outputs": [
    {
     "data": {
      "text/plain": [
       "95"
      ]
     },
     "execution_count": 52,
     "metadata": {},
     "output_type": "execute_result"
    }
   ],
   "source": [
    "Computer=Edu_nokids[Edu_nokids['description'].str.contains(\"computer\")\n",
    "                   |Edu_nokids['title'].str.contains(\"computer\")]\n",
    "len(Computer)"
   ]
  },
  {
   "cell_type": "code",
   "execution_count": 53,
   "metadata": {},
   "outputs": [
    {
     "data": {
      "text/plain": [
       "331"
      ]
     },
     "execution_count": 53,
     "metadata": {},
     "output_type": "execute_result"
    }
   ],
   "source": [
    "Sci=Edu_nokids[Edu_nokids['description'].str.contains(\"science\")\n",
    "              |Edu_nokids['description'].str.contains(\"technology\")\n",
    "              |Edu_nokids['title'].str.contains(\"technology\")\n",
    "              |Edu_nokids['title'].str.contains(\"science\")]\n",
    "len(Sci)"
   ]
  },
  {
   "cell_type": "code",
   "execution_count": 54,
   "metadata": {},
   "outputs": [
    {
     "data": {
      "text/plain": [
       "246"
      ]
     },
     "execution_count": 54,
     "metadata": {},
     "output_type": "execute_result"
    }
   ],
   "source": [
    "Health=Edu_nokids[Edu_nokids['description'].str.contains(\"health\")\n",
    "                 |Edu_nokids['title'].str.contains(\"health\")]\n",
    "len(Health)"
   ]
  },
  {
   "cell_type": "code",
   "execution_count": 55,
   "metadata": {},
   "outputs": [
    {
     "data": {
      "text/plain": [
       "136"
      ]
     },
     "execution_count": 55,
     "metadata": {},
     "output_type": "execute_result"
    }
   ],
   "source": [
    "game=Edu_nokids[Edu_nokids['description'].str.contains(\"game\")\n",
    "               |Edu_nokids['title'].str.contains(\"game\")]\n",
    "len(game)"
   ]
  },
  {
   "cell_type": "code",
   "execution_count": 56,
   "metadata": {},
   "outputs": [
    {
     "data": {
      "text/plain": [
       "150"
      ]
     },
     "execution_count": 56,
     "metadata": {},
     "output_type": "execute_result"
    }
   ],
   "source": [
    "exam=Edu_nokids[Edu_nokids['description'].str.contains(\"exam\")\n",
    "               |Edu_nokids['title'].str.contains(\"exam\")]\n",
    "len(exam)"
   ]
  },
  {
   "cell_type": "code",
   "execution_count": 57,
   "metadata": {},
   "outputs": [
    {
     "data": {
      "text/plain": [
       "153"
      ]
     },
     "execution_count": 57,
     "metadata": {},
     "output_type": "execute_result"
    }
   ],
   "source": [
    "uni=Edu_nokids[Edu_nokids['description'].str.contains(\"university\")\n",
    "               |Edu_nokids['title'].str.contains(\"university\")]\n",
    "len(uni)"
   ]
  },
  {
   "cell_type": "code",
   "execution_count": 62,
   "metadata": {},
   "outputs": [
    {
     "data": {
      "text/plain": [
       "{'Language': 7.858590407565863,\n",
       " 'Science': 7.453276289124071,\n",
       " 'Health': 5.53929295203783,\n",
       " 'History': 4.075658635442468,\n",
       " 'Music': 4.03062373339338,\n",
       " 'University': 3.4451700067552355,\n",
       " 'Exam Prep': 3.3776176536816034,\n",
       " 'Game': 3.062373339337987,\n",
       " 'Computer': 2.139157847331682,\n",
       " 'Invest': 2.8822337311416346,\n",
       " 'Healthcare': 0.3827966674172484,\n",
       " 'Taxes': 0.2927268633190723,\n",
       " 'Credit/Loan': 0.20265705922089622}"
      ]
     },
     "execution_count": 62,
     "metadata": {},
     "output_type": "execute_result"
    }
   ],
   "source": [
    "len(Edu_nokids) #4441\n",
    "Percentage2={'Language':len(Language)/len(Edu_nokids)*100,\n",
    "            'Science':len(Sci)/len(Edu_nokids)*100,\n",
    "            'Health':len(Health)/len(Edu_nokids)*100,\n",
    "           'History':len(History)/len(Edu_nokids)*100,\n",
    "            'Music':len(Music)/len(Edu_nokids)*100,\n",
    "             'University':len(uni)/len(Edu_nokids)*100,\n",
    "            'Exam Prep':len(exam)/len(Edu_nokids)*100,\n",
    "           'Game':len(game)/len(Edu_nokids)*100,\n",
    "             'Computer':len(Computer)/len(Edu_nokids)*100,\n",
    "             'Invest':len(Invest)/len(Edu_nokids)*100,\n",
    "            'Healthcare':len(healthcare)/len(Edu_nokids)*100,\n",
    "            'Taxes':len(tax)/len(Edu_nokids)*100,\n",
    "           'Credit/Loan':len(Credit_Loan)/len(Edu_nokids)*100}\n",
    "Percentage2"
   ]
  },
  {
   "cell_type": "code",
   "execution_count": 64,
   "metadata": {},
   "outputs": [
    {
     "data": {
      "image/png": "[encoded data removed]",
      "text/plain": [
       "<Figure size 1440x360 with 1 Axes>"
      ]
     },
     "metadata": {
      "needs_background": "light"
     },
     "output_type": "display_data"
    }
   ],
   "source": [
    "#bar plot\n",
    "color=['black']*9+['orange']*4\n",
    "fig, ax = plt.subplots(1,figsize=(20,5))\n",
    "plt.bar(range(len(Percentage2)), list(Percentage2.values()), align='center',color=color)\n",
    "plt.xticks(range(len(Percentage2)), list(Percentage2.keys()),fontsize=15)\n",
    "plt.title(\"Category Composition of All Education Channels\",fontsize=20)\n",
    "plt.ylabel(\"Percentage\",fontsize=15)\n",
    "plt.show()"
   ]
  },
  {
   "cell_type": "code",
   "execution_count": 60,
   "metadata": {},
   "outputs": [
    {
     "data": {
      "text/plain": [
       "428"
      ]
     },
     "execution_count": 60,
     "metadata": {},
     "output_type": "execute_result"
    }
   ],
   "source": [
    "total=len(healthcare)+len(Invest)+len(Language)+len(Music)+len(History)+len(Sci)+len(tax)+len(Credit_Loan)+len(Computer)+len(Health)+len(game)+len(exam)+len(uni)\n",
    "known=pd.concat([Music, History,Sci,Language,Invest,healthcare,tax,Credit_Loan,Computer,Health,game,exam,uni]).drop_duplicates(keep='first')\n",
    "total-len(known) #number of overlap channels"
   ]
  },
  {
   "cell_type": "code",
   "execution_count": 61,
   "metadata": {},
   "outputs": [
    {
     "data": {
      "text/plain": [
       "2882"
      ]
     },
     "execution_count": 61,
     "metadata": {},
     "output_type": "execute_result"
    }
   ],
   "source": [
    "unknown=pd.concat([known,Edu_nokids]).drop_duplicates(keep=False)\n",
    "len(unknown) #still have large amount of channels that could not be catigorized by description/title"
   ]
  },
  {
   "cell_type": "markdown",
   "metadata": {},
   "source": [
    "## Draft of previous versions(DON'T READ)"
   ]
  },
  {
   "cell_type": "code",
   "execution_count": 135,
   "metadata": {},
   "outputs": [
    {
     "data": {
      "image/png": "[encoded data removed]",
      "text/plain": [
       "<Figure size 648x864 with 1 Axes>"
      ]
     },
     "metadata": {},
     "output_type": "display_data"
    }
   ],
   "source": [
    "# Pie Chart will not be used\n",
    "import matplotlib.pyplot as plt\n",
    "\n",
    "# Pie chart, where the slices will be ordered and plotted counter-clockwise:\n",
    "labels = 'Loan/Mortgages','insurance', 'tax', 'credit', 'Invest','Other'\n",
    "sizes = [9,9, 13, 33, 41, 346]\n",
    "\n",
    "fig1, ax1= plt.subplots(figsize=(9,12))\n",
    "ax1.pie(sizes, labels=labels, autopct='%1.1f%%',startangle=90,rotatelabels=True)\n",
    "ax1.axis('equal')  # Equal aspect ratio ensures that pie is drawn as a circle.\n",
    "\n",
    "ax1.set(title=\"Onomy's topic as percentage of all Youtube courses\")\n",
    "\n",
    "plt.show()"
   ]
  },
  {
   "cell_type": "code",
   "execution_count": 127,
   "metadata": {},
   "outputs": [
    {
     "data": {
      "text/plain": [
       "0    OLYMP TRADE Global\n",
       "Name: title, dtype: object"
      ]
     },
     "execution_count": 127,
     "metadata": {},
     "output_type": "execute_result"
    }
   ],
   "source": [
    "s1 = pd.merge(Invest, insurance, how='inner', on=['title'])\n",
    "s1['title']"
   ]
  },
  {
   "cell_type": "code",
   "execution_count": 128,
   "metadata": {},
   "outputs": [
    {
     "data": {
      "text/plain": [
       "0         UKspreadbetting\n",
       "1    House Flipping Guide\n",
       "Name: title, dtype: object"
      ]
     },
     "execution_count": 128,
     "metadata": {},
     "output_type": "execute_result"
    }
   ],
   "source": [
    "s2 = pd.merge(Invest, tax, how='inner', on=['title'])\n",
    "s2['title']"
   ]
  },
  {
   "cell_type": "code",
   "execution_count": 129,
   "metadata": {},
   "outputs": [
    {
     "data": {
      "text/plain": [
       "Series([], Name: title, dtype: object)"
      ]
     },
     "execution_count": 129,
     "metadata": {},
     "output_type": "execute_result"
    }
   ],
   "source": [
    "s3 = pd.merge(Invest, credit, how='inner', on=['title'])\n",
    "s3['title']"
   ]
  },
  {
   "cell_type": "code",
   "execution_count": 130,
   "metadata": {},
   "outputs": [
    {
     "data": {
      "text/plain": [
       "Series([], Name: title, dtype: object)"
      ]
     },
     "execution_count": 130,
     "metadata": {},
     "output_type": "execute_result"
    }
   ],
   "source": [
    "s4 = pd.merge(Invest, loan_mortgage, how='inner', on=['title'])\n",
    "s4['title']"
   ]
  },
  {
   "cell_type": "code",
   "execution_count": 131,
   "metadata": {},
   "outputs": [
    {
     "data": {
      "text/plain": [
       "0               VIPFinancialEd\n",
       "1         100 Percent Financed\n",
       "2    Academy of Art University\n",
       "3                   MethisMacs\n",
       "4                 Shay Budgets\n",
       "Name: title, dtype: object"
      ]
     },
     "execution_count": 131,
     "metadata": {},
     "output_type": "execute_result"
    }
   ],
   "source": [
    "s5 = pd.merge(credit, loan_mortgage, how='inner', on=['title'])\n",
    "s5['title']"
   ]
  },
  {
   "cell_type": "code",
   "execution_count": 132,
   "metadata": {},
   "outputs": [
    {
     "data": {
      "text/plain": [
       "0    Hillsdale College\n",
       "Name: title, dtype: object"
      ]
     },
     "execution_count": 132,
     "metadata": {},
     "output_type": "execute_result"
    }
   ],
   "source": [
    "s6 = pd.merge(credit, tax, how='inner', on=['title'])\n",
    "s6['title']"
   ]
  },
  {
   "cell_type": "code",
   "execution_count": 136,
   "metadata": {},
   "outputs": [
    {
     "data": {
      "text/plain": [
       "0    MethisMacs\n",
       "Name: title, dtype: object"
      ]
     },
     "execution_count": 136,
     "metadata": {},
     "output_type": "execute_result"
    }
   ],
   "source": [
    "s7 = pd.merge(credit, insurance, how='inner', on=['title'])\n",
    "s7['title']"
   ]
  },
  {
   "cell_type": "code",
   "execution_count": null,
   "metadata": {},
   "outputs": [],
   "source": [
    "s8 = pd.merge(credit, insurance, how='inner', on=['title'])\n",
    "s8['title']"
   ]
  },
  {
   "cell_type": "code",
   "execution_count": null,
   "metadata": {},
   "outputs": [],
   "source": [
    "from matplotlib_venn import venn3\n",
    "venn3(subsets = (10, 8, 22, 6,9,4,2))\n",
    "plt.show()"
   ]
  }
 ],
 "metadata": {
  "kernelspec": {
   "display_name": "Python [conda env:root]",
   "language": "python",
   "name": "conda-root-py"
  },
  "language_info": {
   "codemirror_mode": {
    "name": "ipython",
    "version": 3
   },
   "file_extension": ".py",
   "mimetype": "text/x-python",
   "name": "python",
   "nbconvert_exporter": "python",
   "pygments_lexer": "ipython3",
   "version": "3.8.3"
  }
 },
 "nbformat": 4,
 "nbformat_minor": 4
}
