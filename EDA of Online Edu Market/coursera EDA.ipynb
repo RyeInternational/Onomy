{
 "cells": [
  {
   "cell_type": "code",
   "execution_count": 1,
   "metadata": {},
   "outputs": [
    {
     "data": {
      "text/html": [
       "<div>\n",
       "<style scoped>\n",
       "    .dataframe tbody tr th:only-of-type {\n",
       "        vertical-align: middle;\n",
       "    }\n",
       "\n",
       "    .dataframe tbody tr th {\n",
       "        vertical-align: top;\n",
       "    }\n",
       "\n",
       "    .dataframe thead th {\n",
       "        text-align: right;\n",
       "    }\n",
       "</style>\n",
       "<table border=\"1\" class=\"dataframe\">\n",
       "  <thead>\n",
       "    <tr style=\"text-align: right;\">\n",
       "      <th></th>\n",
       "      <th>Unnamed: 0</th>\n",
       "      <th>Name</th>\n",
       "      <th>Url</th>\n",
       "      <th>Rating</th>\n",
       "      <th>Difficulty</th>\n",
       "      <th>Tags</th>\n",
       "    </tr>\n",
       "  </thead>\n",
       "  <tbody>\n",
       "    <tr>\n",
       "      <th>0</th>\n",
       "      <td>0</td>\n",
       "      <td>\"Making\" Progress Teach-Out</td>\n",
       "      <td>https://coursera.org/learn/makingprogress</td>\n",
       "      <td>None</td>\n",
       "      <td>Beginner Level</td>\n",
       "      <td>['Social Sciences', 'Governance and Society']</td>\n",
       "    </tr>\n",
       "    <tr>\n",
       "      <th>1</th>\n",
       "      <td>1</td>\n",
       "      <td>(Business Writing) الكتابة في مجال الأعمال</td>\n",
       "      <td>https://coursera.org/learn/writing-for-busines...</td>\n",
       "      <td>None</td>\n",
       "      <td>Beginner Level</td>\n",
       "      <td>['Business', 'Business Essentials']</td>\n",
       "    </tr>\n",
       "    <tr>\n",
       "      <th>2</th>\n",
       "      <td>2</td>\n",
       "      <td>(Giving Helpful Feedback) إعطاء الملاحظات المفيدة</td>\n",
       "      <td>https://coursera.org/learn/feedback-ar</td>\n",
       "      <td>4.8</td>\n",
       "      <td>None</td>\n",
       "      <td>['Business', 'Business Essentials']</td>\n",
       "    </tr>\n",
       "    <tr>\n",
       "      <th>3</th>\n",
       "      <td>3</td>\n",
       "      <td>(Successful Presentation) العرض التقديمي الناجح</td>\n",
       "      <td>https://coursera.org/learn/presentation-skills-ar</td>\n",
       "      <td>4.9</td>\n",
       "      <td>Beginner Level</td>\n",
       "      <td>['Business', 'Business Essentials']</td>\n",
       "    </tr>\n",
       "    <tr>\n",
       "      <th>4</th>\n",
       "      <td>4</td>\n",
       "      <td>.Net平台下的软件开发技术毕业项目</td>\n",
       "      <td>https://coursera.org/learn/net-ruanjian-kaifa-...</td>\n",
       "      <td>None</td>\n",
       "      <td>None</td>\n",
       "      <td>['Computer Science', 'Software Development']</td>\n",
       "    </tr>\n",
       "    <tr>\n",
       "      <th>...</th>\n",
       "      <td>...</td>\n",
       "      <td>...</td>\n",
       "      <td>...</td>\n",
       "      <td>...</td>\n",
       "      <td>...</td>\n",
       "      <td>...</td>\n",
       "    </tr>\n",
       "    <tr>\n",
       "      <th>3845</th>\n",
       "      <td>3845</td>\n",
       "      <td>None</td>\n",
       "      <td>https://coursera.org/learn/building-resilient-...</td>\n",
       "      <td>None</td>\n",
       "      <td>None</td>\n",
       "      <td>None</td>\n",
       "    </tr>\n",
       "    <tr>\n",
       "      <th>3846</th>\n",
       "      <td>3846</td>\n",
       "      <td>Drugs and the Brain</td>\n",
       "      <td>https://coursera.org/learn/drugs-and-brain</td>\n",
       "      <td>None</td>\n",
       "      <td>None</td>\n",
       "      <td>None</td>\n",
       "    </tr>\n",
       "    <tr>\n",
       "      <th>3847</th>\n",
       "      <td>3847</td>\n",
       "      <td>None</td>\n",
       "      <td>https://coursera.org/learn/serverless-machine-...</td>\n",
       "      <td>None</td>\n",
       "      <td>None</td>\n",
       "      <td>None</td>\n",
       "    </tr>\n",
       "    <tr>\n",
       "      <th>3848</th>\n",
       "      <td>3848</td>\n",
       "      <td>None</td>\n",
       "      <td>https://coursera.org/learn/serverless-data-ana...</td>\n",
       "      <td>None</td>\n",
       "      <td>None</td>\n",
       "      <td>None</td>\n",
       "    </tr>\n",
       "    <tr>\n",
       "      <th>3849</th>\n",
       "      <td>3849</td>\n",
       "      <td>None</td>\n",
       "      <td>https://coursera.org/learn/augmented-reality-v...</td>\n",
       "      <td>None</td>\n",
       "      <td>None</td>\n",
       "      <td>None</td>\n",
       "    </tr>\n",
       "  </tbody>\n",
       "</table>\n",
       "<p>3850 rows × 6 columns</p>\n",
       "</div>"
      ],
      "text/plain": [
       "      Unnamed: 0                                               Name  \\\n",
       "0              0                        \"Making\" Progress Teach-Out   \n",
       "1              1         (Business Writing) الكتابة في مجال الأعمال   \n",
       "2              2  (Giving Helpful Feedback) إعطاء الملاحظات المفيدة   \n",
       "3              3    (Successful Presentation) العرض التقديمي الناجح   \n",
       "4              4                                 .Net平台下的软件开发技术毕业项目   \n",
       "...          ...                                                ...   \n",
       "3845        3845                                               None   \n",
       "3846        3846                                Drugs and the Brain   \n",
       "3847        3847                                               None   \n",
       "3848        3848                                               None   \n",
       "3849        3849                                               None   \n",
       "\n",
       "                                                    Url Rating  \\\n",
       "0             https://coursera.org/learn/makingprogress   None   \n",
       "1     https://coursera.org/learn/writing-for-busines...   None   \n",
       "2                https://coursera.org/learn/feedback-ar    4.8   \n",
       "3     https://coursera.org/learn/presentation-skills-ar    4.9   \n",
       "4     https://coursera.org/learn/net-ruanjian-kaifa-...   None   \n",
       "...                                                 ...    ...   \n",
       "3845  https://coursera.org/learn/building-resilient-...   None   \n",
       "3846         https://coursera.org/learn/drugs-and-brain   None   \n",
       "3847  https://coursera.org/learn/serverless-machine-...   None   \n",
       "3848  https://coursera.org/learn/serverless-data-ana...   None   \n",
       "3849  https://coursera.org/learn/augmented-reality-v...   None   \n",
       "\n",
       "          Difficulty                                           Tags  \n",
       "0     Beginner Level  ['Social Sciences', 'Governance and Society']  \n",
       "1     Beginner Level            ['Business', 'Business Essentials']  \n",
       "2               None            ['Business', 'Business Essentials']  \n",
       "3     Beginner Level            ['Business', 'Business Essentials']  \n",
       "4               None   ['Computer Science', 'Software Development']  \n",
       "...              ...                                            ...  \n",
       "3845            None                                           None  \n",
       "3846            None                                           None  \n",
       "3847            None                                           None  \n",
       "3848            None                                           None  \n",
       "3849            None                                           None  \n",
       "\n",
       "[3850 rows x 6 columns]"
      ]
     },
     "execution_count": 1,
     "metadata": {},
     "output_type": "execute_result"
    }
   ],
   "source": [
    "#import packages\n",
    "import pandas as pd\n",
    "from matplotlib import pyplot as plt\n",
    "import numpy as np\n",
    "import statistics\n",
    "import seaborn as sns \n",
    "\n",
    "df = pd.read_csv(r\"C:\\Users\\ymf\\Desktop\\Onomy\\coursera-course-detail-data.csv\")\n",
    "df"
   ]
  },
  {
   "cell_type": "code",
   "execution_count": 2,
   "metadata": {},
   "outputs": [
    {
     "data": {
      "text/html": [
       "<div>\n",
       "<style scoped>\n",
       "    .dataframe tbody tr th:only-of-type {\n",
       "        vertical-align: middle;\n",
       "    }\n",
       "\n",
       "    .dataframe tbody tr th {\n",
       "        vertical-align: top;\n",
       "    }\n",
       "\n",
       "    .dataframe thead th {\n",
       "        text-align: right;\n",
       "    }\n",
       "</style>\n",
       "<table border=\"1\" class=\"dataframe\">\n",
       "  <thead>\n",
       "    <tr style=\"text-align: right;\">\n",
       "      <th></th>\n",
       "      <th>Unnamed: 0</th>\n",
       "      <th>Name</th>\n",
       "      <th>Url</th>\n",
       "      <th>Rating</th>\n",
       "      <th>Difficulty</th>\n",
       "      <th>Tags</th>\n",
       "    </tr>\n",
       "  </thead>\n",
       "  <tbody>\n",
       "    <tr>\n",
       "      <th>12</th>\n",
       "      <td>12</td>\n",
       "      <td>3D CAD Fundamental</td>\n",
       "      <td>https://coursera.org/learn/3d-cad-fundamental</td>\n",
       "      <td>4.8</td>\n",
       "      <td>Beginner Level</td>\n",
       "      <td>['Physical Science and Engineering', 'Mechanic...</td>\n",
       "    </tr>\n",
       "    <tr>\n",
       "      <th>18</th>\n",
       "      <td>18</td>\n",
       "      <td>FPGA computing systems: Background knowledge a...</td>\n",
       "      <td>https://coursera.org/learn/fpga-intro</td>\n",
       "      <td>4.6</td>\n",
       "      <td>Beginner Level</td>\n",
       "      <td>['Computer Science', 'Design and Product']</td>\n",
       "    </tr>\n",
       "    <tr>\n",
       "      <th>19</th>\n",
       "      <td>19</td>\n",
       "      <td>Future Healthcare Payment Models</td>\n",
       "      <td>https://coursera.org/learn/healthcare-payment-...</td>\n",
       "      <td>4.4</td>\n",
       "      <td>Beginner Level</td>\n",
       "      <td>['Health', 'Healthcare Management']</td>\n",
       "    </tr>\n",
       "    <tr>\n",
       "      <th>22</th>\n",
       "      <td>22</td>\n",
       "      <td>Combinatorics and Probability</td>\n",
       "      <td>https://coursera.org/learn/combinatorics</td>\n",
       "      <td>4.6</td>\n",
       "      <td>Beginner Level</td>\n",
       "      <td>['Computer Science', 'Algorithms']</td>\n",
       "    </tr>\n",
       "    <tr>\n",
       "      <th>34</th>\n",
       "      <td>34</td>\n",
       "      <td>Digital Product Management: Modern Fundamentals</td>\n",
       "      <td>https://coursera.org/learn/uva-darden-digital-...</td>\n",
       "      <td>4.7</td>\n",
       "      <td>Beginner Level</td>\n",
       "      <td>['Business', 'Leadership and Management']</td>\n",
       "    </tr>\n",
       "    <tr>\n",
       "      <th>...</th>\n",
       "      <td>...</td>\n",
       "      <td>...</td>\n",
       "      <td>...</td>\n",
       "      <td>...</td>\n",
       "      <td>...</td>\n",
       "      <td>...</td>\n",
       "    </tr>\n",
       "    <tr>\n",
       "      <th>3810</th>\n",
       "      <td>3810</td>\n",
       "      <td>Global Health Policy</td>\n",
       "      <td>https://coursera.org/learn/global-health-policy</td>\n",
       "      <td>4.5</td>\n",
       "      <td>Beginner Level</td>\n",
       "      <td>['Health', 'Public Health']</td>\n",
       "    </tr>\n",
       "    <tr>\n",
       "      <th>3817</th>\n",
       "      <td>3817</td>\n",
       "      <td>Healthcare Organizations and the Health System</td>\n",
       "      <td>https://coursera.org/learn/healthcare-organiza...</td>\n",
       "      <td>4.7</td>\n",
       "      <td>Beginner Level</td>\n",
       "      <td>['Health', 'Healthcare Management']</td>\n",
       "    </tr>\n",
       "    <tr>\n",
       "      <th>3833</th>\n",
       "      <td>3833</td>\n",
       "      <td>AstroTech: The Science and Technology behind A...</td>\n",
       "      <td>https://coursera.org/learn/astronomy-technology</td>\n",
       "      <td>4.7</td>\n",
       "      <td>Beginner Level</td>\n",
       "      <td>['Physical Science and Engineering', 'Physics ...</td>\n",
       "    </tr>\n",
       "    <tr>\n",
       "      <th>3834</th>\n",
       "      <td>3834</td>\n",
       "      <td>Cybersecurity and Its Ten Domains</td>\n",
       "      <td>https://coursera.org/learn/cyber-security-domain</td>\n",
       "      <td>4.2</td>\n",
       "      <td>Beginner Level</td>\n",
       "      <td>['Computer Science', 'Computer Security and Ne...</td>\n",
       "    </tr>\n",
       "    <tr>\n",
       "      <th>3839</th>\n",
       "      <td>3839</td>\n",
       "      <td>Mandarin Chinese 3: Chinese for Beginners</td>\n",
       "      <td>https://coursera.org/learn/mandarin-chinese-3</td>\n",
       "      <td>4.9</td>\n",
       "      <td>Beginner Level</td>\n",
       "      <td>['Language Learning', 'Other Languages']</td>\n",
       "    </tr>\n",
       "  </tbody>\n",
       "</table>\n",
       "<p>1039 rows × 6 columns</p>\n",
       "</div>"
      ],
      "text/plain": [
       "      Unnamed: 0                                               Name  \\\n",
       "12            12                                 3D CAD Fundamental   \n",
       "18            18  FPGA computing systems: Background knowledge a...   \n",
       "19            19                   Future Healthcare Payment Models   \n",
       "22            22                      Combinatorics and Probability   \n",
       "34            34    Digital Product Management: Modern Fundamentals   \n",
       "...          ...                                                ...   \n",
       "3810        3810                               Global Health Policy   \n",
       "3817        3817     Healthcare Organizations and the Health System   \n",
       "3833        3833  AstroTech: The Science and Technology behind A...   \n",
       "3834        3834                  Cybersecurity and Its Ten Domains   \n",
       "3839        3839          Mandarin Chinese 3: Chinese for Beginners   \n",
       "\n",
       "                                                    Url Rating  \\\n",
       "12        https://coursera.org/learn/3d-cad-fundamental    4.8   \n",
       "18                https://coursera.org/learn/fpga-intro    4.6   \n",
       "19    https://coursera.org/learn/healthcare-payment-...    4.4   \n",
       "22             https://coursera.org/learn/combinatorics    4.6   \n",
       "34    https://coursera.org/learn/uva-darden-digital-...    4.7   \n",
       "...                                                 ...    ...   \n",
       "3810    https://coursera.org/learn/global-health-policy    4.5   \n",
       "3817  https://coursera.org/learn/healthcare-organiza...    4.7   \n",
       "3833    https://coursera.org/learn/astronomy-technology    4.7   \n",
       "3834   https://coursera.org/learn/cyber-security-domain    4.2   \n",
       "3839      https://coursera.org/learn/mandarin-chinese-3    4.9   \n",
       "\n",
       "          Difficulty                                               Tags  \n",
       "12    Beginner Level  ['Physical Science and Engineering', 'Mechanic...  \n",
       "18    Beginner Level         ['Computer Science', 'Design and Product']  \n",
       "19    Beginner Level                ['Health', 'Healthcare Management']  \n",
       "22    Beginner Level                 ['Computer Science', 'Algorithms']  \n",
       "34    Beginner Level          ['Business', 'Leadership and Management']  \n",
       "...              ...                                                ...  \n",
       "3810  Beginner Level                        ['Health', 'Public Health']  \n",
       "3817  Beginner Level                ['Health', 'Healthcare Management']  \n",
       "3833  Beginner Level  ['Physical Science and Engineering', 'Physics ...  \n",
       "3834  Beginner Level  ['Computer Science', 'Computer Security and Ne...  \n",
       "3839  Beginner Level           ['Language Learning', 'Other Languages']  \n",
       "\n",
       "[1039 rows x 6 columns]"
      ]
     },
     "execution_count": 2,
     "metadata": {},
     "output_type": "execute_result"
    }
   ],
   "source": [
    "df = df[df.Rating != \"None\"]\n",
    "df = df[df.Difficulty != \"None\"]\n",
    "df = df[df.Difficulty == \"Beginner Level\"]\n",
    "df = df[df.Name.map(lambda x: x.isascii())]# delete rows with Non-English words\n",
    "df"
   ]
  },
  {
   "cell_type": "code",
   "execution_count": 3,
   "metadata": {},
   "outputs": [
    {
     "data": {
      "text/plain": [
       "count     1039\n",
       "unique      16\n",
       "top        4.7\n",
       "freq       269\n",
       "Name: Rating, dtype: object"
      ]
     },
     "execution_count": 3,
     "metadata": {},
     "output_type": "execute_result"
    }
   ],
   "source": [
    "df.Rating.describe()"
   ]
  },
  {
   "cell_type": "code",
   "execution_count": 4,
   "metadata": {},
   "outputs": [
    {
     "name": "stdout",
     "output_type": "stream",
     "text": [
      "(52, 6)\n"
     ]
    }
   ],
   "source": [
    "personal = df[df['Tags'].str.contains(\"Personal\")|df['Name'].str.contains(\"Personal\")]\n",
    "print(personal.shape)\n",
    "personal\n",
    "personal.to_csv('personal.csv',index = True)\n",
    "#df_personal.to_csv(“personal.txt”)\n"
   ]
  },
  {
   "cell_type": "code",
   "execution_count": 5,
   "metadata": {},
   "outputs": [
    {
     "data": {
      "text/plain": [
       "'C:\\\\Users\\\\ymf\\\\Desktop\\\\Onomy'"
      ]
     },
     "execution_count": 5,
     "metadata": {},
     "output_type": "execute_result"
    }
   ],
   "source": [
    "import os\n",
    "os.getcwd()"
   ]
  },
  {
   "cell_type": "code",
   "execution_count": 6,
   "metadata": {},
   "outputs": [
    {
     "name": "stdout",
     "output_type": "stream",
     "text": [
      "(7, 6)\n"
     ]
    },
    {
     "data": {
      "text/html": [
       "<div>\n",
       "<style scoped>\n",
       "    .dataframe tbody tr th:only-of-type {\n",
       "        vertical-align: middle;\n",
       "    }\n",
       "\n",
       "    .dataframe tbody tr th {\n",
       "        vertical-align: top;\n",
       "    }\n",
       "\n",
       "    .dataframe thead th {\n",
       "        text-align: right;\n",
       "    }\n",
       "</style>\n",
       "<table border=\"1\" class=\"dataframe\">\n",
       "  <thead>\n",
       "    <tr style=\"text-align: right;\">\n",
       "      <th></th>\n",
       "      <th>Unnamed: 0</th>\n",
       "      <th>Name</th>\n",
       "      <th>Url</th>\n",
       "      <th>Rating</th>\n",
       "      <th>Difficulty</th>\n",
       "      <th>Tags</th>\n",
       "    </tr>\n",
       "  </thead>\n",
       "  <tbody>\n",
       "    <tr>\n",
       "      <th>61</th>\n",
       "      <td>61</td>\n",
       "      <td>Managerial Accounting Fundamentals</td>\n",
       "      <td>https://coursera.org/learn/uva-darden-manageri...</td>\n",
       "      <td>4.8</td>\n",
       "      <td>Beginner Level</td>\n",
       "      <td>['Business', 'Finance']</td>\n",
       "    </tr>\n",
       "    <tr>\n",
       "      <th>262</th>\n",
       "      <td>262</td>\n",
       "      <td>Accounting and Finance for IT professionals</td>\n",
       "      <td>https://coursera.org/learn/accounting-finance</td>\n",
       "      <td>4.4</td>\n",
       "      <td>Beginner Level</td>\n",
       "      <td>['Business', 'Finance']</td>\n",
       "    </tr>\n",
       "    <tr>\n",
       "      <th>264</th>\n",
       "      <td>264</td>\n",
       "      <td>Financial Accounting Fundamentals</td>\n",
       "      <td>https://coursera.org/learn/uva-darden-financia...</td>\n",
       "      <td>4.8</td>\n",
       "      <td>Beginner Level</td>\n",
       "      <td>['Business', 'Business Essentials']</td>\n",
       "    </tr>\n",
       "    <tr>\n",
       "      <th>1763</th>\n",
       "      <td>1763</td>\n",
       "      <td>Accounting for Business Decision Making: Strat...</td>\n",
       "      <td>https://coursera.org/learn/business-assessment</td>\n",
       "      <td>4.1</td>\n",
       "      <td>Beginner Level</td>\n",
       "      <td>['Business', 'Business Essentials']</td>\n",
       "    </tr>\n",
       "    <tr>\n",
       "      <th>2537</th>\n",
       "      <td>2537</td>\n",
       "      <td>Accounting: Principles of Financial Accounting</td>\n",
       "      <td>https://coursera.org/learn/financial-accounting</td>\n",
       "      <td>4.8</td>\n",
       "      <td>Beginner Level</td>\n",
       "      <td>['Business', 'Finance']</td>\n",
       "    </tr>\n",
       "  </tbody>\n",
       "</table>\n",
       "</div>"
      ],
      "text/plain": [
       "      Unnamed: 0                                               Name  \\\n",
       "61            61                 Managerial Accounting Fundamentals   \n",
       "262          262        Accounting and Finance for IT professionals   \n",
       "264          264                  Financial Accounting Fundamentals   \n",
       "1763        1763  Accounting for Business Decision Making: Strat...   \n",
       "2537        2537     Accounting: Principles of Financial Accounting   \n",
       "\n",
       "                                                    Url Rating  \\\n",
       "61    https://coursera.org/learn/uva-darden-manageri...    4.8   \n",
       "262       https://coursera.org/learn/accounting-finance    4.4   \n",
       "264   https://coursera.org/learn/uva-darden-financia...    4.8   \n",
       "1763     https://coursera.org/learn/business-assessment    4.1   \n",
       "2537    https://coursera.org/learn/financial-accounting    4.8   \n",
       "\n",
       "          Difficulty                                 Tags  \n",
       "61    Beginner Level              ['Business', 'Finance']  \n",
       "262   Beginner Level              ['Business', 'Finance']  \n",
       "264   Beginner Level  ['Business', 'Business Essentials']  \n",
       "1763  Beginner Level  ['Business', 'Business Essentials']  \n",
       "2537  Beginner Level              ['Business', 'Finance']  "
      ]
     },
     "execution_count": 6,
     "metadata": {},
     "output_type": "execute_result"
    }
   ],
   "source": [
    "accounting = df[df['Tags'].str.contains(\"Accounting\")|df['Name'].str.contains(\"Accounting\")]\n",
    "print(accounting.shape)\n",
    "accounting.head()"
   ]
  },
  {
   "cell_type": "code",
   "execution_count": 7,
   "metadata": {},
   "outputs": [
    {
     "name": "stdout",
     "output_type": "stream",
     "text": [
      "(277, 6)\n"
     ]
    },
    {
     "data": {
      "text/html": [
       "<div>\n",
       "<style scoped>\n",
       "    .dataframe tbody tr th:only-of-type {\n",
       "        vertical-align: middle;\n",
       "    }\n",
       "\n",
       "    .dataframe tbody tr th {\n",
       "        vertical-align: top;\n",
       "    }\n",
       "\n",
       "    .dataframe thead th {\n",
       "        text-align: right;\n",
       "    }\n",
       "</style>\n",
       "<table border=\"1\" class=\"dataframe\">\n",
       "  <thead>\n",
       "    <tr style=\"text-align: right;\">\n",
       "      <th></th>\n",
       "      <th>Unnamed: 0</th>\n",
       "      <th>Name</th>\n",
       "      <th>Url</th>\n",
       "      <th>Rating</th>\n",
       "      <th>Difficulty</th>\n",
       "      <th>Tags</th>\n",
       "    </tr>\n",
       "  </thead>\n",
       "  <tbody>\n",
       "    <tr>\n",
       "      <th>34</th>\n",
       "      <td>34</td>\n",
       "      <td>Digital Product Management: Modern Fundamentals</td>\n",
       "      <td>https://coursera.org/learn/uva-darden-digital-...</td>\n",
       "      <td>4.7</td>\n",
       "      <td>Beginner Level</td>\n",
       "      <td>['Business', 'Leadership and Management']</td>\n",
       "    </tr>\n",
       "    <tr>\n",
       "      <th>35</th>\n",
       "      <td>35</td>\n",
       "      <td>Digital Competition in Financial Services</td>\n",
       "      <td>https://coursera.org/learn/digital-competition...</td>\n",
       "      <td>4.6</td>\n",
       "      <td>Beginner Level</td>\n",
       "      <td>['Business', 'Business Strategy']</td>\n",
       "    </tr>\n",
       "    <tr>\n",
       "      <th>41</th>\n",
       "      <td>41</td>\n",
       "      <td>Identifying Social Entrepreneurship Opportunities</td>\n",
       "      <td>https://coursera.org/learn/social-entrepreneur...</td>\n",
       "      <td>4.6</td>\n",
       "      <td>Beginner Level</td>\n",
       "      <td>['Business', 'Entrepreneurship']</td>\n",
       "    </tr>\n",
       "    <tr>\n",
       "      <th>53</th>\n",
       "      <td>53</td>\n",
       "      <td>Strategic Business Management - Macroeconomics</td>\n",
       "      <td>https://coursera.org/learn/strategic-business-...</td>\n",
       "      <td>4.8</td>\n",
       "      <td>Beginner Level</td>\n",
       "      <td>['Business', 'Business Strategy']</td>\n",
       "    </tr>\n",
       "    <tr>\n",
       "      <th>61</th>\n",
       "      <td>61</td>\n",
       "      <td>Managerial Accounting Fundamentals</td>\n",
       "      <td>https://coursera.org/learn/uva-darden-manageri...</td>\n",
       "      <td>4.8</td>\n",
       "      <td>Beginner Level</td>\n",
       "      <td>['Business', 'Finance']</td>\n",
       "    </tr>\n",
       "  </tbody>\n",
       "</table>\n",
       "</div>"
      ],
      "text/plain": [
       "    Unnamed: 0                                               Name  \\\n",
       "34          34    Digital Product Management: Modern Fundamentals   \n",
       "35          35          Digital Competition in Financial Services   \n",
       "41          41  Identifying Social Entrepreneurship Opportunities   \n",
       "53          53     Strategic Business Management - Macroeconomics   \n",
       "61          61                 Managerial Accounting Fundamentals   \n",
       "\n",
       "                                                  Url Rating      Difficulty  \\\n",
       "34  https://coursera.org/learn/uva-darden-digital-...    4.7  Beginner Level   \n",
       "35  https://coursera.org/learn/digital-competition...    4.6  Beginner Level   \n",
       "41  https://coursera.org/learn/social-entrepreneur...    4.6  Beginner Level   \n",
       "53  https://coursera.org/learn/strategic-business-...    4.8  Beginner Level   \n",
       "61  https://coursera.org/learn/uva-darden-manageri...    4.8  Beginner Level   \n",
       "\n",
       "                                         Tags  \n",
       "34  ['Business', 'Leadership and Management']  \n",
       "35          ['Business', 'Business Strategy']  \n",
       "41           ['Business', 'Entrepreneurship']  \n",
       "53          ['Business', 'Business Strategy']  \n",
       "61                    ['Business', 'Finance']  "
      ]
     },
     "execution_count": 7,
     "metadata": {},
     "output_type": "execute_result"
    }
   ],
   "source": [
    "business = df[df['Tags'].str.contains(\"Business\")|df['Name'].str.contains(\"Business\")]\n",
    "print(business.shape)\n",
    "business.head()"
   ]
  },
  {
   "cell_type": "code",
   "execution_count": 8,
   "metadata": {
    "scrolled": true
   },
   "outputs": [
    {
     "name": "stdout",
     "output_type": "stream",
     "text": [
      "(48, 6)\n"
     ]
    },
    {
     "data": {
      "text/html": [
       "<div>\n",
       "<style scoped>\n",
       "    .dataframe tbody tr th:only-of-type {\n",
       "        vertical-align: middle;\n",
       "    }\n",
       "\n",
       "    .dataframe tbody tr th {\n",
       "        vertical-align: top;\n",
       "    }\n",
       "\n",
       "    .dataframe thead th {\n",
       "        text-align: right;\n",
       "    }\n",
       "</style>\n",
       "<table border=\"1\" class=\"dataframe\">\n",
       "  <thead>\n",
       "    <tr style=\"text-align: right;\">\n",
       "      <th></th>\n",
       "      <th>Unnamed: 0</th>\n",
       "      <th>Name</th>\n",
       "      <th>Url</th>\n",
       "      <th>Rating</th>\n",
       "      <th>Difficulty</th>\n",
       "      <th>Tags</th>\n",
       "    </tr>\n",
       "  </thead>\n",
       "  <tbody>\n",
       "    <tr>\n",
       "      <th>35</th>\n",
       "      <td>35</td>\n",
       "      <td>Digital Competition in Financial Services</td>\n",
       "      <td>https://coursera.org/learn/digital-competition...</td>\n",
       "      <td>4.6</td>\n",
       "      <td>Beginner Level</td>\n",
       "      <td>['Business', 'Business Strategy']</td>\n",
       "    </tr>\n",
       "    <tr>\n",
       "      <th>61</th>\n",
       "      <td>61</td>\n",
       "      <td>Managerial Accounting Fundamentals</td>\n",
       "      <td>https://coursera.org/learn/uva-darden-manageri...</td>\n",
       "      <td>4.8</td>\n",
       "      <td>Beginner Level</td>\n",
       "      <td>['Business', 'Finance']</td>\n",
       "    </tr>\n",
       "    <tr>\n",
       "      <th>113</th>\n",
       "      <td>113</td>\n",
       "      <td>Valuation for Startups Using Multiple Approach</td>\n",
       "      <td>https://coursera.org/learn/valuation-multiples</td>\n",
       "      <td>4.2</td>\n",
       "      <td>Beginner Level</td>\n",
       "      <td>['Business', 'Finance']</td>\n",
       "    </tr>\n",
       "    <tr>\n",
       "      <th>175</th>\n",
       "      <td>175</td>\n",
       "      <td>Financial Analysis for Startups</td>\n",
       "      <td>https://coursera.org/learn/financial-ratios</td>\n",
       "      <td>4.4</td>\n",
       "      <td>Beginner Level</td>\n",
       "      <td>['Business', 'Finance']</td>\n",
       "    </tr>\n",
       "    <tr>\n",
       "      <th>262</th>\n",
       "      <td>262</td>\n",
       "      <td>Accounting and Finance for IT professionals</td>\n",
       "      <td>https://coursera.org/learn/accounting-finance</td>\n",
       "      <td>4.4</td>\n",
       "      <td>Beginner Level</td>\n",
       "      <td>['Business', 'Finance']</td>\n",
       "    </tr>\n",
       "  </tbody>\n",
       "</table>\n",
       "</div>"
      ],
      "text/plain": [
       "     Unnamed: 0                                            Name  \\\n",
       "35           35       Digital Competition in Financial Services   \n",
       "61           61              Managerial Accounting Fundamentals   \n",
       "113         113  Valuation for Startups Using Multiple Approach   \n",
       "175         175                 Financial Analysis for Startups   \n",
       "262         262     Accounting and Finance for IT professionals   \n",
       "\n",
       "                                                   Url Rating      Difficulty  \\\n",
       "35   https://coursera.org/learn/digital-competition...    4.6  Beginner Level   \n",
       "61   https://coursera.org/learn/uva-darden-manageri...    4.8  Beginner Level   \n",
       "113     https://coursera.org/learn/valuation-multiples    4.2  Beginner Level   \n",
       "175        https://coursera.org/learn/financial-ratios    4.4  Beginner Level   \n",
       "262      https://coursera.org/learn/accounting-finance    4.4  Beginner Level   \n",
       "\n",
       "                                  Tags  \n",
       "35   ['Business', 'Business Strategy']  \n",
       "61             ['Business', 'Finance']  \n",
       "113            ['Business', 'Finance']  \n",
       "175            ['Business', 'Finance']  \n",
       "262            ['Business', 'Finance']  "
      ]
     },
     "execution_count": 8,
     "metadata": {},
     "output_type": "execute_result"
    }
   ],
   "source": [
    "finance = df[df['Tags'].str.contains(\"Financ\")|df['Name'].str.contains(\"Financ\")] \n",
    "# finance, financial all contains financ\n",
    "print(finance.shape)\n",
    "finance.head()"
   ]
  },
  {
   "cell_type": "code",
   "execution_count": 9,
   "metadata": {},
   "outputs": [
    {
     "name": "stdout",
     "output_type": "stream",
     "text": [
      "(1, 6)\n"
     ]
    },
    {
     "data": {
      "text/html": [
       "<div>\n",
       "<style scoped>\n",
       "    .dataframe tbody tr th:only-of-type {\n",
       "        vertical-align: middle;\n",
       "    }\n",
       "\n",
       "    .dataframe tbody tr th {\n",
       "        vertical-align: top;\n",
       "    }\n",
       "\n",
       "    .dataframe thead th {\n",
       "        text-align: right;\n",
       "    }\n",
       "</style>\n",
       "<table border=\"1\" class=\"dataframe\">\n",
       "  <thead>\n",
       "    <tr style=\"text-align: right;\">\n",
       "      <th></th>\n",
       "      <th>Unnamed: 0</th>\n",
       "      <th>Name</th>\n",
       "      <th>Url</th>\n",
       "      <th>Rating</th>\n",
       "      <th>Difficulty</th>\n",
       "      <th>Tags</th>\n",
       "    </tr>\n",
       "  </thead>\n",
       "  <tbody>\n",
       "    <tr>\n",
       "      <th>313</th>\n",
       "      <td>313</td>\n",
       "      <td>Financial Planning for Young Adults</td>\n",
       "      <td>https://coursera.org/learn/financial-planning</td>\n",
       "      <td>4.5</td>\n",
       "      <td>Beginner Level</td>\n",
       "      <td>['Business', 'Finance']</td>\n",
       "    </tr>\n",
       "  </tbody>\n",
       "</table>\n",
       "</div>"
      ],
      "text/plain": [
       "     Unnamed: 0                                 Name  \\\n",
       "313         313  Financial Planning for Young Adults   \n",
       "\n",
       "                                               Url Rating      Difficulty  \\\n",
       "313  https://coursera.org/learn/financial-planning    4.5  Beginner Level   \n",
       "\n",
       "                        Tags  \n",
       "313  ['Business', 'Finance']  "
      ]
     },
     "execution_count": 9,
     "metadata": {},
     "output_type": "execute_result"
    }
   ],
   "source": [
    "adult = df[df['Tags'].str.contains(\"Adult\")|df['Name'].str.contains(\"Adult\")] \n",
    "print(adult.shape)\n",
    "adult.head()"
   ]
  },
  {
   "cell_type": "code",
   "execution_count": 10,
   "metadata": {},
   "outputs": [
    {
     "name": "stdout",
     "output_type": "stream",
     "text": [
      "(35, 6)\n"
     ]
    },
    {
     "data": {
      "text/html": [
       "<div>\n",
       "<style scoped>\n",
       "    .dataframe tbody tr th:only-of-type {\n",
       "        vertical-align: middle;\n",
       "    }\n",
       "\n",
       "    .dataframe tbody tr th {\n",
       "        vertical-align: top;\n",
       "    }\n",
       "\n",
       "    .dataframe thead th {\n",
       "        text-align: right;\n",
       "    }\n",
       "</style>\n",
       "<table border=\"1\" class=\"dataframe\">\n",
       "  <thead>\n",
       "    <tr style=\"text-align: right;\">\n",
       "      <th></th>\n",
       "      <th>Unnamed: 0</th>\n",
       "      <th>Name</th>\n",
       "      <th>Url</th>\n",
       "      <th>Rating</th>\n",
       "      <th>Difficulty</th>\n",
       "      <th>Tags</th>\n",
       "    </tr>\n",
       "  </thead>\n",
       "  <tbody>\n",
       "    <tr>\n",
       "      <th>130</th>\n",
       "      <td>130</td>\n",
       "      <td>Powerful Tools for Teaching and Learning: Web ...</td>\n",
       "      <td>https://coursera.org/learn/teaching-learning-t...</td>\n",
       "      <td>4.6</td>\n",
       "      <td>Beginner Level</td>\n",
       "      <td>['Social Sciences', 'Education']</td>\n",
       "    </tr>\n",
       "    <tr>\n",
       "      <th>171</th>\n",
       "      <td>171</td>\n",
       "      <td>Learning, Knowledge, and Human Development</td>\n",
       "      <td>https://coursera.org/learn/learning-knowledge-...</td>\n",
       "      <td>4</td>\n",
       "      <td>Beginner Level</td>\n",
       "      <td>['Social Sciences', 'Education']</td>\n",
       "    </tr>\n",
       "    <tr>\n",
       "      <th>211</th>\n",
       "      <td>211</td>\n",
       "      <td>Design Thinking for the Greater Good: Innovati...</td>\n",
       "      <td>https://coursera.org/learn/uva-darden-design-t...</td>\n",
       "      <td>4.5</td>\n",
       "      <td>Beginner Level</td>\n",
       "      <td>['Social Sciences', 'Education']</td>\n",
       "    </tr>\n",
       "    <tr>\n",
       "      <th>670</th>\n",
       "      <td>670</td>\n",
       "      <td>Literacy Teaching and Learning: Aims, Approach...</td>\n",
       "      <td>https://coursera.org/learn/literacy-teaching-l...</td>\n",
       "      <td>4.5</td>\n",
       "      <td>Beginner Level</td>\n",
       "      <td>['Social Sciences', 'Education']</td>\n",
       "    </tr>\n",
       "    <tr>\n",
       "      <th>795</th>\n",
       "      <td>795</td>\n",
       "      <td>Computational Thinking for K-12 Educators: Seq...</td>\n",
       "      <td>https://coursera.org/learn/computational-think...</td>\n",
       "      <td>5</td>\n",
       "      <td>Beginner Level</td>\n",
       "      <td>['Social Sciences', 'Education']</td>\n",
       "    </tr>\n",
       "  </tbody>\n",
       "</table>\n",
       "</div>"
      ],
      "text/plain": [
       "     Unnamed: 0                                               Name  \\\n",
       "130         130  Powerful Tools for Teaching and Learning: Web ...   \n",
       "171         171        Learning, Knowledge, and Human Development    \n",
       "211         211  Design Thinking for the Greater Good: Innovati...   \n",
       "670         670  Literacy Teaching and Learning: Aims, Approach...   \n",
       "795         795  Computational Thinking for K-12 Educators: Seq...   \n",
       "\n",
       "                                                   Url Rating      Difficulty  \\\n",
       "130  https://coursera.org/learn/teaching-learning-t...    4.6  Beginner Level   \n",
       "171  https://coursera.org/learn/learning-knowledge-...      4  Beginner Level   \n",
       "211  https://coursera.org/learn/uva-darden-design-t...    4.5  Beginner Level   \n",
       "670  https://coursera.org/learn/literacy-teaching-l...    4.5  Beginner Level   \n",
       "795  https://coursera.org/learn/computational-think...      5  Beginner Level   \n",
       "\n",
       "                                 Tags  \n",
       "130  ['Social Sciences', 'Education']  \n",
       "171  ['Social Sciences', 'Education']  \n",
       "211  ['Social Sciences', 'Education']  \n",
       "670  ['Social Sciences', 'Education']  \n",
       "795  ['Social Sciences', 'Education']  "
      ]
     },
     "execution_count": 10,
     "metadata": {},
     "output_type": "execute_result"
    }
   ],
   "source": [
    "education = df[df['Tags'].str.contains(\"Educat\")|df['Name'].str.contains(\"Educat\")] \n",
    "#Education Educate all contain Educat\n",
    "print(education.shape)\n",
    "education.head()"
   ]
  },
  {
   "cell_type": "code",
   "execution_count": 11,
   "metadata": {},
   "outputs": [
    {
     "data": {
      "text/html": [
       "<div>\n",
       "<style scoped>\n",
       "    .dataframe tbody tr th:only-of-type {\n",
       "        vertical-align: middle;\n",
       "    }\n",
       "\n",
       "    .dataframe tbody tr th {\n",
       "        vertical-align: top;\n",
       "    }\n",
       "\n",
       "    .dataframe thead th {\n",
       "        text-align: right;\n",
       "    }\n",
       "</style>\n",
       "<table border=\"1\" class=\"dataframe\">\n",
       "  <thead>\n",
       "    <tr style=\"text-align: right;\">\n",
       "      <th></th>\n",
       "      <th>Unnamed: 0</th>\n",
       "      <th>Name</th>\n",
       "      <th>Url</th>\n",
       "      <th>Rating</th>\n",
       "      <th>Difficulty</th>\n",
       "      <th>Tags</th>\n",
       "    </tr>\n",
       "  </thead>\n",
       "  <tbody>\n",
       "  </tbody>\n",
       "</table>\n",
       "</div>"
      ],
      "text/plain": [
       "Empty DataFrame\n",
       "Columns: [Unnamed: 0, Name, Url, Rating, Difficulty, Tags]\n",
       "Index: []"
      ]
     },
     "execution_count": 11,
     "metadata": {},
     "output_type": "execute_result"
    }
   ],
   "source": [
    "tax = df[df['Tags'].str.contains(\"Tax\")|df['Name'].str.contains(\"Tax\")] \n",
    "tax.head()\n"
   ]
  },
  {
   "cell_type": "markdown",
   "metadata": {},
   "source": [
    "### * key result: no tax entry level courses with ratings on Coursera"
   ]
  },
  {
   "cell_type": "code",
   "execution_count": 12,
   "metadata": {},
   "outputs": [
    {
     "name": "stdout",
     "output_type": "stream",
     "text": [
      "(0, 6)\n"
     ]
    },
    {
     "data": {
      "text/html": [
       "<div>\n",
       "<style scoped>\n",
       "    .dataframe tbody tr th:only-of-type {\n",
       "        vertical-align: middle;\n",
       "    }\n",
       "\n",
       "    .dataframe tbody tr th {\n",
       "        vertical-align: top;\n",
       "    }\n",
       "\n",
       "    .dataframe thead th {\n",
       "        text-align: right;\n",
       "    }\n",
       "</style>\n",
       "<table border=\"1\" class=\"dataframe\">\n",
       "  <thead>\n",
       "    <tr style=\"text-align: right;\">\n",
       "      <th></th>\n",
       "      <th>Unnamed: 0</th>\n",
       "      <th>Name</th>\n",
       "      <th>Url</th>\n",
       "      <th>Rating</th>\n",
       "      <th>Difficulty</th>\n",
       "      <th>Tags</th>\n",
       "    </tr>\n",
       "  </thead>\n",
       "  <tbody>\n",
       "  </tbody>\n",
       "</table>\n",
       "</div>"
      ],
      "text/plain": [
       "Empty DataFrame\n",
       "Columns: [Unnamed: 0, Name, Url, Rating, Difficulty, Tags]\n",
       "Index: []"
      ]
     },
     "execution_count": 12,
     "metadata": {},
     "output_type": "execute_result"
    }
   ],
   "source": [
    "credit = df[df['Tags'].str.contains(\"Credit\")|df['Name'].str.contains(\"Credit\")] \n",
    "print(credit.shape)\n",
    "credit.head()"
   ]
  },
  {
   "cell_type": "markdown",
   "metadata": {},
   "source": [
    "### * Key result: no entry level credit cards intro courses"
   ]
  },
  {
   "cell_type": "code",
   "execution_count": 13,
   "metadata": {
    "scrolled": true
   },
   "outputs": [
    {
     "name": "stdout",
     "output_type": "stream",
     "text": [
      "(4, 6)\n"
     ]
    },
    {
     "data": {
      "text/html": [
       "<div>\n",
       "<style scoped>\n",
       "    .dataframe tbody tr th:only-of-type {\n",
       "        vertical-align: middle;\n",
       "    }\n",
       "\n",
       "    .dataframe tbody tr th {\n",
       "        vertical-align: top;\n",
       "    }\n",
       "\n",
       "    .dataframe thead th {\n",
       "        text-align: right;\n",
       "    }\n",
       "</style>\n",
       "<table border=\"1\" class=\"dataframe\">\n",
       "  <thead>\n",
       "    <tr style=\"text-align: right;\">\n",
       "      <th></th>\n",
       "      <th>Unnamed: 0</th>\n",
       "      <th>Name</th>\n",
       "      <th>Url</th>\n",
       "      <th>Rating</th>\n",
       "      <th>Difficulty</th>\n",
       "      <th>Tags</th>\n",
       "    </tr>\n",
       "  </thead>\n",
       "  <tbody>\n",
       "    <tr>\n",
       "      <th>951</th>\n",
       "      <td>951</td>\n",
       "      <td>Financial Markets and Investment Strategy Caps...</td>\n",
       "      <td>https://coursera.org/learn/investment-strategy...</td>\n",
       "      <td>4.7</td>\n",
       "      <td>Beginner Level</td>\n",
       "      <td>['Business', 'Finance']</td>\n",
       "    </tr>\n",
       "    <tr>\n",
       "      <th>1303</th>\n",
       "      <td>1303</td>\n",
       "      <td>Behavioral Investing</td>\n",
       "      <td>https://coursera.org/learn/behavioral-investing</td>\n",
       "      <td>4.5</td>\n",
       "      <td>Beginner Level</td>\n",
       "      <td>['Business', 'Finance']</td>\n",
       "    </tr>\n",
       "    <tr>\n",
       "      <th>1695</th>\n",
       "      <td>1695</td>\n",
       "      <td>Applying Investment Decision Rules for Startups</td>\n",
       "      <td>https://coursera.org/learn/capital-budgeting</td>\n",
       "      <td>4.5</td>\n",
       "      <td>Beginner Level</td>\n",
       "      <td>['Business', 'Finance']</td>\n",
       "    </tr>\n",
       "    <tr>\n",
       "      <th>2633</th>\n",
       "      <td>2633</td>\n",
       "      <td>Lending, Crowdfunding, and Modern Investing</td>\n",
       "      <td>https://coursera.org/learn/wharton-crowdfundin...</td>\n",
       "      <td>4.7</td>\n",
       "      <td>Beginner Level</td>\n",
       "      <td>['Business', 'Business Essentials']</td>\n",
       "    </tr>\n",
       "  </tbody>\n",
       "</table>\n",
       "</div>"
      ],
      "text/plain": [
       "      Unnamed: 0                                               Name  \\\n",
       "951          951  Financial Markets and Investment Strategy Caps...   \n",
       "1303        1303                               Behavioral Investing   \n",
       "1695        1695    Applying Investment Decision Rules for Startups   \n",
       "2633        2633        Lending, Crowdfunding, and Modern Investing   \n",
       "\n",
       "                                                    Url Rating  \\\n",
       "951   https://coursera.org/learn/investment-strategy...    4.7   \n",
       "1303    https://coursera.org/learn/behavioral-investing    4.5   \n",
       "1695       https://coursera.org/learn/capital-budgeting    4.5   \n",
       "2633  https://coursera.org/learn/wharton-crowdfundin...    4.7   \n",
       "\n",
       "          Difficulty                                 Tags  \n",
       "951   Beginner Level              ['Business', 'Finance']  \n",
       "1303  Beginner Level              ['Business', 'Finance']  \n",
       "1695  Beginner Level              ['Business', 'Finance']  \n",
       "2633  Beginner Level  ['Business', 'Business Essentials']  "
      ]
     },
     "execution_count": 13,
     "metadata": {},
     "output_type": "execute_result"
    }
   ],
   "source": [
    "invest = df[df['Tags'].str.contains(\"Invest\")|df['Name'].str.contains(\"Invest\")] \n",
    "print(invest.shape)\n",
    "invest.head()\n",
    "# when filter through investing/invest, also no applicable results"
   ]
  },
  {
   "cell_type": "code",
   "execution_count": 14,
   "metadata": {},
   "outputs": [
    {
     "name": "stdout",
     "output_type": "stream",
     "text": [
      "(0, 6)\n"
     ]
    },
    {
     "data": {
      "text/html": [
       "<div>\n",
       "<style scoped>\n",
       "    .dataframe tbody tr th:only-of-type {\n",
       "        vertical-align: middle;\n",
       "    }\n",
       "\n",
       "    .dataframe tbody tr th {\n",
       "        vertical-align: top;\n",
       "    }\n",
       "\n",
       "    .dataframe thead th {\n",
       "        text-align: right;\n",
       "    }\n",
       "</style>\n",
       "<table border=\"1\" class=\"dataframe\">\n",
       "  <thead>\n",
       "    <tr style=\"text-align: right;\">\n",
       "      <th></th>\n",
       "      <th>Unnamed: 0</th>\n",
       "      <th>Name</th>\n",
       "      <th>Url</th>\n",
       "      <th>Rating</th>\n",
       "      <th>Difficulty</th>\n",
       "      <th>Tags</th>\n",
       "    </tr>\n",
       "  </thead>\n",
       "  <tbody>\n",
       "  </tbody>\n",
       "</table>\n",
       "</div>"
      ],
      "text/plain": [
       "Empty DataFrame\n",
       "Columns: [Unnamed: 0, Name, Url, Rating, Difficulty, Tags]\n",
       "Index: []"
      ]
     },
     "execution_count": 14,
     "metadata": {},
     "output_type": "execute_result"
    }
   ],
   "source": [
    "insurance = df[df['Tags'].str.contains(\"Insur\")|df['Name'].str.contains(\"Insur\")] \n",
    "# Insurance contain Insur\n",
    "print(insurance.shape)\n",
    "insurance.head()"
   ]
  },
  {
   "cell_type": "markdown",
   "metadata": {},
   "source": [
    "### * Key result: no entry level insurance intro courses"
   ]
  },
  {
   "cell_type": "code",
   "execution_count": 15,
   "metadata": {},
   "outputs": [
    {
     "name": "stdout",
     "output_type": "stream",
     "text": [
      "(11, 6)\n"
     ]
    },
    {
     "data": {
      "text/html": [
       "<div>\n",
       "<style scoped>\n",
       "    .dataframe tbody tr th:only-of-type {\n",
       "        vertical-align: middle;\n",
       "    }\n",
       "\n",
       "    .dataframe tbody tr th {\n",
       "        vertical-align: top;\n",
       "    }\n",
       "\n",
       "    .dataframe thead th {\n",
       "        text-align: right;\n",
       "    }\n",
       "</style>\n",
       "<table border=\"1\" class=\"dataframe\">\n",
       "  <thead>\n",
       "    <tr style=\"text-align: right;\">\n",
       "      <th></th>\n",
       "      <th>Unnamed: 0</th>\n",
       "      <th>Name</th>\n",
       "      <th>Url</th>\n",
       "      <th>Rating</th>\n",
       "      <th>Difficulty</th>\n",
       "      <th>Tags</th>\n",
       "    </tr>\n",
       "  </thead>\n",
       "  <tbody>\n",
       "    <tr>\n",
       "      <th>937</th>\n",
       "      <td>937</td>\n",
       "      <td>Spanish Vocabulary: Careers and Social Events</td>\n",
       "      <td>https://coursera.org/learn/spanish-vocabulary-...</td>\n",
       "      <td>4.6</td>\n",
       "      <td>Beginner Level</td>\n",
       "      <td>['Language Learning', 'Other Languages']</td>\n",
       "    </tr>\n",
       "    <tr>\n",
       "      <th>942</th>\n",
       "      <td>942</td>\n",
       "      <td>Innovation Career Lessons from a Master</td>\n",
       "      <td>https://coursera.org/learn/startup-entrepreneu...</td>\n",
       "      <td>4.3</td>\n",
       "      <td>Beginner Level</td>\n",
       "      <td>['Business', 'Entrepreneurship']</td>\n",
       "    </tr>\n",
       "    <tr>\n",
       "      <th>958</th>\n",
       "      <td>958</td>\n",
       "      <td>IBM IT Assessment: Identifying the Right Caree...</td>\n",
       "      <td>https://coursera.org/learn/ibm-it-assessment</td>\n",
       "      <td>4.1</td>\n",
       "      <td>Beginner Level</td>\n",
       "      <td>['Personal Development', 'Personal Development']</td>\n",
       "    </tr>\n",
       "    <tr>\n",
       "      <th>2071</th>\n",
       "      <td>2071</td>\n",
       "      <td>Successful Career Development</td>\n",
       "      <td>https://coursera.org/learn/career-advancement</td>\n",
       "      <td>4.5</td>\n",
       "      <td>Beginner Level</td>\n",
       "      <td>['Personal Development', 'Personal Development']</td>\n",
       "    </tr>\n",
       "    <tr>\n",
       "      <th>2417</th>\n",
       "      <td>2417</td>\n",
       "      <td>Career Decisions: From Insight to Impact</td>\n",
       "      <td>https://coursera.org/learn/career-decisions</td>\n",
       "      <td>4.6</td>\n",
       "      <td>Beginner Level</td>\n",
       "      <td>['Personal Development', 'Personal Development']</td>\n",
       "    </tr>\n",
       "  </tbody>\n",
       "</table>\n",
       "</div>"
      ],
      "text/plain": [
       "      Unnamed: 0                                               Name  \\\n",
       "937          937      Spanish Vocabulary: Careers and Social Events   \n",
       "942          942            Innovation Career Lessons from a Master   \n",
       "958          958  IBM IT Assessment: Identifying the Right Caree...   \n",
       "2071        2071                      Successful Career Development   \n",
       "2417        2417           Career Decisions: From Insight to Impact   \n",
       "\n",
       "                                                    Url Rating  \\\n",
       "937   https://coursera.org/learn/spanish-vocabulary-...    4.6   \n",
       "942   https://coursera.org/learn/startup-entrepreneu...    4.3   \n",
       "958        https://coursera.org/learn/ibm-it-assessment    4.1   \n",
       "2071      https://coursera.org/learn/career-advancement    4.5   \n",
       "2417        https://coursera.org/learn/career-decisions    4.6   \n",
       "\n",
       "          Difficulty                                              Tags  \n",
       "937   Beginner Level          ['Language Learning', 'Other Languages']  \n",
       "942   Beginner Level                  ['Business', 'Entrepreneurship']  \n",
       "958   Beginner Level  ['Personal Development', 'Personal Development']  \n",
       "2071  Beginner Level  ['Personal Development', 'Personal Development']  \n",
       "2417  Beginner Level  ['Personal Development', 'Personal Development']  "
      ]
     },
     "execution_count": 15,
     "metadata": {},
     "output_type": "execute_result"
    }
   ],
   "source": [
    "career = df[df['Tags'].str.contains(\"Career\")|df['Name'].str.contains(\"Career\")] \n",
    "print(career.shape)\n",
    "career.head()"
   ]
  },
  {
   "cell_type": "code",
   "execution_count": 16,
   "metadata": {},
   "outputs": [
    {
     "name": "stdout",
     "output_type": "stream",
     "text": [
      "48\n",
      "277\n",
      "7\n",
      "1\n",
      "35\n",
      "52\n",
      "4\n",
      "11\n"
     ]
    }
   ],
   "source": [
    "print(finance.shape[0])\n",
    "print(business.shape[0])\n",
    "print(accounting.shape[0])\n",
    "print(adult.shape[0])\n",
    "print(education.shape[0])\n",
    "print(personal.shape[0])\n",
    "print(invest.shape[0])\n",
    "print(career.shape[0])"
   ]
  },
  {
   "cell_type": "code",
   "execution_count": 17,
   "metadata": {},
   "outputs": [
    {
     "data": {
      "text/plain": [
       "Text(0, 0.5, 'Percentage of Each Category')"
      ]
     },
     "execution_count": 17,
     "metadata": {},
     "output_type": "execute_result"
    },
    {
     "data": {
      "image/png": "[encoded data removed]",
      "text/plain": [
       "<Figure size 432x288 with 1 Axes>"
      ]
     },
     "metadata": {
      "needs_background": "light"
     },
     "output_type": "display_data"
    }
   ],
   "source": [
    "import matplotlib.pyplot as plt\n",
    "plotdata = pd.DataFrame(\n",
    "    {\"# of courses\": [48/435 * 100,\n",
    "277/435 * 100,\n",
    "7/435 * 100,\n",
    "1/435 * 100,\n",
    "35/435 * 100,\n",
    "52/435 * 100,\n",
    "4/435 * 100,\n",
    "11/435 * 100]}, \n",
    "    index=[\"finance(48)\", \"business(277)\", \"accounting(7)\", \"adult(1)\", \"education(35)\",\"personal(52)\",\"invest(4)\",\"career(11)\"])\n",
    "# Plot a bar chart\n",
    "plotdata.plot(kind=\"bar\")\n",
    "label = ['n = 48', 'n = 277', 'n = 7', 'n = 1', 'n = 35', 'n = 52', 'n = 4', 'n = 11']\n",
    "plt.xticks(rotation=30, horizontalalignment=\"center\")\n",
    "plt.title(\"Coursera: Percentage of Relevant Courses at Beginners Level\")\n",
    "plt.xlabel(\"Key Words in Course Title and Tags(Number of Courses Provided)\")\n",
    "plt.ylabel(\"Percentage of Each Category\")"
   ]
  },
  {
   "cell_type": "code",
   "execution_count": 18,
   "metadata": {
    "slideshow": {
     "slide_type": "-"
    }
   },
   "outputs": [
    {
     "data": {
      "text/plain": [
       "Text(0.5, 1.0, 'Number of Revelant Courses at Beginners Level')"
      ]
     },
     "execution_count": 18,
     "metadata": {},
     "output_type": "execute_result"
    },
    {
     "data": {
      "image/png": "[encoded data removed]",
      "text/plain": [
       "<Figure size 432x432 with 1 Axes>"
      ]
     },
     "metadata": {},
     "output_type": "display_data"
    }
   ],
   "source": [
    "plotdata = pd.DataFrame(\n",
    "    {\"# of courses\": [48,\n",
    "277,\n",
    "7,\n",
    "1,\n",
    "35,\n",
    "52,\n",
    "4,\n",
    "11]}, \n",
    "    index=[\"finance\", \"business\", \"accounting\", \"adult\", \"education\",\"personal\",\"invest\",\"career\"])\n",
    "# Plot a bar chart\n",
    "plotdata.plot.pie(y='# of courses', figsize=(6, 6))\n",
    "plt.title(\"Number of Revelant Courses at Beginners Level\")"
   ]
  },
  {
   "cell_type": "code",
   "execution_count": 19,
   "metadata": {
    "scrolled": false
   },
   "outputs": [
    {
     "name": "stdout",
     "output_type": "stream",
     "text": [
      "4.610416666666667\n",
      "4.628880866425991\n",
      "4.557142857142857\n",
      "4.5\n",
      "4.648571428571429\n",
      "4.569230769230769\n",
      "4.6\n",
      "4.372727272727273\n"
     ]
    }
   ],
   "source": [
    "print(pd.to_numeric(finance[\"Rating\"]).mean())\n",
    "print(pd.to_numeric(business[\"Rating\"]).mean())\n",
    "print(pd.to_numeric(accounting[\"Rating\"]).mean())\n",
    "print(pd.to_numeric(adult[\"Rating\"]).mean())\n",
    "print(pd.to_numeric(education[\"Rating\"]).mean())\n",
    "print(pd.to_numeric(personal[\"Rating\"]).mean())\n",
    "print(pd.to_numeric(invest[\"Rating\"]).mean())\n",
    "print(pd.to_numeric(career[\"Rating\"]).mean())\n",
    "\n"
   ]
  },
  {
   "cell_type": "code",
   "execution_count": 20,
   "metadata": {},
   "outputs": [
    {
     "data": {
      "text/plain": [
       "<Figure size 864x1440 with 0 Axes>"
      ]
     },
     "execution_count": 20,
     "metadata": {},
     "output_type": "execute_result"
    },
    {
     "data": {
      "image/png": "[encoded data removed]",
      "text/plain": [
       "<Figure size 432x288 with 1 Axes>"
      ]
     },
     "metadata": {
      "needs_background": "light"
     },
     "output_type": "display_data"
    },
    {
     "data": {
      "text/plain": [
       "<Figure size 864x1440 with 0 Axes>"
      ]
     },
     "metadata": {},
     "output_type": "display_data"
    }
   ],
   "source": [
    "plotdata = pd.DataFrame(\n",
    "    {\"Ratings\": [4.610416666666667,\n",
    "4.628880866425991,\n",
    "4.557142857142857,\n",
    "4.5,\n",
    "4.648571428571429,\n",
    "4.569230769230769,\n",
    "4.6,\n",
    "4.372727272727273]}, \n",
    "    index=[\"finance\", \"business\", \"accounting\", \"adult\", \"education\",\"personal\",\"invest\",\"career\"])\n",
    "# Plot a bar chart\n",
    "plotdata.plot(kind=\"bar\")\n",
    "plt.xticks(rotation=30, horizontalalignment=\"center\")\n",
    "plt.title(\"Rating Comparisons for Relevant Courses at Beginners Level\")\n",
    "plt.xlabel(\"Key Words\")\n",
    "plt.ylabel(\"Ratings\")\n",
    "plt.figure(figsize = (12,20))\n"
   ]
  },
  {
   "cell_type": "code",
   "execution_count": 21,
   "metadata": {},
   "outputs": [
    {
     "name": "stdout",
     "output_type": "stream",
     "text": [
      "0.035846631205673746\n",
      "0.048510699523884315\n",
      "0.12285714285714296\n",
      "nan\n",
      "0.06374789915966392\n",
      "0.06766214177978884\n",
      "0.013333333333333357\n",
      "0.0701818181818182\n"
     ]
    }
   ],
   "source": [
    "print(pd.to_numeric(finance[\"Rating\"]).var())\n",
    "print(pd.to_numeric(business[\"Rating\"]).var())\n",
    "print(pd.to_numeric(accounting[\"Rating\"]).var())\n",
    "print(pd.to_numeric(adult[\"Rating\"]).var())\n",
    "print(pd.to_numeric(education[\"Rating\"]).var())\n",
    "print(pd.to_numeric(personal[\"Rating\"]).var())\n",
    "print(pd.to_numeric(invest[\"Rating\"]).var())\n",
    "print(pd.to_numeric(career[\"Rating\"]).var())"
   ]
  },
  {
   "cell_type": "code",
   "execution_count": 22,
   "metadata": {},
   "outputs": [
    {
     "data": {
      "text/plain": [
       "Text(0, 0.5, 'Ratings Variance')"
      ]
     },
     "execution_count": 22,
     "metadata": {},
     "output_type": "execute_result"
    },
    {
     "data": {
      "image/png": "[encoded data removed]",
      "text/plain": [
       "<Figure size 432x288 with 1 Axes>"
      ]
     },
     "metadata": {
      "needs_background": "light"
     },
     "output_type": "display_data"
    }
   ],
   "source": [
    "plotdata = pd.DataFrame(\n",
    "    {\"Ratings Variance\": [0.035846631205673746,\n",
    "0.048510699523884315,\n",
    "0.12285714285714296,\n",
    "0,\n",
    "0.06374789915966392,\n",
    "0.06766214177978884,\n",
    "0.013333333333333357,\n",
    "0.0701818181818182]}, \n",
    "    index=[\"finance\", \"business\", \"accounting\", \"adult\", \"education\",\"personal\",\"invest\",\"career\"])\n",
    "# Plot a bar chart\n",
    "plotdata.plot(kind=\"bar\")\n",
    "plt.xticks(rotation=30, horizontalalignment=\"center\")\n",
    "plt.title(\"Rating Variance Comparisons for Relevant Courses at Beginners Level\\n (note: only one adult course so no variance)\")\n",
    "plt.xlabel(\"Key Words\")\n",
    "plt.ylabel(\"Ratings Variance\")"
   ]
  },
  {
   "cell_type": "code",
   "execution_count": 23,
   "metadata": {},
   "outputs": [
    {
     "ename": "AttributeError",
     "evalue": "'list' object has no attribute 'get'",
     "output_type": "error",
     "traceback": [
      "\u001b[1;31m---------------------------------------------------------------------------\u001b[0m",
      "\u001b[1;31mAttributeError\u001b[0m                            Traceback (most recent call last)",
      "\u001b[1;32m<ipython-input-23-d290e2fc0906>\u001b[0m in \u001b[0;36m<module>\u001b[1;34m\u001b[0m\n\u001b[0;32m     13\u001b[0m 0.0701818181818182]\n\u001b[0;32m     14\u001b[0m \u001b[1;31m# plot a bar chart\u001b[0m\u001b[1;33m\u001b[0m\u001b[1;33m\u001b[0m\u001b[1;33m\u001b[0m\u001b[0m\n\u001b[1;32m---> 15\u001b[1;33m \u001b[0max\u001b[0m \u001b[1;33m=\u001b[0m \u001b[0msns\u001b[0m\u001b[1;33m.\u001b[0m\u001b[0mbarplot\u001b[0m\u001b[1;33m(\u001b[0m\u001b[0mx\u001b[0m\u001b[1;33m=\u001b[0m\u001b[1;34m\"day\"\u001b[0m\u001b[1;33m,\u001b[0m \u001b[0my\u001b[0m\u001b[1;33m=\u001b[0m\u001b[1;34m\"total_bill\"\u001b[0m\u001b[1;33m,\u001b[0m\u001b[0mdata\u001b[0m \u001b[1;33m=\u001b[0m \u001b[0ma\u001b[0m\u001b[1;33m,\u001b[0m \u001b[0mestimator\u001b[0m\u001b[1;33m=\u001b[0m\u001b[0mnp\u001b[0m\u001b[1;33m.\u001b[0m\u001b[0mmean\u001b[0m\u001b[1;33m,\u001b[0m \u001b[0mci\u001b[0m\u001b[1;33m=\u001b[0m\u001b[1;36m85\u001b[0m\u001b[1;33m,\u001b[0m \u001b[0mcapsize\u001b[0m\u001b[1;33m=\u001b[0m\u001b[1;36m.2\u001b[0m\u001b[1;33m,\u001b[0m \u001b[0mcolor\u001b[0m\u001b[1;33m=\u001b[0m\u001b[1;34m'lightblue'\u001b[0m\u001b[1;33m)\u001b[0m\u001b[1;33m\u001b[0m\u001b[1;33m\u001b[0m\u001b[0m\n\u001b[0m",
      "\u001b[1;32m~\\anaconda3\\lib\\site-packages\\seaborn\\_decorators.py\u001b[0m in \u001b[0;36minner_f\u001b[1;34m(*args, **kwargs)\u001b[0m\n\u001b[0;32m     44\u001b[0m             )\n\u001b[0;32m     45\u001b[0m         \u001b[0mkwargs\u001b[0m\u001b[1;33m.\u001b[0m\u001b[0mupdate\u001b[0m\u001b[1;33m(\u001b[0m\u001b[1;33m{\u001b[0m\u001b[0mk\u001b[0m\u001b[1;33m:\u001b[0m \u001b[0marg\u001b[0m \u001b[1;32mfor\u001b[0m \u001b[0mk\u001b[0m\u001b[1;33m,\u001b[0m \u001b[0marg\u001b[0m \u001b[1;32min\u001b[0m \u001b[0mzip\u001b[0m\u001b[1;33m(\u001b[0m\u001b[0msig\u001b[0m\u001b[1;33m.\u001b[0m\u001b[0mparameters\u001b[0m\u001b[1;33m,\u001b[0m \u001b[0margs\u001b[0m\u001b[1;33m)\u001b[0m\u001b[1;33m}\u001b[0m\u001b[1;33m)\u001b[0m\u001b[1;33m\u001b[0m\u001b[1;33m\u001b[0m\u001b[0m\n\u001b[1;32m---> 46\u001b[1;33m         \u001b[1;32mreturn\u001b[0m \u001b[0mf\u001b[0m\u001b[1;33m(\u001b[0m\u001b[1;33m**\u001b[0m\u001b[0mkwargs\u001b[0m\u001b[1;33m)\u001b[0m\u001b[1;33m\u001b[0m\u001b[1;33m\u001b[0m\u001b[0m\n\u001b[0m\u001b[0;32m     47\u001b[0m     \u001b[1;32mreturn\u001b[0m \u001b[0minner_f\u001b[0m\u001b[1;33m\u001b[0m\u001b[1;33m\u001b[0m\u001b[0m\n\u001b[0;32m     48\u001b[0m \u001b[1;33m\u001b[0m\u001b[0m\n",
      "\u001b[1;32m~\\anaconda3\\lib\\site-packages\\seaborn\\categorical.py\u001b[0m in \u001b[0;36mbarplot\u001b[1;34m(x, y, hue, data, order, hue_order, estimator, ci, n_boot, units, seed, orient, color, palette, saturation, errcolor, errwidth, capsize, dodge, ax, **kwargs)\u001b[0m\n\u001b[0;32m   3167\u001b[0m ):\n\u001b[0;32m   3168\u001b[0m \u001b[1;33m\u001b[0m\u001b[0m\n\u001b[1;32m-> 3169\u001b[1;33m     plotter = _BarPlotter(x, y, hue, data, order, hue_order,\n\u001b[0m\u001b[0;32m   3170\u001b[0m                           \u001b[0mestimator\u001b[0m\u001b[1;33m,\u001b[0m \u001b[0mci\u001b[0m\u001b[1;33m,\u001b[0m \u001b[0mn_boot\u001b[0m\u001b[1;33m,\u001b[0m \u001b[0munits\u001b[0m\u001b[1;33m,\u001b[0m \u001b[0mseed\u001b[0m\u001b[1;33m,\u001b[0m\u001b[1;33m\u001b[0m\u001b[1;33m\u001b[0m\u001b[0m\n\u001b[0;32m   3171\u001b[0m                           \u001b[0morient\u001b[0m\u001b[1;33m,\u001b[0m \u001b[0mcolor\u001b[0m\u001b[1;33m,\u001b[0m \u001b[0mpalette\u001b[0m\u001b[1;33m,\u001b[0m \u001b[0msaturation\u001b[0m\u001b[1;33m,\u001b[0m\u001b[1;33m\u001b[0m\u001b[1;33m\u001b[0m\u001b[0m\n",
      "\u001b[1;32m~\\anaconda3\\lib\\site-packages\\seaborn\\categorical.py\u001b[0m in \u001b[0;36m__init__\u001b[1;34m(self, x, y, hue, data, order, hue_order, estimator, ci, n_boot, units, seed, orient, color, palette, saturation, errcolor, errwidth, capsize, dodge)\u001b[0m\n\u001b[0;32m   1582\u001b[0m                  errwidth, capsize, dodge):\n\u001b[0;32m   1583\u001b[0m         \u001b[1;34m\"\"\"Initialize the plotter.\"\"\"\u001b[0m\u001b[1;33m\u001b[0m\u001b[1;33m\u001b[0m\u001b[0m\n\u001b[1;32m-> 1584\u001b[1;33m         self.establish_variables(x, y, hue, data, orient,\n\u001b[0m\u001b[0;32m   1585\u001b[0m                                  order, hue_order, units)\n\u001b[0;32m   1586\u001b[0m         \u001b[0mself\u001b[0m\u001b[1;33m.\u001b[0m\u001b[0mestablish_colors\u001b[0m\u001b[1;33m(\u001b[0m\u001b[0mcolor\u001b[0m\u001b[1;33m,\u001b[0m \u001b[0mpalette\u001b[0m\u001b[1;33m,\u001b[0m \u001b[0msaturation\u001b[0m\u001b[1;33m)\u001b[0m\u001b[1;33m\u001b[0m\u001b[1;33m\u001b[0m\u001b[0m\n",
      "\u001b[1;32m~\\anaconda3\\lib\\site-packages\\seaborn\\categorical.py\u001b[0m in \u001b[0;36mestablish_variables\u001b[1;34m(self, x, y, hue, data, orient, order, hue_order, units)\u001b[0m\n\u001b[0;32m    142\u001b[0m             \u001b[1;31m# See if we need to get variables from `data`\u001b[0m\u001b[1;33m\u001b[0m\u001b[1;33m\u001b[0m\u001b[1;33m\u001b[0m\u001b[0m\n\u001b[0;32m    143\u001b[0m             \u001b[1;32mif\u001b[0m \u001b[0mdata\u001b[0m \u001b[1;32mis\u001b[0m \u001b[1;32mnot\u001b[0m \u001b[1;32mNone\u001b[0m\u001b[1;33m:\u001b[0m\u001b[1;33m\u001b[0m\u001b[1;33m\u001b[0m\u001b[0m\n\u001b[1;32m--> 144\u001b[1;33m                 \u001b[0mx\u001b[0m \u001b[1;33m=\u001b[0m \u001b[0mdata\u001b[0m\u001b[1;33m.\u001b[0m\u001b[0mget\u001b[0m\u001b[1;33m(\u001b[0m\u001b[0mx\u001b[0m\u001b[1;33m,\u001b[0m \u001b[0mx\u001b[0m\u001b[1;33m)\u001b[0m\u001b[1;33m\u001b[0m\u001b[1;33m\u001b[0m\u001b[0m\n\u001b[0m\u001b[0;32m    145\u001b[0m                 \u001b[0my\u001b[0m \u001b[1;33m=\u001b[0m \u001b[0mdata\u001b[0m\u001b[1;33m.\u001b[0m\u001b[0mget\u001b[0m\u001b[1;33m(\u001b[0m\u001b[0my\u001b[0m\u001b[1;33m,\u001b[0m \u001b[0my\u001b[0m\u001b[1;33m)\u001b[0m\u001b[1;33m\u001b[0m\u001b[1;33m\u001b[0m\u001b[0m\n\u001b[0;32m    146\u001b[0m                 \u001b[0mhue\u001b[0m \u001b[1;33m=\u001b[0m \u001b[0mdata\u001b[0m\u001b[1;33m.\u001b[0m\u001b[0mget\u001b[0m\u001b[1;33m(\u001b[0m\u001b[0mhue\u001b[0m\u001b[1;33m,\u001b[0m \u001b[0mhue\u001b[0m\u001b[1;33m)\u001b[0m\u001b[1;33m\u001b[0m\u001b[1;33m\u001b[0m\u001b[0m\n",
      "\u001b[1;31mAttributeError\u001b[0m: 'list' object has no attribute 'get'"
     ]
    },
    {
     "data": {
      "text/plain": [
       "<Figure size 1008x576 with 0 Axes>"
      ]
     },
     "metadata": {},
     "output_type": "display_data"
    }
   ],
   "source": [
    "import seaborn as sns\n",
    "import numpy as np\n",
    "import matplotlib.pyplot as plt\n",
    "\n",
    "# Set the figure size\n",
    "plt.figure(figsize=(14, 8))\n",
    "a= [0.035846631205673746,0.048510699523884315,\n",
    "0.12285714285714296,\n",
    "0,\n",
    "0.06374789915966392,\n",
    "0.06766214177978884,\n",
    "0.013333333333333357,\n",
    "0.0701818181818182]\n",
    "# plot a bar chart\n",
    "ax = sns.barplot(x=\"day\", y=\"total_bill\",data = a, estimator=np.mean, ci=85, capsize=.2, color='lightblue')"
   ]
  },
  {
   "cell_type": "markdown",
   "metadata": {
    "slideshow": {
     "slide_type": "-"
    }
   },
   "source": [
    "### * Potential Relevant Courses For Onomy (for non-professionals and personal):\n",
    "\n",
    "   #### business related:\n",
    "- Financial Accounting Fundamentals\n",
    "- **Accounting for Decision Making**\n",
    "\n",
    "#### career:\n",
    "- **Improving Communication Skills**\n",
    "- **Blended Learning: Personalizing Education for Students**\n",
    "- **How to Write a Resume (Project-Centered Course)**\n",
    "- **Creative Thinking: Techniques and Tools for Success**\n",
    "- Career Brand Development and Self-Coaching\n",
    "- Success\n",
    "- Speaking to inform:  Discussing complex ideas with clear explanations and dynamic slides\n",
    "- IBM IT Assessment: Identifying the Right Career for You!\n",
    "- Essentials for English Speeches and Presentations\n",
    "- Personality Types at Work\n",
    "- Effective Communication in the Globalised Workplace - The Capstone\n",
    "\n",
    "#### personal life:\n",
    "- **Financial Planning for Young Adults**\n",
    "- **International Travel Preparation, Safety, & Wellness**\n",
    "- Empowering Yourself in a Post-Truth World\n",
    "- What does it mean to identify as Transgender or Gender Non-Conforming (TGNC)?\n",
    "- The Arts and Science of Relationships: Understanding Human Needs\n",
    "- Healing with the Arts\n",
    "\n",
    "### summaries:\n",
    "\n",
    "1. **No/very few entry levels courses for personals at these segments: tax, credit cards, insurance.**\n",
    "2. However, users might actually look for courses such as investment capstone course designed for academic use to learn first timer investment knowledge\n",
    "3. Business related coursework is most popular, Onomy can design courses such as how to help grow your business designed for adults.\n",
    "\n",
    "### thoughts: \n",
    "Currently even Onomy creates more *adulting* courses, users might not pay for them. There are *no sustainable and continuing video resources for them to stick to the platform*, especially compared to other video platforms. If I watch one videa such as how to invest as a first-timer, then I would understand the skills and might never use the website again. So perhaps new strategies besides adulting might need to be considered. Potential topics:\n",
    "   - When they become adults, people would definitely face **job finding**, which is probably the most important thing. We could provide a **series of relevant coursework such as how to polish resume, what resources you can turn to in locating a job, how to network, how to pitch yourself**,etc.Then we can provide **afterward courses such as how to enhance work efficiency, communication skills, how to find part time work for additional revenues** etc. This series of coursework might attract continuing subscribers. \n",
    "       - Target users: \n",
    "           - a lot of people outside schools/in schools that doesn't provide a series of job preparation will be in need of a **holistic tutorial** on how to find for better jobs; \n",
    "           - currently a lot of people are under unemployment, the strategies to locate new jobs would be in need\n",
    "   - Since we target people who focus on *personal finance*, we can probably develop more courses on **how to manage your account, what other asset classes are available to invest(fixed income, bonds, etc)**. Courses can act as a continuing consultant, which tells users what to learn step by step over a series of courses.\n",
    "       - Since there are many guides online other than videos to learn for adulting stuff. For instance, for the first time investing knowledge, users might google and simply read guides(such as https://www.nerdwallet.com/article/investing/how-to-start-investing) that might actually provide more resources all at once. Thus we can develop **comprehensive lessons about personal wealth management from entry level to more in-depth levels that attract all levels of adults and also make adults stick to this centralized platform.**\n",
    "       - And since Onomy is also going to publish subscriptions, then **combine different levels courses with weekly/biweekly letters that tell the latest news/trends on personal wealth management**. For instance,*letters could tell the stocks market trends, what stocks are popular, what potential stocks would be recommended, what big news/trends in markets other than stock markets are.*\n",
    "       \n",
    "   - For the health insurance part on Onomy, it might be good to create videos as a *Valuator* for different insurance companies. **List out benefits, costs, and other characteristics of different insurance plans that allow users to know at once their differentiation** and get a better idea of what to choose without much more self searching. Also, develop therapy related topics. \n",
    "\n",
    "   "
   ]
  },
  {
   "cell_type": "code",
   "execution_count": null,
   "metadata": {},
   "outputs": [],
   "source": [
    "fb = pd.merge(finance, business, how='inner', on=['Unnamed: 0','Name','Url','Rating','Difficulty','Tags'])\n",
    "fb \n",
    "#https://towardsdatascience.com/how-to-create-and-customize-venn-diagrams-in-python-263555527305"
   ]
  },
  {
   "cell_type": "code",
   "execution_count": null,
   "metadata": {},
   "outputs": [],
   "source": [
    "ba = pd.merge(business, accounting, how='inner', on=['Unnamed: 0','Name','Url','Rating','Difficulty','Tags'])\n",
    "ba"
   ]
  },
  {
   "cell_type": "code",
   "execution_count": null,
   "metadata": {},
   "outputs": [],
   "source": [
    "fa = pd.merge(finance, accounting, how='inner', on=['Unnamed: 0','Name','Url','Rating','Difficulty','Tags'])\n",
    "fa"
   ]
  },
  {
   "cell_type": "code",
   "execution_count": null,
   "metadata": {},
   "outputs": [],
   "source": [
    "fi = pd.merge(finance, invest, how='inner', on=['Unnamed: 0','Name','Url','Rating','Difficulty','Tags'])\n",
    "fi"
   ]
  },
  {
   "cell_type": "code",
   "execution_count": null,
   "metadata": {},
   "outputs": [],
   "source": [
    "bi = pd.merge(business, invest, how='inner', on=['Unnamed: 0','Name','Url','Rating','Difficulty','Tags'])\n",
    "bi"
   ]
  },
  {
   "cell_type": "code",
   "execution_count": null,
   "metadata": {},
   "outputs": [],
   "source": [
    "bc = pd.merge(business,career, how='inner', on=['Unnamed: 0','Name','Url','Rating','Difficulty','Tags'])\n",
    "bc"
   ]
  },
  {
   "cell_type": "code",
   "execution_count": null,
   "metadata": {},
   "outputs": [],
   "source": [
    "fc = pd.merge(finance,career, how='inner', on=['Unnamed: 0','Name','Url','Rating','Difficulty','Tags'])\n",
    "fc"
   ]
  },
  {
   "cell_type": "code",
   "execution_count": null,
   "metadata": {},
   "outputs": [],
   "source": [
    "ac = pd.merge(accounting,career, how='inner', on=['Unnamed: 0','Name','Url','Rating','Difficulty','Tags'])\n",
    "ac"
   ]
  },
  {
   "cell_type": "code",
   "execution_count": null,
   "metadata": {},
   "outputs": [],
   "source": [
    "pc = pd.merge(personal, career, how='inner', on=['Unnamed: 0','Name','Url','Rating','Difficulty','Tags'])\n",
    "pc"
   ]
  },
  {
   "cell_type": "code",
   "execution_count": null,
   "metadata": {},
   "outputs": [],
   "source": [
    "pe = pd.merge(personal, education, how='inner', on=['Unnamed: 0','Name','Url','Rating','Difficulty','Tags'])\n",
    "pe\n",
    "#https://towardsdatascience.com/how-to-create-and-customize-venn-diagrams-in-python-263555527305"
   ]
  },
  {
   "cell_type": "code",
   "execution_count": null,
   "metadata": {},
   "outputs": [],
   "source": [
    "pa = pd.merge(personal, adult, how='inner', on=['Unnamed: 0','Name','Url','Rating','Difficulty','Tags'])\n",
    "pa"
   ]
  },
  {
   "cell_type": "code",
   "execution_count": null,
   "metadata": {},
   "outputs": [],
   "source": [
    "bp = pd.merge(business, personal, how='inner', on=['Unnamed: 0','Name','Url','Rating','Difficulty','Tags'])\n",
    "bp"
   ]
  },
  {
   "cell_type": "code",
   "execution_count": null,
   "metadata": {},
   "outputs": [],
   "source": [
    "fp = pd.merge(finance,personal, how='inner', on=['Unnamed: 0','Name','Url','Rating','Difficulty','Tags'])\n",
    "fp"
   ]
  },
  {
   "cell_type": "code",
   "execution_count": null,
   "metadata": {},
   "outputs": [],
   "source": [
    "ap = pd.merge(accounting,personal, how='inner', on=['Unnamed: 0','Name','Url','Rating','Difficulty','Tags'])\n",
    "ap"
   ]
  },
  {
   "cell_type": "code",
   "execution_count": null,
   "metadata": {},
   "outputs": [],
   "source": [
    "ea= pd.merge(education, adult, how='inner', on=['Unnamed: 0','Name','Url','Rating','Difficulty','Tags'])\n",
    "ea"
   ]
  },
  {
   "cell_type": "code",
   "execution_count": null,
   "metadata": {},
   "outputs": [],
   "source": [
    "eb= pd.merge(education, business, how='inner', on=['Unnamed: 0','Name','Url','Rating','Difficulty','Tags'])\n",
    "eb"
   ]
  },
  {
   "cell_type": "code",
   "execution_count": null,
   "metadata": {},
   "outputs": [],
   "source": [
    "fa = pd.merge(finance,accounting, how='inner', on=['Unnamed: 0','Name','Url','Rating','Difficulty','Tags'])\n",
    "fa"
   ]
  },
  {
   "cell_type": "code",
   "execution_count": null,
   "metadata": {},
   "outputs": [],
   "source": [
    "ci = pd.merge(career,invest, how='inner', on=['Unnamed: 0','Name','Url','Rating','Difficulty','Tags'])\n",
    "ci"
   ]
  },
  {
   "cell_type": "code",
   "execution_count": null,
   "metadata": {},
   "outputs": [],
   "source": [
    "fbi = pd.merge(fi,business, how='inner', on=['Unnamed: 0','Name','Url','Rating','Difficulty','Tags'])\n",
    "fbi"
   ]
  },
  {
   "cell_type": "code",
   "execution_count": null,
   "metadata": {},
   "outputs": [],
   "source": [
    "fba = pd.merge(fb,accounting, how='inner', on=['Unnamed: 0','Name','Url','Rating','Difficulty','Tags'])\n",
    "fba"
   ]
  },
  {
   "cell_type": "code",
   "execution_count": null,
   "metadata": {},
   "outputs": [],
   "source": [
    "bcp = pd.merge(bp,career,how='inner', on=['Unnamed: 0','Name','Url','Rating','Difficulty','Tags'])\n",
    "bcp"
   ]
  },
  {
   "cell_type": "code",
   "execution_count": null,
   "metadata": {},
   "outputs": [],
   "source": [
    "bep = pd.merge(bp,education,how='inner', on=['Unnamed: 0','Name','Url','Rating','Difficulty','Tags'])\n",
    "bep"
   ]
  },
  {
   "cell_type": "code",
   "execution_count": null,
   "metadata": {},
   "outputs": [],
   "source": [
    "print(fb.shape[0])\n",
    "print(ba.shape[0])\n",
    "print(fa.shape[0])\n",
    "print(pe.shape[0])\n",
    "print(pa.shape[0])\n",
    "\n",
    "print(fp.shape[0])\n",
    "print(ap.shape[0])\n",
    "print(ea.shape[0])\n",
    "\n",
    "print(pc.shape[0])\n",
    "print(bc.shape[0])\n",
    "print(fi.shape[0])\n",
    "print(bp.shape[0])\n",
    "print(bi.shape[0])\n",
    "\n",
    "print(fbi.shape[0])\n",
    "print(fba.shape[0])"
   ]
  },
  {
   "cell_type": "code",
   "execution_count": null,
   "metadata": {},
   "outputs": [],
   "source": [
    "print(eb.shape[0])\n",
    "print(pe.shape[0])\n",
    "print(bp.shape[0])"
   ]
  },
  {
   "cell_type": "code",
   "execution_count": null,
   "metadata": {},
   "outputs": [],
   "source": [
    "!pip install matplotlib-venn"
   ]
  },
  {
   "cell_type": "code",
   "execution_count": null,
   "metadata": {},
   "outputs": [],
   "source": [
    "import matplotlib.pyplot as plt\n",
    "from matplotlib_venn import venn3\n",
    "# Custom text labels: change the label of group A\n",
    "v=venn3(subsets = (1,227,43,0,0,3,4), set_labels = ('finance', 'business', 'accounting'))\n",
    "plt.show()\n",
    "v1=venn3(subsets = (273,2,3,45,1,6,0), set_labels = ('business', 'career', 'personal'))\n",
    "plt.show()\n",
    "v2=venn3(subsets = (1,0,0,229,44,1,3), set_labels = ('finance', 'invest', 'business'))\n",
    "plt.show()"
   ]
  },
  {
   "cell_type": "code",
   "execution_count": null,
   "metadata": {},
   "outputs": [],
   "source": []
  }
 ],
 "metadata": {
  "celltoolbar": "原始单元格格式",
  "kernelspec": {
   "display_name": "Python 3",
   "language": "python",
   "name": "python3"
  },
  "language_info": {
   "codemirror_mode": {
    "name": "ipython",
    "version": 3
   },
   "file_extension": ".py",
   "mimetype": "text/x-python",
   "name": "python",
   "nbconvert_exporter": "python",
   "pygments_lexer": "ipython3",
   "version": "3.8.5"
  }
 },
 "nbformat": 4,
 "nbformat_minor": 4
}
